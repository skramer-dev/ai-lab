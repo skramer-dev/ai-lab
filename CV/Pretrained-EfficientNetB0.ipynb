{
 "cells": [
  {
   "cell_type": "code",
   "execution_count": 31,
   "metadata": {
    "collapsed": true
   },
   "outputs": [],
   "source": [
    "import os\n",
    "\n",
    "import pytorch_lightning.utilities.seed\n",
    "from sklearn.preprocessing import LabelEncoder\n",
    "import pandas as pd\n",
    "import numpy as np\n",
    "from torch.utils.data import Dataset\n",
    "from sklearn.model_selection import train_test_split\n",
    "import torchmetrics\n",
    "\n",
    "import time\n",
    "import torch.cuda\n",
    "from flash.image import ImageClassificationData, ImageClassifier\n",
    "import flash\n",
    "from pytorch_lightning.loggers import CSVLogger\n",
    "from pytorch_lightning.callbacks.early_stopping import EarlyStopping\n",
    "from flash import Trainer\n",
    "from pytorch_lightning.utilities.model_summary import ModelSummary"
   ]
  },
  {
   "cell_type": "code",
   "execution_count": 2,
   "outputs": [],
   "source": [
    "DATA_PATH = '../../Pokemon-data/'\n",
    "NORMALIZED_DATA = '../../Training-baseline/'\n",
    "SEED = 42\n",
    "\n",
    "# define training hyperparameters\n",
    "INIT_LR = 1e-3\n",
    "BATCH_SIZE = 64\n",
    "EPOCHS = 3\n",
    "FINETUNE_STRATEGY = 'no_freeze'\n",
    "VERSION = (str(EPOCHS) + 'Epoch-' + FINETUNE_STRATEGY)\n",
    "# define the train and val splits\n",
    "TRAIN_SPLIT = 0.75\n",
    "VAL_SPLIT = 1 - TRAIN_SPLIT"
   ],
   "metadata": {
    "collapsed": false
   }
  },
  {
   "cell_type": "code",
   "execution_count": 3,
   "outputs": [
    {
     "name": "stderr",
     "output_type": "stream",
     "text": [
      "Global seed set to 42\n"
     ]
    },
    {
     "data": {
      "text/plain": "42"
     },
     "execution_count": 3,
     "metadata": {},
     "output_type": "execute_result"
    }
   ],
   "source": [
    "pytorch_lightning.utilities.seed.seed_everything(SEED)"
   ],
   "metadata": {
    "collapsed": false
   }
  },
  {
   "cell_type": "code",
   "execution_count": 4,
   "outputs": [],
   "source": [
    "metadata = pd.read_csv('metadata/pokemon.csv')"
   ],
   "metadata": {
    "collapsed": false
   }
  },
  {
   "cell_type": "code",
   "execution_count": 5,
   "outputs": [
    {
     "name": "stdout",
     "output_type": "stream",
     "text": [
      "Index(['abilities', 'against_bug', 'against_dark', 'against_dragon',\n",
      "       'against_electric', 'against_fairy', 'against_fight', 'against_fire',\n",
      "       'against_flying', 'against_ghost', 'against_grass', 'against_ground',\n",
      "       'against_ice', 'against_normal', 'against_poison', 'against_psychic',\n",
      "       'against_rock', 'against_steel', 'against_water', 'attack',\n",
      "       'base_egg_steps', 'base_happiness', 'base_total', 'capture_rate',\n",
      "       'classfication', 'defense', 'experience_growth', 'height_m', 'hp',\n",
      "       'japanese_name', 'name', 'percentage_male', 'pokedex_number',\n",
      "       'sp_attack', 'sp_defense', 'speed', 'type1', 'type2', 'weight_kg',\n",
      "       'generation', 'is_legendary'],\n",
      "      dtype='object')\n"
     ]
    }
   ],
   "source": [
    "print(metadata.columns)"
   ],
   "metadata": {
    "collapsed": false
   }
  },
  {
   "cell_type": "code",
   "execution_count": 6,
   "outputs": [],
   "source": [
    "pokemon_names = [x for x in os.listdir(NORMALIZED_DATA)]\n",
    "\n",
    "# remove the IDE metafile that was included in the os.listdir\n",
    "#pokemon_names = pokemon_names[1:]"
   ],
   "metadata": {
    "collapsed": false
   }
  },
  {
   "cell_type": "code",
   "execution_count": 7,
   "outputs": [],
   "source": [
    "# get slice from metadata file based on the pokemon used in training\n",
    "filtered_metadata = metadata[metadata.name.isin(pokemon_names)]"
   ],
   "metadata": {
    "collapsed": false
   }
  },
  {
   "cell_type": "code",
   "execution_count": 8,
   "outputs": [],
   "source": [
    "# convert dataframe to list for easier comparison\n",
    "filtered_list = filtered_metadata.loc[:,'name'].tolist()"
   ],
   "metadata": {
    "collapsed": false
   }
  },
  {
   "cell_type": "code",
   "execution_count": 9,
   "outputs": [
    {
     "name": "stdout",
     "output_type": "stream",
     "text": [
      "[]\n"
     ]
    }
   ],
   "source": [
    "# check for differences in training data and the metadata file\n",
    "print([x for x in pokemon_names if x not in filtered_list])"
   ],
   "metadata": {
    "collapsed": false
   }
  },
  {
   "cell_type": "code",
   "execution_count": 10,
   "outputs": [],
   "source": [
    "filtered_metadata = filtered_metadata.loc[:,['name', 'type1']]\n",
    "\n",
    "fire_data = filtered_metadata[filtered_metadata[\"type1\"] == 'fire']\n",
    "grass_data = filtered_metadata[filtered_metadata[\"type1\"] == 'grass']\n",
    "filtered_metadata = pd.concat([fire_data, grass_data], ignore_index=True)"
   ],
   "metadata": {
    "collapsed": false
   }
  },
  {
   "cell_type": "code",
   "execution_count": 11,
   "outputs": [
    {
     "name": "stdout",
     "output_type": "stream",
     "text": [
      "<bound method NDFrame.head of            name  type1\n",
      "0    Charmander   fire\n",
      "1    Charmeleon   fire\n",
      "2     Charizard   fire\n",
      "3        Vulpix   fire\n",
      "4     Ninetales   fire\n",
      "..          ...    ...\n",
      "106     Chespin  grass\n",
      "107   Quilladin  grass\n",
      "108  Chesnaught  grass\n",
      "109      Skiddo  grass\n",
      "110      Gogoat  grass\n",
      "\n",
      "[111 rows x 2 columns]>\n"
     ]
    }
   ],
   "source": [
    "print(filtered_metadata.head)"
   ],
   "metadata": {
    "collapsed": false
   }
  },
  {
   "cell_type": "code",
   "execution_count": 12,
   "outputs": [
    {
     "name": "stdout",
     "output_type": "stream",
     "text": [
      "1\n"
     ]
    }
   ],
   "source": [
    "print(len(filtered_metadata[filtered_metadata['name'].str.contains('Charmander')]))"
   ],
   "metadata": {
    "collapsed": false
   }
  },
  {
   "cell_type": "code",
   "execution_count": 13,
   "outputs": [],
   "source": [
    "def compile_training_data_to_list():\n",
    "    all_data = []\n",
    "    for pokemon in os.listdir(NORMALIZED_DATA):\n",
    "        all_data += [pokemon + '/' + x for x in os.listdir(NORMALIZED_DATA + pokemon)]\n",
    "\n",
    "    results = create_annotated_dataframe(all_data)\n",
    "    return results\n",
    "\n",
    "def create_annotated_dataframe(all_data):\n",
    "    base_data = {'file_name': [], 'name': [], 'label': []}\n",
    "    for item in all_data:\n",
    "        if len(filtered_metadata[filtered_metadata['name'].str.contains(item.split('/')[0])]):\n",
    "            base_data['file_name'].append(item)\n",
    "            base_data['name'].append(item.split('/')[0])\n",
    "            # yes, this is a bit ugly, but we have to match with the metadata\n",
    "            base_data['label'].append(\n",
    "                filtered_metadata[\n",
    "                    filtered_metadata['name']==(item.split('/')[0])\n",
    "                ].loc[:,'type1'].tolist()[0])\n",
    "\n",
    "    results = create_encoded_dataframe(base_data)\n",
    "    return results\n",
    "\n",
    "def create_encoded_dataframe(base_data):\n",
    "    results = pd.DataFrame(base_data, columns = ['file_name', 'name', 'label'])\n",
    "    le = LabelEncoder()\n",
    "    labels = le.fit_transform(results['label'])\n",
    "    results['label'] = np.int64(labels)\n",
    "    return results"
   ],
   "metadata": {
    "collapsed": false
   }
  },
  {
   "cell_type": "code",
   "execution_count": 14,
   "outputs": [],
   "source": [
    "encoded_data = compile_training_data_to_list()"
   ],
   "metadata": {
    "collapsed": false
   }
  },
  {
   "cell_type": "code",
   "execution_count": 15,
   "outputs": [
    {
     "name": "stdout",
     "output_type": "stream",
     "text": [
      "                            file_name        name  label\n",
      "0      Abomasnow/dcedzyqfojskcahp.npy   Abomasnow      1\n",
      "1      Abomasnow/gqfpsmqasdqiknur.npy   Abomasnow      1\n",
      "2      Abomasnow/imzcvkkckbdchpro.npy   Abomasnow      1\n",
      "3      Abomasnow/kzibfmivzksykiwy.npy   Abomasnow      1\n",
      "4      Abomasnow/mjtasvyoonxyilqt.npy   Abomasnow      1\n",
      "...                               ...         ...    ...\n",
      "1860  Whimsicott/ldzsotkctiqtdnwa.npy  Whimsicott      1\n",
      "1861  Whimsicott/tuemvnafwsjqjnhv.npy  Whimsicott      1\n",
      "1862  Whimsicott/vtsqtsnodkpzuruf.npy  Whimsicott      1\n",
      "1863  Whimsicott/xyvaxbleknfsaaes.npy  Whimsicott      1\n",
      "1864  Whimsicott/ywwawzssckbmhbcx.npy  Whimsicott      1\n",
      "\n",
      "[1865 rows x 3 columns]\n"
     ]
    }
   ],
   "source": [
    "print(encoded_data)"
   ],
   "metadata": {
    "collapsed": false
   }
  },
  {
   "cell_type": "code",
   "execution_count": 16,
   "outputs": [],
   "source": [
    "class CustomDataset(Dataset):\n",
    "    def __init__(self, x, y, img_dir):\n",
    "        self.x = x\n",
    "        self.y = y\n",
    "        self.img_dir = img_dir\n",
    "        self.classes = np.unique(self.y)\n",
    "\n",
    "\n",
    "    def __len__(self):\n",
    "        return len(self.x)\n",
    "\n",
    "\n",
    "    def __getitem__(self, idx):\n",
    "        img_path = os.path.join(self.img_dir, self.x[idx])\n",
    "        # use the slice to remove a possible 4th alpha channel\n",
    "        image = np.load(img_path)[:, :, :3]\n",
    "        image = image.astype(np.float32)\n",
    "        label = self.y[idx]\n",
    "        return image, label"
   ],
   "metadata": {
    "collapsed": false
   }
  },
  {
   "cell_type": "code",
   "execution_count": 17,
   "outputs": [],
   "source": [
    "def stratified_split(dataset):\n",
    "    x_train, x_val, y_train, y_val = train_test_split(dataset['file_name'].to_numpy(),\n",
    "                                                  dataset['label'].to_numpy(),\n",
    "                                                  test_size=0.25,\n",
    "                                                  stratify=dataset['label'],\n",
    "                                                  random_state=SEED)\n",
    "\n",
    "    train = CustomDataset(x_train, y_train, NORMALIZED_DATA)\n",
    "    val = CustomDataset(x_val, y_val, NORMALIZED_DATA)\n",
    "    return train, val"
   ],
   "metadata": {
    "collapsed": false
   }
  },
  {
   "cell_type": "code",
   "execution_count": 18,
   "outputs": [],
   "source": [
    "dataset = compile_training_data_to_list()\n",
    "train, val = stratified_split(dataset)"
   ],
   "metadata": {
    "collapsed": false
   }
  },
  {
   "cell_type": "code",
   "execution_count": 19,
   "outputs": [],
   "source": [
    "datamodule = ImageClassificationData.from_datasets(train_dataset=train,\n",
    "                                                   val_dataset=val,\n",
    "                                                   batch_size=BATCH_SIZE,\n",
    "                                                   )\n",
    "performance_metrics = [torchmetrics.Accuracy(),\n",
    "                      torchmetrics.F1Score(num_classes=len(train.classes), average='macro')]"
   ],
   "metadata": {
    "collapsed": false
   }
  },
  {
   "cell_type": "code",
   "execution_count": 20,
   "outputs": [
    {
     "name": "stderr",
     "output_type": "stream",
     "text": [
      "Using 'efficientnet_b0' provided by rwightman/pytorch-image-models (https://github.com/rwightman/pytorch-image-models).\n",
      "GPU available: True, used: True\n",
      "TPU available: False, using: 0 TPU cores\n",
      "IPU available: False, using: 0 IPUs\n"
     ]
    }
   ],
   "source": [
    "model = ImageClassifier(backbone='efficientnet_b0',\n",
    "                        pretrained=True,\n",
    "                        labels=train.classes,\n",
    "                        metrics=performance_metrics,\n",
    "                        optimizer=\"AdamW\",\n",
    "                        learning_rate=INIT_LR, )\n",
    "\n",
    "logger = CSVLogger(save_dir='logs/', version=VERSION, name='pretrained-experiments')\n",
    "\n",
    "early_stop_callback = EarlyStopping(monitor=\"val_f1score\", patience=3, verbose=False, mode=\"max\")\n",
    "\n",
    "trainer = flash.Trainer(max_epochs=EPOCHS,\n",
    "                        gpus=torch.cuda.device_count(),\n",
    "                        logger=logger,\n",
    "                        callbacks=[early_stop_callback])"
   ],
   "metadata": {
    "collapsed": false
   }
  },
  {
   "cell_type": "code",
   "execution_count": 21,
   "outputs": [
    {
     "name": "stderr",
     "output_type": "stream",
     "text": [
      "C:\\Users\\CYBORGX\\anaconda3\\envs\\birdclef\\lib\\site-packages\\flash\\core\\trainer.py:213: UserWarning: The model contains a default finetune callback.\n",
      "  warnings.warn(\"The model contains a default finetune callback.\", UserWarning)\n",
      "LOCAL_RANK: 0 - CUDA_VISIBLE_DEVICES: [0]\n",
      "C:\\Users\\CYBORGX\\anaconda3\\envs\\birdclef\\lib\\site-packages\\pytorch_lightning\\loggers\\csv_logs.py:57: UserWarning: Experiment logs directory logs/pretrained-experiments\\3Epoch-no_freeze exists and is not empty. Previous log files in this directory will be deleted when the new ones are saved!\n",
      "  rank_zero_warn(\n",
      "\n",
      "  | Name          | Type           | Params\n",
      "-------------------------------------------------\n",
      "0 | train_metrics | ModuleDict     | 0     \n",
      "1 | val_metrics   | ModuleDict     | 0     \n",
      "2 | test_metrics  | ModuleDict     | 0     \n",
      "3 | adapter       | DefaultAdapter | 4.0 M \n",
      "-------------------------------------------------\n",
      "4.0 M     Trainable params\n",
      "0         Non-trainable params\n",
      "4.0 M     Total params\n",
      "16.040    Total estimated model params size (MB)\n"
     ]
    },
    {
     "data": {
      "text/plain": "Validation sanity check: 0it [00:00, ?it/s]",
      "application/vnd.jupyter.widget-view+json": {
       "version_major": 2,
       "version_minor": 0,
       "model_id": "2bd19321276142c89905ddc796b899b9"
      }
     },
     "metadata": {},
     "output_type": "display_data"
    },
    {
     "name": "stderr",
     "output_type": "stream",
     "text": [
      "C:\\Users\\CYBORGX\\anaconda3\\envs\\birdclef\\lib\\site-packages\\pytorch_lightning\\trainer\\data_loading.py:132: UserWarning: The dataloader, val_dataloader 0, does not have many workers which may be a bottleneck. Consider increasing the value of the `num_workers` argument` (try 8 which is the number of cpus on this machine) in the `DataLoader` init to improve performance.\n",
      "  rank_zero_warn(\n",
      "Global seed set to 42\n",
      "C:\\Users\\CYBORGX\\anaconda3\\envs\\birdclef\\lib\\site-packages\\pytorch_lightning\\trainer\\data_loading.py:132: UserWarning: The dataloader, train_dataloader, does not have many workers which may be a bottleneck. Consider increasing the value of the `num_workers` argument` (try 8 which is the number of cpus on this machine) in the `DataLoader` init to improve performance.\n",
      "  rank_zero_warn(\n",
      "C:\\Users\\CYBORGX\\anaconda3\\envs\\birdclef\\lib\\site-packages\\pytorch_lightning\\trainer\\data_loading.py:432: UserWarning: The number of training samples (21) is smaller than the logging interval Trainer(log_every_n_steps=50). Set a lower value for log_every_n_steps if you want to see logs for the training epoch.\n",
      "  rank_zero_warn(\n"
     ]
    },
    {
     "data": {
      "text/plain": "Training: 0it [00:00, ?it/s]",
      "application/vnd.jupyter.widget-view+json": {
       "version_major": 2,
       "version_minor": 0,
       "model_id": "27643ccbdab3407d8113d28ea1d8a0ee"
      }
     },
     "metadata": {},
     "output_type": "display_data"
    },
    {
     "data": {
      "text/plain": "Validating: 0it [00:00, ?it/s]",
      "application/vnd.jupyter.widget-view+json": {
       "version_major": 2,
       "version_minor": 0,
       "model_id": "fd3e4b4589c94736bb4619b67bcfbc15"
      }
     },
     "metadata": {},
     "output_type": "display_data"
    },
    {
     "data": {
      "text/plain": "Validating: 0it [00:00, ?it/s]",
      "application/vnd.jupyter.widget-view+json": {
       "version_major": 2,
       "version_minor": 0,
       "model_id": "b2f1ca8d82ee4814a02fa537dce780c4"
      }
     },
     "metadata": {},
     "output_type": "display_data"
    },
    {
     "data": {
      "text/plain": "Validating: 0it [00:00, ?it/s]",
      "application/vnd.jupyter.widget-view+json": {
       "version_major": 2,
       "version_minor": 0,
       "model_id": "f136039531c34597b348e5c9bad50a77"
      }
     },
     "metadata": {},
     "output_type": "display_data"
    },
    {
     "name": "stdout",
     "output_type": "stream",
     "text": [
      "[INFO] total time taken to train the model: 1.03min\n"
     ]
    }
   ],
   "source": [
    "startTime = time.time()\n",
    "trainer.finetune(model,\n",
    "                 datamodule=datamodule,\n",
    "                 strategy=FINETUNE_STRATEGY)\n",
    "\n",
    "endTime = time.time()\n",
    "print(f\"[INFO] total time taken to train the model: {(endTime - startTime) / 60 :.2f}min\")"
   ],
   "metadata": {
    "collapsed": false
   }
  },
  {
   "cell_type": "code",
   "execution_count": 22,
   "outputs": [],
   "source": [
    "trainer.save_checkpoint(\"saved-models/\" + VERSION + \".pt\")"
   ],
   "metadata": {
    "collapsed": false
   }
  },
  {
   "cell_type": "code",
   "execution_count": 23,
   "outputs": [
    {
     "data": {
      "text/plain": "   val_accuracy  val_f1score  val_cross_entropy  epoch  step  \\\n0      0.978587     0.978386           0.120292      0    20   \n1           NaN          NaN                NaN      0    20   \n2      0.989293     0.989159           0.050754      1    41   \n3           NaN          NaN                NaN      1    41   \n4           NaN          NaN                NaN      2    49   \n5      0.978587     0.978307           0.060585      2    62   \n6           NaN          NaN                NaN      2    62   \n\n   train_accuracy_epoch  train_f1score_epoch  train_cross_entropy_epoch  \\\n0                   NaN                  NaN                        NaN   \n1              0.919643             0.918629                   0.200266   \n2                   NaN                  NaN                        NaN   \n3              0.986607             0.986456                   0.049086   \n4                   NaN                  NaN                        NaN   \n5                   NaN                  NaN                        NaN   \n6              0.979911             0.979700                   0.081916   \n\n   train_accuracy_step  train_f1score_step  train_cross_entropy_step  \n0                  NaN                 NaN                       NaN  \n1                  NaN                 NaN                       NaN  \n2                  NaN                 NaN                       NaN  \n3                  NaN                 NaN                       NaN  \n4             0.984375            0.983189                  0.038061  \n5                  NaN                 NaN                       NaN  \n6                  NaN                 NaN                       NaN  ",
      "text/html": "<div>\n<style scoped>\n    .dataframe tbody tr th:only-of-type {\n        vertical-align: middle;\n    }\n\n    .dataframe tbody tr th {\n        vertical-align: top;\n    }\n\n    .dataframe thead th {\n        text-align: right;\n    }\n</style>\n<table border=\"1\" class=\"dataframe\">\n  <thead>\n    <tr style=\"text-align: right;\">\n      <th></th>\n      <th>val_accuracy</th>\n      <th>val_f1score</th>\n      <th>val_cross_entropy</th>\n      <th>epoch</th>\n      <th>step</th>\n      <th>train_accuracy_epoch</th>\n      <th>train_f1score_epoch</th>\n      <th>train_cross_entropy_epoch</th>\n      <th>train_accuracy_step</th>\n      <th>train_f1score_step</th>\n      <th>train_cross_entropy_step</th>\n    </tr>\n  </thead>\n  <tbody>\n    <tr>\n      <th>0</th>\n      <td>0.978587</td>\n      <td>0.978386</td>\n      <td>0.120292</td>\n      <td>0</td>\n      <td>20</td>\n      <td>NaN</td>\n      <td>NaN</td>\n      <td>NaN</td>\n      <td>NaN</td>\n      <td>NaN</td>\n      <td>NaN</td>\n    </tr>\n    <tr>\n      <th>1</th>\n      <td>NaN</td>\n      <td>NaN</td>\n      <td>NaN</td>\n      <td>0</td>\n      <td>20</td>\n      <td>0.919643</td>\n      <td>0.918629</td>\n      <td>0.200266</td>\n      <td>NaN</td>\n      <td>NaN</td>\n      <td>NaN</td>\n    </tr>\n    <tr>\n      <th>2</th>\n      <td>0.989293</td>\n      <td>0.989159</td>\n      <td>0.050754</td>\n      <td>1</td>\n      <td>41</td>\n      <td>NaN</td>\n      <td>NaN</td>\n      <td>NaN</td>\n      <td>NaN</td>\n      <td>NaN</td>\n      <td>NaN</td>\n    </tr>\n    <tr>\n      <th>3</th>\n      <td>NaN</td>\n      <td>NaN</td>\n      <td>NaN</td>\n      <td>1</td>\n      <td>41</td>\n      <td>0.986607</td>\n      <td>0.986456</td>\n      <td>0.049086</td>\n      <td>NaN</td>\n      <td>NaN</td>\n      <td>NaN</td>\n    </tr>\n    <tr>\n      <th>4</th>\n      <td>NaN</td>\n      <td>NaN</td>\n      <td>NaN</td>\n      <td>2</td>\n      <td>49</td>\n      <td>NaN</td>\n      <td>NaN</td>\n      <td>NaN</td>\n      <td>0.984375</td>\n      <td>0.983189</td>\n      <td>0.038061</td>\n    </tr>\n    <tr>\n      <th>5</th>\n      <td>0.978587</td>\n      <td>0.978307</td>\n      <td>0.060585</td>\n      <td>2</td>\n      <td>62</td>\n      <td>NaN</td>\n      <td>NaN</td>\n      <td>NaN</td>\n      <td>NaN</td>\n      <td>NaN</td>\n      <td>NaN</td>\n    </tr>\n    <tr>\n      <th>6</th>\n      <td>NaN</td>\n      <td>NaN</td>\n      <td>NaN</td>\n      <td>2</td>\n      <td>62</td>\n      <td>0.979911</td>\n      <td>0.979700</td>\n      <td>0.081916</td>\n      <td>NaN</td>\n      <td>NaN</td>\n      <td>NaN</td>\n    </tr>\n  </tbody>\n</table>\n</div>"
     },
     "metadata": {},
     "output_type": "display_data"
    }
   ],
   "source": [
    "metrics = pd.read_csv(f'{trainer.logger.log_dir}/metrics.csv')\n",
    "display(metrics)\n",
    "del metrics[\"epoch\"]\n",
    "metrics.set_index(\"step\", inplace=True)"
   ],
   "metadata": {
    "collapsed": false
   }
  },
  {
   "cell_type": "code",
   "execution_count": 24,
   "outputs": [],
   "source": [
    "le = LabelEncoder()\n",
    "labels = le.fit_transform(filtered_metadata['type1'])\n",
    "filtered_metadata['encoded_label'] = labels\n",
    "\n",
    "type_list = filtered_metadata['type1'].unique()\n",
    "enc_type_list = filtered_metadata['encoded_label'].unique()\n",
    "\n",
    "type_lookup = pd.DataFrame(list(zip(type_list, enc_type_list)), columns=['Type_name', 'encoded_type'])"
   ],
   "metadata": {
    "collapsed": false
   }
  },
  {
   "cell_type": "code",
   "execution_count": 32,
   "outputs": [
    {
     "name": "stdout",
     "output_type": "stream",
     "text": [
      "    | Name                                       | Type                   | Params\n",
      "----------------------------------------------------------------------------------------\n",
      "0   | train_metrics                              | ModuleDict             | 0     \n",
      "1   | train_metrics.accuracy                     | Accuracy               | 0     \n",
      "2   | train_metrics.f1score                      | F1Score                | 0     \n",
      "3   | val_metrics                                | ModuleDict             | 0     \n",
      "4   | val_metrics.accuracy                       | Accuracy               | 0     \n",
      "5   | val_metrics.f1score                        | F1Score                | 0     \n",
      "6   | test_metrics                               | ModuleDict             | 0     \n",
      "7   | test_metrics.accuracy                      | Accuracy               | 0     \n",
      "8   | test_metrics.f1score                       | F1Score                | 0     \n",
      "9   | adapter                                    | DefaultAdapter         | 4.0 M \n",
      "10  | adapter.backbone                           | EfficientNet           | 4.0 M \n",
      "11  | adapter.backbone.conv_stem                 | Conv2d                 | 864   \n",
      "12  | adapter.backbone.bn1                       | BatchNorm2d            | 64    \n",
      "13  | adapter.backbone.act1                      | SiLU                   | 0     \n",
      "14  | adapter.backbone.blocks                    | Sequential             | 3.6 M \n",
      "15  | adapter.backbone.blocks.0                  | Sequential             | 1.4 K \n",
      "16  | adapter.backbone.blocks.0.0                | DepthwiseSeparableConv | 1.4 K \n",
      "17  | adapter.backbone.blocks.0.0.conv_dw        | Conv2d                 | 288   \n",
      "18  | adapter.backbone.blocks.0.0.bn1            | BatchNorm2d            | 64    \n",
      "19  | adapter.backbone.blocks.0.0.act1           | SiLU                   | 0     \n",
      "20  | adapter.backbone.blocks.0.0.se             | SqueezeExcite          | 552   \n",
      "21  | adapter.backbone.blocks.0.0.se.conv_reduce | Conv2d                 | 264   \n",
      "22  | adapter.backbone.blocks.0.0.se.act1        | SiLU                   | 0     \n",
      "23  | adapter.backbone.blocks.0.0.se.conv_expand | Conv2d                 | 288   \n",
      "24  | adapter.backbone.blocks.0.0.se.gate        | Sigmoid                | 0     \n",
      "25  | adapter.backbone.blocks.0.0.conv_pw        | Conv2d                 | 512   \n",
      "26  | adapter.backbone.blocks.0.0.bn2            | BatchNorm2d            | 32    \n",
      "27  | adapter.backbone.blocks.0.0.act2           | Identity               | 0     \n",
      "28  | adapter.backbone.blocks.1                  | Sequential             | 16.7 K\n",
      "29  | adapter.backbone.blocks.1.0                | InvertedResidual       | 6.0 K \n",
      "30  | adapter.backbone.blocks.1.0.conv_pw        | Conv2d                 | 1.5 K \n",
      "31  | adapter.backbone.blocks.1.0.bn1            | BatchNorm2d            | 192   \n",
      "32  | adapter.backbone.blocks.1.0.act1           | SiLU                   | 0     \n",
      "33  | adapter.backbone.blocks.1.0.conv_dw        | Conv2d                 | 864   \n",
      "34  | adapter.backbone.blocks.1.0.bn2            | BatchNorm2d            | 192   \n",
      "35  | adapter.backbone.blocks.1.0.act2           | SiLU                   | 0     \n",
      "36  | adapter.backbone.blocks.1.0.se             | SqueezeExcite          | 868   \n",
      "37  | adapter.backbone.blocks.1.0.se.conv_reduce | Conv2d                 | 388   \n",
      "38  | adapter.backbone.blocks.1.0.se.act1        | SiLU                   | 0     \n",
      "39  | adapter.backbone.blocks.1.0.se.conv_expand | Conv2d                 | 480   \n",
      "40  | adapter.backbone.blocks.1.0.se.gate        | Sigmoid                | 0     \n",
      "41  | adapter.backbone.blocks.1.0.conv_pwl       | Conv2d                 | 2.3 K \n",
      "42  | adapter.backbone.blocks.1.0.bn3            | BatchNorm2d            | 48    \n",
      "43  | adapter.backbone.blocks.1.1                | InvertedResidual       | 10.7 K\n",
      "44  | adapter.backbone.blocks.1.1.conv_pw        | Conv2d                 | 3.5 K \n",
      "45  | adapter.backbone.blocks.1.1.bn1            | BatchNorm2d            | 288   \n",
      "46  | adapter.backbone.blocks.1.1.act1           | SiLU                   | 0     \n",
      "47  | adapter.backbone.blocks.1.1.conv_dw        | Conv2d                 | 1.3 K \n",
      "48  | adapter.backbone.blocks.1.1.bn2            | BatchNorm2d            | 288   \n",
      "49  | adapter.backbone.blocks.1.1.act2           | SiLU                   | 0     \n",
      "50  | adapter.backbone.blocks.1.1.se             | SqueezeExcite          | 1.9 K \n",
      "51  | adapter.backbone.blocks.1.1.se.conv_reduce | Conv2d                 | 870   \n",
      "52  | adapter.backbone.blocks.1.1.se.act1        | SiLU                   | 0     \n",
      "53  | adapter.backbone.blocks.1.1.se.conv_expand | Conv2d                 | 1.0 K \n",
      "54  | adapter.backbone.blocks.1.1.se.gate        | Sigmoid                | 0     \n",
      "55  | adapter.backbone.blocks.1.1.conv_pwl       | Conv2d                 | 3.5 K \n",
      "56  | adapter.backbone.blocks.1.1.bn3            | BatchNorm2d            | 48    \n",
      "57  | adapter.backbone.blocks.2                  | Sequential             | 46.6 K\n",
      "58  | adapter.backbone.blocks.2.0                | InvertedResidual       | 15.3 K\n",
      "59  | adapter.backbone.blocks.2.0.conv_pw        | Conv2d                 | 3.5 K \n",
      "60  | adapter.backbone.blocks.2.0.bn1            | BatchNorm2d            | 288   \n",
      "61  | adapter.backbone.blocks.2.0.act1           | SiLU                   | 0     \n",
      "62  | adapter.backbone.blocks.2.0.conv_dw        | Conv2d                 | 3.6 K \n",
      "63  | adapter.backbone.blocks.2.0.bn2            | BatchNorm2d            | 288   \n",
      "64  | adapter.backbone.blocks.2.0.act2           | SiLU                   | 0     \n",
      "65  | adapter.backbone.blocks.2.0.se             | SqueezeExcite          | 1.9 K \n",
      "66  | adapter.backbone.blocks.2.0.se.conv_reduce | Conv2d                 | 870   \n",
      "67  | adapter.backbone.blocks.2.0.se.act1        | SiLU                   | 0     \n",
      "68  | adapter.backbone.blocks.2.0.se.conv_expand | Conv2d                 | 1.0 K \n",
      "69  | adapter.backbone.blocks.2.0.se.gate        | Sigmoid                | 0     \n",
      "70  | adapter.backbone.blocks.2.0.conv_pwl       | Conv2d                 | 5.8 K \n",
      "71  | adapter.backbone.blocks.2.0.bn3            | BatchNorm2d            | 80    \n",
      "72  | adapter.backbone.blocks.2.1                | InvertedResidual       | 31.3 K\n",
      "73  | adapter.backbone.blocks.2.1.conv_pw        | Conv2d                 | 9.6 K \n",
      "74  | adapter.backbone.blocks.2.1.bn1            | BatchNorm2d            | 480   \n",
      "75  | adapter.backbone.blocks.2.1.act1           | SiLU                   | 0     \n",
      "76  | adapter.backbone.blocks.2.1.conv_dw        | Conv2d                 | 6.0 K \n",
      "77  | adapter.backbone.blocks.2.1.bn2            | BatchNorm2d            | 480   \n",
      "78  | adapter.backbone.blocks.2.1.act2           | SiLU                   | 0     \n",
      "79  | adapter.backbone.blocks.2.1.se             | SqueezeExcite          | 5.0 K \n",
      "80  | adapter.backbone.blocks.2.1.se.conv_reduce | Conv2d                 | 2.4 K \n",
      "81  | adapter.backbone.blocks.2.1.se.act1        | SiLU                   | 0     \n",
      "82  | adapter.backbone.blocks.2.1.se.conv_expand | Conv2d                 | 2.6 K \n",
      "83  | adapter.backbone.blocks.2.1.se.gate        | Sigmoid                | 0     \n",
      "84  | adapter.backbone.blocks.2.1.conv_pwl       | Conv2d                 | 9.6 K \n",
      "85  | adapter.backbone.blocks.2.1.bn3            | BatchNorm2d            | 80    \n",
      "86  | adapter.backbone.blocks.3                  | Sequential             | 242 K \n",
      "87  | adapter.backbone.blocks.3.0                | InvertedResidual       | 37.1 K\n",
      "88  | adapter.backbone.blocks.3.0.conv_pw        | Conv2d                 | 9.6 K \n",
      "89  | adapter.backbone.blocks.3.0.bn1            | BatchNorm2d            | 480   \n",
      "90  | adapter.backbone.blocks.3.0.act1           | SiLU                   | 0     \n",
      "91  | adapter.backbone.blocks.3.0.conv_dw        | Conv2d                 | 2.2 K \n",
      "92  | adapter.backbone.blocks.3.0.bn2            | BatchNorm2d            | 480   \n",
      "93  | adapter.backbone.blocks.3.0.act2           | SiLU                   | 0     \n",
      "94  | adapter.backbone.blocks.3.0.se             | SqueezeExcite          | 5.0 K \n",
      "95  | adapter.backbone.blocks.3.0.se.conv_reduce | Conv2d                 | 2.4 K \n",
      "96  | adapter.backbone.blocks.3.0.se.act1        | SiLU                   | 0     \n",
      "97  | adapter.backbone.blocks.3.0.se.conv_expand | Conv2d                 | 2.6 K \n",
      "98  | adapter.backbone.blocks.3.0.se.gate        | Sigmoid                | 0     \n",
      "99  | adapter.backbone.blocks.3.0.conv_pwl       | Conv2d                 | 19.2 K\n",
      "100 | adapter.backbone.blocks.3.0.bn3            | BatchNorm2d            | 160   \n",
      "101 | adapter.backbone.blocks.3.1                | InvertedResidual       | 102 K \n",
      "102 | adapter.backbone.blocks.3.1.conv_pw        | Conv2d                 | 38.4 K\n",
      "103 | adapter.backbone.blocks.3.1.bn1            | BatchNorm2d            | 960   \n",
      "104 | adapter.backbone.blocks.3.1.act1           | SiLU                   | 0     \n",
      "105 | adapter.backbone.blocks.3.1.conv_dw        | Conv2d                 | 4.3 K \n",
      "106 | adapter.backbone.blocks.3.1.bn2            | BatchNorm2d            | 960   \n",
      "107 | adapter.backbone.blocks.3.1.act2           | SiLU                   | 0     \n",
      "108 | adapter.backbone.blocks.3.1.se             | SqueezeExcite          | 19.7 K\n",
      "109 | adapter.backbone.blocks.3.1.se.conv_reduce | Conv2d                 | 9.6 K \n",
      "110 | adapter.backbone.blocks.3.1.se.act1        | SiLU                   | 0     \n",
      "111 | adapter.backbone.blocks.3.1.se.conv_expand | Conv2d                 | 10.1 K\n",
      "112 | adapter.backbone.blocks.3.1.se.gate        | Sigmoid                | 0     \n",
      "113 | adapter.backbone.blocks.3.1.conv_pwl       | Conv2d                 | 38.4 K\n",
      "114 | adapter.backbone.blocks.3.1.bn3            | BatchNorm2d            | 160   \n",
      "115 | adapter.backbone.blocks.3.2                | InvertedResidual       | 102 K \n",
      "116 | adapter.backbone.blocks.3.2.conv_pw        | Conv2d                 | 38.4 K\n",
      "117 | adapter.backbone.blocks.3.2.bn1            | BatchNorm2d            | 960   \n",
      "118 | adapter.backbone.blocks.3.2.act1           | SiLU                   | 0     \n",
      "119 | adapter.backbone.blocks.3.2.conv_dw        | Conv2d                 | 4.3 K \n",
      "120 | adapter.backbone.blocks.3.2.bn2            | BatchNorm2d            | 960   \n",
      "121 | adapter.backbone.blocks.3.2.act2           | SiLU                   | 0     \n",
      "122 | adapter.backbone.blocks.3.2.se             | SqueezeExcite          | 19.7 K\n",
      "123 | adapter.backbone.blocks.3.2.se.conv_reduce | Conv2d                 | 9.6 K \n",
      "124 | adapter.backbone.blocks.3.2.se.act1        | SiLU                   | 0     \n",
      "125 | adapter.backbone.blocks.3.2.se.conv_expand | Conv2d                 | 10.1 K\n",
      "126 | adapter.backbone.blocks.3.2.se.gate        | Sigmoid                | 0     \n",
      "127 | adapter.backbone.blocks.3.2.conv_pwl       | Conv2d                 | 38.4 K\n",
      "128 | adapter.backbone.blocks.3.2.bn3            | BatchNorm2d            | 160   \n",
      "129 | adapter.backbone.blocks.4                  | Sequential             | 543 K \n",
      "130 | adapter.backbone.blocks.4.0                | InvertedResidual       | 126 K \n",
      "131 | adapter.backbone.blocks.4.0.conv_pw        | Conv2d                 | 38.4 K\n",
      "132 | adapter.backbone.blocks.4.0.bn1            | BatchNorm2d            | 960   \n",
      "133 | adapter.backbone.blocks.4.0.act1           | SiLU                   | 0     \n",
      "134 | adapter.backbone.blocks.4.0.conv_dw        | Conv2d                 | 12.0 K\n",
      "135 | adapter.backbone.blocks.4.0.bn2            | BatchNorm2d            | 960   \n",
      "136 | adapter.backbone.blocks.4.0.act2           | SiLU                   | 0     \n",
      "137 | adapter.backbone.blocks.4.0.se             | SqueezeExcite          | 19.7 K\n",
      "138 | adapter.backbone.blocks.4.0.se.conv_reduce | Conv2d                 | 9.6 K \n",
      "139 | adapter.backbone.blocks.4.0.se.act1        | SiLU                   | 0     \n",
      "140 | adapter.backbone.blocks.4.0.se.conv_expand | Conv2d                 | 10.1 K\n",
      "141 | adapter.backbone.blocks.4.0.se.gate        | Sigmoid                | 0     \n",
      "142 | adapter.backbone.blocks.4.0.conv_pwl       | Conv2d                 | 53.8 K\n",
      "143 | adapter.backbone.blocks.4.0.bn3            | BatchNorm2d            | 224   \n",
      "144 | adapter.backbone.blocks.4.1                | InvertedResidual       | 208 K \n",
      "145 | adapter.backbone.blocks.4.1.conv_pw        | Conv2d                 | 75.3 K\n",
      "146 | adapter.backbone.blocks.4.1.bn1            | BatchNorm2d            | 1.3 K \n",
      "147 | adapter.backbone.blocks.4.1.act1           | SiLU                   | 0     \n",
      "148 | adapter.backbone.blocks.4.1.conv_dw        | Conv2d                 | 16.8 K\n",
      "149 | adapter.backbone.blocks.4.1.bn2            | BatchNorm2d            | 1.3 K \n",
      "150 | adapter.backbone.blocks.4.1.act2           | SiLU                   | 0     \n",
      "151 | adapter.backbone.blocks.4.1.se             | SqueezeExcite          | 38.3 K\n",
      "152 | adapter.backbone.blocks.4.1.se.conv_reduce | Conv2d                 | 18.8 K\n",
      "153 | adapter.backbone.blocks.4.1.se.act1        | SiLU                   | 0     \n",
      "154 | adapter.backbone.blocks.4.1.se.conv_expand | Conv2d                 | 19.5 K\n",
      "155 | adapter.backbone.blocks.4.1.se.gate        | Sigmoid                | 0     \n",
      "156 | adapter.backbone.blocks.4.1.conv_pwl       | Conv2d                 | 75.3 K\n",
      "157 | adapter.backbone.blocks.4.1.bn3            | BatchNorm2d            | 224   \n",
      "158 | adapter.backbone.blocks.4.2                | InvertedResidual       | 208 K \n",
      "159 | adapter.backbone.blocks.4.2.conv_pw        | Conv2d                 | 75.3 K\n",
      "160 | adapter.backbone.blocks.4.2.bn1            | BatchNorm2d            | 1.3 K \n",
      "161 | adapter.backbone.blocks.4.2.act1           | SiLU                   | 0     \n",
      "162 | adapter.backbone.blocks.4.2.conv_dw        | Conv2d                 | 16.8 K\n",
      "163 | adapter.backbone.blocks.4.2.bn2            | BatchNorm2d            | 1.3 K \n",
      "164 | adapter.backbone.blocks.4.2.act2           | SiLU                   | 0     \n",
      "165 | adapter.backbone.blocks.4.2.se             | SqueezeExcite          | 38.3 K\n",
      "166 | adapter.backbone.blocks.4.2.se.conv_reduce | Conv2d                 | 18.8 K\n",
      "167 | adapter.backbone.blocks.4.2.se.act1        | SiLU                   | 0     \n",
      "168 | adapter.backbone.blocks.4.2.se.conv_expand | Conv2d                 | 19.5 K\n",
      "169 | adapter.backbone.blocks.4.2.se.gate        | Sigmoid                | 0     \n",
      "170 | adapter.backbone.blocks.4.2.conv_pwl       | Conv2d                 | 75.3 K\n",
      "171 | adapter.backbone.blocks.4.2.bn3            | BatchNorm2d            | 224   \n",
      "172 | adapter.backbone.blocks.5                  | Sequential             | 2.0 M \n",
      "173 | adapter.backbone.blocks.5.0                | InvertedResidual       | 262 K \n",
      "174 | adapter.backbone.blocks.5.0.conv_pw        | Conv2d                 | 75.3 K\n",
      "175 | adapter.backbone.blocks.5.0.bn1            | BatchNorm2d            | 1.3 K \n",
      "176 | adapter.backbone.blocks.5.0.act1           | SiLU                   | 0     \n",
      "177 | adapter.backbone.blocks.5.0.conv_dw        | Conv2d                 | 16.8 K\n",
      "178 | adapter.backbone.blocks.5.0.bn2            | BatchNorm2d            | 1.3 K \n",
      "179 | adapter.backbone.blocks.5.0.act2           | SiLU                   | 0     \n",
      "180 | adapter.backbone.blocks.5.0.se             | SqueezeExcite          | 38.3 K\n",
      "181 | adapter.backbone.blocks.5.0.se.conv_reduce | Conv2d                 | 18.8 K\n",
      "182 | adapter.backbone.blocks.5.0.se.act1        | SiLU                   | 0     \n",
      "183 | adapter.backbone.blocks.5.0.se.conv_expand | Conv2d                 | 19.5 K\n",
      "184 | adapter.backbone.blocks.5.0.se.gate        | Sigmoid                | 0     \n",
      "185 | adapter.backbone.blocks.5.0.conv_pwl       | Conv2d                 | 129 K \n",
      "186 | adapter.backbone.blocks.5.0.bn3            | BatchNorm2d            | 384   \n",
      "187 | adapter.backbone.blocks.5.1                | InvertedResidual       | 587 K \n",
      "188 | adapter.backbone.blocks.5.1.conv_pw        | Conv2d                 | 221 K \n",
      "189 | adapter.backbone.blocks.5.1.bn1            | BatchNorm2d            | 2.3 K \n",
      "190 | adapter.backbone.blocks.5.1.act1           | SiLU                   | 0     \n",
      "191 | adapter.backbone.blocks.5.1.conv_dw        | Conv2d                 | 28.8 K\n",
      "192 | adapter.backbone.blocks.5.1.bn2            | BatchNorm2d            | 2.3 K \n",
      "193 | adapter.backbone.blocks.5.1.act2           | SiLU                   | 0     \n",
      "194 | adapter.backbone.blocks.5.1.se             | SqueezeExcite          | 111 K \n",
      "195 | adapter.backbone.blocks.5.1.se.conv_reduce | Conv2d                 | 55.3 K\n",
      "196 | adapter.backbone.blocks.5.1.se.act1        | SiLU                   | 0     \n",
      "197 | adapter.backbone.blocks.5.1.se.conv_expand | Conv2d                 | 56.4 K\n",
      "198 | adapter.backbone.blocks.5.1.se.gate        | Sigmoid                | 0     \n",
      "199 | adapter.backbone.blocks.5.1.conv_pwl       | Conv2d                 | 221 K \n",
      "200 | adapter.backbone.blocks.5.1.bn3            | BatchNorm2d            | 384   \n",
      "201 | adapter.backbone.blocks.5.2                | InvertedResidual       | 587 K \n",
      "202 | adapter.backbone.blocks.5.2.conv_pw        | Conv2d                 | 221 K \n",
      "203 | adapter.backbone.blocks.5.2.bn1            | BatchNorm2d            | 2.3 K \n",
      "204 | adapter.backbone.blocks.5.2.act1           | SiLU                   | 0     \n",
      "205 | adapter.backbone.blocks.5.2.conv_dw        | Conv2d                 | 28.8 K\n",
      "206 | adapter.backbone.blocks.5.2.bn2            | BatchNorm2d            | 2.3 K \n",
      "207 | adapter.backbone.blocks.5.2.act2           | SiLU                   | 0     \n",
      "208 | adapter.backbone.blocks.5.2.se             | SqueezeExcite          | 111 K \n",
      "209 | adapter.backbone.blocks.5.2.se.conv_reduce | Conv2d                 | 55.3 K\n",
      "210 | adapter.backbone.blocks.5.2.se.act1        | SiLU                   | 0     \n",
      "211 | adapter.backbone.blocks.5.2.se.conv_expand | Conv2d                 | 56.4 K\n",
      "212 | adapter.backbone.blocks.5.2.se.gate        | Sigmoid                | 0     \n",
      "213 | adapter.backbone.blocks.5.2.conv_pwl       | Conv2d                 | 221 K \n",
      "214 | adapter.backbone.blocks.5.2.bn3            | BatchNorm2d            | 384   \n",
      "215 | adapter.backbone.blocks.5.3                | InvertedResidual       | 587 K \n",
      "216 | adapter.backbone.blocks.5.3.conv_pw        | Conv2d                 | 221 K \n",
      "217 | adapter.backbone.blocks.5.3.bn1            | BatchNorm2d            | 2.3 K \n",
      "218 | adapter.backbone.blocks.5.3.act1           | SiLU                   | 0     \n",
      "219 | adapter.backbone.blocks.5.3.conv_dw        | Conv2d                 | 28.8 K\n",
      "220 | adapter.backbone.blocks.5.3.bn2            | BatchNorm2d            | 2.3 K \n",
      "221 | adapter.backbone.blocks.5.3.act2           | SiLU                   | 0     \n",
      "222 | adapter.backbone.blocks.5.3.se             | SqueezeExcite          | 111 K \n",
      "223 | adapter.backbone.blocks.5.3.se.conv_reduce | Conv2d                 | 55.3 K\n",
      "224 | adapter.backbone.blocks.5.3.se.act1        | SiLU                   | 0     \n",
      "225 | adapter.backbone.blocks.5.3.se.conv_expand | Conv2d                 | 56.4 K\n",
      "226 | adapter.backbone.blocks.5.3.se.gate        | Sigmoid                | 0     \n",
      "227 | adapter.backbone.blocks.5.3.conv_pwl       | Conv2d                 | 221 K \n",
      "228 | adapter.backbone.blocks.5.3.bn3            | BatchNorm2d            | 384   \n",
      "229 | adapter.backbone.blocks.6                  | Sequential             | 717 K \n",
      "230 | adapter.backbone.blocks.6.0                | InvertedResidual       | 717 K \n",
      "231 | adapter.backbone.blocks.6.0.conv_pw        | Conv2d                 | 221 K \n",
      "232 | adapter.backbone.blocks.6.0.bn1            | BatchNorm2d            | 2.3 K \n",
      "233 | adapter.backbone.blocks.6.0.act1           | SiLU                   | 0     \n",
      "234 | adapter.backbone.blocks.6.0.conv_dw        | Conv2d                 | 10.4 K\n",
      "235 | adapter.backbone.blocks.6.0.bn2            | BatchNorm2d            | 2.3 K \n",
      "236 | adapter.backbone.blocks.6.0.act2           | SiLU                   | 0     \n",
      "237 | adapter.backbone.blocks.6.0.se             | SqueezeExcite          | 111 K \n",
      "238 | adapter.backbone.blocks.6.0.se.conv_reduce | Conv2d                 | 55.3 K\n",
      "239 | adapter.backbone.blocks.6.0.se.act1        | SiLU                   | 0     \n",
      "240 | adapter.backbone.blocks.6.0.se.conv_expand | Conv2d                 | 56.4 K\n",
      "241 | adapter.backbone.blocks.6.0.se.gate        | Sigmoid                | 0     \n",
      "242 | adapter.backbone.blocks.6.0.conv_pwl       | Conv2d                 | 368 K \n",
      "243 | adapter.backbone.blocks.6.0.bn3            | BatchNorm2d            | 640   \n",
      "244 | adapter.backbone.conv_head                 | Conv2d                 | 409 K \n",
      "245 | adapter.backbone.bn2                       | BatchNorm2d            | 2.6 K \n",
      "246 | adapter.backbone.act2                      | SiLU                   | 0     \n",
      "247 | adapter.backbone.global_pool               | SelectAdaptivePool2d   | 0     \n",
      "248 | adapter.backbone.global_pool.flatten       | Flatten                | 0     \n",
      "249 | adapter.backbone.global_pool.pool          | AdaptiveAvgPool2d      | 0     \n",
      "250 | adapter.backbone.classifier                | Identity               | 0     \n",
      "251 | adapter.head                               | Linear                 | 2.6 K \n",
      "----------------------------------------------------------------------------------------\n",
      "4.0 M     Trainable params\n",
      "0         Non-trainable params\n",
      "4.0 M     Total params\n",
      "16.040    Total estimated model params size (MB)\n"
     ]
    }
   ],
   "source": [
    "summary = ModelSummary(model, max_depth=-1)\n",
    "print(summary)"
   ],
   "metadata": {
    "collapsed": false
   }
  },
  {
   "cell_type": "code",
   "execution_count": 29,
   "outputs": [
    {
     "name": "stderr",
     "output_type": "stream",
     "text": [
      "LOCAL_RANK: 0 - CUDA_VISIBLE_DEVICES: [0]\n",
      "C:\\Users\\CYBORGX\\anaconda3\\envs\\birdclef\\lib\\site-packages\\pytorch_lightning\\trainer\\data_loading.py:132: UserWarning: The dataloader, predict_dataloader 0, does not have many workers which may be a bottleneck. Consider increasing the value of the `num_workers` argument` (try 8 which is the number of cpus on this machine) in the `DataLoader` init to improve performance.\n",
      "  rank_zero_warn(\n"
     ]
    },
    {
     "data": {
      "text/plain": "Predicting: 21it [00:00, ?it/s]",
      "application/vnd.jupyter.widget-view+json": {
       "version_major": 2,
       "version_minor": 0,
       "model_id": "22412ce92a3e424eaf3d0cc144cfa157"
      }
     },
     "metadata": {},
     "output_type": "display_data"
    },
    {
     "name": "stdout",
     "output_type": "stream",
     "text": [
      "[[0], [0], [0], [0], [0], [0], [0], [0], [0], [0]]\n",
      "\n",
      "- Pokemon had the predicted type:\n",
      "  Type_name  encoded_type\n",
      "0      fire             0\n",
      "---------------------------------------------------------------------\n",
      "- The Pokemon in Question actually has the type:\n",
      "        name type1  encoded_label\n",
      "5  Growlithe  fire              0\n",
      "\n"
     ]
    }
   ],
   "source": [
    "model.eval()\n",
    "\n",
    "pred_data = ImageClassificationData.from_files(\n",
    "    predict_files=[\n",
    "        '../../Training-baseline/Growlithe/2d7043870a8843f08b3267d9c70885c3.npy',\n",
    "        '../../Training-baseline/Growlithe/0dd396a2ce43499cb2f1feec957a5e0f.npy',\n",
    "        '../../Training-baseline/Growlithe/2bb7c233adbb4c789a7919a103cb110f.npy',\n",
    "        '../../Training-baseline/Growlithe/7a9a39e6183747f6b6e810d4b6187142.npy',\n",
    "        '../../Training-baseline/Growlithe/91a68fd497724a0db5e7f91dec706278.npy',\n",
    "        '../../Training-baseline/Bellsprout/9ad85f5338424bd2ab7d9b202555d3ad.npy',\n",
    "        '../../Training-baseline/Bellsprout/4f322b81ba9b49ddb22c94f5c97bb53f.npy',\n",
    "        '../../Training-baseline/Bellsprout/50454dc01af44a6ea561ca6e9221fa5c.npy',\n",
    "        '../../Training-baseline/Bellsprout/be83544c5ca94f11a28ec022503f515f.npy',\n",
    "        '../../Training-baseline/Bellsprout/e65b4a8173644d4fba87c55ae2b20b10.npy',\n",
    "    ],\n",
    "    batch_size = 1\n",
    ")\n",
    "\n",
    "\n",
    "predictions = trainer.predict(model, datamodule=pred_data, output='labels')\n",
    "\n",
    "print(predictions)\n",
    "\n",
    "print(f\"\"\"\n",
    "- Pokemon had the predicted type:\n",
    "{type_lookup.loc[type_lookup['encoded_type'] == predictions[0][0]]}\n",
    "---------------------------------------------------------------------\n",
    "- The Pokemon in Question actually has the type:\n",
    "{filtered_metadata[filtered_metadata['name'] == 'Growlithe']}\n",
    "\"\"\")"
   ],
   "metadata": {
    "collapsed": false
   }
  }
 ],
 "metadata": {
  "kernelspec": {
   "display_name": "Python 3",
   "language": "python",
   "name": "python3"
  },
  "language_info": {
   "codemirror_mode": {
    "name": "ipython",
    "version": 2
   },
   "file_extension": ".py",
   "mimetype": "text/x-python",
   "name": "python",
   "nbconvert_exporter": "python",
   "pygments_lexer": "ipython2",
   "version": "2.7.6"
  }
 },
 "nbformat": 4,
 "nbformat_minor": 0
}
