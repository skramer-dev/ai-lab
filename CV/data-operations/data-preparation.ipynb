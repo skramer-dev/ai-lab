{
 "cells": [
  {
   "cell_type": "code",
   "execution_count": 1,
   "metadata": {
    "collapsed": true
   },
   "outputs": [],
   "source": [
    "import os\n",
    "import cv2\n",
    "import numpy as np\n",
    "import time\n",
    "from tqdm import tqdm"
   ]
  },
  {
   "cell_type": "markdown",
   "metadata": {
    "collapsed": false
   },
   "source": [
    "The following steps have been done by hand:\n",
    "    - Rename some Pokemon in the Metafile\n",
    "        - Mr. Mime, Farfetch'd, Mime Jr. and Ho-oh  (to 'MrMime', 'Farfetchd', 'MimeJr' and HoOh respectively)\n",
    "    - Rename Mime Jr Folder to MimeJr\n",
    "    - Rename Ho-oh Folder to HoOh\n",
    "    - remove Alolan Sandslash from the dataset\n",
    "    - remove MeowsticMale from the dataset\n",
    "    - Delete all .svg files (Conversion would take time and it's only a few examples)\n",
    "    - Delete Mewtwo file 00000042.png.sb-334870d9-nlD60H\n",
    "    - Delete Mewtwo file 00000008.png.sb-334870d9-FK2TVI\n",
    "    - Delete Wigglytuff 4f3c72df431a49d4b3fbc84c94f2261e.jpg~c200\n",
    "    - Delete Muk/d4ddd14c1d4340a680018d0b805bd1b2.asp"
   ]
  },
  {
   "cell_type": "code",
   "execution_count": 2,
   "metadata": {
    "collapsed": false
   },
   "outputs": [],
   "source": [
    "#DATA_PATH = '../../../Pokemon-data/'\n",
    "DATA_PATH = '../../../pipeline_one/'\n",
    "NORMALIZED_DATA = '../../../pipe_one_aug/'\n",
    "#NORMALIZED_DATA = '../../../pipe_one_augTraining-baseline/'"
   ]
  },
  {
   "cell_type": "code",
   "execution_count": 3,
   "metadata": {
    "collapsed": false
   },
   "outputs": [
    {
     "name": "stdout",
     "output_type": "stream",
     "text": [
      "Folder at Index 404: Munchlax\n"
     ]
    }
   ],
   "source": [
    "# Find all .svg files and then manually delete them\n",
    "folder_list = []\n",
    "for folder in os.listdir(DATA_PATH):\n",
    "    folder_list.append(folder)\n",
    "    for image in os.listdir(DATA_PATH + folder):\n",
    "        if image.split('.')[1] not in ['png', 'jpg', 'jpeg']:\n",
    "            print(folder + '/' + image)\n",
    "\n",
    "print(f\"Folder at Index 404: {folder_list[404]}\")"
   ]
  },
  {
   "cell_type": "code",
   "execution_count": 4,
   "metadata": {
    "collapsed": false
   },
   "outputs": [],
   "source": [
    "for folder in folder_list:\n",
    "    os.makedirs(NORMALIZED_DATA + folder, exist_ok=True)"
   ]
  },
  {
   "cell_type": "code",
   "execution_count": 5,
   "metadata": {
    "collapsed": false
   },
   "outputs": [
    {
     "name": "stderr",
     "output_type": "stream",
     "text": [
      "100%|██████████| 703/703 [03:42<00:00,  3.15it/s]"
     ]
    },
    {
     "name": "stdout",
     "output_type": "stream",
     "text": [
      "[INFO] total time taken to alter the images: 3.72min\n"
     ]
    },
    {
     "name": "stderr",
     "output_type": "stream",
     "text": [
      "\n"
     ]
    }
   ],
   "source": [
    "startTime = time.time()\n",
    "for folder in tqdm(os.listdir(DATA_PATH)):\n",
    "    for image in os.listdir(DATA_PATH + folder):\n",
    "        image_data = cv2.imread(DATA_PATH + folder + '/' + image)\n",
    "\n",
    "        # data operations\n",
    "        image_data = cv2.resize(image_data, (224, 224))\n",
    "        image_data = image_data.astype(float)\n",
    "\n",
    "        # normalize\n",
    "        image_data = image_data / 255\n",
    "\n",
    "        np.save(NORMALIZED_DATA + folder + '/' + image.split('.')[0], image_data)\n",
    "\n",
    "endTime = time.time()\n",
    "print(f\"[INFO] total time taken to alter the images: {(endTime - startTime) / 60 :.2f}min\")"
   ]
  }
 ],
 "metadata": {
  "kernelspec": {
   "display_name": "Python 3.9.4 64-bit",
   "language": "python",
   "name": "python3"
  },
  "language_info": {
   "codemirror_mode": {
    "name": "ipython",
    "version": 3
   },
   "file_extension": ".py",
   "mimetype": "text/x-python",
   "name": "python",
   "nbconvert_exporter": "python",
   "pygments_lexer": "ipython3",
   "version": "3.9.4"
  },
  "vscode": {
   "interpreter": {
    "hash": "11938c6bc6919ae2720b4d5011047913343b08a43b18698fd82dedb0d4417594"
   }
  }
 },
 "nbformat": 4,
 "nbformat_minor": 0
}
