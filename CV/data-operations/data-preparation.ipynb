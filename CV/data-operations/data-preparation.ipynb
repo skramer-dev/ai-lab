{
 "cells": [
  {
   "cell_type": "markdown",
   "metadata": {},
   "source": [
    "# Umwandlung der Daten\n",
    "\n",
    "In diesem Notebook werden die rohen Bilder in die gewünschte Form gebracht, skaliert und anschließend als Numpy Dateien abgespeichert."
   ]
  },
  {
   "cell_type": "code",
   "execution_count": 1,
   "metadata": {
    "collapsed": true
   },
   "outputs": [],
   "source": [
    "import os\n",
    "import cv2\n",
    "import numpy as np\n",
    "import time\n",
    "from tqdm import tqdm"
   ]
  },
  {
   "cell_type": "markdown",
   "metadata": {
    "collapsed": false
   },
   "source": [
    "The following steps have been done by hand:\n",
    "- Rename some Pokemon in the Metafile\n",
    "    - Mr. Mime, Farfetch'd, Mime Jr. and Ho-oh  (to 'MrMime', 'Farfetchd', 'MimeJr' and HoOh respectively)\n",
    "- Rename Mime Jr Folder to MimeJr\n",
    "- Rename Ho-oh Folder to HoOh\n",
    "- remove Alolan Sandslash from the dataset\n",
    "- remove MeowsticMale from the dataset\n",
    "- Delete all .svg files (Conversion would take time and it's only a few examples)\n",
    "- Delete Mewtwo file 00000042.png.sb-334870d9-nlD60H\n",
    "- Delete Mewtwo file 00000008.png.sb-334870d9-FK2TVI\n",
    "- Delete Wigglytuff 4f3c72df431a49d4b3fbc84c94f2261e.jpg~c200\n",
    "- Delete Muk/d4ddd14c1d4340a680018d0b805bd1b2.asp"
   ]
  },
  {
   "cell_type": "code",
   "execution_count": 2,
   "metadata": {
    "collapsed": false
   },
   "outputs": [],
   "source": [
    "# Path to pokemon folders with the images\n",
    "DATA_PATH = '../../../Pokemon-data/'\n",
    "# Path to the pokemon folders with the binary files\n",
    "NORMALIZED_DATA = '../../../pipe_one_augTraining-baseline/'"
   ]
  },
  {
   "cell_type": "code",
   "execution_count": 3,
   "metadata": {
    "collapsed": false
   },
   "outputs": [
    {
     "name": "stdout",
     "output_type": "stream",
     "text": [
      "Folder at Index 404: Munchlax\n"
     ]
    }
   ],
   "source": [
    "# Find all .svg files and then manually delete them\n",
    "folder_list = []\n",
    "for folder in os.listdir(DATA_PATH):\n",
    "    folder_list.append(folder)\n",
    "    for image in os.listdir(DATA_PATH + folder):\n",
    "        if image.split('.')[1] not in ['png', 'jpg', 'jpeg']:\n",
    "            print(folder + '/' + image)\n",
    "\n",
    "print(f\"Folder at Index 404: {folder_list[404]}\")"
   ]
  },
  {
   "cell_type": "markdown",
   "metadata": {},
   "source": [
    "Erstellen der notwendigen Ordner für alle Pokemons."
   ]
  },
  {
   "cell_type": "code",
   "execution_count": 4,
   "metadata": {
    "collapsed": false
   },
   "outputs": [],
   "source": [
    "for folder in folder_list:\n",
    "    os.makedirs(NORMALIZED_DATA + folder, exist_ok=True)"
   ]
  },
  {
   "cell_type": "markdown",
   "metadata": {},
   "source": [
    "Hier findet das Befüllen aller Ordner statt."
   ]
  },
  {
   "cell_type": "code",
   "execution_count": 5,
   "metadata": {
    "collapsed": false
   },
   "outputs": [
    {
     "name": "stderr",
     "output_type": "stream",
     "text": [
      "100%|██████████| 703/703 [03:42<00:00,  3.15it/s]"
     ]
    },
    {
     "name": "stdout",
     "output_type": "stream",
     "text": [
      "[INFO] total time taken to alter the images: 3.72min\n"
     ]
    },
    {
     "name": "stderr",
     "output_type": "stream",
     "text": [
      "\n"
     ]
    }
   ],
   "source": [
    "startTime = time.time()\n",
    "for folder in tqdm(os.listdir(DATA_PATH)):\n",
    "    for image in os.listdir(DATA_PATH + folder):\n",
    "        image_data = cv2.imread(DATA_PATH + folder + '/' + image)\n",
    "\n",
    "        # data operations\n",
    "        # resize Image to input shape of the efficentnet_b0\n",
    "        image_data = cv2.resize(image_data, (224, 224))\n",
    "        image_data = image_data.astype(float)\n",
    "\n",
    "        # normalize to the max value of the image\n",
    "        image_data = image_data / 255\n",
    "\n",
    "        # save as numpy binary file\n",
    "        np.save(NORMALIZED_DATA + folder + '/' + image.split('.')[0], image_data)\n",
    "\n",
    "endTime = time.time()\n",
    "print(f\"[INFO] total time taken to alter the images: {(endTime - startTime) / 60 :.2f}min\")"
   ]
  }
 ],
 "metadata": {
  "kernelspec": {
   "display_name": "Python 3.9.12 ('base')",
   "language": "python",
   "name": "python3"
  },
  "language_info": {
   "codemirror_mode": {
    "name": "ipython",
    "version": 3
   },
   "file_extension": ".py",
   "mimetype": "text/x-python",
   "name": "python",
   "nbconvert_exporter": "python",
   "pygments_lexer": "ipython3",
   "version": "3.9.12"
  },
  "vscode": {
   "interpreter": {
    "hash": "487b39d4bc77932302fbf00c8aa33c8cae154b5482e37c69cf95409c8a1ceaae"
   }
  }
 },
 "nbformat": 4,
 "nbformat_minor": 0
}
