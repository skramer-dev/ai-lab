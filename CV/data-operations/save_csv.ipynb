{
 "cells": [
  {
   "cell_type": "code",
   "execution_count": 12,
   "metadata": {},
   "outputs": [],
   "source": [
    "import pandas as pd\n",
    "import numpy as np\n",
    "import os"
   ]
  },
  {
   "cell_type": "code",
   "execution_count": 13,
   "metadata": {
    "collapsed": false
   },
   "outputs": [],
   "source": [
    "NORMALIZED_DATA = '../../../pipe_one_aug/'"
   ]
  },
  {
   "cell_type": "code",
   "execution_count": 14,
   "metadata": {
    "collapsed": false
   },
   "outputs": [],
   "source": [
    "metadata = pd.read_csv('../metadata/pokemon.csv')\n",
    "\n",
    "pokemon_names = [x for x in os.listdir(NORMALIZED_DATA)]\n",
    "\n",
    "filtered_metadata = metadata[metadata.name.isin(pokemon_names)]\n",
    "\n",
    "filtered_list = filtered_metadata.loc[:,'name'].tolist()\n",
    "\n",
    "filtered_metadata = filtered_metadata.loc[:,['name', 'type1']]\n",
    "\n",
    "filtered_metadata.type1 = pd.Categorical(filtered_metadata.type1)\n",
    "filtered_metadata['code'] = filtered_metadata.type1.cat.codes"
   ]
  },
  {
   "cell_type": "code",
   "execution_count": 15,
   "metadata": {
    "collapsed": false
   },
   "outputs": [],
   "source": [
    "def compile_training_data_to_list():\n",
    "    all_data = []\n",
    "    for pokemon in os.listdir(NORMALIZED_DATA):\n",
    "        all_data += [pokemon + '/' + x for x in os.listdir(NORMALIZED_DATA + pokemon)]\n",
    "\n",
    "    results = create_annotated_dataframe(all_data)\n",
    "    return results\n",
    "\n",
    "def create_annotated_dataframe(all_data):\n",
    "    base_data = {'file_name': [], 'name': [], 'label': []}\n",
    "    for item in all_data:\n",
    "        if len(filtered_metadata[filtered_metadata['name'].str.contains(item.split('/')[0])]):\n",
    "            base_data['file_name'].append(item)\n",
    "            base_data['name'].append(item.split('/')[0])\n",
    "            # yes, this is a bit ugly, but we have to match with the metadata\n",
    "            base_data['label'].append(\n",
    "                filtered_metadata[\n",
    "                    filtered_metadata['name']==(item.split('/')[0])\n",
    "                    ].loc[:,'code'].tolist()[0])\n",
    "\n",
    "    results, y_train = create_encoded_dataframe(base_data)\n",
    "    return results, y_train\n",
    "\n",
    "def create_encoded_dataframe(base_data):\n",
    "    results = pd.DataFrame(base_data, columns = ['file_name', 'name', 'label'])\n",
    "    labels = np.unique(results[\"label\"])\n",
    "    max_value = np.max(labels) + 1\n",
    "    Y_train = np.eye(max_value)[results[\"label\"]]\n",
    "    return results, Y_train"
   ]
  },
  {
   "cell_type": "code",
   "execution_count": 16,
   "metadata": {
    "collapsed": false
   },
   "outputs": [],
   "source": [
    "encoded_data, y_train = compile_training_data_to_list()"
   ]
  },
  {
   "cell_type": "code",
   "execution_count": 17,
   "metadata": {
    "collapsed": false
   },
   "outputs": [],
   "source": [
    "# save data\n",
    "df = encoded_data.copy()\n",
    "for i in range(y_train.shape[1]):\n",
    "    column_name = \"y_train\" + str(i)\n",
    "    df[column_name] = y_train[:,i]\n",
    "df[\"y_train_columns\"] = np.full((y_train.shape[0],1), y_train.shape[1])\n",
    "df.to_csv(\"../metadata/aug-training-list.csv\")"
   ]
  },
  {
   "cell_type": "code",
   "execution_count": 18,
   "metadata": {},
   "outputs": [],
   "source": [
    "# read data\n",
    "csv_data = pd.read_csv(\"../metadata/aug-training-list.csv\", index_col=0)\n",
    "\n",
    "y_train = np.zeros((len(csv_data[\"y_train_columns\"]),csv_data[\"y_train_columns\"][0]))\n",
    "for i in range(csv_data[\"y_train_columns\"][0]):\n",
    "    y_train[:,i] = csv_data[\"y_train\"+str(i)]\n",
    "\n",
    "encoded_data = csv_data.drop(csv_data.columns[(csv_data.shape[1]-csv_data[\"y_train_columns\"][0]-1):csv_data.shape[1]], axis=1)\n"
   ]
  },
  {
   "cell_type": "code",
   "execution_count": 19,
   "metadata": {
    "collapsed": false
   },
   "outputs": [
    {
     "name": "stdout",
     "output_type": "stream",
     "text": [
      "                              file_name       name  label\n",
      "0      Abomasnow/dcedzyqfojskcahp_0.npy  Abomasnow      9\n",
      "1      Abomasnow/gqfpsmqasdqiknur_0.npy  Abomasnow      9\n",
      "2      Abomasnow/imzcvkkckbdchpro_0.npy  Abomasnow      9\n",
      "3      Abomasnow/kzibfmivzksykiwy_0.npy  Abomasnow      9\n",
      "4      Abomasnow/mjtasvyoonxyilqt_0.npy  Abomasnow      9\n",
      "...                                 ...        ...    ...\n",
      "25068   Zweilous/nrpzbrzmxehydoqj_0.npy   Zweilous      1\n",
      "25069   Zweilous/qjoppeepmpyujyao_0.npy   Zweilous      1\n",
      "25070   Zweilous/sihxufnlbmephyeq_0.npy   Zweilous      1\n",
      "25071   Zweilous/vshewhewmkutsdlp_0.npy   Zweilous      1\n",
      "25072   Zweilous/ytpdigaymlnyrpbd_0.npy   Zweilous      1\n",
      "\n",
      "[25073 rows x 3 columns]\n"
     ]
    }
   ],
   "source": [
    "print(encoded_data)"
   ]
  },
  {
   "cell_type": "code",
   "execution_count": 20,
   "metadata": {
    "collapsed": false
   },
   "outputs": [
    {
     "name": "stdout",
     "output_type": "stream",
     "text": [
      "                              file_name       name  label  y_train0  y_train1  \\\n",
      "0      Abomasnow/dcedzyqfojskcahp_0.npy  Abomasnow      9       0.0       0.0   \n",
      "1      Abomasnow/gqfpsmqasdqiknur_0.npy  Abomasnow      9       0.0       0.0   \n",
      "2      Abomasnow/imzcvkkckbdchpro_0.npy  Abomasnow      9       0.0       0.0   \n",
      "3      Abomasnow/kzibfmivzksykiwy_0.npy  Abomasnow      9       0.0       0.0   \n",
      "4      Abomasnow/mjtasvyoonxyilqt_0.npy  Abomasnow      9       0.0       0.0   \n",
      "...                                 ...        ...    ...       ...       ...   \n",
      "25068   Zweilous/nrpzbrzmxehydoqj_0.npy   Zweilous      1       0.0       1.0   \n",
      "25069   Zweilous/qjoppeepmpyujyao_0.npy   Zweilous      1       0.0       1.0   \n",
      "25070   Zweilous/sihxufnlbmephyeq_0.npy   Zweilous      1       0.0       1.0   \n",
      "25071   Zweilous/vshewhewmkutsdlp_0.npy   Zweilous      1       0.0       1.0   \n",
      "25072   Zweilous/ytpdigaymlnyrpbd_0.npy   Zweilous      1       0.0       1.0   \n",
      "\n",
      "       y_train2  y_train3  y_train4  y_train5  y_train6  ...  y_train9  \\\n",
      "0           0.0       0.0       0.0       0.0       0.0  ...       1.0   \n",
      "1           0.0       0.0       0.0       0.0       0.0  ...       1.0   \n",
      "2           0.0       0.0       0.0       0.0       0.0  ...       1.0   \n",
      "3           0.0       0.0       0.0       0.0       0.0  ...       1.0   \n",
      "4           0.0       0.0       0.0       0.0       0.0  ...       1.0   \n",
      "...         ...       ...       ...       ...       ...  ...       ...   \n",
      "25068       0.0       0.0       0.0       0.0       0.0  ...       0.0   \n",
      "25069       0.0       0.0       0.0       0.0       0.0  ...       0.0   \n",
      "25070       0.0       0.0       0.0       0.0       0.0  ...       0.0   \n",
      "25071       0.0       0.0       0.0       0.0       0.0  ...       0.0   \n",
      "25072       0.0       0.0       0.0       0.0       0.0  ...       0.0   \n",
      "\n",
      "       y_train10  y_train11  y_train12  y_train13  y_train14  y_train15  \\\n",
      "0            0.0        0.0        0.0        0.0        0.0        0.0   \n",
      "1            0.0        0.0        0.0        0.0        0.0        0.0   \n",
      "2            0.0        0.0        0.0        0.0        0.0        0.0   \n",
      "3            0.0        0.0        0.0        0.0        0.0        0.0   \n",
      "4            0.0        0.0        0.0        0.0        0.0        0.0   \n",
      "...          ...        ...        ...        ...        ...        ...   \n",
      "25068        0.0        0.0        0.0        0.0        0.0        0.0   \n",
      "25069        0.0        0.0        0.0        0.0        0.0        0.0   \n",
      "25070        0.0        0.0        0.0        0.0        0.0        0.0   \n",
      "25071        0.0        0.0        0.0        0.0        0.0        0.0   \n",
      "25072        0.0        0.0        0.0        0.0        0.0        0.0   \n",
      "\n",
      "       y_train16  y_train17  y_train_columns  \n",
      "0            0.0        0.0               18  \n",
      "1            0.0        0.0               18  \n",
      "2            0.0        0.0               18  \n",
      "3            0.0        0.0               18  \n",
      "4            0.0        0.0               18  \n",
      "...          ...        ...              ...  \n",
      "25068        0.0        0.0               18  \n",
      "25069        0.0        0.0               18  \n",
      "25070        0.0        0.0               18  \n",
      "25071        0.0        0.0               18  \n",
      "25072        0.0        0.0               18  \n",
      "\n",
      "[25073 rows x 22 columns]\n"
     ]
    }
   ],
   "source": [
    "print(csv_data)"
   ]
  }
 ],
 "metadata": {
  "kernelspec": {
   "display_name": "Python 3.9.4 64-bit",
   "language": "python",
   "name": "python3"
  },
  "language_info": {
   "codemirror_mode": {
    "name": "ipython",
    "version": 3
   },
   "file_extension": ".py",
   "mimetype": "text/x-python",
   "name": "python",
   "nbconvert_exporter": "python",
   "pygments_lexer": "ipython3",
   "version": "3.9.4"
  },
  "orig_nbformat": 4,
  "vscode": {
   "interpreter": {
    "hash": "11938c6bc6919ae2720b4d5011047913343b08a43b18698fd82dedb0d4417594"
   }
  }
 },
 "nbformat": 4,
 "nbformat_minor": 2
}
