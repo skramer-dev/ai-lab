{
 "cells": [
  {
   "cell_type": "code",
   "execution_count": 139,
   "metadata": {
    "collapsed": true
   },
   "outputs": [],
   "source": [
    "import os\n",
    "import cv2\n",
    "import numpy as np\n",
    "import time\n",
    "from tqdm import tqdm"
   ]
  },
  {
   "cell_type": "markdown",
   "source": [
    "The following steps have been done by hand:\n",
    "    - Rename some Pokemon in the Metafile\n",
    "        - Mr. Mime, Farfetch'd, Mime Jr. and Ho-oh  (to 'MrMime', 'Farfetchd', 'MimeJr' and HoOh respectively)\n",
    "    - Rename Mime Jr Folder to MimeJr\n",
    "    - Rename Ho-oh Folder to HoOh\n",
    "    - remove Alolan Sandslash from the dataset\n",
    "    - remove MeowsticMale from the dataset\n",
    "    - Delete all .svg files (Conversion would take time and it's only a few examples)\n",
    "    - Delete Mewtwo file 00000042.png.sb-334870d9-nlD60H\n",
    "    - Delete Mewtwo file 00000008.png.sb-334870d9-FK2TVI\n",
    "    - Delete Wigglytuff 4f3c72df431a49d4b3fbc84c94f2261e.jpg~c200\n",
    "    - Delete Muk/d4ddd14c1d4340a680018d0b805bd1b2.asp"
   ],
   "metadata": {
    "collapsed": false
   }
  },
  {
   "cell_type": "code",
   "execution_count": 140,
   "outputs": [],
   "source": [
    "DATA_PATH = '../../Pokemon-data/'\n",
    "NORMALIZED_DATA = '../../Training-baseline/'"
   ],
   "metadata": {
    "collapsed": false
   }
  },
  {
   "cell_type": "code",
   "execution_count": 141,
   "outputs": [
    {
     "name": "stdout",
     "output_type": "stream",
     "text": [
      "Ekans/b24c3fa1a8b742af9af97c58c002c85b.jpg')\n",
      "Slowbro/Screen Shot 2019-08-12 at 8.34.39 PM.png\n",
      "Slowbro/Screen Shot 2019-08-12 at 8.34.47 PM.png\n",
      "Slowbro/Screen Shot 2019-08-12 at 8.35.00 PM.png\n",
      "Slowbro/Screen Shot 2019-08-12 at 8.35.09 PM.png\n",
      "Slowbro/Screen Shot 2019-08-12 at 8.35.14 PM.png\n",
      "Slowbro/Screen Shot 2019-08-12 at 8.35.37 PM.png\n",
      "Slowbro/Screen Shot 2019-08-12 at 8.35.44 PM.png\n",
      "Slowbro/Screen Shot 2019-08-12 at 8.35.50 PM.png\n",
      "Slowbro/Screen Shot 2019-08-12 at 8.36.00 PM.png\n",
      "Slowbro/Screen Shot 2019-08-12 at 8.36.17 PM.png\n",
      "Folder at Index 404: Muk\n"
     ]
    }
   ],
   "source": [
    "# Find all .svg files and then manually delete them\n",
    "folder_list = []\n",
    "for folder in os.listdir(DATA_PATH):\n",
    "    folder_list.append(folder)\n",
    "    for image in os.listdir(DATA_PATH + folder):\n",
    "        if image.split('.')[1] not in ['png', 'jpg', 'jpeg']:\n",
    "            print(folder + '/' + image)\n",
    "\n",
    "print(f\"Folder at Index 404: {folder_list[404]}\")"
   ],
   "metadata": {
    "collapsed": false
   }
  },
  {
   "cell_type": "code",
   "execution_count": 142,
   "outputs": [],
   "source": [
    "for folder in folder_list:\n",
    "    os.makedirs(NORMALIZED_DATA + folder, exist_ok=True)"
   ],
   "metadata": {
    "collapsed": false
   }
  },
  {
   "cell_type": "code",
   "execution_count": 143,
   "outputs": [
    {
     "name": "stderr",
     "output_type": "stream",
     "text": [
      "100%|██████████| 704/704 [02:30<00:00,  4.69it/s]"
     ]
    },
    {
     "name": "stdout",
     "output_type": "stream",
     "text": [
      "[INFO] total time taken to alter the images: 2.50min\n"
     ]
    },
    {
     "name": "stderr",
     "output_type": "stream",
     "text": [
      "\n"
     ]
    }
   ],
   "source": [
    "startTime = time.time()\n",
    "for folder in tqdm(os.listdir(DATA_PATH)):\n",
    "    for image in os.listdir(DATA_PATH + folder):\n",
    "        image_data = cv2.imread(DATA_PATH + folder + '/' + image)\n",
    "\n",
    "        # data operations\n",
    "        image_data = cv2.resize(image_data, (224, 224))\n",
    "        image_data = image_data.astype(float)\n",
    "        #normalize channels\n",
    "        # taken from https://stats.stackexchange.com/questions/306978/neural-network-input-normalization\n",
    "\n",
    "        x0 = image_data[:,:,0]\n",
    "        image_data[:,:,0] = (x0 - x0.mean()) / max([x0.std(), 0.0001])\n",
    "\n",
    "        x1 = image_data[:,:,1]\n",
    "        image_data[:,:,1] = (x1 - x1.mean()) / max([x1.std(), 0.0001])\n",
    "\n",
    "        x2 = image_data[:,:,2]\n",
    "        image_data[:,:,2] = (x2 - x2.mean()) / max([x2.std(), 0.0001])\n",
    "\n",
    "\n",
    "        result = cv2.imwrite(NORMALIZED_DATA + folder + '/' + image, image_data)\n",
    "        if not result:\n",
    "          print('Error in saving file')\n",
    "\n",
    "endTime = time.time()\n",
    "print(f\"[INFO] total time taken to alter the images: {(endTime - startTime) / 60 :.2f}min\")"
   ],
   "metadata": {
    "collapsed": false
   }
  }
 ],
 "metadata": {
  "kernelspec": {
   "display_name": "Python 3",
   "language": "python",
   "name": "python3"
  },
  "language_info": {
   "codemirror_mode": {
    "name": "ipython",
    "version": 2
   },
   "file_extension": ".py",
   "mimetype": "text/x-python",
   "name": "python",
   "nbconvert_exporter": "python",
   "pygments_lexer": "ipython2",
   "version": "2.7.6"
  }
 },
 "nbformat": 4,
 "nbformat_minor": 0
}
