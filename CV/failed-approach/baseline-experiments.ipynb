{
 "cells": [
  {
   "cell_type": "code",
   "execution_count": 4,
   "metadata": {
    "collapsed": true
   },
   "outputs": [],
   "source": [
    "from flash.image import ImageClassificationData, ImageClassifier\n",
    "from flash import Trainer"
   ]
  },
  {
   "cell_type": "code",
   "execution_count": 5,
   "metadata": {
    "collapsed": false
   },
   "outputs": [
    {
     "name": "stderr",
     "output_type": "stream",
     "text": [
      "Using 'efficientnet_b0' provided by rwightman/pytorch-image-models (https://github.com/rwightman/pytorch-image-models).\n",
      "GPU available: True, used: True\n",
      "TPU available: False, using: 0 TPU cores\n",
      "IPU available: False, using: 0 IPUs\n"
     ]
    }
   ],
   "source": [
    "model = ImageClassifier(backbone='efficientnet_b0', pretrained=True, num_classes=1000)\n",
    "trainer = Trainer(gpus=1)"
   ]
  },
  {
   "cell_type": "code",
   "execution_count": 6,
   "metadata": {
    "collapsed": false
   },
   "outputs": [
    {
     "name": "stderr",
     "output_type": "stream",
     "text": [
      "LOCAL_RANK: 0 - CUDA_VISIBLE_DEVICES: [0]\n",
      "C:\\Users\\CYBORGX\\anaconda3\\envs\\birdclef\\lib\\site-packages\\pytorch_lightning\\trainer\\data_loading.py:132: UserWarning: The dataloader, predict_dataloader 0, does not have many workers which may be a bottleneck. Consider increasing the value of the `num_workers` argument` (try 8 which is the number of cpus on this machine) in the `DataLoader` init to improve performance.\n",
      "  rank_zero_warn(\n"
     ]
    },
    {
     "data": {
      "application/vnd.jupyter.widget-view+json": {
       "model_id": "daad6d14b6de4b03a03ea9ddef9f2276",
       "version_major": 2,
       "version_minor": 0
      },
      "text/plain": [
       "Predicting: 0it [00:00, ?it/s]"
      ]
     },
     "metadata": {},
     "output_type": "display_data"
    },
    {
     "name": "stderr",
     "output_type": "stream",
     "text": [
      "C:\\Users\\CYBORGX\\anaconda3\\envs\\birdclef\\lib\\site-packages\\flash\\core\\classification.py:237: UserWarning: No labels were provided, this output will act as a Classes output.\n",
      "  rank_zero_warn(\"No labels were provided, this output will act as a Classes output.\", category=UserWarning)\n"
     ]
    },
    {
     "name": "stdout",
     "output_type": "stream",
     "text": [
      "[[600], [294], [647], [513], [626], [481], [602], [555], [638]]\n"
     ]
    }
   ],
   "source": [
    "pred_data = ImageClassificationData.from_files(\n",
    "    predict_files=[\n",
    "        '../../imagenet-sample-images/n04592741_wing.JPEG',\n",
    "        '../../imagenet-sample-images/n04548362_wallet.JPEG',\n",
    "        '../../imagenet-sample-images/n04505470_typewriter_keyboard.JPEG',\n",
    "        '../../imagenet-sample-images/n04372370_switch.JPEG',\n",
    "        '../../imagenet-sample-images/n04336792_stretcher.JPEG',\n",
    "        '../../imagenet-sample-images/n04311004_steel_arch_bridge.JPEG',\n",
    "        '../../imagenet-sample-images/n04265275_space_heater.JPEG',\n",
    "        '../../imagenet-sample-images/n04243546_slot.JPEG',\n",
    "        '../../imagenet-sample-images/n04204238_shopping_basket.JPEG',\n",
    "    ],\n",
    "    batch_size = 1\n",
    ")\n",
    "\n",
    "\n",
    "predictions = trainer.predict(model, datamodule=pred_data, output='labels')\n",
    "\n",
    "print(predictions)"
   ]
  }
 ],
 "metadata": {
  "kernelspec": {
   "display_name": "Python 3.9.4 64-bit",
   "language": "python",
   "name": "python3"
  },
  "language_info": {
   "codemirror_mode": {
    "name": "ipython",
    "version": 2
   },
   "file_extension": ".py",
   "mimetype": "text/x-python",
   "name": "python",
   "nbconvert_exporter": "python",
   "pygments_lexer": "ipython2",
   "version": "3.9.4"
  },
  "vscode": {
   "interpreter": {
    "hash": "11938c6bc6919ae2720b4d5011047913343b08a43b18698fd82dedb0d4417594"
   }
  }
 },
 "nbformat": 4,
 "nbformat_minor": 0
}
