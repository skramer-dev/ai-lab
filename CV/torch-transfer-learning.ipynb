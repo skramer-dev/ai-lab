{
 "cells": [
  {
   "cell_type": "code",
   "execution_count": 1,
   "metadata": {},
   "outputs": [],
   "source": [
    "import pandas as pd\n",
    "import os\n",
    "import numpy as np\n",
    "from torch.utils.data import Dataset\n",
    "from sklearn.model_selection import train_test_split\n",
    "from tqdm import tqdm\n",
    "import torch\n",
    "from torch.utils.data import DataLoader\n",
    "from datetime import datetime\n"
   ]
  },
  {
   "cell_type": "code",
   "execution_count": 2,
   "outputs": [
    {
     "name": "stdout",
     "output_type": "stream",
     "text": [
      "cuda\n"
     ]
    }
   ],
   "source": [
    "DATA_PATH = '../../Pokemon-data/'\n",
    "NORMALIZED_DATA = '../../Training-baseline/'\n",
    "SEED = 42\n",
    "BATCH_SIZE = 64\n",
    "epochs = 1\n",
    "checkpoint_path = './saved-models/'\n",
    "n_epochs_stop = 5\n",
    "\n",
    "device = torch.device(\"cuda\" if torch.cuda.is_available() else \"cpu\")\n",
    "print(device)"
   ],
   "metadata": {
    "collapsed": false
   }
  },
  {
   "cell_type": "code",
   "execution_count": 3,
   "metadata": {},
   "outputs": [
    {
     "name": "stdout",
     "output_type": "stream",
     "text": [
      "0       9\n",
      "1       9\n",
      "2       9\n",
      "3       6\n",
      "4       6\n",
      "       ..\n",
      "714     7\n",
      "715     4\n",
      "716     1\n",
      "718    15\n",
      "720     6\n",
      "Name: code, Length: 703, dtype: int8\n"
     ]
    }
   ],
   "source": [
    "metadata = pd.read_csv('metadata/pokemon.csv')\n",
    "\n",
    "pokemon_names = [x for x in os.listdir(NORMALIZED_DATA)]\n",
    "\n",
    "filtered_metadata = metadata[metadata.name.isin(pokemon_names)]\n",
    "\n",
    "filtered_list = filtered_metadata.loc[:,'name'].tolist()\n",
    "\n",
    "filtered_metadata = filtered_metadata.loc[:,['name', 'type1']]\n",
    "\n",
    "#fire_data = filtered_metadata[filtered_metadata[\"type1\"] == 'fire']\n",
    "#grass_data = filtered_metadata[filtered_metadata[\"type1\"] == 'grass']\n",
    "#filtered_metadata = pd.concat([fire_data, grass_data], ignore_index=True)\n",
    "\n",
    "filtered_metadata.type1 = pd.Categorical(filtered_metadata.type1)\n",
    "filtered_metadata['code'] = filtered_metadata.type1.cat.codes\n",
    "print(filtered_metadata['code'])\n",
    "\n",
    "def compile_training_data_to_list():\n",
    "    all_data = []\n",
    "    for pokemon in os.listdir(NORMALIZED_DATA):\n",
    "        all_data += [pokemon + '/' + x for x in os.listdir(NORMALIZED_DATA + pokemon)]\n",
    "\n",
    "    results = create_annotated_dataframe(all_data)\n",
    "    return results\n",
    "\n",
    "def create_annotated_dataframe(all_data):\n",
    "    base_data = {'file_name': [], 'name': [], 'label': []}\n",
    "    for item in all_data:\n",
    "        if len(filtered_metadata[filtered_metadata['name'].str.contains(item.split('/')[0])]):\n",
    "            base_data['file_name'].append(item)\n",
    "            base_data['name'].append(item.split('/')[0])\n",
    "            # yes, this is a bit ugly, but we have to match with the metadata\n",
    "            base_data['label'].append(\n",
    "                filtered_metadata[\n",
    "                    filtered_metadata['name']==(item.split('/')[0])\n",
    "                ].loc[:,'code'].tolist()[0])\n",
    "\n",
    "    results, y_train = create_encoded_dataframe(base_data)\n",
    "    return results, y_train\n",
    "\n",
    "def create_encoded_dataframe(base_data):\n",
    "    results = pd.DataFrame(base_data, columns = ['file_name', 'name', 'label'])\n",
    "    labels = np.unique(results[\"label\"])\n",
    "    max_value = np.max(labels) + 1\n",
    "    Y_train = np.eye(max_value)[results[\"label\"]]\n",
    "    return results, Y_train"
   ]
  },
  {
   "cell_type": "code",
   "execution_count": 4,
   "metadata": {},
   "outputs": [],
   "source": [
    "encoded_data, y_train = compile_training_data_to_list()"
   ]
  },
  {
   "cell_type": "code",
   "execution_count": 5,
   "metadata": {},
   "outputs": [],
   "source": [
    "class CustomDataset(Dataset):\n",
    "\tdef __init__(self, x, y, img_dir):\n",
    "\t\tself.x = x\n",
    "\t\tself.y = y\n",
    "\t\tself.img_dir = img_dir\n",
    "\t\tself.classes = np.unique(self.y)\n",
    "\n",
    "\n",
    "\tdef __len__(self):\n",
    "\t\treturn len(self.x)\n",
    "\n",
    "\n",
    "\tdef __getitem__(self, idx):\n",
    "\t\timg_path = os.path.join(self.img_dir, self.x[idx])\n",
    "        # use the slice to remove a possible 4th alpha channel\n",
    "\t\t#image = iio.v2.imread(img_path)[:,:,:3]\n",
    "\t\timage = np.load(img_path)[:,:,:3]\n",
    "\t\timage = image.astype(np.float32)\n",
    "\t\tlabel = self.y[idx]\n",
    "\t\treturn image, label"
   ]
  },
  {
   "cell_type": "code",
   "execution_count": 6,
   "metadata": {},
   "outputs": [],
   "source": [
    "def stratified_split(dataset, labels):\n",
    "    x_train, x_val, y_train, y_val = train_test_split(dataset['file_name'].to_numpy(),\n",
    "                                                  labels,\n",
    "                                                  test_size=0.25,\n",
    "                                                  stratify=dataset['label'],\n",
    "                                                  random_state=SEED)\n",
    "\n",
    "    trainSet = CustomDataset(x_train, y_train, NORMALIZED_DATA)\n",
    "    valSet = CustomDataset(x_val, y_val, NORMALIZED_DATA)\n",
    "    return trainSet, valSet"
   ]
  },
  {
   "cell_type": "code",
   "execution_count": 7,
   "metadata": {},
   "outputs": [],
   "source": [
    "train, val = stratified_split(encoded_data, y_train)\n",
    "trainDataLoader = DataLoader(train, batch_size=BATCH_SIZE)\n",
    "valDataLoader = DataLoader(val, batch_size=BATCH_SIZE)"
   ]
  },
  {
   "cell_type": "code",
   "execution_count": 8,
   "metadata": {},
   "outputs": [],
   "source": [
    "from torchvision import models\n",
    "model = models.efficientnet_b0(pretrained=True)"
   ]
  },
  {
   "cell_type": "code",
   "execution_count": 9,
   "metadata": {},
   "outputs": [],
   "source": [
    "for param in model.parameters():\n",
    "    param.requires_grad = False"
   ]
  },
  {
   "cell_type": "code",
   "execution_count": 10,
   "metadata": {},
   "outputs": [],
   "source": [
    "import torch.nn as nn\n",
    "# Add on classifier\n",
    "model.classifier = nn.Sequential(\n",
    "                      nn.Linear(1280, 256), \n",
    "                      nn.ReLU(), \n",
    "                      nn.Dropout(0.4),\n",
    "                      nn.Linear(256, 18),                   \n",
    "                      nn.LogSoftmax(dim=1))"
   ]
  },
  {
   "cell_type": "code",
   "execution_count": 11,
   "metadata": {},
   "outputs": [],
   "source": [
    "model = model.to('cuda')"
   ]
  },
  {
   "cell_type": "code",
   "execution_count": 12,
   "metadata": {},
   "outputs": [],
   "source": [
    "from torch import optim\n",
    "# Loss and optimizer\n",
    "criterion = nn.CrossEntropyLoss()\n",
    "optimizer = optim.Adam(model.parameters())"
   ]
  },
  {
   "cell_type": "code",
   "execution_count": 13,
   "metadata": {},
   "outputs": [
    {
     "name": "stdout",
     "output_type": "stream",
     "text": [
      "[INFO] starting training for epoch: 1 at 12:53:56\n"
     ]
    },
    {
     "name": "stderr",
     "output_type": "stream",
     "text": [
      "Training progress: 100%|██████████| 142/142 [03:00<00:00,  1.27s/it]\n"
     ]
    },
    {
     "name": "stdout",
     "output_type": "stream",
     "text": [
      "[INFO] starting evaluation for epoch: 1 at 12:56:57\n"
     ]
    },
    {
     "name": "stderr",
     "output_type": "stream",
     "text": [
      "Validation progress: 100%|██████████| 48/48 [00:20<00:00,  2.33it/s]\n"
     ]
    },
    {
     "name": "stdout",
     "output_type": "stream",
     "text": [
      "tensor(0.0125, device='cuda:0', dtype=torch.float64)\n"
     ]
    },
    {
     "ename": "NameError",
     "evalue": "name 'min_val_loss' is not defined",
     "output_type": "error",
     "traceback": [
      "\u001B[1;31m---------------------------------------------------------------------------\u001B[0m",
      "\u001B[1;31mNameError\u001B[0m                                 Traceback (most recent call last)",
      "Input \u001B[1;32mIn [13]\u001B[0m, in \u001B[0;36m<cell line: 1>\u001B[1;34m()\u001B[0m\n\u001B[0;32m     38\u001B[0m \u001B[38;5;28mprint\u001B[39m(val_loss)\n\u001B[0;32m     39\u001B[0m \u001B[38;5;66;03m# If the validation loss is at a minimum\u001B[39;00m\n\u001B[1;32m---> 40\u001B[0m \u001B[38;5;28;01mif\u001B[39;00m val_loss \u001B[38;5;241m<\u001B[39m \u001B[43mmin_val_loss\u001B[49m:\n\u001B[0;32m     41\u001B[0m     \u001B[38;5;66;03m# Save the model\u001B[39;00m\n\u001B[0;32m     42\u001B[0m     torch\u001B[38;5;241m.\u001B[39msave(model, checkpoint_path)\n\u001B[0;32m     43\u001B[0m     epochs_no_improve \u001B[38;5;241m=\u001B[39m \u001B[38;5;241m0\u001B[39m\n",
      "\u001B[1;31mNameError\u001B[0m: name 'min_val_loss' is not defined"
     ]
    }
   ],
   "source": [
    "for epoch in range(epochs):\n",
    "    print(f\"[INFO] starting training for epoch: {epoch + 1} at {datetime.now().strftime('%H:%M:%S')}\")\n",
    "\n",
    "    val_loss = 0\n",
    "    min_val_loss = 0\n",
    "\n",
    "    for data, targets in tqdm(trainDataLoader, desc=\"Training progress\"):\n",
    "        data = data.transpose(1, 3)\n",
    "        data = data.transpose(2, 3)\n",
    "\n",
    "        data = data.float()\n",
    "        data, targets = (data.to(device), targets.to(device))\n",
    "        # Generate predictions\n",
    "        out = model(data)\n",
    "        # Calculate loss\n",
    "        loss = criterion(out, targets)\n",
    "        # Backpropagation\n",
    "        loss.backward()\n",
    "        # Update model parameters\n",
    "        optimizer.step()\n",
    "\n",
    "    with torch.no_grad():\n",
    "        model.eval()\n",
    "        print(f\"[INFO] starting evaluation for epoch: {epoch + 1} at {datetime.now().strftime('%H:%M:%S')}\")\n",
    "        for data, targets in tqdm(valDataLoader, desc=\"Validation progress\"):\n",
    "            data = data.transpose(1, 3)\n",
    "            data = data.transpose(2, 3)\n",
    "\n",
    "            data = data.float()\n",
    "            data, targets = (data.to(device), targets.to(device))\n",
    "            # Generate predictions\n",
    "            out = model(data)\n",
    "            # Calculate loss\n",
    "            loss = criterion(out, targets)\n",
    "            val_loss += loss\n",
    "\n",
    "        # Average validation loss\n",
    "        val_loss = val_loss / len(train)\n",
    "        print(val_loss)\n",
    "        # If the validation loss is at a minimum\n",
    "        if val_loss < min_val_loss:\n",
    "            # Save the model\n",
    "            torch.save(model, checkpoint_path)\n",
    "            epochs_no_improve = 0\n",
    "            min_val_loss = val_loss\n",
    "\n",
    "        else:\n",
    "            epochs_no_improve += 1\n",
    "            # Check early stopping condition\n",
    "            if epochs_no_improve == n_epochs_stop:\n",
    "                print('Early stopping!')\n",
    "\n",
    "                # Load in the best model\n",
    "                model = torch.load(checkpoint_path)"
   ]
  }
 ],
 "metadata": {
  "kernelspec": {
   "display_name": "Python 3.9.13 ('ki-lab')",
   "language": "python",
   "name": "python3"
  },
  "language_info": {
   "codemirror_mode": {
    "name": "ipython",
    "version": 3
   },
   "file_extension": ".py",
   "mimetype": "text/x-python",
   "name": "python",
   "nbconvert_exporter": "python",
   "pygments_lexer": "ipython3",
   "version": "3.9.13"
  },
  "orig_nbformat": 4,
  "vscode": {
   "interpreter": {
    "hash": "a8264f563574424d24d12a45a7d14379defa3be27ef947163ce9eeda193eace4"
   }
  }
 },
 "nbformat": 4,
 "nbformat_minor": 2
}
