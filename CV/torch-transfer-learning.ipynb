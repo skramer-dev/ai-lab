{
 "cells": [
  {
   "cell_type": "code",
   "execution_count": 1,
   "metadata": {},
   "outputs": [],
   "source": [
    "import pandas as pd\n",
    "import os\n",
    "import numpy as np\n",
    "from IPython.core.display_functions import clear_output\n",
    "from torch.utils.data import Dataset\n",
    "from sklearn.model_selection import train_test_split\n",
    "from tqdm import tqdm\n",
    "import torch\n",
    "from torch.utils.data import DataLoader\n",
    "from datetime import datetime\n",
    "import time\n",
    "from sklearn.metrics import f1_score, confusion_matrix\n",
    "import matplotlib.pyplot as plt"
   ]
  },
  {
   "cell_type": "code",
   "execution_count": 21,
   "outputs": [
    {
     "name": "stdout",
     "output_type": "stream",
     "text": [
      "cuda\n"
     ]
    }
   ],
   "source": [
    "DATA_PATH = '../../Pokemon-data/'\n",
    "NORMALIZED_DATA = '../../Training-baseline/'\n",
    "SEED = 42\n",
    "BATCH_SIZE = 64\n",
    "EPOCHS = 20\n",
    "PRETRAINED = True\n",
    "MODEL_NAME = str(EPOCHS) + \"Epochs-freeze\"\n",
    "checkpoint_path = './saved-models/'\n",
    "TRAINING_METRICS = './training-metrics/'\n",
    "n_epochs_stop = 5\n",
    "\n",
    "device = torch.device(\"cuda\" if torch.cuda.is_available() else \"cpu\")\n",
    "print(device)"
   ],
   "metadata": {
    "collapsed": false
   }
  },
  {
   "cell_type": "code",
   "execution_count": 3,
   "metadata": {},
   "outputs": [
    {
     "name": "stdout",
     "output_type": "stream",
     "text": [
      "0       9\n",
      "1       9\n",
      "2       9\n",
      "3       6\n",
      "4       6\n",
      "       ..\n",
      "714     7\n",
      "715     4\n",
      "716     1\n",
      "718    15\n",
      "720     6\n",
      "Name: code, Length: 703, dtype: int8\n"
     ]
    }
   ],
   "source": [
    "metadata = pd.read_csv('metadata/pokemon.csv')\n",
    "\n",
    "pokemon_names = [x for x in os.listdir(NORMALIZED_DATA)]\n",
    "\n",
    "filtered_metadata = metadata[metadata.name.isin(pokemon_names)]\n",
    "\n",
    "filtered_list = filtered_metadata.loc[:,'name'].tolist()\n",
    "\n",
    "filtered_metadata = filtered_metadata.loc[:,['name', 'type1']]\n",
    "\n",
    "#fire_data = filtered_metadata[filtered_metadata[\"type1\"] == 'fire']\n",
    "#grass_data = filtered_metadata[filtered_metadata[\"type1\"] == 'grass']\n",
    "#filtered_metadata = pd.concat([fire_data, grass_data], ignore_index=True)\n",
    "\n",
    "filtered_metadata.type1 = pd.Categorical(filtered_metadata.type1)\n",
    "filtered_metadata['code'] = filtered_metadata.type1.cat.codes\n",
    "print(filtered_metadata['code'])\n",
    "\n",
    "def compile_training_data_to_list():\n",
    "    all_data = []\n",
    "    for pokemon in os.listdir(NORMALIZED_DATA):\n",
    "        all_data += [pokemon + '/' + x for x in os.listdir(NORMALIZED_DATA + pokemon)]\n",
    "\n",
    "    results = create_annotated_dataframe(all_data)\n",
    "    return results\n",
    "\n",
    "def create_annotated_dataframe(all_data):\n",
    "    base_data = {'file_name': [], 'name': [], 'label': []}\n",
    "    for item in all_data:\n",
    "        if len(filtered_metadata[filtered_metadata['name'].str.contains(item.split('/')[0])]):\n",
    "            base_data['file_name'].append(item)\n",
    "            base_data['name'].append(item.split('/')[0])\n",
    "            # yes, this is a bit ugly, but we have to match with the metadata\n",
    "            base_data['label'].append(\n",
    "                filtered_metadata[\n",
    "                    filtered_metadata['name']==(item.split('/')[0])\n",
    "                ].loc[:,'code'].tolist()[0])\n",
    "\n",
    "    results, y_train = create_encoded_dataframe(base_data)\n",
    "    return results, y_train\n",
    "\n",
    "def create_encoded_dataframe(base_data):\n",
    "    results = pd.DataFrame(base_data, columns = ['file_name', 'name', 'label'])\n",
    "    labels = np.unique(results[\"label\"])\n",
    "    max_value = np.max(labels) + 1\n",
    "    Y_train = np.eye(max_value)[results[\"label\"]]\n",
    "    return results, Y_train"
   ]
  },
  {
   "cell_type": "code",
   "execution_count": 4,
   "metadata": {},
   "outputs": [],
   "source": [
    "encoded_data, y_train = compile_training_data_to_list()"
   ]
  },
  {
   "cell_type": "code",
   "execution_count": 5,
   "metadata": {},
   "outputs": [],
   "source": [
    "class CustomDataset(Dataset):\n",
    "\tdef __init__(self, x, y, img_dir):\n",
    "\t\tself.x = x\n",
    "\t\tself.y = y\n",
    "\t\tself.img_dir = img_dir\n",
    "\t\tself.classes = np.unique(self.y)\n",
    "\n",
    "\n",
    "\tdef __len__(self):\n",
    "\t\treturn len(self.x)\n",
    "\n",
    "\n",
    "\tdef __getitem__(self, idx):\n",
    "\t\timg_path = os.path.join(self.img_dir, self.x[idx])\n",
    "        # use the slice to remove a possible 4th alpha channel\n",
    "\t\t#image = iio.v2.imread(img_path)[:,:,:3]\n",
    "\t\timage = np.load(img_path)[:,:,:3]\n",
    "\t\timage = image.astype(np.float32)\n",
    "\t\tlabel = self.y[idx]\n",
    "\t\treturn image, label"
   ]
  },
  {
   "cell_type": "code",
   "execution_count": 6,
   "metadata": {},
   "outputs": [],
   "source": [
    "def stratified_split(dataset, labels):\n",
    "    x_train, x_val, y_train, y_val = train_test_split(dataset['file_name'].to_numpy(),\n",
    "                                                  labels,\n",
    "                                                  test_size=0.25,\n",
    "                                                  stratify=dataset['label'],\n",
    "                                                  random_state=SEED)\n",
    "\n",
    "    trainSet = CustomDataset(x_train, y_train, NORMALIZED_DATA)\n",
    "    valSet = CustomDataset(x_val, y_val, NORMALIZED_DATA)\n",
    "    return trainSet, valSet"
   ]
  },
  {
   "cell_type": "code",
   "execution_count": 7,
   "outputs": [],
   "source": [
    "def print_performance_metrics(currentEpoch, avgTrainLoss, trainCorrect, avgValLoss, valCorrect, trainf1, valf1):\n",
    "    print()\n",
    "    print(f\"[INFO] EPOCH: {currentEpoch + 1}/{EPOCHS}\")\n",
    "    print(f\"Train loss: {avgTrainLoss :.6f}, Train accuracy: {trainCorrect :.4f}\")\n",
    "    print(f\"Val loss: \t{avgValLoss :.6f}, Val accuracy:   {valCorrect :.4f}\")\n",
    "    print(f\"Train F1: \t{trainf1 :.6f}\")\n",
    "    print(f\"Val F1: \t{valf1 :.6f}\")\n",
    "    print(f\"---------------------------------------------------- \\n\")"
   ],
   "metadata": {
    "collapsed": false
   }
  },
  {
   "cell_type": "code",
   "execution_count": 8,
   "metadata": {},
   "outputs": [],
   "source": [
    "train, val = stratified_split(encoded_data, y_train)\n",
    "trainDataLoader = DataLoader(train, batch_size=BATCH_SIZE)\n",
    "valDataLoader = DataLoader(val, batch_size=BATCH_SIZE)\n",
    "\n",
    "trainSteps = len(trainDataLoader.dataset) // BATCH_SIZE\n",
    "valSteps = len(valDataLoader.dataset) // BATCH_SIZE"
   ]
  },
  {
   "cell_type": "code",
   "execution_count": 9,
   "metadata": {},
   "outputs": [],
   "source": [
    "from torchvision import models\n",
    "model = models.efficientnet_b0(pretrained=True)"
   ]
  },
  {
   "cell_type": "code",
   "execution_count": 10,
   "metadata": {},
   "outputs": [],
   "source": [
    "for param in model.parameters():\n",
    "    param.requires_grad = False"
   ]
  },
  {
   "cell_type": "code",
   "execution_count": 11,
   "metadata": {},
   "outputs": [],
   "source": [
    "import torch.nn as nn\n",
    "# Add on classifier\n",
    "model.classifier = nn.Sequential(\n",
    "                      nn.Linear(1280, 256), \n",
    "                      nn.ReLU(), \n",
    "                      nn.Dropout(0.5),\n",
    "                      nn.Linear(256, 18),                   \n",
    "                      nn.LogSoftmax(dim=1))"
   ]
  },
  {
   "cell_type": "code",
   "execution_count": 12,
   "metadata": {},
   "outputs": [],
   "source": [
    "model = model.to('cuda')"
   ]
  },
  {
   "cell_type": "code",
   "execution_count": 13,
   "outputs": [],
   "source": [
    "torch.manual_seed(SEED)\n",
    "class_acc = []\n",
    "epochs_no_improve = 0\n",
    "metrics = {\n",
    "\t\"train_loss\": [],\n",
    "\t\"train_acc\": [],\n",
    "\t\"val_loss\": [],\n",
    "\t\"val_acc\": [],\n",
    "\t\"trainf1\": [],\n",
    "    \"valf1\": []\n",
    "}"
   ],
   "metadata": {
    "collapsed": false
   }
  },
  {
   "cell_type": "code",
   "execution_count": 14,
   "metadata": {},
   "outputs": [],
   "source": [
    "from torch import optim\n",
    "# Loss and optimizer\n",
    "criterion = nn.CrossEntropyLoss()\n",
    "optimizer = optim.Adam(model.parameters())"
   ]
  },
  {
   "cell_type": "code",
   "execution_count": 15,
   "metadata": {},
   "outputs": [
    {
     "name": "stdout",
     "output_type": "stream",
     "text": [
      "[INFO] training the network...\n",
      "[INFO] starting training for epoch: 1 at 21:17:54\n"
     ]
    },
    {
     "name": "stderr",
     "output_type": "stream",
     "text": [
      "Training progress: 100%|██████████| 142/142 [04:11<00:00,  1.77s/it]\n"
     ]
    },
    {
     "name": "stdout",
     "output_type": "stream",
     "text": [
      "[INFO] starting evaluation for epoch: 1 at 21:22:05\n"
     ]
    },
    {
     "name": "stderr",
     "output_type": "stream",
     "text": [
      "Validation progress: 100%|██████████| 48/48 [00:46<00:00,  1.03it/s]\n"
     ]
    },
    {
     "name": "stdout",
     "output_type": "stream",
     "text": [
      "\n",
      "[INFO] EPOCH: 1/20\n",
      "Train loss: 2.324524, Train accuracy: 0.5980\n",
      "Val loss: \t1.959274, Val accuracy:   0.6086\n",
      "Train F1: \t0.157386\n",
      "Val F1: \t0.267922\n",
      "---------------------------------------------------- \n",
      "\n",
      "[INFO] starting training for epoch: 2 at 21:22:51\n"
     ]
    },
    {
     "name": "stderr",
     "output_type": "stream",
     "text": [
      "Training progress: 100%|██████████| 142/142 [03:56<00:00,  1.66s/it]\n"
     ]
    },
    {
     "name": "stdout",
     "output_type": "stream",
     "text": [
      "[INFO] starting evaluation for epoch: 2 at 21:26:48\n"
     ]
    },
    {
     "name": "stderr",
     "output_type": "stream",
     "text": [
      "Validation progress: 100%|██████████| 48/48 [00:36<00:00,  1.33it/s]\n"
     ]
    },
    {
     "name": "stdout",
     "output_type": "stream",
     "text": [
      "\n",
      "[INFO] EPOCH: 2/20\n",
      "Train loss: 1.862351, Train accuracy: 0.7002\n",
      "Val loss: \t1.748879, Val accuracy:   0.6464\n",
      "Train F1: \t0.313153\n",
      "Val F1: \t0.370077\n",
      "---------------------------------------------------- \n",
      "\n",
      "[INFO] starting training for epoch: 3 at 21:27:24\n"
     ]
    },
    {
     "name": "stderr",
     "output_type": "stream",
     "text": [
      "Training progress: 100%|██████████| 142/142 [03:55<00:00,  1.66s/it]\n"
     ]
    },
    {
     "name": "stdout",
     "output_type": "stream",
     "text": [
      "[INFO] starting evaluation for epoch: 3 at 21:31:19\n"
     ]
    },
    {
     "name": "stderr",
     "output_type": "stream",
     "text": [
      "Validation progress: 100%|██████████| 48/48 [00:35<00:00,  1.34it/s]\n"
     ]
    },
    {
     "name": "stdout",
     "output_type": "stream",
     "text": [
      "\n",
      "[INFO] EPOCH: 3/20\n",
      "Train loss: 1.637691, Train accuracy: 0.7228\n",
      "Val loss: \t1.655688, Val accuracy:   0.6540\n",
      "Train F1: \t0.407893\n",
      "Val F1: \t0.412474\n",
      "---------------------------------------------------- \n",
      "\n",
      "[INFO] starting training for epoch: 4 at 21:31:55\n"
     ]
    },
    {
     "name": "stderr",
     "output_type": "stream",
     "text": [
      "Training progress: 100%|██████████| 142/142 [04:01<00:00,  1.70s/it]\n"
     ]
    },
    {
     "name": "stdout",
     "output_type": "stream",
     "text": [
      "[INFO] starting evaluation for epoch: 4 at 21:35:56\n"
     ]
    },
    {
     "name": "stderr",
     "output_type": "stream",
     "text": [
      "Validation progress: 100%|██████████| 48/48 [00:35<00:00,  1.36it/s]\n"
     ]
    },
    {
     "name": "stdout",
     "output_type": "stream",
     "text": [
      "\n",
      "[INFO] EPOCH: 4/20\n",
      "Train loss: 1.496362, Train accuracy: 0.7118\n",
      "Val loss: \t1.605677, Val accuracy:   0.6570\n",
      "Train F1: \t0.464993\n",
      "Val F1: \t0.433357\n",
      "---------------------------------------------------- \n",
      "\n",
      "[INFO] starting training for epoch: 5 at 21:36:32\n"
     ]
    },
    {
     "name": "stderr",
     "output_type": "stream",
     "text": [
      "Training progress: 100%|██████████| 142/142 [03:57<00:00,  1.67s/it]\n"
     ]
    },
    {
     "name": "stdout",
     "output_type": "stream",
     "text": [
      "[INFO] starting evaluation for epoch: 5 at 21:40:29\n"
     ]
    },
    {
     "name": "stderr",
     "output_type": "stream",
     "text": [
      "Validation progress: 100%|██████████| 48/48 [00:34<00:00,  1.37it/s]\n"
     ]
    },
    {
     "name": "stdout",
     "output_type": "stream",
     "text": [
      "\n",
      "[INFO] EPOCH: 5/20\n",
      "Train loss: 1.374349, Train accuracy: 0.7305\n",
      "Val loss: \t1.563392, Val accuracy:   0.6848\n",
      "Train F1: \t0.505067\n",
      "Val F1: \t0.447022\n",
      "---------------------------------------------------- \n",
      "\n",
      "[INFO] starting training for epoch: 6 at 21:41:04\n"
     ]
    },
    {
     "name": "stderr",
     "output_type": "stream",
     "text": [
      "Training progress: 100%|██████████| 142/142 [03:52<00:00,  1.64s/it]\n"
     ]
    },
    {
     "name": "stdout",
     "output_type": "stream",
     "text": [
      "[INFO] starting evaluation for epoch: 6 at 21:44:57\n"
     ]
    },
    {
     "name": "stderr",
     "output_type": "stream",
     "text": [
      "Validation progress: 100%|██████████| 48/48 [00:36<00:00,  1.32it/s]\n"
     ]
    },
    {
     "name": "stdout",
     "output_type": "stream",
     "text": [
      "\n",
      "[INFO] EPOCH: 6/20\n",
      "Train loss: 1.265592, Train accuracy: 0.7201\n",
      "Val loss: \t1.544270, Val accuracy:   0.6785\n",
      "Train F1: \t0.542096\n",
      "Val F1: \t0.457335\n",
      "---------------------------------------------------- \n",
      "\n",
      "[INFO] starting training for epoch: 7 at 21:45:33\n"
     ]
    },
    {
     "name": "stderr",
     "output_type": "stream",
     "text": [
      "Training progress: 100%|██████████| 142/142 [03:52<00:00,  1.64s/it]\n"
     ]
    },
    {
     "name": "stdout",
     "output_type": "stream",
     "text": [
      "[INFO] starting evaluation for epoch: 7 at 21:49:26\n"
     ]
    },
    {
     "name": "stderr",
     "output_type": "stream",
     "text": [
      "Validation progress: 100%|██████████| 48/48 [00:36<00:00,  1.32it/s]\n"
     ]
    },
    {
     "name": "stdout",
     "output_type": "stream",
     "text": [
      "\n",
      "[INFO] EPOCH: 7/20\n",
      "Train loss: 1.176982, Train accuracy: 0.7219\n",
      "Val loss: \t1.525777, Val accuracy:   0.6874\n",
      "Train F1: \t0.570508\n",
      "Val F1: \t0.464752\n",
      "---------------------------------------------------- \n",
      "\n",
      "[INFO] starting training for epoch: 8 at 21:50:03\n"
     ]
    },
    {
     "name": "stderr",
     "output_type": "stream",
     "text": [
      "Training progress: 100%|██████████| 142/142 [04:29<00:00,  1.90s/it]\n"
     ]
    },
    {
     "name": "stdout",
     "output_type": "stream",
     "text": [
      "[INFO] starting evaluation for epoch: 8 at 21:54:32\n"
     ]
    },
    {
     "name": "stderr",
     "output_type": "stream",
     "text": [
      "Validation progress: 100%|██████████| 48/48 [00:45<00:00,  1.07it/s]\n"
     ]
    },
    {
     "name": "stdout",
     "output_type": "stream",
     "text": [
      "\n",
      "[INFO] EPOCH: 8/20\n",
      "Train loss: 1.112559, Train accuracy: 0.7289\n",
      "Val loss: \t1.530666, Val accuracy:   0.6599\n",
      "Train F1: \t0.599042\n",
      "Val F1: \t0.456358\n",
      "---------------------------------------------------- \n",
      "\n",
      "[INFO] starting training for epoch: 9 at 21:55:18\n"
     ]
    },
    {
     "name": "stderr",
     "output_type": "stream",
     "text": [
      "Training progress: 100%|██████████| 142/142 [04:18<00:00,  1.82s/it]\n"
     ]
    },
    {
     "name": "stdout",
     "output_type": "stream",
     "text": [
      "[INFO] starting evaluation for epoch: 9 at 21:59:36\n"
     ]
    },
    {
     "name": "stderr",
     "output_type": "stream",
     "text": [
      "Validation progress: 100%|██████████| 48/48 [00:37<00:00,  1.27it/s]\n"
     ]
    },
    {
     "name": "stdout",
     "output_type": "stream",
     "text": [
      "\n",
      "[INFO] EPOCH: 9/20\n",
      "Train loss: 1.036940, Train accuracy: 0.7249\n",
      "Val loss: \t1.522409, Val accuracy:   0.7493\n",
      "Train F1: \t0.628609\n",
      "Val F1: \t0.467093\n",
      "---------------------------------------------------- \n",
      "\n",
      "[INFO] starting training for epoch: 10 at 22:00:14\n"
     ]
    },
    {
     "name": "stderr",
     "output_type": "stream",
     "text": [
      "Training progress: 100%|██████████| 142/142 [04:14<00:00,  1.79s/it]\n"
     ]
    },
    {
     "name": "stdout",
     "output_type": "stream",
     "text": [
      "[INFO] starting evaluation for epoch: 10 at 22:04:29\n"
     ]
    },
    {
     "name": "stderr",
     "output_type": "stream",
     "text": [
      "Validation progress: 100%|██████████| 48/48 [00:36<00:00,  1.30it/s]\n"
     ]
    },
    {
     "name": "stdout",
     "output_type": "stream",
     "text": [
      "\n",
      "[INFO] EPOCH: 10/20\n",
      "Train loss: 0.971796, Train accuracy: 0.7220\n",
      "Val loss: \t1.526019, Val accuracy:   0.7252\n",
      "Train F1: \t0.652473\n",
      "Val F1: \t0.462174\n",
      "---------------------------------------------------- \n",
      "\n",
      "[INFO] starting training for epoch: 11 at 22:05:06\n"
     ]
    },
    {
     "name": "stderr",
     "output_type": "stream",
     "text": [
      "Training progress: 100%|██████████| 142/142 [03:59<00:00,  1.68s/it]\n"
     ]
    },
    {
     "name": "stdout",
     "output_type": "stream",
     "text": [
      "[INFO] starting evaluation for epoch: 11 at 22:09:05\n"
     ]
    },
    {
     "name": "stderr",
     "output_type": "stream",
     "text": [
      "Validation progress: 100%|██████████| 48/48 [00:36<00:00,  1.31it/s]\n"
     ]
    },
    {
     "name": "stdout",
     "output_type": "stream",
     "text": [
      "\n",
      "[INFO] EPOCH: 11/20\n",
      "Train loss: 0.919164, Train accuracy: 0.7263\n",
      "Val loss: \t1.532829, Val accuracy:   0.7136\n",
      "Train F1: \t0.671594\n",
      "Val F1: \t0.461218\n",
      "---------------------------------------------------- \n",
      "\n",
      "[INFO] starting training for epoch: 12 at 22:09:42\n"
     ]
    },
    {
     "name": "stderr",
     "output_type": "stream",
     "text": [
      "Training progress: 100%|██████████| 142/142 [04:00<00:00,  1.70s/it]\n"
     ]
    },
    {
     "name": "stdout",
     "output_type": "stream",
     "text": [
      "[INFO] starting evaluation for epoch: 12 at 22:13:42\n"
     ]
    },
    {
     "name": "stderr",
     "output_type": "stream",
     "text": [
      "Validation progress: 100%|██████████| 48/48 [00:38<00:00,  1.25it/s]\n"
     ]
    },
    {
     "name": "stdout",
     "output_type": "stream",
     "text": [
      "\n",
      "[INFO] EPOCH: 12/20\n",
      "Train loss: 0.863173, Train accuracy: 0.7158\n",
      "Val loss: \t1.529487, Val accuracy:   0.7023\n",
      "Train F1: \t0.699650\n",
      "Val F1: \t0.473629\n",
      "---------------------------------------------------- \n",
      "\n",
      "[INFO] starting training for epoch: 13 at 22:14:21\n"
     ]
    },
    {
     "name": "stderr",
     "output_type": "stream",
     "text": [
      "Training progress: 100%|██████████| 142/142 [04:05<00:00,  1.73s/it]\n"
     ]
    },
    {
     "name": "stdout",
     "output_type": "stream",
     "text": [
      "[INFO] starting evaluation for epoch: 13 at 22:18:26\n"
     ]
    },
    {
     "name": "stderr",
     "output_type": "stream",
     "text": [
      "Validation progress: 100%|██████████| 48/48 [00:37<00:00,  1.29it/s]\n"
     ]
    },
    {
     "name": "stdout",
     "output_type": "stream",
     "text": [
      "\n",
      "[INFO] EPOCH: 13/20\n",
      "Train loss: 0.828529, Train accuracy: 0.7258\n",
      "Val loss: \t1.554563, Val accuracy:   0.7060\n",
      "Train F1: \t0.714926\n",
      "Val F1: \t0.469102\n",
      "---------------------------------------------------- \n",
      "\n",
      "[INFO] starting training for epoch: 14 at 22:19:03\n"
     ]
    },
    {
     "name": "stderr",
     "output_type": "stream",
     "text": [
      "Training progress: 100%|██████████| 142/142 [04:09<00:00,  1.76s/it]\n"
     ]
    },
    {
     "name": "stdout",
     "output_type": "stream",
     "text": [
      "[INFO] starting evaluation for epoch: 14 at 22:23:13\n"
     ]
    },
    {
     "name": "stderr",
     "output_type": "stream",
     "text": [
      "Validation progress: 100%|██████████| 48/48 [00:38<00:00,  1.24it/s]\n"
     ]
    },
    {
     "name": "stdout",
     "output_type": "stream",
     "text": [
      "\n",
      "[INFO] EPOCH: 14/20\n",
      "Train loss: 0.771479, Train accuracy: 0.7123\n",
      "Val loss: \t1.567172, Val accuracy:   0.6983\n",
      "Train F1: \t0.735512\n",
      "Val F1: \t0.460666\n",
      "---------------------------------------------------- \n",
      "\n",
      "[INFO] starting training for epoch: 15 at 22:23:52\n"
     ]
    },
    {
     "name": "stderr",
     "output_type": "stream",
     "text": [
      "Training progress: 100%|██████████| 142/142 [04:04<00:00,  1.72s/it]\n"
     ]
    },
    {
     "name": "stdout",
     "output_type": "stream",
     "text": [
      "[INFO] starting evaluation for epoch: 15 at 22:27:56\n"
     ]
    },
    {
     "name": "stderr",
     "output_type": "stream",
     "text": [
      "Validation progress: 100%|██████████| 48/48 [00:37<00:00,  1.27it/s]\n"
     ]
    },
    {
     "name": "stdout",
     "output_type": "stream",
     "text": [
      "\n",
      "[INFO] EPOCH: 15/20\n",
      "Train loss: 0.735170, Train accuracy: 0.7269\n",
      "Val loss: \t1.575008, Val accuracy:   0.7007\n",
      "Train F1: \t0.757617\n",
      "Val F1: \t0.473351\n",
      "---------------------------------------------------- \n",
      "\n",
      "[INFO] starting training for epoch: 16 at 22:28:34\n"
     ]
    },
    {
     "name": "stderr",
     "output_type": "stream",
     "text": [
      "Training progress: 100%|██████████| 142/142 [04:03<00:00,  1.71s/it]\n"
     ]
    },
    {
     "name": "stdout",
     "output_type": "stream",
     "text": [
      "[INFO] starting evaluation for epoch: 16 at 22:32:38\n"
     ]
    },
    {
     "name": "stderr",
     "output_type": "stream",
     "text": [
      "Validation progress: 100%|██████████| 48/48 [00:37<00:00,  1.28it/s]\n"
     ]
    },
    {
     "name": "stdout",
     "output_type": "stream",
     "text": [
      "\n",
      "[INFO] EPOCH: 16/20\n",
      "Train loss: 0.705785, Train accuracy: 0.7231\n",
      "Val loss: \t1.569285, Val accuracy:   0.7142\n",
      "Train F1: \t0.766572\n",
      "Val F1: \t0.469917\n",
      "---------------------------------------------------- \n",
      "\n",
      "[INFO] starting training for epoch: 17 at 22:33:15\n"
     ]
    },
    {
     "name": "stderr",
     "output_type": "stream",
     "text": [
      "Training progress: 100%|██████████| 142/142 [04:11<00:00,  1.77s/it]\n"
     ]
    },
    {
     "name": "stdout",
     "output_type": "stream",
     "text": [
      "[INFO] starting evaluation for epoch: 17 at 22:37:27\n"
     ]
    },
    {
     "name": "stderr",
     "output_type": "stream",
     "text": [
      "Validation progress: 100%|██████████| 48/48 [00:39<00:00,  1.22it/s]\n"
     ]
    },
    {
     "name": "stdout",
     "output_type": "stream",
     "text": [
      "\n",
      "[INFO] EPOCH: 17/20\n",
      "Train loss: 0.682773, Train accuracy: 0.7256\n",
      "Val loss: \t1.594237, Val accuracy:   0.7487\n",
      "Train F1: \t0.773358\n",
      "Val F1: \t0.470267\n",
      "---------------------------------------------------- \n",
      "\n",
      "[INFO] starting training for epoch: 18 at 22:38:06\n"
     ]
    },
    {
     "name": "stderr",
     "output_type": "stream",
     "text": [
      "Training progress: 100%|██████████| 142/142 [04:06<00:00,  1.74s/it]\n"
     ]
    },
    {
     "name": "stdout",
     "output_type": "stream",
     "text": [
      "[INFO] starting evaluation for epoch: 18 at 22:42:13\n"
     ]
    },
    {
     "name": "stderr",
     "output_type": "stream",
     "text": [
      "Validation progress: 100%|██████████| 48/48 [00:37<00:00,  1.27it/s]\n"
     ]
    },
    {
     "name": "stdout",
     "output_type": "stream",
     "text": [
      "\n",
      "[INFO] EPOCH: 18/20\n",
      "Train loss: 0.657309, Train accuracy: 0.7214\n",
      "Val loss: \t1.596874, Val accuracy:   0.7401\n",
      "Train F1: \t0.780274\n",
      "Val F1: \t0.475642\n",
      "---------------------------------------------------- \n",
      "\n",
      "[INFO] starting training for epoch: 19 at 22:42:51\n"
     ]
    },
    {
     "name": "stderr",
     "output_type": "stream",
     "text": [
      "Training progress: 100%|██████████| 142/142 [04:06<00:00,  1.74s/it]\n"
     ]
    },
    {
     "name": "stdout",
     "output_type": "stream",
     "text": [
      "[INFO] starting evaluation for epoch: 19 at 22:46:57\n"
     ]
    },
    {
     "name": "stderr",
     "output_type": "stream",
     "text": [
      "Validation progress: 100%|██████████| 48/48 [00:48<00:00,  1.01s/it]\n"
     ]
    },
    {
     "name": "stdout",
     "output_type": "stream",
     "text": [
      "\n",
      "[INFO] EPOCH: 19/20\n",
      "Train loss: 0.612802, Train accuracy: 0.7181\n",
      "Val loss: \t1.604424, Val accuracy:   0.7235\n",
      "Train F1: \t0.798217\n",
      "Val F1: \t0.476723\n",
      "---------------------------------------------------- \n",
      "\n",
      "[INFO] starting training for epoch: 20 at 22:47:46\n"
     ]
    },
    {
     "name": "stderr",
     "output_type": "stream",
     "text": [
      "Training progress: 100%|██████████| 142/142 [05:07<00:00,  2.17s/it]\n"
     ]
    },
    {
     "name": "stdout",
     "output_type": "stream",
     "text": [
      "[INFO] starting evaluation for epoch: 20 at 22:52:54\n"
     ]
    },
    {
     "name": "stderr",
     "output_type": "stream",
     "text": [
      "Validation progress: 100%|██████████| 48/48 [00:46<00:00,  1.04it/s]\n"
     ]
    },
    {
     "name": "stdout",
     "output_type": "stream",
     "text": [
      "\n",
      "[INFO] EPOCH: 20/20\n",
      "Train loss: 0.608981, Train accuracy: 0.7237\n",
      "Val loss: \t1.603979, Val accuracy:   0.7331\n",
      "Train F1: \t0.799315\n",
      "Val F1: \t0.476740\n",
      "---------------------------------------------------- \n",
      "\n",
      "[INFO] total time taken to train the model: 95.79min\n"
     ]
    }
   ],
   "source": [
    "# measure how long training is going to take\n",
    "print(\"[INFO] training the network...\")\n",
    "startTime = time.time()\n",
    "\n",
    "for epoch in range(EPOCHS):\n",
    "    print(f\"[INFO] starting training for epoch: {epoch + 1} at {datetime.now().strftime('%H:%M:%S')}\")\n",
    "\n",
    "    train_preds = []\n",
    "    train_target = []\n",
    "\n",
    "    val_preds = []\n",
    "    val_target = []\n",
    "\n",
    "    model.train()\n",
    "\n",
    "    # initialize the total training and validation loss\n",
    "    totalTrainLoss = 0\n",
    "    totalValLoss = 0\n",
    "    # initialize the number of correct predictions in the training\n",
    "    # and validation step\n",
    "    trainCorrect = 0\n",
    "    valCorrect = 0\n",
    "    min_val_loss = 100\n",
    "\n",
    "    for data, targets in tqdm(trainDataLoader, desc=\"Training progress\"):\n",
    "        data = data.transpose(1, 3)\n",
    "        data = data.transpose(2, 3)\n",
    "\n",
    "        optimizer.zero_grad()\n",
    "\n",
    "        data = data.float()\n",
    "        data, targets = (data.to(device), targets.to(device))\n",
    "        # Generate predictions\n",
    "        out = model(data)\n",
    "        # Calculate loss\n",
    "        loss = criterion(out, targets)\n",
    "        # Backpropagation\n",
    "        loss.backward()\n",
    "        # Update model parameters\n",
    "        optimizer.step()\n",
    "        # add the loss to the total training loss so far and\n",
    "        # calculate the number of correct predictions\n",
    "        totalTrainLoss += loss\n",
    "\n",
    "        for item in out:\n",
    "            train_preds.append(np.argmax(item.cpu().detach().numpy()))\n",
    "            trainCorrect += (item.argmax(0) == targets.argmax(0)).type(torch.float).sum().item()\n",
    "\n",
    "        for label in targets:\n",
    "            train_target.append(label.cpu().detach().numpy().argmax(0))\n",
    "\n",
    "    with torch.no_grad():\n",
    "        model.eval()\n",
    "        print(f\"[INFO] starting evaluation for epoch: {epoch + 1} at {datetime.now().strftime('%H:%M:%S')}\")\n",
    "        for data, targets in tqdm(valDataLoader, desc=\"Validation progress\"):\n",
    "            data = data.transpose(1, 3)\n",
    "            data = data.transpose(2, 3)\n",
    "\n",
    "            data = data.float()\n",
    "            data, targets = (data.to(device), targets.to(device))\n",
    "            # Generate predictions\n",
    "            out = model(data)\n",
    "            # Calculate loss\n",
    "            totalValLoss += criterion(out, targets)\n",
    "            for item in out:\n",
    "                val_preds.append(np.argmax(item.cpu().detach().numpy()))\n",
    "                valCorrect += (item.argmax(0) == targets.argmax(0)).type(torch.float).sum().item()\n",
    "\n",
    "            for label in targets:\n",
    "                val_target.append(label.cpu().detach().numpy().argmax(0))\n",
    "\n",
    "        # Average validation loss\n",
    "        avg_val_loss = totalValLoss / valSteps\n",
    "        # If the validation loss is at a minimum\n",
    "        if avg_val_loss < min_val_loss:\n",
    "            # Save the model\n",
    "            torch.save(model, checkpoint_path + MODEL_NAME + \".pt\")\n",
    "            epochs_no_improve = 0\n",
    "            min_val_loss = avg_val_loss\n",
    "\n",
    "        else:\n",
    "            epochs_no_improve += 1\n",
    "            # Check early stopping condition\n",
    "            if epochs_no_improve == n_epochs_stop:\n",
    "                print('Early stopping!')\n",
    "\n",
    "    # calculate the average training and validation loss\n",
    "    avgTrainLoss = totalTrainLoss / trainSteps\n",
    "\n",
    "    # calculate per class accuracy via confusion matrix\n",
    "    matrix = confusion_matrix(val_target, val_preds)\n",
    "    class_acc.append(matrix.diagonal() / matrix.sum(axis=1))\n",
    "\n",
    "    # calculate the training and validation accuracy\n",
    "    trainCorrect = trainCorrect / len(trainDataLoader.dataset)\n",
    "    valCorrect = valCorrect / len(valDataLoader.dataset)\n",
    "\n",
    "    # calculate macro F1 score\n",
    "    trainf1 = f1_score(train_target, train_preds, average='macro')\n",
    "    valf1 = f1_score(val_target, val_preds, average=\"macro\")\n",
    "\n",
    "    # update our training history\n",
    "    metrics[\"train_loss\"].append(avgTrainLoss.cpu().detach().numpy())\n",
    "    metrics[\"train_acc\"].append(trainCorrect)\n",
    "    metrics[\"val_loss\"].append(avg_val_loss.cpu().detach().numpy())\n",
    "    metrics[\"val_acc\"].append(valCorrect)\n",
    "    metrics['trainf1'].append(trainf1)\n",
    "    metrics['valf1'].append(valf1)\n",
    "\n",
    "    # print the model training and validation information\n",
    "    clear_output()\n",
    "    print_performance_metrics(epoch, avgTrainLoss, trainCorrect, avg_val_loss, valCorrect, trainf1, valf1)\n",
    "\n",
    "endTime = time.time()\n",
    "print(f\"[INFO] total time taken to train the model: {(endTime - startTime) / 60 :.2f}min\")"
   ]
  },
  {
   "cell_type": "code",
   "execution_count": 24,
   "outputs": [],
   "source": [
    "metrics = pd.DataFrame.from_dict(metrics)\n",
    "metrics.to_csv(TRAINING_METRICS + MODEL_NAME + \".csv\")"
   ],
   "metadata": {
    "collapsed": false
   }
  },
  {
   "cell_type": "code",
   "execution_count": 19,
   "outputs": [
    {
     "data": {
      "text/plain": "<matplotlib.legend.Legend at 0x20a81a2d0a0>"
     },
     "execution_count": 19,
     "metadata": {},
     "output_type": "execute_result"
    },
    {
     "data": {
      "text/plain": "<Figure size 2000x1300 with 1 Axes>",
      "image/png": "[encoded data removed]"
     },
     "metadata": {},
     "output_type": "display_data"
    }
   ],
   "source": [
    "# plot the training loss and accuracy\n",
    "plt.style.use(\"ggplot\")\n",
    "plt.rcParams['font.size'] = 20\n",
    "plt.figure(figsize=(20, 13))\n",
    "plt.plot(metrics[\"train_loss\"], label=\"train_loss\")\n",
    "plt.plot(metrics[\"val_loss\"], label=\"val_loss\")\n",
    "plt.plot(metrics[\"train_acc\"], label=\"train_acc\")\n",
    "plt.plot(metrics[\"val_acc\"], label=\"val_acc\")\n",
    "plt.plot(metrics[\"trainf1\"], label=\"trainf1\")\n",
    "plt.plot(metrics[\"valf1\"], label=\"valf1\")\n",
    "plt.title(\"Training Loss, Accuracy and F1 on Dataset\")\n",
    "plt.xlabel(\"Epoch #\")\n",
    "plt.ylabel(\"Loss/Accuracy/F1\")\n",
    "plt.legend(loc=\"lower left\")"
   ],
   "metadata": {
    "collapsed": false
   }
  }
 ],
 "metadata": {
  "kernelspec": {
   "display_name": "Python 3.9.13 ('ki-lab')",
   "language": "python",
   "name": "python3"
  },
  "language_info": {
   "codemirror_mode": {
    "name": "ipython",
    "version": 3
   },
   "file_extension": ".py",
   "mimetype": "text/x-python",
   "name": "python",
   "nbconvert_exporter": "python",
   "pygments_lexer": "ipython3",
   "version": "3.9.13"
  },
  "orig_nbformat": 4,
  "vscode": {
   "interpreter": {
    "hash": "a8264f563574424d24d12a45a7d14379defa3be27ef947163ce9eeda193eace4"
   }
  }
 },
 "nbformat": 4,
 "nbformat_minor": 2
}
