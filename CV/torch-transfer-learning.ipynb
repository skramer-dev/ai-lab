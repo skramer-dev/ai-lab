{
 "cells": [
  {
   "cell_type": "code",
   "execution_count": 1,
   "metadata": {},
   "outputs": [],
   "source": [
    "import pandas as pd\n",
    "import os\n",
    "import numpy as np\n",
    "from IPython.core.display_functions import clear_output\n",
    "from torch.utils.data import Dataset\n",
    "from sklearn.model_selection import train_test_split\n",
    "from tqdm import tqdm\n",
    "import torch\n",
    "from torch.utils.data import DataLoader\n",
    "from datetime import datetime\n",
    "import time\n",
    "from sklearn.metrics import f1_score, confusion_matrix\n",
    "import matplotlib.pyplot as plt\n",
    "from torchvision import models\n",
    "import torch.nn as nn"
   ]
  },
  {
   "cell_type": "code",
   "execution_count": 2,
   "outputs": [
    {
     "name": "stdout",
     "output_type": "stream",
     "text": [
      "cuda\n"
     ]
    }
   ],
   "source": [
    "DATA_PATH = '../../Pokemon-data/'\n",
    "NORMALIZED_DATA = '../../Training-baseline/'\n",
    "SEED = 42\n",
    "BATCH_SIZE = 64\n",
    "EPOCHS = 15\n",
    "MODEL_NAME = str(EPOCHS) + \"half-freeze-customLR\"\n",
    "checkpoint_path = './saved-models/'\n",
    "TRAINING_METRICS = './training-metrics/'\n",
    "n_epochs_stop = 3\n",
    "\n",
    "device = torch.device(\"cuda\" if torch.cuda.is_available() else \"cpu\")\n",
    "print(device)"
   ],
   "metadata": {
    "collapsed": false
   }
  },
  {
   "cell_type": "code",
   "execution_count": 3,
   "outputs": [],
   "source": [
    "class CustomDataset(Dataset):\n",
    "\tdef __init__(self, x, y, img_dir):\n",
    "\t\tself.x = x\n",
    "\t\tself.y = y\n",
    "\t\tself.img_dir = img_dir\n",
    "\t\tself.classes = np.unique(self.y)\n",
    "\n",
    "\n",
    "\tdef __len__(self):\n",
    "\t\treturn len(self.x)\n",
    "\n",
    "\n",
    "\tdef __getitem__(self, idx):\n",
    "\t\timg_path = os.path.join(self.img_dir, self.x[idx])\n",
    "        # use the slice to remove a possible 4th alpha channel\n",
    "\t\timage = np.load(img_path)[:,:,:3]\n",
    "\t\timage = image.astype(np.float32)\n",
    "\t\tlabel = self.y[idx]\n",
    "\t\treturn image, label"
   ],
   "metadata": {
    "collapsed": false
   }
  },
  {
   "cell_type": "code",
   "execution_count": 4,
   "outputs": [],
   "source": [
    "def stratified_split(dataset, labels):\n",
    "    x_train, x_val, y_train, y_val = train_test_split(dataset['file_name'].to_numpy(),\n",
    "                                                  labels,\n",
    "                                                  test_size=0.25,\n",
    "                                                  stratify=dataset['label'],\n",
    "                                                  random_state=SEED)\n",
    "\n",
    "    trainSet = CustomDataset(x_train, y_train, NORMALIZED_DATA)\n",
    "    valSet = CustomDataset(x_val, y_val, NORMALIZED_DATA)\n",
    "    return trainSet, valSet"
   ],
   "metadata": {
    "collapsed": false
   }
  },
  {
   "cell_type": "code",
   "execution_count": 5,
   "outputs": [],
   "source": [
    "def print_performance_metrics(currentEpoch, avgTrainLoss, trainCorrect, avgValLoss, valCorrect, trainf1, valf1):\n",
    "    print(f\"---------------------------------------------------- \")\n",
    "    print(f\"[INFO] EPOCH: {currentEpoch + 1}/{EPOCHS}\")\n",
    "    print(f\"Train loss: {avgTrainLoss :.6f}, Train accuracy: {trainCorrect :.4f}\")\n",
    "    print(f\"Val loss: \t{avgValLoss :.6f}, Val accuracy:   {valCorrect :.4f}\")\n",
    "    print(f\"Train F1: \t{trainf1 :.6f}\")\n",
    "    print(f\"Val F1: \t{valf1 :.6f}\")\n",
    "    print(f\"---------------------------------------------------- \\n\")"
   ],
   "metadata": {
    "collapsed": false
   }
  },
  {
   "cell_type": "code",
   "execution_count": 6,
   "outputs": [],
   "source": [
    "# read data\n",
    "csv_data = pd.read_csv(\"./metadata/training-list.csv\", index_col=0)\n",
    "\n",
    "y_train = np.zeros((len(csv_data[\"y_train_columns\"]),csv_data[\"y_train_columns\"][0]))\n",
    "for i in range(csv_data[\"y_train_columns\"][0]):\n",
    "    y_train[:,i] = csv_data[\"y_train\"+str(i)]\n",
    "\n",
    "encoded_data = csv_data.drop(csv_data.columns[(csv_data.shape[1]-csv_data[\"y_train_columns\"][0]-1):csv_data.shape[1]], axis=1)"
   ],
   "metadata": {
    "collapsed": false
   }
  },
  {
   "cell_type": "code",
   "execution_count": 7,
   "outputs": [],
   "source": [
    "train, val = stratified_split(encoded_data, y_train)\n",
    "trainDataLoader = DataLoader(train, batch_size=BATCH_SIZE)\n",
    "valDataLoader = DataLoader(val, batch_size=BATCH_SIZE)\n",
    "\n",
    "trainSteps = len(trainDataLoader.dataset) // BATCH_SIZE\n",
    "valSteps = len(valDataLoader.dataset) // BATCH_SIZE"
   ],
   "metadata": {
    "collapsed": false
   }
  },
  {
   "cell_type": "code",
   "execution_count": 8,
   "outputs": [],
   "source": [
    "def get_baseline_model():\n",
    "    model = models.efficientnet_b0(pretrained=False)\n",
    "    model.classifier = nn.Sequential(\n",
    "        nn.Linear(1280, 256),\n",
    "        nn.ReLU(),\n",
    "        nn.Dropout(0.5),\n",
    "        nn.Linear(256, 18))\n",
    "    return model.to(device)"
   ],
   "metadata": {
    "collapsed": false
   }
  },
  {
   "cell_type": "code",
   "execution_count": 9,
   "outputs": [],
   "source": [
    "def get_pretrained_frozen_model():\n",
    "    model = models.efficientnet_b0(pretrained=True)\n",
    "    for param in model.parameters():\n",
    "        param.requires_grad = False\n",
    "    model.classifier = nn.Sequential(\n",
    "        nn.Linear(1280, 256),\n",
    "        nn.ReLU(),\n",
    "        nn.Dropout(0.5),\n",
    "        nn.Linear(256, 18))\n",
    "    return model.to(device)"
   ],
   "metadata": {
    "collapsed": false
   }
  },
  {
   "cell_type": "code",
   "execution_count": 10,
   "outputs": [],
   "source": [
    "def get_pretrained_half_frozen_model():\n",
    "    model = models.efficientnet_b0(pretrained=True)\n",
    "\n",
    "    # freeze all BatchNorm layers\n",
    "    for name ,child in (model.named_children()):\n",
    "        if not isinstance(child, nn.BatchNorm2d):\n",
    "            for param in child.parameters():\n",
    "                param.requires_grad = True\n",
    "        else:\n",
    "            for param in child.parameters():\n",
    "                param.requires_grad = False\n",
    "\n",
    "    # freeze first 5 layers\n",
    "    for i in range(5):\n",
    "        for param in model.features[i].parameters():\n",
    "            param.requires_grad = False\n",
    "    model.classifier = nn.Sequential(\n",
    "        nn.Linear(1280, 256),\n",
    "        nn.ReLU(),\n",
    "        nn.Dropout(0.5),\n",
    "        nn.Linear(256, 18))\n",
    "    return model.to(device)"
   ],
   "metadata": {
    "collapsed": false
   }
  },
  {
   "cell_type": "code",
   "execution_count": 11,
   "outputs": [],
   "source": [
    "def get_pretrained_model():\n",
    "    model = models.efficientnet_b0(pretrained=True)\n",
    "\n",
    "    # freeze all BatchNorm layers\n",
    "    for name ,child in (model.named_children()):\n",
    "        if not isinstance(child, nn.BatchNorm2d):\n",
    "            for param in child.parameters():\n",
    "                param.requires_grad = True\n",
    "        else:\n",
    "            for param in child.parameters():\n",
    "                param.requires_grad = False\n",
    "\n",
    "    model.classifier = nn.Sequential(\n",
    "        nn.Linear(1280, 256),\n",
    "        nn.ReLU(),\n",
    "        nn.Dropout(0.5),\n",
    "        nn.Linear(256, 18))\n",
    "    return model.to(device)"
   ],
   "metadata": {
    "collapsed": false
   }
  },
  {
   "cell_type": "code",
   "execution_count": 12,
   "outputs": [],
   "source": [
    "#call model function for specific strategy\n",
    "model = get_pretrained_half_frozen_model()"
   ],
   "metadata": {
    "collapsed": false
   }
  },
  {
   "cell_type": "code",
   "execution_count": 13,
   "outputs": [],
   "source": [
    "torch.manual_seed(SEED)\n",
    "class_acc = []\n",
    "epochs_no_improve = 0\n",
    "metrics = {\n",
    "\t\"train_loss\": [],\n",
    "\t\"train_acc\": [],\n",
    "\t\"val_loss\": [],\n",
    "\t\"val_acc\": [],\n",
    "\t\"trainf1\": [],\n",
    "    \"valf1\": []\n",
    "}"
   ],
   "metadata": {
    "collapsed": false
   }
  },
  {
   "cell_type": "code",
   "execution_count": 14,
   "outputs": [],
   "source": [
    "from torch import optim\n",
    "# Loss and optimizer\n",
    "criterion = nn.CrossEntropyLoss()\n",
    "optimizer = optim.Adam(params=model.parameters(), lr=1e-4)"
   ],
   "metadata": {
    "collapsed": false
   }
  },
  {
   "cell_type": "code",
   "execution_count": null,
   "outputs": [
    {
     "name": "stdout",
     "output_type": "stream",
     "text": [
      "[INFO] training the network...\n",
      "[INFO] starting training for epoch: 1 at 18:19:00\n"
     ]
    },
    {
     "name": "stderr",
     "output_type": "stream",
     "text": [
      "Training progress:   1%|▏         | 2/142 [01:02<1:15:14, 32.25s/it]"
     ]
    }
   ],
   "source": [
    "# measure how long training is going to take\n",
    "print(\"[INFO] training the network...\")\n",
    "startTime = time.time()\n",
    "min_val_loss = 100\n",
    "early_stopping = False\n",
    "\n",
    "for epoch in range(EPOCHS):\n",
    "    print(f\"[INFO] starting training for epoch: {epoch + 1} at {datetime.now().strftime('%H:%M:%S')}\")\n",
    "\n",
    "    train_preds = []\n",
    "    train_target = []\n",
    "\n",
    "    val_preds = []\n",
    "    val_target = []\n",
    "\n",
    "    model.train()\n",
    "\n",
    "    # initialize the total training and validation loss\n",
    "    totalTrainLoss = 0\n",
    "    totalValLoss = 0\n",
    "    # initialize the number of correct predictions in the training\n",
    "    # and validation step\n",
    "    trainCorrect = 0\n",
    "    valCorrect = 0\n",
    "\n",
    "    for data, targets in tqdm(trainDataLoader, desc=\"Training progress\"):\n",
    "        data = data.transpose(1, 3)\n",
    "        data = data.transpose(2, 3)\n",
    "\n",
    "        optimizer.zero_grad()\n",
    "\n",
    "        data = data.float()\n",
    "        data, targets = (data.to(device), targets.to(device))\n",
    "        # Generate predictions\n",
    "        out = model(data)\n",
    "        # Calculate loss\n",
    "        loss = criterion(out, targets)\n",
    "        # Backpropagation\n",
    "        loss.backward()\n",
    "        # Update model parameters\n",
    "        optimizer.step()\n",
    "        # add the loss to the total training loss so far and\n",
    "        # calculate the number of correct predictions\n",
    "        totalTrainLoss += loss\n",
    "\n",
    "        for item in out:\n",
    "            train_preds.append(np.argmax(item.cpu().detach().numpy()))\n",
    "            trainCorrect += (item.argmax(0) == targets.argmax(0)).type(torch.float).sum().item()\n",
    "\n",
    "        for label in targets:\n",
    "            train_target.append(label.cpu().detach().numpy().argmax(0))\n",
    "\n",
    "    with torch.no_grad():\n",
    "        model.eval()\n",
    "        print(f\"[INFO] starting evaluation for epoch: {epoch + 1} at {datetime.now().strftime('%H:%M:%S')}\")\n",
    "        for data, targets in tqdm(valDataLoader, desc=\"Validation progress\"):\n",
    "            data = data.transpose(1, 3)\n",
    "            data = data.transpose(2, 3)\n",
    "\n",
    "            data = data.float()\n",
    "            data, targets = (data.to(device), targets.to(device))\n",
    "            # Generate predictions\n",
    "            out = model(data)\n",
    "            # Calculate loss\n",
    "            totalValLoss += criterion(out, targets)\n",
    "            for item in out:\n",
    "                val_preds.append(np.argmax(item.cpu().detach().numpy()))\n",
    "                valCorrect += (item.argmax(0) == targets.argmax(0)).type(torch.float).sum().item()\n",
    "\n",
    "            for label in targets:\n",
    "                val_target.append(label.cpu().detach().numpy().argmax(0))\n",
    "\n",
    "        # Average validation loss\n",
    "        avg_val_loss = totalValLoss / valSteps\n",
    "        # If the validation loss is at a minimum\n",
    "        if avg_val_loss < min_val_loss:\n",
    "            # Save the model\n",
    "            torch.save(model, checkpoint_path + MODEL_NAME + \".pt\")\n",
    "            epochs_no_improve = 0\n",
    "            min_val_loss = avg_val_loss\n",
    "\n",
    "        else:\n",
    "            epochs_no_improve += 1\n",
    "            # Check early stopping condition\n",
    "            if epochs_no_improve == n_epochs_stop:\n",
    "                early_stopping = True\n",
    "\n",
    "    # calculate the average training and validation loss\n",
    "    avgTrainLoss = totalTrainLoss / trainSteps\n",
    "\n",
    "    # calculate per class accuracy via confusion matrix\n",
    "    matrix = confusion_matrix(val_target, val_preds)\n",
    "    class_acc.append(matrix.diagonal() / matrix.sum(axis=1))\n",
    "\n",
    "    # calculate the training and validation accuracy\n",
    "    trainCorrect = trainCorrect / len(trainDataLoader.dataset)\n",
    "    valCorrect = valCorrect / len(valDataLoader.dataset)\n",
    "\n",
    "    # calculate macro F1 score\n",
    "    trainf1 = f1_score(train_target, train_preds, average='macro')\n",
    "    valf1 = f1_score(val_target, val_preds, average=\"macro\")\n",
    "\n",
    "    # update our training history\n",
    "    metrics[\"train_loss\"].append(avgTrainLoss.cpu().detach().numpy())\n",
    "    metrics[\"train_acc\"].append(trainCorrect)\n",
    "    metrics[\"val_loss\"].append(avg_val_loss.cpu().detach().numpy())\n",
    "    metrics[\"val_acc\"].append(valCorrect)\n",
    "    metrics['trainf1'].append(trainf1)\n",
    "    metrics['valf1'].append(valf1)\n",
    "\n",
    "    # print the model training and validation information\n",
    "    clear_output()\n",
    "    print_performance_metrics(epoch, avgTrainLoss, trainCorrect, avg_val_loss, valCorrect, trainf1, valf1)\n",
    "\n",
    "    # save performance metrics for each epoch during training\n",
    "    metrics_file = pd.DataFrame.from_dict(metrics)\n",
    "    metrics_file.to_csv(TRAINING_METRICS + MODEL_NAME + \".csv\")\n",
    "\n",
    "    if early_stopping:\n",
    "        print(f\"Early stopping after {epoch + 1} Epochs\")\n",
    "        break\n",
    "\n",
    "endTime = time.time()\n",
    "print(f\"[INFO] total time taken to train the model: {(endTime - startTime) / 60 :.2f}min\")"
   ],
   "metadata": {
    "collapsed": false
   }
  },
  {
   "cell_type": "code",
   "execution_count": null,
   "outputs": [],
   "source": [
    "metrics = pd.DataFrame.from_dict(metrics)\n",
    "metrics.to_csv(TRAINING_METRICS + MODEL_NAME + \".csv\")"
   ],
   "metadata": {
    "collapsed": false
   }
  },
  {
   "cell_type": "code",
   "execution_count": null,
   "outputs": [],
   "source": [
    "# plot the training loss and accuracy\n",
    "plt.style.use(\"ggplot\")\n",
    "plt.rcParams['font.size'] = 20\n",
    "plt.figure(figsize=(20, 13))\n",
    "plt.plot(metrics[\"train_loss\"], label=\"train_loss\")\n",
    "plt.plot(metrics[\"val_loss\"], label=\"val_loss\")\n",
    "plt.plot(metrics[\"train_acc\"], label=\"train_acc\")\n",
    "plt.plot(metrics[\"val_acc\"], label=\"val_acc\")\n",
    "plt.plot(metrics[\"trainf1\"], label=\"trainf1\")\n",
    "plt.plot(metrics[\"valf1\"], label=\"valf1\")\n",
    "plt.title(\"Training Loss, Accuracy and F1 on Dataset\")\n",
    "plt.xlabel(\"Epoch #\")\n",
    "plt.ylabel(\"Loss/Accuracy/F1\")\n",
    "plt.legend(loc=\"lower left\")"
   ],
   "metadata": {
    "collapsed": false
   }
  },
  {
   "cell_type": "code",
   "execution_count": null,
   "outputs": [],
   "source": [
    "torch.cuda.empty_cache()"
   ],
   "metadata": {
    "collapsed": false
   }
  }
 ],
 "metadata": {
  "kernelspec": {
   "display_name": "Python 3.9.13 ('ki-lab')",
   "language": "python",
   "name": "python3"
  },
  "language_info": {
   "codemirror_mode": {
    "name": "ipython",
    "version": 3
   },
   "file_extension": ".py",
   "mimetype": "text/x-python",
   "name": "python",
   "nbconvert_exporter": "python",
   "pygments_lexer": "ipython3",
   "version": "3.9.13"
  },
  "orig_nbformat": 4,
  "vscode": {
   "interpreter": {
    "hash": "a8264f563574424d24d12a45a7d14379defa3be27ef947163ce9eeda193eace4"
   }
  }
 },
 "nbformat": 4,
 "nbformat_minor": 2
}
