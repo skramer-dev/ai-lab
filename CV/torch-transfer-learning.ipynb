{
 "cells": [
  {
   "cell_type": "code",
   "execution_count": 17,
   "metadata": {},
   "outputs": [],
   "source": [
    "import pandas as pd\n",
    "import os\n",
    "import numpy as np\n",
    "from torch.utils.data import Dataset\n",
    "from sklearn.model_selection import train_test_split\n",
    "from tqdm import tqdm\n",
    "import torch\n",
    "from torch.utils.data import DataLoader\n",
    "from datetime import datetime\n",
    "import time\n",
    "from sklearn.metrics import f1_score, confusion_matrix\n",
    "import matplotlib.pyplot as plt"
   ]
  },
  {
   "cell_type": "code",
   "execution_count": 2,
   "outputs": [
    {
     "name": "stdout",
     "output_type": "stream",
     "text": [
      "cuda\n"
     ]
    }
   ],
   "source": [
    "DATA_PATH = '../../Pokemon-data/'\n",
    "NORMALIZED_DATA = '../../Training-baseline/'\n",
    "SEED = 42\n",
    "BATCH_SIZE = 64\n",
    "EPOCHS = 20\n",
    "PRETRAINED = True\n",
    "MODEL_NAME = str(EPOCHS) + \"Epochs-freeze\"\n",
    "checkpoint_path = './saved-models/'\n",
    "n_epochs_stop = 5\n",
    "\n",
    "device = torch.device(\"cuda\" if torch.cuda.is_available() else \"cpu\")\n",
    "print(device)"
   ],
   "metadata": {
    "collapsed": false
   }
  },
  {
   "cell_type": "code",
   "execution_count": 3,
   "metadata": {},
   "outputs": [
    {
     "name": "stdout",
     "output_type": "stream",
     "text": [
      "0       9\n",
      "1       9\n",
      "2       9\n",
      "3       6\n",
      "4       6\n",
      "       ..\n",
      "714     7\n",
      "715     4\n",
      "716     1\n",
      "718    15\n",
      "720     6\n",
      "Name: code, Length: 703, dtype: int8\n"
     ]
    }
   ],
   "source": [
    "metadata = pd.read_csv('metadata/pokemon.csv')\n",
    "\n",
    "pokemon_names = [x for x in os.listdir(NORMALIZED_DATA)]\n",
    "\n",
    "filtered_metadata = metadata[metadata.name.isin(pokemon_names)]\n",
    "\n",
    "filtered_list = filtered_metadata.loc[:,'name'].tolist()\n",
    "\n",
    "filtered_metadata = filtered_metadata.loc[:,['name', 'type1']]\n",
    "\n",
    "#fire_data = filtered_metadata[filtered_metadata[\"type1\"] == 'fire']\n",
    "#grass_data = filtered_metadata[filtered_metadata[\"type1\"] == 'grass']\n",
    "#filtered_metadata = pd.concat([fire_data, grass_data], ignore_index=True)\n",
    "\n",
    "filtered_metadata.type1 = pd.Categorical(filtered_metadata.type1)\n",
    "filtered_metadata['code'] = filtered_metadata.type1.cat.codes\n",
    "print(filtered_metadata['code'])\n",
    "\n",
    "def compile_training_data_to_list():\n",
    "    all_data = []\n",
    "    for pokemon in os.listdir(NORMALIZED_DATA):\n",
    "        all_data += [pokemon + '/' + x for x in os.listdir(NORMALIZED_DATA + pokemon)]\n",
    "\n",
    "    results = create_annotated_dataframe(all_data)\n",
    "    return results\n",
    "\n",
    "def create_annotated_dataframe(all_data):\n",
    "    base_data = {'file_name': [], 'name': [], 'label': []}\n",
    "    for item in all_data:\n",
    "        if len(filtered_metadata[filtered_metadata['name'].str.contains(item.split('/')[0])]):\n",
    "            base_data['file_name'].append(item)\n",
    "            base_data['name'].append(item.split('/')[0])\n",
    "            # yes, this is a bit ugly, but we have to match with the metadata\n",
    "            base_data['label'].append(\n",
    "                filtered_metadata[\n",
    "                    filtered_metadata['name']==(item.split('/')[0])\n",
    "                ].loc[:,'code'].tolist()[0])\n",
    "\n",
    "    results, y_train = create_encoded_dataframe(base_data)\n",
    "    return results, y_train\n",
    "\n",
    "def create_encoded_dataframe(base_data):\n",
    "    results = pd.DataFrame(base_data, columns = ['file_name', 'name', 'label'])\n",
    "    labels = np.unique(results[\"label\"])\n",
    "    max_value = np.max(labels) + 1\n",
    "    Y_train = np.eye(max_value)[results[\"label\"]]\n",
    "    return results, Y_train"
   ]
  },
  {
   "cell_type": "code",
   "execution_count": 4,
   "metadata": {},
   "outputs": [],
   "source": [
    "encoded_data, y_train = compile_training_data_to_list()"
   ]
  },
  {
   "cell_type": "code",
   "execution_count": 5,
   "metadata": {},
   "outputs": [],
   "source": [
    "class CustomDataset(Dataset):\n",
    "\tdef __init__(self, x, y, img_dir):\n",
    "\t\tself.x = x\n",
    "\t\tself.y = y\n",
    "\t\tself.img_dir = img_dir\n",
    "\t\tself.classes = np.unique(self.y)\n",
    "\n",
    "\n",
    "\tdef __len__(self):\n",
    "\t\treturn len(self.x)\n",
    "\n",
    "\n",
    "\tdef __getitem__(self, idx):\n",
    "\t\timg_path = os.path.join(self.img_dir, self.x[idx])\n",
    "        # use the slice to remove a possible 4th alpha channel\n",
    "\t\t#image = iio.v2.imread(img_path)[:,:,:3]\n",
    "\t\timage = np.load(img_path)[:,:,:3]\n",
    "\t\timage = image.astype(np.float32)\n",
    "\t\tlabel = self.y[idx]\n",
    "\t\treturn image, label"
   ]
  },
  {
   "cell_type": "code",
   "execution_count": 6,
   "metadata": {},
   "outputs": [],
   "source": [
    "def stratified_split(dataset, labels):\n",
    "    x_train, x_val, y_train, y_val = train_test_split(dataset['file_name'].to_numpy(),\n",
    "                                                  labels,\n",
    "                                                  test_size=0.25,\n",
    "                                                  stratify=dataset['label'],\n",
    "                                                  random_state=SEED)\n",
    "\n",
    "    trainSet = CustomDataset(x_train, y_train, NORMALIZED_DATA)\n",
    "    valSet = CustomDataset(x_val, y_val, NORMALIZED_DATA)\n",
    "    return trainSet, valSet"
   ]
  },
  {
   "cell_type": "code",
   "execution_count": 7,
   "outputs": [],
   "source": [
    "def print_performance_metrics(currentEpoch, avgTrainLoss, trainCorrect, avgValLoss, valCorrect, trainf1, valf1):\n",
    "    print()\n",
    "    print(f\"[INFO] EPOCH: {currentEpoch + 1}/{EPOCHS}\")\n",
    "    print(f\"Train loss: {avgTrainLoss :.6f}, Train accuracy: {trainCorrect :.4f}\")\n",
    "    print(f\"Val loss: \t{avgValLoss :.6f}, Val accuracy:   {valCorrect :.4f}\")\n",
    "    print(f\"Train F1: \t{trainf1 :.6f}\")\n",
    "    print(f\"Val F1: \t{valf1 :.6f}\")\n",
    "    print(f\"---------------------------------------------------- \\n\")"
   ],
   "metadata": {
    "collapsed": false
   }
  },
  {
   "cell_type": "code",
   "execution_count": 8,
   "metadata": {},
   "outputs": [],
   "source": [
    "train, val = stratified_split(encoded_data, y_train)\n",
    "trainDataLoader = DataLoader(train, batch_size=BATCH_SIZE)\n",
    "valDataLoader = DataLoader(val, batch_size=BATCH_SIZE)\n",
    "\n",
    "trainSteps = len(trainDataLoader.dataset) // BATCH_SIZE\n",
    "valSteps = len(valDataLoader.dataset) // BATCH_SIZE"
   ]
  },
  {
   "cell_type": "code",
   "execution_count": 9,
   "metadata": {},
   "outputs": [],
   "source": [
    "from torchvision import models\n",
    "model = models.efficientnet_b0(pretrained=True)"
   ]
  },
  {
   "cell_type": "code",
   "execution_count": 10,
   "metadata": {},
   "outputs": [],
   "source": [
    "for param in model.parameters():\n",
    "    param.requires_grad = False"
   ]
  },
  {
   "cell_type": "code",
   "execution_count": 11,
   "metadata": {},
   "outputs": [],
   "source": [
    "import torch.nn as nn\n",
    "# Add on classifier\n",
    "model.classifier = nn.Sequential(\n",
    "                      nn.Linear(1280, 256), \n",
    "                      nn.ReLU(), \n",
    "                      nn.Dropout(0.5),\n",
    "                      nn.Linear(256, 18),                   \n",
    "                      nn.LogSoftmax(dim=1))"
   ]
  },
  {
   "cell_type": "code",
   "execution_count": 12,
   "metadata": {},
   "outputs": [],
   "source": [
    "model = model.to('cuda')"
   ]
  },
  {
   "cell_type": "code",
   "execution_count": 13,
   "outputs": [],
   "source": [
    "torch.manual_seed(SEED)\n",
    "class_acc = []\n",
    "epochs_no_improve = 0\n",
    "metrics = {\n",
    "\t\"train_loss\": [],\n",
    "\t\"train_acc\": [],\n",
    "\t\"val_loss\": [],\n",
    "\t\"val_acc\": [],\n",
    "\t\"trainf1\": [],\n",
    "    \"valf1\": []\n",
    "}"
   ],
   "metadata": {
    "collapsed": false
   }
  },
  {
   "cell_type": "code",
   "execution_count": 14,
   "metadata": {},
   "outputs": [],
   "source": [
    "from torch import optim\n",
    "# Loss and optimizer\n",
    "criterion = nn.CrossEntropyLoss()\n",
    "optimizer = optim.Adam(model.parameters())"
   ]
  },
  {
   "cell_type": "code",
   "execution_count": 15,
   "metadata": {},
   "outputs": [
    {
     "name": "stdout",
     "output_type": "stream",
     "text": [
      "[INFO] training the network...\n",
      "[INFO] starting training for epoch: 1 at 14:46:59\n"
     ]
    },
    {
     "name": "stderr",
     "output_type": "stream",
     "text": [
      "Training progress: 100%|██████████| 142/142 [03:40<00:00,  1.56s/it]\n"
     ]
    },
    {
     "name": "stdout",
     "output_type": "stream",
     "text": [
      "[INFO] starting evaluation for epoch: 1 at 14:50:40\n"
     ]
    },
    {
     "name": "stderr",
     "output_type": "stream",
     "text": [
      "Validation progress: 100%|██████████| 48/48 [00:32<00:00,  1.49it/s]\n"
     ]
    },
    {
     "name": "stdout",
     "output_type": "stream",
     "text": [
      "\n",
      "[INFO] EPOCH: 1/20\n",
      "Train loss: 2.635387, Train accuracy: 0.6144\n",
      "Val loss: \t2.414669, Val accuracy:   0.5437\n",
      "Train F1: \t0.132817\n",
      "Val F1: \t0.217097\n",
      "---------------------------------------------------- \n",
      "\n",
      "[INFO] starting training for epoch: 2 at 14:51:12\n"
     ]
    },
    {
     "name": "stderr",
     "output_type": "stream",
     "text": [
      "Training progress: 100%|██████████| 142/142 [03:34<00:00,  1.51s/it]\n"
     ]
    },
    {
     "name": "stdout",
     "output_type": "stream",
     "text": [
      "[INFO] starting evaluation for epoch: 2 at 14:54:47\n"
     ]
    },
    {
     "name": "stderr",
     "output_type": "stream",
     "text": [
      "Validation progress: 100%|██████████| 48/48 [00:32<00:00,  1.49it/s]\n"
     ]
    },
    {
     "name": "stdout",
     "output_type": "stream",
     "text": [
      "\n",
      "[INFO] EPOCH: 2/20\n",
      "Train loss: 2.846840, Train accuracy: 0.6080\n",
      "Val loss: \t2.842153, Val accuracy:   0.5344\n",
      "Train F1: \t0.168498\n",
      "Val F1: \t0.195139\n",
      "---------------------------------------------------- \n",
      "\n",
      "[INFO] starting training for epoch: 3 at 14:55:19\n"
     ]
    },
    {
     "name": "stderr",
     "output_type": "stream",
     "text": [
      "Training progress: 100%|██████████| 142/142 [03:35<00:00,  1.52s/it]\n"
     ]
    },
    {
     "name": "stdout",
     "output_type": "stream",
     "text": [
      "[INFO] starting evaluation for epoch: 3 at 14:58:55\n"
     ]
    },
    {
     "name": "stderr",
     "output_type": "stream",
     "text": [
      "Validation progress: 100%|██████████| 48/48 [00:31<00:00,  1.50it/s]\n"
     ]
    },
    {
     "name": "stdout",
     "output_type": "stream",
     "text": [
      "\n",
      "[INFO] EPOCH: 3/20\n",
      "Train loss: 3.275739, Train accuracy: 0.4608\n",
      "Val loss: \t3.469286, Val accuracy:   0.5815\n",
      "Train F1: \t0.167921\n",
      "Val F1: \t0.184214\n",
      "---------------------------------------------------- \n",
      "\n",
      "[INFO] starting training for epoch: 4 at 14:59:27\n"
     ]
    },
    {
     "name": "stderr",
     "output_type": "stream",
     "text": [
      "Training progress: 100%|██████████| 142/142 [03:31<00:00,  1.49s/it]\n"
     ]
    },
    {
     "name": "stdout",
     "output_type": "stream",
     "text": [
      "[INFO] starting evaluation for epoch: 4 at 15:02:58\n"
     ]
    },
    {
     "name": "stderr",
     "output_type": "stream",
     "text": [
      "Validation progress: 100%|██████████| 48/48 [00:31<00:00,  1.50it/s]\n"
     ]
    },
    {
     "name": "stdout",
     "output_type": "stream",
     "text": [
      "\n",
      "[INFO] EPOCH: 4/20\n",
      "Train loss: 3.634405, Train accuracy: 0.4413\n",
      "Val loss: \t3.581786, Val accuracy:   0.4901\n",
      "Train F1: \t0.162326\n",
      "Val F1: \t0.171827\n",
      "---------------------------------------------------- \n",
      "\n",
      "[INFO] starting training for epoch: 5 at 15:03:30\n"
     ]
    },
    {
     "name": "stderr",
     "output_type": "stream",
     "text": [
      "Training progress: 100%|██████████| 142/142 [03:34<00:00,  1.51s/it]\n"
     ]
    },
    {
     "name": "stdout",
     "output_type": "stream",
     "text": [
      "[INFO] starting evaluation for epoch: 5 at 15:07:05\n"
     ]
    },
    {
     "name": "stderr",
     "output_type": "stream",
     "text": [
      "Validation progress: 100%|██████████| 48/48 [00:33<00:00,  1.43it/s]\n"
     ]
    },
    {
     "name": "stdout",
     "output_type": "stream",
     "text": [
      "\n",
      "[INFO] EPOCH: 5/20\n",
      "Train loss: 3.578528, Train accuracy: 0.4369\n",
      "Val loss: \t4.491843, Val accuracy:   0.4483\n",
      "Train F1: \t0.142214\n",
      "Val F1: \t0.156847\n",
      "---------------------------------------------------- \n",
      "\n",
      "[INFO] starting training for epoch: 6 at 15:07:38\n"
     ]
    },
    {
     "name": "stderr",
     "output_type": "stream",
     "text": [
      "Training progress: 100%|██████████| 142/142 [03:29<00:00,  1.47s/it]\n"
     ]
    },
    {
     "name": "stdout",
     "output_type": "stream",
     "text": [
      "[INFO] starting evaluation for epoch: 6 at 15:11:08\n"
     ]
    },
    {
     "name": "stderr",
     "output_type": "stream",
     "text": [
      "Validation progress: 100%|██████████| 48/48 [00:32<00:00,  1.49it/s]\n"
     ]
    },
    {
     "name": "stdout",
     "output_type": "stream",
     "text": [
      "\n",
      "[INFO] EPOCH: 6/20\n",
      "Train loss: 4.380521, Train accuracy: 0.3782\n",
      "Val loss: \t4.406511, Val accuracy:   0.4060\n",
      "Train F1: \t0.137590\n",
      "Val F1: \t0.153756\n",
      "---------------------------------------------------- \n",
      "\n",
      "[INFO] starting training for epoch: 7 at 15:11:40\n"
     ]
    },
    {
     "name": "stderr",
     "output_type": "stream",
     "text": [
      "Training progress: 100%|██████████| 142/142 [03:26<00:00,  1.46s/it]\n"
     ]
    },
    {
     "name": "stdout",
     "output_type": "stream",
     "text": [
      "[INFO] starting evaluation for epoch: 7 at 15:15:07\n"
     ]
    },
    {
     "name": "stderr",
     "output_type": "stream",
     "text": [
      "Validation progress: 100%|██████████| 48/48 [00:32<00:00,  1.49it/s]\n"
     ]
    },
    {
     "name": "stdout",
     "output_type": "stream",
     "text": [
      "\n",
      "[INFO] EPOCH: 7/20\n",
      "Train loss: 4.489189, Train accuracy: 0.3652\n",
      "Val loss: \t5.901306, Val accuracy:   0.3954\n",
      "Train F1: \t0.126700\n",
      "Val F1: \t0.128608\n",
      "---------------------------------------------------- \n",
      "\n",
      "[INFO] starting training for epoch: 8 at 15:15:40\n"
     ]
    },
    {
     "name": "stderr",
     "output_type": "stream",
     "text": [
      "Training progress: 100%|██████████| 142/142 [03:44<00:00,  1.58s/it]\n"
     ]
    },
    {
     "name": "stdout",
     "output_type": "stream",
     "text": [
      "[INFO] starting evaluation for epoch: 8 at 15:19:24\n"
     ]
    },
    {
     "name": "stderr",
     "output_type": "stream",
     "text": [
      "Validation progress: 100%|██████████| 48/48 [00:32<00:00,  1.48it/s]\n"
     ]
    },
    {
     "name": "stdout",
     "output_type": "stream",
     "text": [
      "\n",
      "[INFO] EPOCH: 8/20\n",
      "Train loss: 4.552035, Train accuracy: 0.3697\n",
      "Val loss: \t7.318829, Val accuracy:   0.4483\n",
      "Train F1: \t0.121664\n",
      "Val F1: \t0.137264\n",
      "---------------------------------------------------- \n",
      "\n",
      "[INFO] starting training for epoch: 9 at 15:19:56\n"
     ]
    },
    {
     "name": "stderr",
     "output_type": "stream",
     "text": [
      "Training progress: 100%|██████████| 142/142 [03:29<00:00,  1.47s/it]\n"
     ]
    },
    {
     "name": "stdout",
     "output_type": "stream",
     "text": [
      "[INFO] starting evaluation for epoch: 9 at 15:23:26\n"
     ]
    },
    {
     "name": "stderr",
     "output_type": "stream",
     "text": [
      "Validation progress: 100%|██████████| 48/48 [00:33<00:00,  1.45it/s]\n"
     ]
    },
    {
     "name": "stdout",
     "output_type": "stream",
     "text": [
      "\n",
      "[INFO] EPOCH: 9/20\n",
      "Train loss: 4.562896, Train accuracy: 0.3785\n",
      "Val loss: \t7.518887, Val accuracy:   0.4281\n",
      "Train F1: \t0.117799\n",
      "Val F1: \t0.114575\n",
      "---------------------------------------------------- \n",
      "\n",
      "[INFO] starting training for epoch: 10 at 15:23:59\n"
     ]
    },
    {
     "name": "stderr",
     "output_type": "stream",
     "text": [
      "Training progress: 100%|██████████| 142/142 [03:25<00:00,  1.44s/it]\n"
     ]
    },
    {
     "name": "stdout",
     "output_type": "stream",
     "text": [
      "[INFO] starting evaluation for epoch: 10 at 15:27:24\n"
     ]
    },
    {
     "name": "stderr",
     "output_type": "stream",
     "text": [
      "Validation progress: 100%|██████████| 48/48 [00:31<00:00,  1.53it/s]\n"
     ]
    },
    {
     "name": "stdout",
     "output_type": "stream",
     "text": [
      "\n",
      "[INFO] EPOCH: 10/20\n",
      "Train loss: 4.611739, Train accuracy: 0.3670\n",
      "Val loss: \t7.305721, Val accuracy:   0.4046\n",
      "Train F1: \t0.108870\n",
      "Val F1: \t0.112673\n",
      "---------------------------------------------------- \n",
      "\n",
      "[INFO] starting training for epoch: 11 at 15:27:55\n"
     ]
    },
    {
     "name": "stderr",
     "output_type": "stream",
     "text": [
      "Training progress: 100%|██████████| 142/142 [03:24<00:00,  1.44s/it]\n"
     ]
    },
    {
     "name": "stdout",
     "output_type": "stream",
     "text": [
      "[INFO] starting evaluation for epoch: 11 at 15:31:20\n"
     ]
    },
    {
     "name": "stderr",
     "output_type": "stream",
     "text": [
      "Validation progress: 100%|██████████| 48/48 [00:31<00:00,  1.53it/s]\n"
     ]
    },
    {
     "name": "stdout",
     "output_type": "stream",
     "text": [
      "\n",
      "[INFO] EPOCH: 11/20\n",
      "Train loss: 4.830123, Train accuracy: 0.3560\n",
      "Val loss: \t7.836319, Val accuracy:   0.4113\n",
      "Train F1: \t0.104714\n",
      "Val F1: \t0.111835\n",
      "---------------------------------------------------- \n",
      "\n",
      "[INFO] starting training for epoch: 12 at 15:31:52\n"
     ]
    },
    {
     "name": "stderr",
     "output_type": "stream",
     "text": [
      "Training progress: 100%|██████████| 142/142 [03:24<00:00,  1.44s/it]\n"
     ]
    },
    {
     "name": "stdout",
     "output_type": "stream",
     "text": [
      "[INFO] starting evaluation for epoch: 12 at 15:35:17\n"
     ]
    },
    {
     "name": "stderr",
     "output_type": "stream",
     "text": [
      "Validation progress: 100%|██████████| 48/48 [00:31<00:00,  1.51it/s]\n"
     ]
    },
    {
     "name": "stdout",
     "output_type": "stream",
     "text": [
      "\n",
      "[INFO] EPOCH: 12/20\n",
      "Train loss: 4.848828, Train accuracy: 0.3535\n",
      "Val loss: \t8.187554, Val accuracy:   0.3907\n",
      "Train F1: \t0.100456\n",
      "Val F1: \t0.100731\n",
      "---------------------------------------------------- \n",
      "\n",
      "[INFO] starting training for epoch: 13 at 15:35:48\n"
     ]
    },
    {
     "name": "stderr",
     "output_type": "stream",
     "text": [
      "Training progress: 100%|██████████| 142/142 [03:25<00:00,  1.44s/it]\n"
     ]
    },
    {
     "name": "stdout",
     "output_type": "stream",
     "text": [
      "[INFO] starting evaluation for epoch: 13 at 15:39:14\n"
     ]
    },
    {
     "name": "stderr",
     "output_type": "stream",
     "text": [
      "Validation progress: 100%|██████████| 48/48 [00:31<00:00,  1.52it/s]\n"
     ]
    },
    {
     "name": "stdout",
     "output_type": "stream",
     "text": [
      "\n",
      "[INFO] EPOCH: 13/20\n",
      "Train loss: 5.307231, Train accuracy: 0.3407\n",
      "Val loss: \t9.180634, Val accuracy:   0.3775\n",
      "Train F1: \t0.093873\n",
      "Val F1: \t0.091542\n",
      "---------------------------------------------------- \n",
      "\n",
      "[INFO] starting training for epoch: 14 at 15:39:45\n"
     ]
    },
    {
     "name": "stderr",
     "output_type": "stream",
     "text": [
      "Training progress: 100%|██████████| 142/142 [03:27<00:00,  1.46s/it]\n"
     ]
    },
    {
     "name": "stdout",
     "output_type": "stream",
     "text": [
      "[INFO] starting evaluation for epoch: 14 at 15:43:13\n"
     ]
    },
    {
     "name": "stderr",
     "output_type": "stream",
     "text": [
      "Validation progress: 100%|██████████| 48/48 [00:31<00:00,  1.53it/s]\n"
     ]
    },
    {
     "name": "stdout",
     "output_type": "stream",
     "text": [
      "\n",
      "[INFO] EPOCH: 14/20\n",
      "Train loss: 5.250139, Train accuracy: 0.3451\n",
      "Val loss: \t10.331482, Val accuracy:   0.3649\n",
      "Train F1: \t0.097779\n",
      "Val F1: \t0.087761\n",
      "---------------------------------------------------- \n",
      "\n",
      "[INFO] starting training for epoch: 15 at 15:43:45\n"
     ]
    },
    {
     "name": "stderr",
     "output_type": "stream",
     "text": [
      "Training progress: 100%|██████████| 142/142 [03:24<00:00,  1.44s/it]\n"
     ]
    },
    {
     "name": "stdout",
     "output_type": "stream",
     "text": [
      "[INFO] starting evaluation for epoch: 15 at 15:47:09\n"
     ]
    },
    {
     "name": "stderr",
     "output_type": "stream",
     "text": [
      "Validation progress: 100%|██████████| 48/48 [00:31<00:00,  1.52it/s]\n"
     ]
    },
    {
     "name": "stdout",
     "output_type": "stream",
     "text": [
      "\n",
      "[INFO] EPOCH: 15/20\n",
      "Train loss: 6.483773, Train accuracy: 0.3405\n",
      "Val loss: \t11.217552, Val accuracy:   0.3748\n",
      "Train F1: \t0.095730\n",
      "Val F1: \t0.087720\n",
      "---------------------------------------------------- \n",
      "\n",
      "[INFO] starting training for epoch: 16 at 15:47:41\n"
     ]
    },
    {
     "name": "stderr",
     "output_type": "stream",
     "text": [
      "Training progress: 100%|██████████| 142/142 [03:34<00:00,  1.51s/it]\n"
     ]
    },
    {
     "name": "stdout",
     "output_type": "stream",
     "text": [
      "[INFO] starting evaluation for epoch: 16 at 15:51:16\n"
     ]
    },
    {
     "name": "stderr",
     "output_type": "stream",
     "text": [
      "Validation progress: 100%|██████████| 48/48 [00:31<00:00,  1.52it/s]\n"
     ]
    },
    {
     "name": "stdout",
     "output_type": "stream",
     "text": [
      "\n",
      "[INFO] EPOCH: 16/20\n",
      "Train loss: 5.767329, Train accuracy: 0.3463\n",
      "Val loss: \t12.499501, Val accuracy:   0.3940\n",
      "Train F1: \t0.098987\n",
      "Val F1: \t0.095036\n",
      "---------------------------------------------------- \n",
      "\n",
      "[INFO] starting training for epoch: 17 at 15:51:47\n"
     ]
    },
    {
     "name": "stderr",
     "output_type": "stream",
     "text": [
      "Training progress: 100%|██████████| 142/142 [03:26<00:00,  1.45s/it]\n"
     ]
    },
    {
     "name": "stdout",
     "output_type": "stream",
     "text": [
      "[INFO] starting evaluation for epoch: 17 at 15:55:14\n"
     ]
    },
    {
     "name": "stderr",
     "output_type": "stream",
     "text": [
      "Validation progress: 100%|██████████| 48/48 [00:32<00:00,  1.47it/s]\n"
     ]
    },
    {
     "name": "stdout",
     "output_type": "stream",
     "text": [
      "\n",
      "[INFO] EPOCH: 17/20\n",
      "Train loss: 5.472059, Train accuracy: 0.4279\n",
      "Val loss: \t12.945220, Val accuracy:   0.3685\n",
      "Train F1: \t0.094745\n",
      "Val F1: \t0.093231\n",
      "---------------------------------------------------- \n",
      "\n",
      "[INFO] starting training for epoch: 18 at 15:55:47\n"
     ]
    },
    {
     "name": "stderr",
     "output_type": "stream",
     "text": [
      "Training progress: 100%|██████████| 142/142 [03:26<00:00,  1.45s/it]\n"
     ]
    },
    {
     "name": "stdout",
     "output_type": "stream",
     "text": [
      "[INFO] starting evaluation for epoch: 18 at 15:59:13\n"
     ]
    },
    {
     "name": "stderr",
     "output_type": "stream",
     "text": [
      "Validation progress: 100%|██████████| 48/48 [00:31<00:00,  1.51it/s]\n"
     ]
    },
    {
     "name": "stdout",
     "output_type": "stream",
     "text": [
      "\n",
      "[INFO] EPOCH: 18/20\n",
      "Train loss: 8.944761, Train accuracy: 0.4295\n",
      "Val loss: \t11.968962, Val accuracy:   0.3722\n",
      "Train F1: \t0.095501\n",
      "Val F1: \t0.089878\n",
      "---------------------------------------------------- \n",
      "\n",
      "[INFO] starting training for epoch: 19 at 15:59:45\n"
     ]
    },
    {
     "name": "stderr",
     "output_type": "stream",
     "text": [
      "Training progress: 100%|██████████| 142/142 [03:25<00:00,  1.44s/it]\n"
     ]
    },
    {
     "name": "stdout",
     "output_type": "stream",
     "text": [
      "[INFO] starting evaluation for epoch: 19 at 16:03:10\n"
     ]
    },
    {
     "name": "stderr",
     "output_type": "stream",
     "text": [
      "Validation progress: 100%|██████████| 48/48 [00:31<00:00,  1.52it/s]\n"
     ]
    },
    {
     "name": "stdout",
     "output_type": "stream",
     "text": [
      "\n",
      "[INFO] EPOCH: 19/20\n",
      "Train loss: 8.283300, Train accuracy: 0.3336\n",
      "Val loss: \t13.732991, Val accuracy:   0.3821\n",
      "Train F1: \t0.091548\n",
      "Val F1: \t0.086654\n",
      "---------------------------------------------------- \n",
      "\n",
      "[INFO] starting training for epoch: 20 at 16:03:41\n"
     ]
    },
    {
     "name": "stderr",
     "output_type": "stream",
     "text": [
      "Training progress: 100%|██████████| 142/142 [03:27<00:00,  1.46s/it]\n"
     ]
    },
    {
     "name": "stdout",
     "output_type": "stream",
     "text": [
      "[INFO] starting evaluation for epoch: 20 at 16:07:09\n"
     ]
    },
    {
     "name": "stderr",
     "output_type": "stream",
     "text": [
      "Validation progress: 100%|██████████| 48/48 [00:33<00:00,  1.45it/s]\n"
     ]
    },
    {
     "name": "stdout",
     "output_type": "stream",
     "text": [
      "\n",
      "[INFO] EPOCH: 20/20\n",
      "Train loss: 7.796072, Train accuracy: 0.3418\n",
      "Val loss: \t13.533423, Val accuracy:   0.3801\n",
      "Train F1: \t0.098039\n",
      "Val F1: \t0.083987\n",
      "---------------------------------------------------- \n",
      "\n",
      "[INFO] total time taken to train the model: 80.72min\n"
     ]
    }
   ],
   "source": [
    "# measure how long training is going to take\n",
    "print(\"[INFO] training the network...\")\n",
    "startTime = time.time()\n",
    "\n",
    "for epoch in range(EPOCHS):\n",
    "    print(f\"[INFO] starting training for epoch: {epoch + 1} at {datetime.now().strftime('%H:%M:%S')}\")\n",
    "\n",
    "    train_preds = []\n",
    "    train_target = []\n",
    "\n",
    "    val_preds = []\n",
    "    val_target = []\n",
    "\n",
    "    model.train()\n",
    "\n",
    "    # initialize the total training and validation loss\n",
    "    totalTrainLoss = 0\n",
    "    totalValLoss = 0\n",
    "    # initialize the number of correct predictions in the training\n",
    "    # and validation step\n",
    "    trainCorrect = 0\n",
    "    valCorrect = 0\n",
    "    min_val_loss = 100\n",
    "\n",
    "    for data, targets in tqdm(trainDataLoader, desc=\"Training progress\"):\n",
    "        data = data.transpose(1, 3)\n",
    "        data = data.transpose(2, 3)\n",
    "\n",
    "        data = data.float()\n",
    "        data, targets = (data.to(device), targets.to(device))\n",
    "        # Generate predictions\n",
    "        out = model(data)\n",
    "        # Calculate loss\n",
    "        loss = criterion(out, targets)\n",
    "        # Backpropagation\n",
    "        loss.backward()\n",
    "        # Update model parameters\n",
    "        optimizer.step()\n",
    "        # add the loss to the total training loss so far and\n",
    "        # calculate the number of correct predictions\n",
    "        totalTrainLoss += loss\n",
    "\n",
    "        for item in out:\n",
    "            train_preds.append(np.argmax(item.cpu().detach().numpy()))\n",
    "            trainCorrect += (item.argmax(0) == targets.argmax(0)).type(torch.float).sum().item()\n",
    "\n",
    "        for label in targets:\n",
    "            train_target.append(label.cpu().detach().numpy().argmax(0))\n",
    "\n",
    "    with torch.no_grad():\n",
    "        model.eval()\n",
    "        print(f\"[INFO] starting evaluation for epoch: {epoch + 1} at {datetime.now().strftime('%H:%M:%S')}\")\n",
    "        for data, targets in tqdm(valDataLoader, desc=\"Validation progress\"):\n",
    "            data = data.transpose(1, 3)\n",
    "            data = data.transpose(2, 3)\n",
    "\n",
    "            data = data.float()\n",
    "            data, targets = (data.to(device), targets.to(device))\n",
    "            # Generate predictions\n",
    "            out = model(data)\n",
    "            # Calculate loss\n",
    "            totalValLoss += criterion(out, targets)\n",
    "            for item in out:\n",
    "                val_preds.append(np.argmax(item.cpu().detach().numpy()))\n",
    "                valCorrect += (item.argmax(0) == targets.argmax(0)).type(torch.float).sum().item()\n",
    "\n",
    "            for label in targets:\n",
    "                val_target.append(label.cpu().detach().numpy().argmax(0))\n",
    "\n",
    "        # Average validation loss\n",
    "        avg_val_loss = totalValLoss / valSteps\n",
    "        # If the validation loss is at a minimum\n",
    "        if avg_val_loss < min_val_loss:\n",
    "            # Save the model\n",
    "            torch.save(model, checkpoint_path + MODEL_NAME + \".pt\")\n",
    "            epochs_no_improve = 0\n",
    "            min_val_loss = avg_val_loss\n",
    "\n",
    "        else:\n",
    "            epochs_no_improve += 1\n",
    "            # Check early stopping condition\n",
    "            if epochs_no_improve == n_epochs_stop:\n",
    "                print('Early stopping!')\n",
    "\n",
    "    # calculate the average training and validation loss\n",
    "    avgTrainLoss = totalTrainLoss / trainSteps\n",
    "\n",
    "    # calculate per class accuracy via confusion matrix\n",
    "    matrix = confusion_matrix(val_target, val_preds)\n",
    "    class_acc.append(matrix.diagonal() / matrix.sum(axis=1))\n",
    "\n",
    "    # calculate the training and validation accuracy\n",
    "    trainCorrect = trainCorrect / len(trainDataLoader.dataset)\n",
    "    valCorrect = valCorrect / len(valDataLoader.dataset)\n",
    "\n",
    "    # calculate macro F1 score\n",
    "    trainf1 = f1_score(train_target, train_preds, average='macro')\n",
    "    valf1 = f1_score(val_target, val_preds, average=\"macro\")\n",
    "\n",
    "    # update our training history\n",
    "    metrics[\"train_loss\"].append(avgTrainLoss.cpu().detach().numpy())\n",
    "    metrics[\"train_acc\"].append(trainCorrect)\n",
    "    metrics[\"val_loss\"].append(avg_val_loss.cpu().detach().numpy())\n",
    "    metrics[\"val_acc\"].append(valCorrect)\n",
    "    metrics['trainf1'].append(trainf1)\n",
    "    metrics['valf1'].append(valf1)\n",
    "\n",
    "    # print the model training and validation information\n",
    "    print_performance_metrics(epoch, avgTrainLoss, trainCorrect, avg_val_loss, valCorrect, trainf1, valf1)\n",
    "\n",
    "endTime = time.time()\n",
    "print(f\"[INFO] total time taken to train the model: {(endTime - startTime) / 60 :.2f}min\")"
   ]
  },
  {
   "cell_type": "code",
   "execution_count": null,
   "outputs": [],
   "source": [],
   "metadata": {
    "collapsed": false
   }
  },
  {
   "cell_type": "code",
   "execution_count": 16,
   "outputs": [
    {
     "name": "stdout",
     "output_type": "stream",
     "text": [
      "{'train_loss': [array(2.63538726), array(2.84683959), array(3.27573885), array(3.63440507), array(3.57852762), array(4.38052145), array(4.48918943), array(4.55203504), array(4.56289561), array(4.61173886), array(4.83012252), array(4.84882835), array(5.30723118), array(5.25013924), array(6.48377291), array(5.76732875), array(5.47205897), array(8.9447606), array(8.28330018), array(7.79607222)], 'train_acc': [0.6144166022739816, 0.608014129594878, 0.460757257975494, 0.44132906501821395, 0.4369135666188321, 0.3781874379070538, 0.36516171762887734, 0.36968760348824375, 0.3785186002870074, 0.3670383044486146, 0.35599955845016007, 0.3534606468705155, 0.34065570151230823, 0.34507119991169005, 0.34054531405232363, 0.34628546197152005, 0.42786179490009935, 0.42951760679986756, 0.3335909040732973, 0.3417595761121537], 'val_loss': [array(2.41466872), array(2.84215349), array(3.46928591), array(3.58178582), array(4.49184346), array(4.40651052), array(5.90130615), array(7.3188289), array(7.51888664), array(7.30572071), array(7.83631858), array(8.18755385), array(9.18063366), array(10.33148209), array(11.21755242), array(12.49950133), array(12.94522039), array(11.96896232), array(13.7329907), array(13.53342283)], 'val_acc': [0.5437086092715232, 0.5344370860927152, 0.5814569536423841, 0.4900662251655629, 0.44834437086092715, 0.4059602649006622, 0.39536423841059604, 0.44834437086092715, 0.4281456953642384, 0.40463576158940395, 0.4112582781456954, 0.39072847682119205, 0.37748344370860926, 0.3649006622516556, 0.3748344370860927, 0.39403973509933776, 0.36854304635761587, 0.37218543046357616, 0.38211920529801324, 0.3801324503311258], 'trainf1': [0.13281684681688982, 0.16849801383334337, 0.16792107597261902, 0.16232618583838107, 0.14221397993351823, 0.13758982478370188, 0.1266998063825408, 0.12166370227989015, 0.11779896753765476, 0.10887017321823309, 0.10471421648950381, 0.10045637351671893, 0.09387347670910305, 0.09777905390499926, 0.09572990130246442, 0.09898680386810665, 0.09474505830001406, 0.09550147472759993, 0.09154798257137099, 0.09803885081195275], 'valf1': [0.21709712185017682, 0.19513914906602167, 0.18421445675963988, 0.17182719444495875, 0.15684714286455956, 0.15375608804436863, 0.12860769895984808, 0.1372640858228146, 0.11457543947176006, 0.11267254682362779, 0.11183518230098999, 0.10073148795089976, 0.09154154961325796, 0.08776082162315958, 0.0877198015723448, 0.09503608807533337, 0.09323123196966508, 0.08987841208742295, 0.08665369599391168, 0.08398670908793683]}\n"
     ]
    }
   ],
   "source": [
    "print(metrics)"
   ],
   "metadata": {
    "collapsed": false
   }
  },
  {
   "cell_type": "code",
   "execution_count": 18,
   "outputs": [
    {
     "data": {
      "text/plain": "<matplotlib.legend.Legend at 0x283512b2f40>"
     },
     "execution_count": 18,
     "metadata": {},
     "output_type": "execute_result"
    },
    {
     "data": {
      "text/plain": "<Figure size 2000x1800 with 1 Axes>",
      "image/png": "[encoded data removed]"
     },
     "metadata": {},
     "output_type": "display_data"
    }
   ],
   "source": [
    "# plot the training loss and accuracy\n",
    "plt.style.use(\"ggplot\")\n",
    "plt.rcParams['font.size'] = 20\n",
    "plt.figure(figsize=(20, 18))\n",
    "plt.plot(metrics[\"train_loss\"], label=\"train_loss\")\n",
    "plt.plot(metrics[\"val_loss\"], label=\"val_loss\")\n",
    "plt.plot(metrics[\"train_acc\"], label=\"train_acc\")\n",
    "plt.plot(metrics[\"val_acc\"], label=\"val_acc\")\n",
    "plt.plot(metrics[\"trainf1\"], label=\"trainf1\")\n",
    "plt.plot(metrics[\"valf1\"], label=\"valf1\")\n",
    "plt.title(\"Training Loss, Accuracy and F1 on Dataset\")\n",
    "plt.xlabel(\"Epoch #\")\n",
    "plt.ylabel(\"Loss/Accuracy/F1\")\n",
    "plt.legend(loc=\"lower left\")"
   ],
   "metadata": {
    "collapsed": false
   }
  }
 ],
 "metadata": {
  "kernelspec": {
   "display_name": "Python 3.9.13 ('ki-lab')",
   "language": "python",
   "name": "python3"
  },
  "language_info": {
   "codemirror_mode": {
    "name": "ipython",
    "version": 3
   },
   "file_extension": ".py",
   "mimetype": "text/x-python",
   "name": "python",
   "nbconvert_exporter": "python",
   "pygments_lexer": "ipython3",
   "version": "3.9.13"
  },
  "orig_nbformat": 4,
  "vscode": {
   "interpreter": {
    "hash": "a8264f563574424d24d12a45a7d14379defa3be27ef947163ce9eeda193eace4"
   }
  }
 },
 "nbformat": 4,
 "nbformat_minor": 2
}
