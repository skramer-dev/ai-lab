{
 "cells": [
  {
   "cell_type": "code",
   "execution_count": 57,
   "metadata": {},
   "outputs": [],
   "source": [
    "import pandas as pd\n",
    "import os\n",
    "import numpy as np\n",
    "#from IPython.core.display_functions import clear_output\n",
    "from torch.utils.data import Dataset\n",
    "from sklearn.model_selection import train_test_split\n",
    "from tqdm import tqdm\n",
    "import torch\n",
    "from torch.utils.data import DataLoader\n",
    "from datetime import datetime\n",
    "import time\n",
    "from sklearn.metrics import f1_score, confusion_matrix\n",
    "import matplotlib.pyplot as plt\n",
    "from torchvision import models\n",
    "import torch.nn as nn"
   ]
  },
  {
   "cell_type": "code",
   "execution_count": 58,
   "metadata": {
    "collapsed": false
   },
   "outputs": [
    {
     "name": "stdout",
     "output_type": "stream",
     "text": [
      "cuda\n"
     ]
    }
   ],
   "source": [
    "DATA_PATH = '../../Pokemon-data/'\n",
    "NORMALIZED_DATA = '../../Training-baseline/'\n",
    "AUGMENTATION_PATH = '../../pipe_one_aug/'\n",
    "CSV_NAME = \"aug-training-list.csv\"\n",
    "SEED = 42\n",
    "BATCH_SIZE = 64\n",
    "EPOCHS = 20\n",
    "MODEL_NAME = \"aug-freeze-customLR\"\n",
    "checkpoint_path = './saved-models/'\n",
    "TRAINING_METRICS = './training-metrics/'\n",
    "n_epochs_stop = 3\n",
    "\n",
    "device = torch.device(\"cuda\" if torch.cuda.is_available() else \"cpu\")\n",
    "print(device)"
   ]
  },
  {
   "cell_type": "code",
   "execution_count": 59,
   "metadata": {
    "collapsed": false
   },
   "outputs": [],
   "source": [
    "class CustomDataset(Dataset):\n",
    "\tdef __init__(self, x, y, img_dir):\n",
    "\t\tself.x = x\n",
    "\t\tself.y = y\n",
    "\t\tself.img_dir = img_dir\n",
    "\t\tself.classes = np.unique(self.y)\n",
    "\n",
    "\n",
    "\tdef __len__(self):\n",
    "\t\treturn len(self.x)\n",
    "\n",
    "\n",
    "\tdef __getitem__(self, idx):\n",
    "\t\timg_path = os.path.join(self.img_dir, self.x[idx])\n",
    "        # use the slice to remove a possible 4th alpha channel\n",
    "\t\timage = np.load(img_path)[:,:,:3]\n",
    "\t\timage = image.astype(np.float32)\n",
    "\t\tlabel = self.y[idx]\n",
    "\t\treturn image, label"
   ]
  },
  {
   "cell_type": "code",
   "execution_count": 60,
   "metadata": {
    "collapsed": false
   },
   "outputs": [],
   "source": [
    "def stratified_split(dataset, labels):\n",
    "    x_train, x_val, y_train, y_val = train_test_split(dataset['file_name'].to_numpy(),\n",
    "                                                  labels,\n",
    "                                                  test_size=0.25,\n",
    "                                                  stratify=dataset['label'],\n",
    "                                                  random_state=SEED)\n",
    "\n",
    "    trainSet = CustomDataset(x_train, y_train, AUGMENTATION_PATH)\n",
    "    valSet = CustomDataset(x_val, y_val, AUGMENTATION_PATH)\n",
    "    return trainSet, valSet"
   ]
  },
  {
   "cell_type": "code",
   "execution_count": 61,
   "metadata": {
    "collapsed": false
   },
   "outputs": [],
   "source": [
    "def print_performance_metrics(currentEpoch, avgTrainLoss, trainCorrect, avgValLoss, valCorrect, trainf1, valf1):\n",
    "    print(f\"---------------------------------------------------- \")\n",
    "    print(f\"[INFO] EPOCH: {currentEpoch + 1}/{EPOCHS}\")\n",
    "    print(f\"Train loss: {avgTrainLoss :.6f}, Train accuracy: {trainCorrect :.4f}\")\n",
    "    print(f\"Val loss: \t{avgValLoss :.6f}, Val accuracy:   {valCorrect :.4f}\")\n",
    "    print(f\"Train F1: \t{trainf1 :.6f}\")\n",
    "    print(f\"Val F1: \t{valf1 :.6f}\")\n",
    "    print(f\"---------------------------------------------------- \\n\")"
   ]
  },
  {
   "cell_type": "code",
   "execution_count": 62,
   "metadata": {
    "collapsed": false
   },
   "outputs": [],
   "source": [
    "# read data\n",
    "csv_data = pd.read_csv(f\"./metadata/{CSV_NAME}\", index_col=0)\n",
    "\n",
    "y_train = np.zeros((len(csv_data[\"y_train_columns\"]),csv_data[\"y_train_columns\"][0]))\n",
    "for i in range(csv_data[\"y_train_columns\"][0]):\n",
    "    y_train[:,i] = csv_data[\"y_train\"+str(i)]\n",
    "\n",
    "encoded_data = csv_data.drop(csv_data.columns[(csv_data.shape[1]-csv_data[\"y_train_columns\"][0]-1):csv_data.shape[1]], axis=1)"
   ]
  },
  {
   "cell_type": "code",
   "execution_count": 63,
   "metadata": {
    "collapsed": false
   },
   "outputs": [],
   "source": [
    "train, val = stratified_split(encoded_data, y_train)\n",
    "trainDataLoader = DataLoader(train, batch_size=BATCH_SIZE)\n",
    "valDataLoader = DataLoader(val, batch_size=BATCH_SIZE)\n",
    "\n",
    "trainSteps = len(trainDataLoader.dataset) // BATCH_SIZE\n",
    "valSteps = len(valDataLoader.dataset) // BATCH_SIZE"
   ]
  },
  {
   "cell_type": "code",
   "execution_count": 64,
   "metadata": {
    "collapsed": false
   },
   "outputs": [],
   "source": [
    "def get_baseline_model():\n",
    "    model = models.efficientnet_b0(pretrained=False)\n",
    "    model.classifier = nn.Sequential(\n",
    "        nn.Linear(1280, 256),\n",
    "        nn.ReLU(),\n",
    "        nn.Dropout(0.5),\n",
    "        nn.Linear(256, 18))\n",
    "    return model.to(device)"
   ]
  },
  {
   "cell_type": "code",
   "execution_count": 65,
   "metadata": {
    "collapsed": false
   },
   "outputs": [],
   "source": [
    "def get_pretrained_frozen_model():\n",
    "    model = models.efficientnet_b0(pretrained=True)\n",
    "    for param in model.parameters():\n",
    "        param.requires_grad = False\n",
    "    model.classifier = nn.Sequential(\n",
    "        nn.Linear(1280, 256),\n",
    "        nn.ReLU(),\n",
    "        nn.Dropout(0.5),\n",
    "        nn.Linear(256, 18))\n",
    "    return model.to(device)"
   ]
  },
  {
   "cell_type": "code",
   "execution_count": 66,
   "metadata": {
    "collapsed": false
   },
   "outputs": [],
   "source": [
    "def get_pretrained_half_frozen_model():\n",
    "    model = models.efficientnet_b0(pretrained=True)\n",
    "\n",
    "    # freeze all BatchNorm layers\n",
    "    for name ,child in (model.named_children()):\n",
    "        if not isinstance(child, nn.BatchNorm2d):\n",
    "            for param in child.parameters():\n",
    "                param.requires_grad = True\n",
    "        else:\n",
    "            for param in child.parameters():\n",
    "                param.requires_grad = False\n",
    "\n",
    "    # freeze first 5 layers\n",
    "    for i in range(5):\n",
    "        for param in model.features[i].parameters():\n",
    "            param.requires_grad = False\n",
    "    model.classifier = nn.Sequential(\n",
    "        nn.Linear(1280, 256),\n",
    "        nn.ReLU(),\n",
    "        nn.Dropout(0.5),\n",
    "        nn.Linear(256, 18))\n",
    "    return model.to(device)"
   ]
  },
  {
   "cell_type": "code",
   "execution_count": 67,
   "metadata": {
    "collapsed": false
   },
   "outputs": [],
   "source": [
    "def get_pretrained_model():\n",
    "    model = models.efficientnet_b0(pretrained=True)\n",
    "\n",
    "    # freeze all BatchNorm layers\n",
    "    for name ,child in (model.named_children()):\n",
    "        if not isinstance(child, nn.BatchNorm2d):\n",
    "            for param in child.parameters():\n",
    "                param.requires_grad = True\n",
    "        else:\n",
    "            for param in child.parameters():\n",
    "                param.requires_grad = False\n",
    "\n",
    "    model.classifier = nn.Sequential(\n",
    "        nn.Linear(1280, 256),\n",
    "        nn.ReLU(),\n",
    "        nn.Dropout(0.5),\n",
    "        nn.Linear(256, 18))\n",
    "    return model.to(device)"
   ]
  },
  {
   "cell_type": "code",
   "execution_count": 68,
   "metadata": {
    "collapsed": false
   },
   "outputs": [],
   "source": [
    "#call model function for specific strategy\n",
    "model = get_pretrained_frozen_model()"
   ]
  },
  {
   "cell_type": "code",
   "execution_count": 69,
   "metadata": {
    "collapsed": false
   },
   "outputs": [],
   "source": [
    "torch.manual_seed(SEED)\n",
    "class_acc = []\n",
    "epochs_no_improve = 0\n",
    "metrics = {\n",
    "\t\"train_loss\": [],\n",
    "\t\"train_acc\": [],\n",
    "\t\"val_loss\": [],\n",
    "\t\"val_acc\": [],\n",
    "\t\"trainf1\": [],\n",
    "    \"valf1\": []\n",
    "}"
   ]
  },
  {
   "cell_type": "code",
   "execution_count": 70,
   "metadata": {
    "collapsed": false
   },
   "outputs": [],
   "source": [
    "from torch import optim\n",
    "# Loss and optimizer\n",
    "criterion = nn.CrossEntropyLoss()\n",
    "optimizer = optim.Adam(params=model.parameters(), lr=1e-4)"
   ]
  },
  {
   "cell_type": "code",
   "execution_count": 71,
   "metadata": {
    "collapsed": false
   },
   "outputs": [
    {
     "name": "stdout",
     "output_type": "stream",
     "text": [
      "[INFO] training the network...\n",
      "[INFO] starting training for epoch: 1 at 16:44:22\n"
     ]
    },
    {
     "name": "stderr",
     "output_type": "stream",
     "text": [
      "Training progress: 100%|██████████| 294/294 [07:45<00:00,  1.58s/it]\n"
     ]
    },
    {
     "name": "stdout",
     "output_type": "stream",
     "text": [
      "[INFO] starting evaluation for epoch: 1 at 16:52:07\n"
     ]
    },
    {
     "name": "stderr",
     "output_type": "stream",
     "text": [
      "Validation progress: 100%|██████████| 98/98 [01:00<00:00,  1.61it/s]\n"
     ]
    },
    {
     "name": "stdout",
     "output_type": "stream",
     "text": [
      "---------------------------------------------------- \n",
      "[INFO] EPOCH: 1/20\n",
      "Train loss: 2.582059, Train accuracy: 0.6105\n",
      "Val loss: \t2.287955, Val accuracy:   0.5427\n",
      "Train F1: \t0.139134\n",
      "Val F1: \t0.221529\n",
      "---------------------------------------------------- \n",
      "\n",
      "[INFO] Epoch took 8.77min\n",
      "[INFO] starting training for epoch: 2 at 16:53:08\n"
     ]
    },
    {
     "name": "stderr",
     "output_type": "stream",
     "text": [
      "Training progress: 100%|██████████| 294/294 [05:44<00:00,  1.17s/it]\n"
     ]
    },
    {
     "name": "stdout",
     "output_type": "stream",
     "text": [
      "[INFO] starting evaluation for epoch: 2 at 16:58:52\n"
     ]
    },
    {
     "name": "stderr",
     "output_type": "stream",
     "text": [
      "Validation progress: 100%|██████████| 98/98 [00:34<00:00,  2.82it/s]\n"
     ]
    },
    {
     "name": "stdout",
     "output_type": "stream",
     "text": [
      "---------------------------------------------------- \n",
      "[INFO] EPOCH: 2/20\n",
      "Train loss: 2.154556, Train accuracy: 0.5858\n",
      "Val loss: \t1.958951, Val accuracy:   0.5495\n",
      "Train F1: \t0.243567\n",
      "Val F1: \t0.320849\n",
      "---------------------------------------------------- \n",
      "\n",
      "[INFO] Epoch took 6.32min\n",
      "[INFO] starting training for epoch: 3 at 16:59:27\n"
     ]
    },
    {
     "name": "stderr",
     "output_type": "stream",
     "text": [
      "Training progress: 100%|██████████| 294/294 [06:18<00:00,  1.29s/it]\n"
     ]
    },
    {
     "name": "stdout",
     "output_type": "stream",
     "text": [
      "[INFO] starting evaluation for epoch: 3 at 17:05:45\n"
     ]
    },
    {
     "name": "stderr",
     "output_type": "stream",
     "text": [
      "Validation progress: 100%|██████████| 98/98 [00:33<00:00,  2.94it/s]\n"
     ]
    },
    {
     "name": "stdout",
     "output_type": "stream",
     "text": [
      "---------------------------------------------------- \n",
      "[INFO] EPOCH: 3/20\n",
      "Train loss: 1.926331, Train accuracy: 0.5896\n",
      "Val loss: \t1.774623, Val accuracy:   0.5632\n",
      "Train F1: \t0.316727\n",
      "Val F1: \t0.377687\n",
      "---------------------------------------------------- \n",
      "\n",
      "[INFO] Epoch took 6.86min\n",
      "[INFO] starting training for epoch: 4 at 17:06:19\n"
     ]
    },
    {
     "name": "stderr",
     "output_type": "stream",
     "text": [
      "Training progress: 100%|██████████| 294/294 [06:13<00:00,  1.27s/it]\n"
     ]
    },
    {
     "name": "stdout",
     "output_type": "stream",
     "text": [
      "[INFO] starting evaluation for epoch: 4 at 17:12:33\n"
     ]
    },
    {
     "name": "stderr",
     "output_type": "stream",
     "text": [
      "Validation progress: 100%|██████████| 98/98 [00:30<00:00,  3.17it/s]\n"
     ]
    },
    {
     "name": "stdout",
     "output_type": "stream",
     "text": [
      "---------------------------------------------------- \n",
      "[INFO] EPOCH: 4/20\n",
      "Train loss: 1.782723, Train accuracy: 0.5984\n",
      "Val loss: \t1.650774, Val accuracy:   0.5738\n",
      "Train F1: \t0.360054\n",
      "Val F1: \t0.417720\n",
      "---------------------------------------------------- \n",
      "\n",
      "[INFO] Epoch took 6.75min\n",
      "[INFO] starting training for epoch: 5 at 17:13:04\n"
     ]
    },
    {
     "name": "stderr",
     "output_type": "stream",
     "text": [
      "Training progress: 100%|██████████| 294/294 [06:13<00:00,  1.27s/it]\n"
     ]
    },
    {
     "name": "stdout",
     "output_type": "stream",
     "text": [
      "[INFO] starting evaluation for epoch: 5 at 17:19:17\n"
     ]
    },
    {
     "name": "stderr",
     "output_type": "stream",
     "text": [
      "Validation progress: 100%|██████████| 98/98 [00:30<00:00,  3.16it/s]\n"
     ]
    },
    {
     "name": "stdout",
     "output_type": "stream",
     "text": [
      "---------------------------------------------------- \n",
      "[INFO] EPOCH: 5/20\n",
      "Train loss: 1.685049, Train accuracy: 0.6033\n",
      "Val loss: \t1.563948, Val accuracy:   0.5803\n",
      "Train F1: \t0.396219\n",
      "Val F1: \t0.442660\n",
      "---------------------------------------------------- \n",
      "\n",
      "[INFO] Epoch took 6.74min\n",
      "[INFO] starting training for epoch: 6 at 17:19:48\n"
     ]
    },
    {
     "name": "stderr",
     "output_type": "stream",
     "text": [
      "Training progress: 100%|██████████| 294/294 [06:13<00:00,  1.27s/it]\n"
     ]
    },
    {
     "name": "stdout",
     "output_type": "stream",
     "text": [
      "[INFO] starting evaluation for epoch: 6 at 17:26:01\n"
     ]
    },
    {
     "name": "stderr",
     "output_type": "stream",
     "text": [
      "Validation progress: 100%|██████████| 98/98 [00:31<00:00,  3.12it/s]\n"
     ]
    },
    {
     "name": "stdout",
     "output_type": "stream",
     "text": [
      "---------------------------------------------------- \n",
      "[INFO] EPOCH: 6/20\n",
      "Train loss: 1.604460, Train accuracy: 0.6113\n",
      "Val loss: \t1.493540, Val accuracy:   0.5865\n",
      "Train F1: \t0.423713\n",
      "Val F1: \t0.467154\n",
      "---------------------------------------------------- \n",
      "\n",
      "[INFO] Epoch took 6.75min\n",
      "[INFO] starting training for epoch: 7 at 17:26:33\n"
     ]
    },
    {
     "name": "stderr",
     "output_type": "stream",
     "text": [
      "Training progress: 100%|██████████| 294/294 [06:10<00:00,  1.26s/it]\n"
     ]
    },
    {
     "name": "stdout",
     "output_type": "stream",
     "text": [
      "[INFO] starting evaluation for epoch: 7 at 17:32:44\n"
     ]
    },
    {
     "name": "stderr",
     "output_type": "stream",
     "text": [
      "Validation progress: 100%|██████████| 98/98 [00:31<00:00,  3.12it/s]\n"
     ]
    },
    {
     "name": "stdout",
     "output_type": "stream",
     "text": [
      "---------------------------------------------------- \n",
      "[INFO] EPOCH: 7/20\n",
      "Train loss: 1.540963, Train accuracy: 0.6201\n",
      "Val loss: \t1.436736, Val accuracy:   0.5912\n",
      "Train F1: \t0.441294\n",
      "Val F1: \t0.481621\n",
      "---------------------------------------------------- \n",
      "\n",
      "[INFO] Epoch took 6.71min\n",
      "[INFO] starting training for epoch: 8 at 17:33:15\n"
     ]
    },
    {
     "name": "stderr",
     "output_type": "stream",
     "text": [
      "Training progress: 100%|██████████| 294/294 [06:07<00:00,  1.25s/it]\n"
     ]
    },
    {
     "name": "stdout",
     "output_type": "stream",
     "text": [
      "[INFO] starting evaluation for epoch: 8 at 17:39:23\n"
     ]
    },
    {
     "name": "stderr",
     "output_type": "stream",
     "text": [
      "Validation progress: 100%|██████████| 98/98 [00:29<00:00,  3.31it/s]\n"
     ]
    },
    {
     "name": "stdout",
     "output_type": "stream",
     "text": [
      "---------------------------------------------------- \n",
      "[INFO] EPOCH: 8/20\n",
      "Train loss: 1.483121, Train accuracy: 0.6186\n",
      "Val loss: \t1.389093, Val accuracy:   0.5918\n",
      "Train F1: \t0.466988\n",
      "Val F1: \t0.497949\n",
      "---------------------------------------------------- \n",
      "\n",
      "[INFO] Epoch took 6.63min\n",
      "[INFO] starting training for epoch: 9 at 17:39:53\n"
     ]
    },
    {
     "name": "stderr",
     "output_type": "stream",
     "text": [
      "Training progress: 100%|██████████| 294/294 [05:51<00:00,  1.20s/it]\n"
     ]
    },
    {
     "name": "stdout",
     "output_type": "stream",
     "text": [
      "[INFO] starting evaluation for epoch: 9 at 17:45:45\n"
     ]
    },
    {
     "name": "stderr",
     "output_type": "stream",
     "text": [
      "Validation progress: 100%|██████████| 98/98 [00:31<00:00,  3.13it/s]\n"
     ]
    },
    {
     "name": "stdout",
     "output_type": "stream",
     "text": [
      "---------------------------------------------------- \n",
      "[INFO] EPOCH: 9/20\n",
      "Train loss: 1.424961, Train accuracy: 0.6189\n",
      "Val loss: \t1.343862, Val accuracy:   0.5972\n",
      "Train F1: \t0.485650\n",
      "Val F1: \t0.513134\n",
      "---------------------------------------------------- \n",
      "\n",
      "[INFO] Epoch took 6.39min\n",
      "[INFO] starting training for epoch: 10 at 17:46:16\n"
     ]
    },
    {
     "name": "stderr",
     "output_type": "stream",
     "text": [
      "Training progress: 100%|██████████| 294/294 [06:30<00:00,  1.33s/it]\n"
     ]
    },
    {
     "name": "stdout",
     "output_type": "stream",
     "text": [
      "[INFO] starting evaluation for epoch: 10 at 17:52:47\n"
     ]
    },
    {
     "name": "stderr",
     "output_type": "stream",
     "text": [
      "Validation progress: 100%|██████████| 98/98 [00:30<00:00,  3.19it/s]\n"
     ]
    },
    {
     "name": "stdout",
     "output_type": "stream",
     "text": [
      "---------------------------------------------------- \n",
      "[INFO] EPOCH: 10/20\n",
      "Train loss: 1.389052, Train accuracy: 0.6241\n",
      "Val loss: \t1.307765, Val accuracy:   0.5996\n",
      "Train F1: \t0.497304\n",
      "Val F1: \t0.527038\n",
      "---------------------------------------------------- \n",
      "\n",
      "[INFO] Epoch took 7.03min\n",
      "[INFO] starting training for epoch: 11 at 17:53:18\n"
     ]
    },
    {
     "name": "stderr",
     "output_type": "stream",
     "text": [
      "Training progress: 100%|██████████| 294/294 [06:14<00:00,  1.27s/it]\n"
     ]
    },
    {
     "name": "stdout",
     "output_type": "stream",
     "text": [
      "[INFO] starting evaluation for epoch: 11 at 17:59:32\n"
     ]
    },
    {
     "name": "stderr",
     "output_type": "stream",
     "text": [
      "Validation progress: 100%|██████████| 98/98 [00:31<00:00,  3.14it/s]\n"
     ]
    },
    {
     "name": "stdout",
     "output_type": "stream",
     "text": [
      "---------------------------------------------------- \n",
      "[INFO] EPOCH: 11/20\n",
      "Train loss: 1.349378, Train accuracy: 0.6232\n",
      "Val loss: \t1.277730, Val accuracy:   0.5985\n",
      "Train F1: \t0.513659\n",
      "Val F1: \t0.536694\n",
      "---------------------------------------------------- \n",
      "\n",
      "[INFO] Epoch took 6.76min\n",
      "[INFO] starting training for epoch: 12 at 18:00:03\n"
     ]
    },
    {
     "name": "stderr",
     "output_type": "stream",
     "text": [
      "Training progress: 100%|██████████| 294/294 [06:29<00:00,  1.33s/it]\n"
     ]
    },
    {
     "name": "stdout",
     "output_type": "stream",
     "text": [
      "[INFO] starting evaluation for epoch: 12 at 18:06:33\n"
     ]
    },
    {
     "name": "stderr",
     "output_type": "stream",
     "text": [
      "Validation progress: 100%|██████████| 98/98 [00:32<00:00,  3.06it/s]\n"
     ]
    },
    {
     "name": "stdout",
     "output_type": "stream",
     "text": [
      "---------------------------------------------------- \n",
      "[INFO] EPOCH: 12/20\n",
      "Train loss: 1.309189, Train accuracy: 0.6262\n",
      "Val loss: \t1.243533, Val accuracy:   0.5991\n",
      "Train F1: \t0.529555\n",
      "Val F1: \t0.552139\n",
      "---------------------------------------------------- \n",
      "\n",
      "[INFO] Epoch took 7.03min\n",
      "[INFO] starting training for epoch: 13 at 18:07:05\n"
     ]
    },
    {
     "name": "stderr",
     "output_type": "stream",
     "text": [
      "Training progress: 100%|██████████| 294/294 [06:16<00:00,  1.28s/it]\n"
     ]
    },
    {
     "name": "stdout",
     "output_type": "stream",
     "text": [
      "[INFO] starting evaluation for epoch: 13 at 18:13:22\n"
     ]
    },
    {
     "name": "stderr",
     "output_type": "stream",
     "text": [
      "Validation progress: 100%|██████████| 98/98 [00:30<00:00,  3.18it/s]\n"
     ]
    },
    {
     "name": "stdout",
     "output_type": "stream",
     "text": [
      "---------------------------------------------------- \n",
      "[INFO] EPOCH: 13/20\n",
      "Train loss: 1.281358, Train accuracy: 0.6310\n",
      "Val loss: \t1.219053, Val accuracy:   0.6081\n",
      "Train F1: \t0.541513\n",
      "Val F1: \t0.560692\n",
      "---------------------------------------------------- \n",
      "\n",
      "[INFO] Epoch took 6.79min\n",
      "[INFO] starting training for epoch: 14 at 18:13:53\n"
     ]
    },
    {
     "name": "stderr",
     "output_type": "stream",
     "text": [
      "Training progress: 100%|██████████| 294/294 [05:28<00:00,  1.12s/it]\n"
     ]
    },
    {
     "name": "stdout",
     "output_type": "stream",
     "text": [
      "[INFO] starting evaluation for epoch: 14 at 18:19:22\n"
     ]
    },
    {
     "name": "stderr",
     "output_type": "stream",
     "text": [
      "Validation progress: 100%|██████████| 98/98 [00:31<00:00,  3.13it/s]\n"
     ]
    },
    {
     "name": "stdout",
     "output_type": "stream",
     "text": [
      "---------------------------------------------------- \n",
      "[INFO] EPOCH: 14/20\n",
      "Train loss: 1.247257, Train accuracy: 0.6268\n",
      "Val loss: \t1.194280, Val accuracy:   0.6097\n",
      "Train F1: \t0.548853\n",
      "Val F1: \t0.565483\n",
      "---------------------------------------------------- \n",
      "\n",
      "[INFO] Epoch took 6.00min\n",
      "[INFO] starting training for epoch: 15 at 18:19:53\n"
     ]
    },
    {
     "name": "stderr",
     "output_type": "stream",
     "text": [
      "Training progress: 100%|██████████| 294/294 [05:23<00:00,  1.10s/it]\n"
     ]
    },
    {
     "name": "stdout",
     "output_type": "stream",
     "text": [
      "[INFO] starting evaluation for epoch: 15 at 18:25:17\n"
     ]
    },
    {
     "name": "stderr",
     "output_type": "stream",
     "text": [
      "Validation progress: 100%|██████████| 98/98 [00:28<00:00,  3.39it/s]\n"
     ]
    },
    {
     "name": "stdout",
     "output_type": "stream",
     "text": [
      "---------------------------------------------------- \n",
      "[INFO] EPOCH: 15/20\n",
      "Train loss: 1.218550, Train accuracy: 0.6324\n",
      "Val loss: \t1.171870, Val accuracy:   0.6074\n",
      "Train F1: \t0.559551\n",
      "Val F1: \t0.571844\n",
      "---------------------------------------------------- \n",
      "\n",
      "[INFO] Epoch took 5.88min\n",
      "[INFO] starting training for epoch: 16 at 18:25:46\n"
     ]
    },
    {
     "name": "stderr",
     "output_type": "stream",
     "text": [
      "Training progress: 100%|██████████| 294/294 [05:27<00:00,  1.11s/it]\n"
     ]
    },
    {
     "name": "stdout",
     "output_type": "stream",
     "text": [
      "[INFO] starting evaluation for epoch: 16 at 18:31:13\n"
     ]
    },
    {
     "name": "stderr",
     "output_type": "stream",
     "text": [
      "Validation progress: 100%|██████████| 98/98 [00:29<00:00,  3.29it/s]\n"
     ]
    },
    {
     "name": "stdout",
     "output_type": "stream",
     "text": [
      "---------------------------------------------------- \n",
      "[INFO] EPOCH: 16/20\n",
      "Train loss: 1.194802, Train accuracy: 0.6277\n",
      "Val loss: \t1.149684, Val accuracy:   0.6111\n",
      "Train F1: \t0.566468\n",
      "Val F1: \t0.580046\n",
      "---------------------------------------------------- \n",
      "\n",
      "[INFO] Epoch took 5.96min\n",
      "[INFO] starting training for epoch: 17 at 18:31:43\n"
     ]
    },
    {
     "name": "stderr",
     "output_type": "stream",
     "text": [
      "Training progress: 100%|██████████| 294/294 [05:28<00:00,  1.12s/it]\n"
     ]
    },
    {
     "name": "stdout",
     "output_type": "stream",
     "text": [
      "[INFO] starting evaluation for epoch: 17 at 18:37:12\n"
     ]
    },
    {
     "name": "stderr",
     "output_type": "stream",
     "text": [
      "Validation progress: 100%|██████████| 98/98 [00:29<00:00,  3.31it/s]\n"
     ]
    },
    {
     "name": "stdout",
     "output_type": "stream",
     "text": [
      "---------------------------------------------------- \n",
      "[INFO] EPOCH: 17/20\n",
      "Train loss: 1.171642, Train accuracy: 0.6281\n",
      "Val loss: \t1.130318, Val accuracy:   0.6066\n",
      "Train F1: \t0.573578\n",
      "Val F1: \t0.583659\n",
      "---------------------------------------------------- \n",
      "\n",
      "[INFO] Epoch took 5.97min\n",
      "[INFO] starting training for epoch: 18 at 18:37:42\n"
     ]
    },
    {
     "name": "stderr",
     "output_type": "stream",
     "text": [
      "Training progress: 100%|██████████| 294/294 [05:28<00:00,  1.12s/it]\n"
     ]
    },
    {
     "name": "stdout",
     "output_type": "stream",
     "text": [
      "[INFO] starting evaluation for epoch: 18 at 18:43:10\n"
     ]
    },
    {
     "name": "stderr",
     "output_type": "stream",
     "text": [
      "Validation progress: 100%|██████████| 98/98 [00:30<00:00,  3.26it/s]\n"
     ]
    },
    {
     "name": "stdout",
     "output_type": "stream",
     "text": [
      "---------------------------------------------------- \n",
      "[INFO] EPOCH: 18/20\n",
      "Train loss: 1.142465, Train accuracy: 0.6331\n",
      "Val loss: \t1.112210, Val accuracy:   0.6089\n",
      "Train F1: \t0.581836\n",
      "Val F1: \t0.590877\n",
      "---------------------------------------------------- \n",
      "\n",
      "[INFO] Epoch took 5.98min\n",
      "[INFO] starting training for epoch: 19 at 18:43:41\n"
     ]
    },
    {
     "name": "stderr",
     "output_type": "stream",
     "text": [
      "Training progress: 100%|██████████| 294/294 [05:35<00:00,  1.14s/it]\n"
     ]
    },
    {
     "name": "stdout",
     "output_type": "stream",
     "text": [
      "[INFO] starting evaluation for epoch: 19 at 18:49:16\n"
     ]
    },
    {
     "name": "stderr",
     "output_type": "stream",
     "text": [
      "Validation progress: 100%|██████████| 98/98 [00:29<00:00,  3.31it/s]\n"
     ]
    },
    {
     "name": "stdout",
     "output_type": "stream",
     "text": [
      "---------------------------------------------------- \n",
      "[INFO] EPOCH: 19/20\n",
      "Train loss: 1.120670, Train accuracy: 0.6235\n",
      "Val loss: \t1.096125, Val accuracy:   0.6127\n",
      "Train F1: \t0.591019\n",
      "Val F1: \t0.594250\n",
      "---------------------------------------------------- \n",
      "\n",
      "[INFO] Epoch took 6.08min\n",
      "[INFO] starting training for epoch: 20 at 18:49:46\n"
     ]
    },
    {
     "name": "stderr",
     "output_type": "stream",
     "text": [
      "Training progress: 100%|██████████| 294/294 [05:31<00:00,  1.13s/it]\n"
     ]
    },
    {
     "name": "stdout",
     "output_type": "stream",
     "text": [
      "[INFO] starting evaluation for epoch: 20 at 18:55:17\n"
     ]
    },
    {
     "name": "stderr",
     "output_type": "stream",
     "text": [
      "Validation progress: 100%|██████████| 98/98 [00:29<00:00,  3.29it/s]"
     ]
    },
    {
     "name": "stdout",
     "output_type": "stream",
     "text": [
      "---------------------------------------------------- \n",
      "[INFO] EPOCH: 20/20\n",
      "Train loss: 1.099802, Train accuracy: 0.6279\n",
      "Val loss: \t1.076166, Val accuracy:   0.6114\n",
      "Train F1: \t0.599077\n",
      "Val F1: \t0.599114\n",
      "---------------------------------------------------- \n",
      "\n",
      "[INFO] Epoch took 6.02min\n",
      "[INFO] total time taken to train the model: 131.41min\n"
     ]
    },
    {
     "name": "stderr",
     "output_type": "stream",
     "text": [
      "\n"
     ]
    }
   ],
   "source": [
    "# measure how long training is going to take\n",
    "print(\"[INFO] training the network...\")\n",
    "startTime = time.time()\n",
    "min_val_loss = 100\n",
    "early_stopping = False\n",
    "\n",
    "for epoch in range(EPOCHS):\n",
    "    epoch_start = time.time()\n",
    "    print(f\"[INFO] starting training for epoch: {epoch + 1} at {datetime.now().strftime('%H:%M:%S')}\")\n",
    "\n",
    "    train_preds = []\n",
    "    train_target = []\n",
    "\n",
    "    val_preds = []\n",
    "    val_target = []\n",
    "\n",
    "    model.train()\n",
    "\n",
    "    # initialize the total training and validation loss\n",
    "    totalTrainLoss = 0\n",
    "    totalValLoss = 0\n",
    "    # initialize the number of correct predictions in the training\n",
    "    # and validation step\n",
    "    trainCorrect = 0\n",
    "    valCorrect = 0\n",
    "\n",
    "    for data, targets in tqdm(trainDataLoader, desc=\"Training progress\"):\n",
    "        data = data.transpose(1, 3)\n",
    "        data = data.transpose(2, 3)\n",
    "\n",
    "        optimizer.zero_grad()\n",
    "\n",
    "        data = data.float()\n",
    "        data, targets = (data.to(device), targets.to(device))\n",
    "        # Generate predictions\n",
    "        out = model(data)\n",
    "        # Calculate loss\n",
    "        loss = criterion(out, targets)\n",
    "        # Backpropagation\n",
    "        loss.backward()\n",
    "        # Update model parameters\n",
    "        optimizer.step()\n",
    "        # add the loss to the total training loss so far and\n",
    "        # calculate the number of correct predictions\n",
    "        totalTrainLoss += loss\n",
    "\n",
    "        for item in out:\n",
    "            train_preds.append(np.argmax(item.cpu().detach().numpy()))\n",
    "            trainCorrect += (item.argmax(0) == targets.argmax(0)).type(torch.float).sum().item()\n",
    "\n",
    "        for label in targets:\n",
    "            train_target.append(label.cpu().detach().numpy().argmax(0))\n",
    "\n",
    "    with torch.no_grad():\n",
    "        model.eval()\n",
    "        print(f\"[INFO] starting evaluation for epoch: {epoch + 1} at {datetime.now().strftime('%H:%M:%S')}\")\n",
    "        for data, targets in tqdm(valDataLoader, desc=\"Validation progress\"):\n",
    "            data = data.transpose(1, 3)\n",
    "            data = data.transpose(2, 3)\n",
    "\n",
    "            data = data.float()\n",
    "            data, targets = (data.to(device), targets.to(device))\n",
    "            # Generate predictions\n",
    "            out = model(data)\n",
    "            # Calculate loss\n",
    "            totalValLoss += criterion(out, targets)\n",
    "            for item in out:\n",
    "                val_preds.append(np.argmax(item.cpu().detach().numpy()))\n",
    "                valCorrect += (item.argmax(0) == targets.argmax(0)).type(torch.float).sum().item()\n",
    "\n",
    "            for label in targets:\n",
    "                val_target.append(label.cpu().detach().numpy().argmax(0))\n",
    "\n",
    "        # Average validation loss\n",
    "        avg_val_loss = totalValLoss / valSteps\n",
    "        # If the validation loss is at a minimum\n",
    "        if avg_val_loss < min_val_loss:\n",
    "            # Save the model\n",
    "            torch.save(model, checkpoint_path + MODEL_NAME + \".pt\")\n",
    "            epochs_no_improve = 0\n",
    "            min_val_loss = avg_val_loss\n",
    "\n",
    "        else:\n",
    "            epochs_no_improve += 1\n",
    "            # Check early stopping condition\n",
    "            if epochs_no_improve == n_epochs_stop:\n",
    "                early_stopping = True\n",
    "\n",
    "    # calculate the average training and validation loss\n",
    "    avgTrainLoss = totalTrainLoss / trainSteps\n",
    "\n",
    "    # calculate per class accuracy via confusion matrix\n",
    "    matrix = confusion_matrix(val_target, val_preds)\n",
    "    class_acc.append(matrix.diagonal() / matrix.sum(axis=1))\n",
    "\n",
    "    # calculate the training and validation accuracy\n",
    "    trainCorrect = trainCorrect / len(trainDataLoader.dataset)\n",
    "    valCorrect = valCorrect / len(valDataLoader.dataset)\n",
    "\n",
    "    # calculate macro F1 score\n",
    "    trainf1 = f1_score(train_target, train_preds, average='macro')\n",
    "    valf1 = f1_score(val_target, val_preds, average=\"macro\")\n",
    "\n",
    "    # update our training history\n",
    "    metrics[\"train_loss\"].append(avgTrainLoss.cpu().detach().numpy())\n",
    "    metrics[\"train_acc\"].append(trainCorrect)\n",
    "    metrics[\"val_loss\"].append(avg_val_loss.cpu().detach().numpy())\n",
    "    metrics[\"val_acc\"].append(valCorrect)\n",
    "    metrics['trainf1'].append(trainf1)\n",
    "    metrics['valf1'].append(valf1)\n",
    "\n",
    "    # print the model training and validation information\n",
    "    #clear_output()\n",
    "    print_performance_metrics(epoch, avgTrainLoss, trainCorrect, avg_val_loss, valCorrect, trainf1, valf1)\n",
    "\n",
    "    # save performance metrics for each epoch during training\n",
    "    metrics_file = pd.DataFrame.from_dict(metrics)\n",
    "    metrics_file.to_csv(TRAINING_METRICS + MODEL_NAME + \".csv\")\n",
    "\n",
    "    epoch_end = time.time()\n",
    "    print(f\"[INFO] Epoch took {(epoch_end - epoch_start) / 60 :.2f}min\")\n",
    "\n",
    "\n",
    "    if early_stopping:\n",
    "        print(f\"Early stopping after {epoch + 1} Epochs\")\n",
    "        break\n",
    "\n",
    "endTime = time.time()\n",
    "print(f\"[INFO] total time taken to train the model: {(endTime - startTime) / 60 :.2f}min\")"
   ]
  },
  {
   "cell_type": "code",
   "execution_count": 72,
   "metadata": {
    "collapsed": false
   },
   "outputs": [],
   "source": [
    "metrics = pd.DataFrame.from_dict(metrics)\n",
    "metrics.to_csv(TRAINING_METRICS + MODEL_NAME + \".csv\")"
   ]
  },
  {
   "cell_type": "code",
   "execution_count": 73,
   "metadata": {
    "collapsed": false
   },
   "outputs": [
    {
     "data": {
      "text/plain": [
       "<matplotlib.legend.Legend at 0x18655794c48>"
      ]
     },
     "execution_count": 73,
     "metadata": {},
     "output_type": "execute_result"
    },
    {
     "data": {
      "image/png": "[encoded data removed]",
      "text/plain": [
       "<Figure size 1440x936 with 1 Axes>"
      ]
     },
     "metadata": {
      "needs_background": "light"
     },
     "output_type": "display_data"
    }
   ],
   "source": [
    "# plot the training loss and accuracy\n",
    "plt.style.use(\"ggplot\")\n",
    "plt.rcParams['font.size'] = 20\n",
    "plt.figure(figsize=(20, 13))\n",
    "plt.plot(metrics[\"train_loss\"], label=\"train_loss\")\n",
    "plt.plot(metrics[\"val_loss\"], label=\"val_loss\")\n",
    "plt.plot(metrics[\"train_acc\"], label=\"train_acc\")\n",
    "plt.plot(metrics[\"val_acc\"], label=\"val_acc\")\n",
    "plt.plot(metrics[\"trainf1\"], label=\"trainf1\")\n",
    "plt.plot(metrics[\"valf1\"], label=\"valf1\")\n",
    "plt.title(\"Training Loss, Accuracy and F1 on Dataset\")\n",
    "plt.xlabel(\"Epoch #\")\n",
    "plt.ylabel(\"Loss/Accuracy/F1\")\n",
    "plt.legend(loc=\"lower left\")"
   ]
  },
  {
   "cell_type": "code",
   "execution_count": 74,
   "metadata": {
    "collapsed": false
   },
   "outputs": [],
   "source": [
    "torch.cuda.empty_cache()"
   ]
  }
 ],
 "metadata": {
  "kernelspec": {
   "display_name": "Python 3.7.9 64-bit",
   "language": "python",
   "name": "python3"
  },
  "language_info": {
   "codemirror_mode": {
    "name": "ipython",
    "version": 3
   },
   "file_extension": ".py",
   "mimetype": "text/x-python",
   "name": "python",
   "nbconvert_exporter": "python",
   "pygments_lexer": "ipython3",
   "version": "3.7.9"
  },
  "orig_nbformat": 4,
  "vscode": {
   "interpreter": {
    "hash": "45037c9fa964e33746a67959e611b1255904e81b18931a74a47f598c93f55abd"
   }
  }
 },
 "nbformat": 4,
 "nbformat_minor": 2
}
