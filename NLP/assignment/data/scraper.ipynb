{
 "cells": [
  {
   "cell_type": "code",
   "execution_count": 1,
   "metadata": {},
   "outputs": [],
   "source": [
    "import pandas as pd\n",
    "import requests\n",
    "from tqdm import tqdm\n",
    "\n",
    "fandom_url = \"https://pokemon.fandom.com/wiki/\"\n",
    "gameinfo_url = \"https://pokemon.gameinfo.io/en/pokemon/\"\n",
    "pokemondb_url = \"https://pokemondb.net/pokedex/\"\n",
    "\n",
    "def get_bulbapedia_url(pokemon):\n",
    "    return f\"https://bulbapedia.bulbagarden.net/wiki/{pokemon}_(Pok%C3%A9mon)\"\n",
    "\n",
    "pokemon_df = pd.read_csv(\"./pokemon.csv\")"
   ]
  },
  {
   "cell_type": "code",
   "execution_count": 6,
   "metadata": {},
   "outputs": [],
   "source": [
    "pokemon_name_list = pokemon_df.loc[pokemon_df[\"Generation\"] == 1][\"Name\"].to_list()\n",
    "#pokemon_name_list = pokemon_df[\"Name\"].to_list()\n",
    "pokemondb_mapping = {\"Nidoran♀\":\"nidoran-f\",\"Nidoran♂\":\"nidoran-m\",\"Farfetch'd\":\"Farfetchd\",\"Mr. Mime\":\"mr-mime\"}"
   ]
  },
  {
   "cell_type": "code",
   "execution_count": 7,
   "metadata": {},
   "outputs": [],
   "source": [
    "def get_index(pokemon):\n",
    "    return pokemon_df.loc[pokemon_df[\"Name\"] == pokemon][\"#\"].values[0]"
   ]
  },
  {
   "cell_type": "code",
   "execution_count": 8,
   "metadata": {},
   "outputs": [],
   "source": [
    "import re\n",
    "CLEANR = re.compile('<.*?>|&([a-z0-9]+|#[0-9]{1,6}|#x[0-9a-f]{1,6});') \n",
    "\n",
    "def cleanhtml(raw_html):\n",
    "  cleantext = re.sub(CLEANR, '', raw_html)\n",
    "  return cleantext"
   ]
  },
  {
   "cell_type": "code",
   "execution_count": 9,
   "metadata": {},
   "outputs": [],
   "source": [
    "def get_fandom_data(pokemon):\n",
    "    text = requests.get(fandom_url+pokemon).text\n",
    "    try:\n",
    "        if \"<span class=\\\"mw-headline\\\" id=\\\"Biology\\\">Biology</span>\" in text:\n",
    "            subtext = text.split(\"<span class=\\\"mw-headline\\\" id=\\\"Biology\\\">Biology</span>\")[1].split(\"<span class=\\\"mw-headline\\\" id=\\\"Game\")[0]\n",
    "        else:\n",
    "            subtext = text.split(\"<span class=\\\"mw-headline\\\" id=\\\"Physiology\\\">Physiology</span>\")[1].split(\"<span class=\\\"mw-headline\\\" id=\\\"Game\")[0]\n",
    "    except:\n",
    "        print(f\"Fandom problem {pokemon}\")\n",
    "        return None\n",
    "    return subtext\n",
    "\n",
    "def get_bulbapedia_data(pokemon):\n",
    "    bulba_url = get_bulbapedia_url(pokemon)\n",
    "    text = requests.get(bulba_url).text\n",
    "    try:\n",
    "        subtext = text.split(\"<span class=\\\"mw-headline\\\" id=\\\"Biology\\\">Biology</span>\")[1].split(\"<span class=\\\"mw-headline\\\" id=\\\"In_the_anime\\\">In the anime</span>\")[0]\n",
    "    except:\n",
    "        print(f\"Bulbapedia problem {pokemon}\")\n",
    "        return None\n",
    "    return subtext\n",
    "\n",
    "def get_gameinfo_data(pokemon):\n",
    "    text = requests.get(gameinfo_url+pokemon).text\n",
    "    try:\n",
    "        subtext = text.split(\"<article class=\\\"pokemon-about\\\">\")[1].split(\"</article>\")[0]\n",
    "    except:\n",
    "        print(f\"Gameinfo problem {pokemon}\")\n",
    "        return None\n",
    "    return subtext\n",
    "\n",
    "def get_pokedex_data(pokemon):\n",
    "    if pokemon in pokemondb_mapping:\n",
    "        pokemon = pokemondb_mapping[pokemon]\n",
    "    text = requests.get(pokemondb_url+pokemon).text\n",
    "    try:\n",
    "        subtext = text.split(\"<h2>Pokédex entries</h2>\")[1].split(\"<h2>Moves learned by Bulbasaur</h2>\")[0].split(\"<tbody>\")[1].split(\"</tbody>\")[0]\n",
    "        subtext = re.sub(r'<th>.*?</th>', '', subtext)\n",
    "    except:\n",
    "        print(f\"Pokemondb problem {pokemon}\")\n",
    "        return None\n",
    "    return subtext\n",
    "\n",
    "def clean_data(subtext):\n",
    "    subtext = cleanhtml(subtext).split(\".\")\n",
    "\n",
    "    sentence_list = []\n",
    "    for sentence in subtext:\n",
    "        if \"artwork\" in sentence:\n",
    "            continue\n",
    "        if \"\\n\" in sentence:\n",
    "            sentence = sentence.split(\"\\n\")[-1]\n",
    "        sentence = sentence.replace(\"\\t\", \"\")\n",
    "        sentence = sentence.replace(\"\\\"\", \"\")\n",
    "        sentence = sentence.replace(\";\", \" \")\n",
    "        sentence = re.sub(' +', ' ', sentence)\n",
    "        sentence = sentence.lstrip().rstrip()\n",
    "        if sentence != \"\" and sentence not in sentence_list:\n",
    "            sentence_list.append(sentence)\n",
    "    return sentence_list"
   ]
  },
  {
   "cell_type": "code",
   "execution_count": null,
   "metadata": {},
   "outputs": [],
   "source": [
    "pokemon_desc_dict = {}\n",
    "for pokemon in tqdm(pokemon_name_list):\n",
    "    fandom_subtext = get_fandom_data(pokemon)\n",
    "    bulba_subtext = get_bulbapedia_data(pokemon)\n",
    "    gameinfo_subtext = get_gameinfo_data(pokemon)\n",
    "    pokedex_subtext = get_pokedex_data(pokemon)\n",
    "    pokemon_list = []\n",
    "    if fandom_subtext != None:\n",
    "        pokemon_list += clean_data(fandom_subtext)\n",
    "    if bulba_subtext != None:\n",
    "        pokemon_list += clean_data(bulba_subtext)\n",
    "    if gameinfo_subtext != None:\n",
    "        pokemon_list += clean_data(gameinfo_subtext)\n",
    "    if pokedex_subtext != None:\n",
    "        pokemon_list += clean_data(pokedex_subtext)\n",
    "\n",
    "    pokemon_desc_dict[pokemon] = pokemon_list"
   ]
  },
  {
   "cell_type": "code",
   "execution_count": 11,
   "metadata": {},
   "outputs": [],
   "source": [
    "with open('./all_pokemon_description.csv','w', encoding=\"utf-8\") as file:\n",
    "    file.write(\"text;name;labels\")\n",
    "    file.write(\"\\n\")\n",
    "    for pokemon in pokemon_desc_dict:\n",
    "        for sentence in pokemon_desc_dict[pokemon]:\n",
    "            file.write(f\"{sentence};{pokemon};{get_index(pokemon)-1}\")\n",
    "            file.write(\"\\n\")"
   ]
  },
  {
   "cell_type": "code",
   "execution_count": 12,
   "metadata": {},
   "outputs": [
    {
     "data": {
      "text/plain": [
       "752"
      ]
     },
     "execution_count": 12,
     "metadata": {},
     "output_type": "execute_result"
    }
   ],
   "source": [
    "len(pokemon_desc_dict)"
   ]
  }
 ],
 "metadata": {
  "kernelspec": {
   "display_name": "Python 3.9.12 ('base')",
   "language": "python",
   "name": "python3"
  },
  "language_info": {
   "codemirror_mode": {
    "name": "ipython",
    "version": 3
   },
   "file_extension": ".py",
   "mimetype": "text/x-python",
   "name": "python",
   "nbconvert_exporter": "python",
   "pygments_lexer": "ipython3",
   "version": "3.9.12"
  },
  "orig_nbformat": 4,
  "vscode": {
   "interpreter": {
    "hash": "487b39d4bc77932302fbf00c8aa33c8cae154b5482e37c69cf95409c8a1ceaae"
   }
  }
 },
 "nbformat": 4,
 "nbformat_minor": 2
}
