{
 "cells": [
  {
   "cell_type": "code",
   "execution_count": 1,
   "metadata": {},
   "outputs": [],
   "source": [
    "from datasets import load_dataset, ClassLabel\n",
    "from transformers import AutoTokenizer\n",
    "from sklearn.preprocessing import LabelEncoder\n",
    "import pandas as pd\n",
    "import numpy as np"
   ]
  },
  {
   "cell_type": "code",
   "execution_count": 2,
   "metadata": {},
   "outputs": [
    {
     "name": "stderr",
     "output_type": "stream",
     "text": [
      "Using custom data configuration data-c77318cc70bb336a\n"
     ]
    },
    {
     "name": "stdout",
     "output_type": "stream",
     "text": [
      "Downloading and preparing dataset csv/data to C:/Users/CYBORGX/.cache/huggingface/datasets/csv/data-c77318cc70bb336a/0.0.0/6b34fb8fcf56f7c8ba51dc895bfa2bfbe43546f190a60fcf74bb5e8afdcc2317...\n"
     ]
    },
    {
     "name": "stderr",
     "output_type": "stream",
     "text": [
      "Downloading data files: 100%|██████████| 1/1 [00:00<00:00, 997.93it/s]\n",
      "Extracting data files: 100%|██████████| 1/1 [00:00<00:00, 500.22it/s]\n",
      "                            \r"
     ]
    },
    {
     "name": "stdout",
     "output_type": "stream",
     "text": [
      "Dataset csv downloaded and prepared to C:/Users/CYBORGX/.cache/huggingface/datasets/csv/data-c77318cc70bb336a/0.0.0/6b34fb8fcf56f7c8ba51dc895bfa2bfbe43546f190a60fcf74bb5e8afdcc2317. Subsequent calls will reuse this data.\n"
     ]
    },
    {
     "name": "stderr",
     "output_type": "stream",
     "text": [
      "100%|██████████| 1/1 [00:00<00:00, 399.84it/s]\n"
     ]
    }
   ],
   "source": [
    "pokemon_descriptions = load_dataset('../data/', delimiter=';')"
   ]
  },
  {
   "cell_type": "code",
   "execution_count": 3,
   "metadata": {},
   "outputs": [],
   "source": [
    "NUM_CLASSES = len(np.unique(pokemon_descriptions['train']['labels']))"
   ]
  },
  {
   "cell_type": "code",
   "execution_count": 4,
   "metadata": {},
   "outputs": [],
   "source": [
    "# new_features = pokemon_descriptions['train'].features.copy()\n",
    "# new_features[\"labels\"] = ClassLabel(num_classes=len(np.unique(pokemon_descriptions['train']['labels'])))\n",
    "# pokemon_descriptions = pokemon_descriptions.cast(new_features)"
   ]
  },
  {
   "cell_type": "code",
   "execution_count": 5,
   "metadata": {},
   "outputs": [
    {
     "data": {
      "text/plain": [
       "DatasetDict({\n",
       "    train: Dataset({\n",
       "        features: ['text', 'name', 'labels'],\n",
       "        num_rows: 10789\n",
       "    })\n",
       "})"
      ]
     },
     "execution_count": 5,
     "metadata": {},
     "output_type": "execute_result"
    }
   ],
   "source": [
    "pokemon_descriptions"
   ]
  },
  {
   "cell_type": "markdown",
   "metadata": {},
   "source": [
    "Train split stuff"
   ]
  },
  {
   "cell_type": "code",
   "execution_count": 6,
   "metadata": {},
   "outputs": [
    {
     "name": "stderr",
     "output_type": "stream",
     "text": [
      "Parameter 'generator'=Generator(PCG64) of the transform datasets.arrow_dataset.Dataset.train_test_split couldn't be hashed properly, a random hash was used instead. Make sure your transforms and parameters are serializable with pickle or dill for the dataset fingerprinting and caching to work. If you reuse this transform, the caching mechanism will consider it to be different from the previous calls and recompute everything. This warning is only showed once. Subsequent hashing failures won't be showed.\n"
     ]
    }
   ],
   "source": [
    "split_pokemon_descriptions = pokemon_descriptions['train'].train_test_split(test_size=0.2, shuffle=True)"
   ]
  },
  {
   "cell_type": "code",
   "execution_count": 7,
   "metadata": {},
   "outputs": [
    {
     "data": {
      "text/plain": [
       "DatasetDict({\n",
       "    train: Dataset({\n",
       "        features: ['text', 'name', 'labels'],\n",
       "        num_rows: 8631\n",
       "    })\n",
       "    test: Dataset({\n",
       "        features: ['text', 'name', 'labels'],\n",
       "        num_rows: 2158\n",
       "    })\n",
       "})"
      ]
     },
     "execution_count": 7,
     "metadata": {},
     "output_type": "execute_result"
    }
   ],
   "source": [
    "split_pokemon_descriptions"
   ]
  },
  {
   "cell_type": "markdown",
   "metadata": {},
   "source": [
    "Tokenization"
   ]
  },
  {
   "cell_type": "code",
   "execution_count": 8,
   "metadata": {},
   "outputs": [],
   "source": [
    "tokenizer_bert = AutoTokenizer.from_pretrained(\"bert-base-uncased\")"
   ]
  },
  {
   "cell_type": "code",
   "execution_count": 9,
   "metadata": {},
   "outputs": [
    {
     "name": "stderr",
     "output_type": "stream",
     "text": [
      " 89%|████████▉ | 8/9 [00:00<00:00, 10.67ba/s]\n",
      " 67%|██████▋   | 2/3 [00:00<00:00,  8.25ba/s]\n"
     ]
    }
   ],
   "source": [
    "tokenized_pokemon_descriptions = split_pokemon_descriptions.map(lambda example: tokenizer_bert(example['text'], truncation=True, padding=True), batched=True)\n",
    "\n",
    "tokenized_pokemon_descriptions['train'] = tokenized_pokemon_descriptions['train'].remove_columns(['text', 'name'])\n",
    "tokenized_pokemon_descriptions['test'] = tokenized_pokemon_descriptions['test'].remove_columns(['text', 'name'])"
   ]
  },
  {
   "cell_type": "markdown",
   "metadata": {},
   "source": [
    "Fine tuning"
   ]
  },
  {
   "cell_type": "code",
   "execution_count": 10,
   "metadata": {},
   "outputs": [
    {
     "data": {
      "text/plain": [
       "DatasetDict({\n",
       "    train: Dataset({\n",
       "        features: ['labels', 'input_ids', 'token_type_ids', 'attention_mask'],\n",
       "        num_rows: 8631\n",
       "    })\n",
       "    test: Dataset({\n",
       "        features: ['labels', 'input_ids', 'token_type_ids', 'attention_mask'],\n",
       "        num_rows: 2158\n",
       "    })\n",
       "})"
      ]
     },
     "execution_count": 10,
     "metadata": {},
     "output_type": "execute_result"
    }
   ],
   "source": [
    "tokenized_pokemon_descriptions"
   ]
  },
  {
   "cell_type": "code",
   "execution_count": 11,
   "metadata": {},
   "outputs": [],
   "source": [
    "\n",
    "from sklearn.metrics import ConfusionMatrixDisplay, confusion_matrix\n",
    "from datasets import load_metric"
   ]
  },
  {
   "cell_type": "code",
   "execution_count": 12,
   "metadata": {},
   "outputs": [],
   "source": [
    "def compute_metrics(eval_pred):\n",
    "    \"\"\" Computes the metrics given a tuple of (logits, labels) \"\"\"\n",
    "\n",
    "    load_accuracy = load_metric(\"accuracy\")\n",
    "    precision_metric = load_metric('precision')\n",
    "    recall_metric = load_metric('recall')\n",
    "    load_f1 = load_metric(\"f1\")\n",
    "\n",
    "    logits, labels = eval_pred\n",
    "    predictions = np.argmax(logits, axis=-1)\n",
    "    accuracy = load_accuracy.compute(\n",
    "        predictions=predictions, references=labels)[\"accuracy\"]\n",
    "    precision = precision_metric.compute(\n",
    "        predictions=predictions, references=labels, average=\"macro\", zero_division=0)[\"precision\"]\n",
    "    recall = recall_metric.compute(\n",
    "        predictions=predictions, references=labels, average=\"macro\", zero_division=0)[\"recall\"]\n",
    "    f1 = load_f1.compute(predictions=predictions,\n",
    "                         references=labels, average=\"macro\")[\"f1\"]\n",
    "\n",
    "    return {\n",
    "        \"accuracy\": accuracy,\n",
    "        \"f1\": f1,\n",
    "        \"precision\": precision,\n",
    "        \"recall\": recall,\n",
    "    }\n"
   ]
  },
  {
   "cell_type": "code",
   "execution_count": 13,
   "metadata": {},
   "outputs": [],
   "source": [
    "def print_confusion_matrix(labels, predictions):\n",
    "    \"\"\" Prints a confusion matrix for given labels and predictions. \"\"\"\n",
    "    cm = confusion_matrix(labels, predictions)\n",
    "    disp = ConfusionMatrixDisplay(\n",
    "        confusion_matrix=cm, display_labels=list(id2label.values()))\n",
    "    disp.plot()\n"
   ]
  },
  {
   "cell_type": "code",
   "execution_count": 14,
   "metadata": {},
   "outputs": [],
   "source": [
    "from transformers import (\n",
    "    AutoModelForSequenceClassification,\n",
    "    DataCollatorWithPadding,\n",
    "    PreTrainedModel,\n",
    "    Trainer,\n",
    "    TrainingArguments,\n",
    "    PreTrainedTokenizerFast\n",
    ")\n"
   ]
  },
  {
   "cell_type": "code",
   "execution_count": 15,
   "metadata": {},
   "outputs": [],
   "source": [
    "def setup_trainer_for_finetuning(\n",
    "        model: PreTrainedModel,\n",
    "        tokenizer: PreTrainedTokenizerFast) -> Trainer:\n",
    "\n",
    "    finetuning_args = TrainingArguments(\n",
    "        output_dir=\"./results\",\n",
    "        learning_rate=1e-5,\n",
    "        per_device_train_batch_size=16,\n",
    "        per_device_eval_batch_size=16,\n",
    "        num_train_epochs=10,\n",
    "        weight_decay=0.01,\n",
    "        warmup_ratio=0.01,\n",
    "        evaluation_strategy=\"epoch\",\n",
    "        save_strategy=\"epoch\",\n",
    "        save_total_limit=2,\n",
    "        seed=42,\n",
    "        dataloader_num_workers=6,\n",
    "        load_best_model_at_end=True\n",
    "    )\n",
    "\n",
    "    return Trainer(\n",
    "        model=model,\n",
    "        args=finetuning_args,\n",
    "        train_dataset=tokenized_pokemon_descriptions['train'],\n",
    "        eval_dataset=tokenized_pokemon_descriptions['test'],\n",
    "        tokenizer=tokenizer,\n",
    "        data_collator=DataCollatorWithPadding(tokenizer=tokenizer),\n",
    "        compute_metrics=compute_metrics\n",
    "    )\n"
   ]
  },
  {
   "cell_type": "markdown",
   "metadata": {},
   "source": [
    "Model"
   ]
  },
  {
   "cell_type": "code",
   "execution_count": 16,
   "metadata": {},
   "outputs": [
    {
     "name": "stderr",
     "output_type": "stream",
     "text": [
      "Some weights of the model checkpoint at bert-base-uncased were not used when initializing BertForSequenceClassification: ['cls.predictions.transform.dense.weight', 'cls.seq_relationship.bias', 'cls.predictions.transform.LayerNorm.weight', 'cls.seq_relationship.weight', 'cls.predictions.transform.LayerNorm.bias', 'cls.predictions.bias', 'cls.predictions.decoder.weight', 'cls.predictions.transform.dense.bias']\n",
      "- This IS expected if you are initializing BertForSequenceClassification from the checkpoint of a model trained on another task or with another architecture (e.g. initializing a BertForSequenceClassification model from a BertForPreTraining model).\n",
      "- This IS NOT expected if you are initializing BertForSequenceClassification from the checkpoint of a model that you expect to be exactly identical (initializing a BertForSequenceClassification model from a BertForSequenceClassification model).\n",
      "Some weights of BertForSequenceClassification were not initialized from the model checkpoint at bert-base-uncased and are newly initialized: ['classifier.weight', 'classifier.bias']\n",
      "You should probably TRAIN this model on a down-stream task to be able to use it for predictions and inference.\n"
     ]
    }
   ],
   "source": [
    "bert_model = AutoModelForSequenceClassification.from_pretrained(\"bert-base-uncased\", num_labels=NUM_CLASSES)"
   ]
  },
  {
   "cell_type": "code",
   "execution_count": 17,
   "metadata": {},
   "outputs": [],
   "source": [
    "trainer = setup_trainer_for_finetuning(model=bert_model, tokenizer=tokenizer_bert)"
   ]
  },
  {
   "cell_type": "code",
   "execution_count": 18,
   "metadata": {},
   "outputs": [
    {
     "name": "stderr",
     "output_type": "stream",
     "text": [
      "c:\\Users\\CYBORGX\\anaconda3\\envs\\birdclef\\lib\\site-packages\\transformers\\optimization.py:306: FutureWarning: This implementation of AdamW is deprecated and will be removed in a future version. Use the PyTorch implementation torch.optim.AdamW instead, or set `no_deprecation_warning=True` to disable this warning\n",
      "  warnings.warn(\n",
      "***** Running training *****\n",
      "  Num examples = 8631\n",
      "  Num Epochs = 10\n",
      "  Instantaneous batch size per device = 16\n",
      "  Total train batch size (w. parallel, distributed & accumulation) = 16\n",
      "  Gradient Accumulation steps = 1\n",
      "  Total optimization steps = 5400\n",
      "  Number of trainable parameters = 109598359\n",
      "  9%|▉         | 500/5400 [02:20<19:31,  4.18it/s] "
     ]
    },
    {
     "name": "stdout",
     "output_type": "stream",
     "text": [
      "{'loss': 4.9967, 'learning_rate': 9.165731387953612e-06, 'epoch': 0.93}\n"
     ]
    },
    {
     "name": "stderr",
     "output_type": "stream",
     "text": [
      " 10%|█         | 540/5400 [02:31<19:21,  4.19it/s]***** Running Evaluation *****\n",
      "  Num examples = 2158\n",
      "  Batch size = 16\n",
      "C:\\Users\\CYBORGX\\AppData\\Local\\Temp\\ipykernel_12264\\3270434908.py:4: FutureWarning: load_metric is deprecated and will be removed in the next major version of datasets. Use 'evaluate.load' instead, from the new library 🤗 Evaluate: https://huggingface.co/docs/evaluate\n",
      "  load_accuracy = load_metric(\"accuracy\")\n",
      "                                                  \n",
      " 10%|█         | 540/5400 [02:58<19:21,  4.19it/s]Saving model checkpoint to ./results\\checkpoint-540\n",
      "Configuration saved in ./results\\checkpoint-540\\config.json\n"
     ]
    },
    {
     "name": "stdout",
     "output_type": "stream",
     "text": [
      "{'eval_loss': 4.8011860847473145, 'eval_accuracy': 0.05792400370713624, 'eval_f1': 0.027275958091292383, 'eval_precision': 0.03710849614775308, 'eval_recall': 0.04716188812677515, 'eval_runtime': 26.9047, 'eval_samples_per_second': 80.209, 'eval_steps_per_second': 5.018, 'epoch': 1.0}\n"
     ]
    },
    {
     "name": "stderr",
     "output_type": "stream",
     "text": [
      "Model weights saved in ./results\\checkpoint-540\\pytorch_model.bin\n",
      "tokenizer config file saved in ./results\\checkpoint-540\\tokenizer_config.json\n",
      "Special tokens file saved in ./results\\checkpoint-540\\special_tokens_map.json\n",
      " 19%|█▊        | 1000/5400 [05:31<20:55,  3.50it/s]  "
     ]
    },
    {
     "name": "stdout",
     "output_type": "stream",
     "text": [
      "{'loss': 4.657, 'learning_rate': 8.23045267489712e-06, 'epoch': 1.85}\n"
     ]
    },
    {
     "name": "stderr",
     "output_type": "stream",
     "text": [
      " 20%|██        | 1080/5400 [05:53<17:23,  4.14it/s]***** Running Evaluation *****\n",
      "  Num examples = 2158\n",
      "  Batch size = 16\n",
      "                                                   \n",
      " 20%|██        | 1080/5400 [06:19<17:23,  4.14it/s]Saving model checkpoint to ./results\\checkpoint-1080\n",
      "Configuration saved in ./results\\checkpoint-1080\\config.json\n"
     ]
    },
    {
     "name": "stdout",
     "output_type": "stream",
     "text": [
      "{'eval_loss': 4.332317352294922, 'eval_accuracy': 0.23493975903614459, 'eval_f1': 0.19564365416993557, 'eval_precision': 0.32006452700772986, 'eval_recall': 0.2178746471893228, 'eval_runtime': 25.6473, 'eval_samples_per_second': 84.141, 'eval_steps_per_second': 5.264, 'epoch': 2.0}\n"
     ]
    },
    {
     "name": "stderr",
     "output_type": "stream",
     "text": [
      "Model weights saved in ./results\\checkpoint-1080\\pytorch_model.bin\n",
      "tokenizer config file saved in ./results\\checkpoint-1080\\tokenizer_config.json\n",
      "Special tokens file saved in ./results\\checkpoint-1080\\special_tokens_map.json\n",
      "Deleting older checkpoint [results\\checkpoint-2720] due to args.save_total_limit\n",
      " 28%|██▊       | 1500/5400 [08:41<16:43,  3.89it/s]   "
     ]
    },
    {
     "name": "stdout",
     "output_type": "stream",
     "text": [
      "{'loss': 4.244, 'learning_rate': 7.295173961840629e-06, 'epoch': 2.78}\n"
     ]
    },
    {
     "name": "stderr",
     "output_type": "stream",
     "text": [
      " 30%|███       | 1620/5400 [09:13<15:48,  3.98it/s]***** Running Evaluation *****\n",
      "  Num examples = 2158\n",
      "  Batch size = 16\n",
      "                                                   \n",
      " 30%|███       | 1620/5400 [09:41<15:48,  3.98it/s]Saving model checkpoint to ./results\\checkpoint-1620\n",
      "Configuration saved in ./results\\checkpoint-1620\\config.json\n"
     ]
    },
    {
     "name": "stdout",
     "output_type": "stream",
     "text": [
      "{'eval_loss': 3.951887845993042, 'eval_accuracy': 0.3480074142724745, 'eval_f1': 0.31986310869361434, 'eval_precision': 0.499087726521985, 'eval_recall': 0.3298514996391093, 'eval_runtime': 27.4441, 'eval_samples_per_second': 78.633, 'eval_steps_per_second': 4.919, 'epoch': 3.0}\n"
     ]
    },
    {
     "name": "stderr",
     "output_type": "stream",
     "text": [
      "Model weights saved in ./results\\checkpoint-1620\\pytorch_model.bin\n",
      "tokenizer config file saved in ./results\\checkpoint-1620\\tokenizer_config.json\n",
      "Special tokens file saved in ./results\\checkpoint-1620\\special_tokens_map.json\n",
      "Deleting older checkpoint [results\\checkpoint-540] due to args.save_total_limit\n",
      " 37%|███▋      | 2000/5400 [11:58<14:57,  3.79it/s]   "
     ]
    },
    {
     "name": "stdout",
     "output_type": "stream",
     "text": [
      "{'loss': 3.8645, 'learning_rate': 6.359895248784138e-06, 'epoch': 3.7}\n"
     ]
    },
    {
     "name": "stderr",
     "output_type": "stream",
     "text": [
      " 40%|████      | 2160/5400 [12:41<12:48,  4.21it/s]***** Running Evaluation *****\n",
      "  Num examples = 2158\n",
      "  Batch size = 16\n",
      "                                                   \n",
      " 40%|████      | 2160/5400 [13:10<12:48,  4.21it/s]Saving model checkpoint to ./results\\checkpoint-2160\n",
      "Configuration saved in ./results\\checkpoint-2160\\config.json\n"
     ]
    },
    {
     "name": "stdout",
     "output_type": "stream",
     "text": [
      "{'eval_loss': 3.6255218982696533, 'eval_accuracy': 0.4416126042632067, 'eval_f1': 0.4163837590491882, 'eval_precision': 0.5728349940381983, 'eval_recall': 0.42582444279229026, 'eval_runtime': 28.5336, 'eval_samples_per_second': 75.63, 'eval_steps_per_second': 4.731, 'epoch': 4.0}\n"
     ]
    },
    {
     "name": "stderr",
     "output_type": "stream",
     "text": [
      "Model weights saved in ./results\\checkpoint-2160\\pytorch_model.bin\n",
      "tokenizer config file saved in ./results\\checkpoint-2160\\tokenizer_config.json\n",
      "Special tokens file saved in ./results\\checkpoint-2160\\special_tokens_map.json\n",
      "Deleting older checkpoint [results\\checkpoint-1080] due to args.save_total_limit\n",
      " 46%|████▋     | 2500/5400 [15:03<12:40,  3.81it/s]   "
     ]
    },
    {
     "name": "stdout",
     "output_type": "stream",
     "text": [
      "{'loss': 3.5679, 'learning_rate': 5.424616535727647e-06, 'epoch': 4.63}\n"
     ]
    },
    {
     "name": "stderr",
     "output_type": "stream",
     "text": [
      " 50%|█████     | 2700/5400 [15:57<10:38,  4.23it/s]***** Running Evaluation *****\n",
      "  Num examples = 2158\n",
      "  Batch size = 16\n",
      "                                                   \n",
      " 50%|█████     | 2700/5400 [16:25<10:38,  4.23it/s]Saving model checkpoint to ./results\\checkpoint-2700\n",
      "Configuration saved in ./results\\checkpoint-2700\\config.json\n"
     ]
    },
    {
     "name": "stdout",
     "output_type": "stream",
     "text": [
      "{'eval_loss': 3.3850677013397217, 'eval_accuracy': 0.47775718257645966, 'eval_f1': 0.44923547508702455, 'eval_precision': 0.5827578744167299, 'eval_recall': 0.46122466150762725, 'eval_runtime': 26.8956, 'eval_samples_per_second': 80.236, 'eval_steps_per_second': 5.019, 'epoch': 5.0}\n"
     ]
    },
    {
     "name": "stderr",
     "output_type": "stream",
     "text": [
      "Model weights saved in ./results\\checkpoint-2700\\pytorch_model.bin\n",
      "tokenizer config file saved in ./results\\checkpoint-2700\\tokenizer_config.json\n",
      "Special tokens file saved in ./results\\checkpoint-2700\\special_tokens_map.json\n",
      "Deleting older checkpoint [results\\checkpoint-1620] due to args.save_total_limit\n",
      " 56%|█████▌    | 3000/5400 [18:12<10:24,  3.84it/s]   "
     ]
    },
    {
     "name": "stdout",
     "output_type": "stream",
     "text": [
      "{'loss': 3.3076, 'learning_rate': 4.4893378226711564e-06, 'epoch': 5.56}\n"
     ]
    },
    {
     "name": "stderr",
     "output_type": "stream",
     "text": [
      " 60%|██████    | 3240/5400 [19:16<08:23,  4.29it/s]***** Running Evaluation *****\n",
      "  Num examples = 2158\n",
      "  Batch size = 16\n",
      "                                                   \n",
      " 60%|██████    | 3240/5400 [19:43<08:23,  4.29it/s]Saving model checkpoint to ./results\\checkpoint-3240\n",
      "Configuration saved in ./results\\checkpoint-3240\\config.json\n"
     ]
    },
    {
     "name": "stdout",
     "output_type": "stream",
     "text": [
      "{'eval_loss': 3.19734525680542, 'eval_accuracy': 0.4995366079703429, 'eval_f1': 0.47740757626064034, 'eval_precision': 0.60955173111143, 'eval_recall': 0.4840206145811907, 'eval_runtime': 26.359, 'eval_samples_per_second': 81.869, 'eval_steps_per_second': 5.122, 'epoch': 6.0}\n"
     ]
    },
    {
     "name": "stderr",
     "output_type": "stream",
     "text": [
      "Model weights saved in ./results\\checkpoint-3240\\pytorch_model.bin\n",
      "tokenizer config file saved in ./results\\checkpoint-3240\\tokenizer_config.json\n",
      "Special tokens file saved in ./results\\checkpoint-3240\\special_tokens_map.json\n",
      "Deleting older checkpoint [results\\checkpoint-2160] due to args.save_total_limit\n",
      " 65%|██████▍   | 3500/5400 [21:17<08:17,  3.82it/s]  "
     ]
    },
    {
     "name": "stdout",
     "output_type": "stream",
     "text": [
      "{'loss': 3.0871, 'learning_rate': 3.5540591096146653e-06, 'epoch': 6.48}\n"
     ]
    },
    {
     "name": "stderr",
     "output_type": "stream",
     "text": [
      " 70%|███████   | 3780/5400 [22:32<06:18,  4.29it/s]***** Running Evaluation *****\n",
      "  Num examples = 2158\n",
      "  Batch size = 16\n",
      "                                                   \n",
      " 70%|███████   | 3780/5400 [22:59<06:18,  4.29it/s]Saving model checkpoint to ./results\\checkpoint-3780\n",
      "Configuration saved in ./results\\checkpoint-3780\\config.json\n"
     ]
    },
    {
     "name": "stdout",
     "output_type": "stream",
     "text": [
      "{'eval_loss': 3.060359001159668, 'eval_accuracy': 0.5125115848007414, 'eval_f1': 0.4929267250306803, 'eval_precision': 0.6116053860371308, 'eval_recall': 0.4985010710157553, 'eval_runtime': 26.1494, 'eval_samples_per_second': 82.526, 'eval_steps_per_second': 5.163, 'epoch': 7.0}\n"
     ]
    },
    {
     "name": "stderr",
     "output_type": "stream",
     "text": [
      "Model weights saved in ./results\\checkpoint-3780\\pytorch_model.bin\n",
      "tokenizer config file saved in ./results\\checkpoint-3780\\tokenizer_config.json\n",
      "Special tokens file saved in ./results\\checkpoint-3780\\special_tokens_map.json\n",
      "Deleting older checkpoint [results\\checkpoint-2700] due to args.save_total_limit\n",
      " 74%|███████▍  | 4000/5400 [24:19<06:08,  3.80it/s]  "
     ]
    },
    {
     "name": "stdout",
     "output_type": "stream",
     "text": [
      "{'loss': 2.935, 'learning_rate': 2.6187803965581742e-06, 'epoch': 7.41}\n"
     ]
    },
    {
     "name": "stderr",
     "output_type": "stream",
     "text": [
      " 80%|████████  | 4320/5400 [25:43<04:13,  4.26it/s]***** Running Evaluation *****\n",
      "  Num examples = 2158\n",
      "  Batch size = 16\n",
      "                                                   \n",
      " 80%|████████  | 4320/5400 [26:09<04:13,  4.26it/s]Saving model checkpoint to ./results\\checkpoint-4320\n",
      "Configuration saved in ./results\\checkpoint-4320\\config.json\n"
     ]
    },
    {
     "name": "stdout",
     "output_type": "stream",
     "text": [
      "{'eval_loss': 2.9679372310638428, 'eval_accuracy': 0.5227062094531975, 'eval_f1': 0.5034268710635513, 'eval_precision': 0.617590542622659, 'eval_recall': 0.5080073328219019, 'eval_runtime': 25.5272, 'eval_samples_per_second': 84.537, 'eval_steps_per_second': 5.288, 'epoch': 8.0}\n"
     ]
    },
    {
     "name": "stderr",
     "output_type": "stream",
     "text": [
      "Model weights saved in ./results\\checkpoint-4320\\pytorch_model.bin\n",
      "tokenizer config file saved in ./results\\checkpoint-4320\\tokenizer_config.json\n",
      "Special tokens file saved in ./results\\checkpoint-4320\\special_tokens_map.json\n",
      "Deleting older checkpoint [results\\checkpoint-3240] due to args.save_total_limit\n",
      " 83%|████████▎ | 4500/5400 [27:20<03:59,  3.76it/s]  "
     ]
    },
    {
     "name": "stdout",
     "output_type": "stream",
     "text": [
      "{'loss': 2.7985, 'learning_rate': 1.6835016835016838e-06, 'epoch': 8.33}\n"
     ]
    },
    {
     "name": "stderr",
     "output_type": "stream",
     "text": [
      " 90%|█████████ | 4860/5400 [28:56<02:06,  4.26it/s]***** Running Evaluation *****\n",
      "  Num examples = 2158\n",
      "  Batch size = 16\n",
      "                                                   \n",
      " 90%|█████████ | 4860/5400 [29:23<02:06,  4.26it/s]Saving model checkpoint to ./results\\checkpoint-4860\n",
      "Configuration saved in ./results\\checkpoint-4860\\config.json\n"
     ]
    },
    {
     "name": "stdout",
     "output_type": "stream",
     "text": [
      "{'eval_loss': 2.9113423824310303, 'eval_accuracy': 0.530583873957368, 'eval_f1': 0.5137641464477635, 'eval_precision': 0.6227573925641647, 'eval_recall': 0.5169661092010213, 'eval_runtime': 26.149, 'eval_samples_per_second': 82.527, 'eval_steps_per_second': 5.163, 'epoch': 9.0}\n"
     ]
    },
    {
     "name": "stderr",
     "output_type": "stream",
     "text": [
      "Model weights saved in ./results\\checkpoint-4860\\pytorch_model.bin\n",
      "tokenizer config file saved in ./results\\checkpoint-4860\\tokenizer_config.json\n",
      "Special tokens file saved in ./results\\checkpoint-4860\\special_tokens_map.json\n",
      "Deleting older checkpoint [results\\checkpoint-3780] due to args.save_total_limit\n",
      " 93%|█████████▎| 5000/5400 [30:23<01:44,  3.82it/s]  "
     ]
    },
    {
     "name": "stdout",
     "output_type": "stream",
     "text": [
      "{'loss': 2.7423, 'learning_rate': 7.482229704451928e-07, 'epoch': 9.26}\n"
     ]
    },
    {
     "name": "stderr",
     "output_type": "stream",
     "text": [
      "100%|██████████| 5400/5400 [32:09<00:00,  4.28it/s]***** Running Evaluation *****\n",
      "  Num examples = 2158\n",
      "  Batch size = 16\n",
      "                                                   \n",
      "100%|██████████| 5400/5400 [32:36<00:00,  4.28it/s]Saving model checkpoint to ./results\\checkpoint-5400\n",
      "Configuration saved in ./results\\checkpoint-5400\\config.json\n"
     ]
    },
    {
     "name": "stdout",
     "output_type": "stream",
     "text": [
      "{'eval_loss': 2.8929872512817383, 'eval_accuracy': 0.5347544022242817, 'eval_f1': 0.5207951767211005, 'eval_precision': 0.6321200985362881, 'eval_recall': 0.5220100753233059, 'eval_runtime': 26.6159, 'eval_samples_per_second': 81.079, 'eval_steps_per_second': 5.072, 'epoch': 10.0}\n"
     ]
    },
    {
     "name": "stderr",
     "output_type": "stream",
     "text": [
      "Model weights saved in ./results\\checkpoint-5400\\pytorch_model.bin\n",
      "tokenizer config file saved in ./results\\checkpoint-5400\\tokenizer_config.json\n",
      "Special tokens file saved in ./results\\checkpoint-5400\\special_tokens_map.json\n",
      "Deleting older checkpoint [results\\checkpoint-4320] due to args.save_total_limit\n",
      "\n",
      "\n",
      "Training completed. Do not forget to share your model on huggingface.co/models =)\n",
      "\n",
      "\n",
      "Loading best model from ./results\\checkpoint-5400 (score: 2.8929872512817383).\n",
      "100%|██████████| 5400/5400 [32:43<00:00,  4.28it/s]Deleting older checkpoint [results\\checkpoint-4860] due to args.save_total_limit\n",
      "Deleting older checkpoint [results\\checkpoint-5400] due to args.save_total_limit\n"
     ]
    },
    {
     "name": "stdout",
     "output_type": "stream",
     "text": [
      "{'train_runtime': 1963.7595, 'train_samples_per_second': 43.951, 'train_steps_per_second': 2.75, 'train_loss': 3.5502230043764467, 'epoch': 10.0}\n"
     ]
    },
    {
     "name": "stderr",
     "output_type": "stream",
     "text": [
      "100%|██████████| 5400/5400 [32:44<00:00,  2.75it/s]\n"
     ]
    },
    {
     "data": {
      "text/plain": [
       "TrainOutput(global_step=5400, training_loss=3.5502230043764467, metrics={'train_runtime': 1963.7595, 'train_samples_per_second': 43.951, 'train_steps_per_second': 2.75, 'train_loss': 3.5502230043764467, 'epoch': 10.0})"
      ]
     },
     "execution_count": 18,
     "metadata": {},
     "output_type": "execute_result"
    }
   ],
   "source": [
    "trainer.train()"
   ]
  },
  {
   "cell_type": "code",
   "execution_count": 20,
   "metadata": {},
   "outputs": [
    {
     "name": "stderr",
     "output_type": "stream",
     "text": [
      "Saving model checkpoint to ./results/saved-models/\n",
      "Configuration saved in ./results/saved-models/config.json\n",
      "Model weights saved in ./results/saved-models/pytorch_model.bin\n",
      "tokenizer config file saved in ./results/saved-models/tokenizer_config.json\n",
      "Special tokens file saved in ./results/saved-models/special_tokens_map.json\n"
     ]
    }
   ],
   "source": [
    "trainer.save_model('./results/saved-models/')"
   ]
  }
 ],
 "metadata": {
  "kernelspec": {
   "display_name": "Python 3.9.13 ('birdclef')",
   "language": "python",
   "name": "python3"
  },
  "language_info": {
   "codemirror_mode": {
    "name": "ipython",
    "version": 3
   },
   "file_extension": ".py",
   "mimetype": "text/x-python",
   "name": "python",
   "nbconvert_exporter": "python",
   "pygments_lexer": "ipython3",
   "version": "3.9.13"
  },
  "orig_nbformat": 4,
  "vscode": {
   "interpreter": {
    "hash": "a48a9edd0c746375c1d1284f7b88af601086e84b8f520d63fb12c80657ee0433"
   }
  }
 },
 "nbformat": 4,
 "nbformat_minor": 2
}
