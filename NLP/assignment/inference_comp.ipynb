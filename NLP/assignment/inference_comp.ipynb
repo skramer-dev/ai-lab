{
 "cells": [
  {
   "cell_type": "code",
   "execution_count": 103,
   "metadata": {},
   "outputs": [],
   "source": [
    "from transformers import BertForSequenceClassification\n",
    "from scipy.special import softmax\n",
    "import pandas as pd\n",
    "from IPython.display import Image\n",
    "from transformers import BertTokenizer\n",
    "from scipy.special import softmax\n",
    "from IPython.display import Image\n",
    "from datasets import load_dataset\n",
    "import torch\n",
    "import numpy as np\n",
    "from openprompt import PromptDataLoader, PromptForClassification\n",
    "from openprompt.data_utils import InputExample\n",
    "from openprompt.plms import load_plm\n",
    "from openprompt.prompts import ManualTemplate, ManualVerbalizer, ManualTemplate"
   ]
  },
  {
   "cell_type": "code",
   "execution_count": 104,
   "metadata": {},
   "outputs": [],
   "source": [
    "def forward(model, encoding, n):\n",
    "    outputs = model(**encoding)\n",
    "    predictions = outputs.logits.detach().numpy()[0]\n",
    "    predictions = [(idx, single_output) for idx, single_output in enumerate((softmax(predictions)*100))]\n",
    "    predictions.sort(key=lambda x: x[1], reverse=True)\n",
    "    return predictions[:n]\n",
    "\n",
    "def predict(model, inference_text, tokenizer,n):\n",
    "    inference_input = InputExample(text_a = inference_text)\n",
    "    inference_dataloader = PromptDataLoader(dataset=[inference_input], template=promptTemplate, tokenizer=tokenizer,\n",
    "        tokenizer_wrapper_class=WrapperClass, max_seq_length=250, decoder_max_length=3,\n",
    "        batch_size=1,shuffle=False, teacher_forcing=False, predict_eos_token=False,\n",
    "        truncate_method=\"head\")\n",
    "\n",
    "    for index, inputs in enumerate(inference_dataloader):\n",
    "        logits = model(inputs)\n",
    "    predictions = [(idx, single_output) for idx, single_output in enumerate((softmax(logits.detach().numpy().tolist()[0])*100))]\n",
    "    predictions.sort(key=lambda x: x[1], reverse=True)\n",
    "    return predictions[:n]\n",
    "\n",
    "def create_input_text_list(input_text):\n",
    "    input_text_list = [[]]\n",
    "    line_input_length = int(len(input_text.split())/3)\n",
    "    max_length = 10\n",
    "    line_max = max_length if line_input_length < max_length else line_input_length if len(input_text) > max_length * 3 else max_length\n",
    "    print(line_max)\n",
    "    if len(input_text) > line_max:\n",
    "        word_list = input_text.split()\n",
    "        word_count = 0\n",
    "        word_idx = 0\n",
    "        for word in word_list:\n",
    "            if word_count < line_max:\n",
    "                input_text_list[word_idx].append(word)\n",
    "                word_count += 1\n",
    "            else:\n",
    "                word_count = 0\n",
    "                word_idx += 1\n",
    "                input_text_list.append([])\n",
    "        input_text_list = [\" \".join(text_list) for text_list in input_text_list]\n",
    "    else:\n",
    "        input_text_list.append(input_text)\n",
    "    return input_text_list\n",
    "\n",
    "def create_pretty_string(model_names, input_list, model_labels, top_n):\n",
    "    output_string = \"\"\n",
    "    border = \"  |  \"\n",
    "    input_title = \"Input\"\n",
    "    for input_text in input_list:\n",
    "        input_text_list = create_input_text_list(input_text)\n",
    "        output_string += \"######\\n\"\n",
    "        first_column_length = len(max(input_text_list + [input_title], key=len))\n",
    "        output_string += input_title\n",
    "        output_string += \"\".ljust(first_column_length - len(input_title), \" \")\n",
    "        for column_idx, name in enumerate(model_names):\n",
    "            output_string += border\n",
    "            output_string += name\n",
    "            column_length = len(max(model_labels[column_idx] + [name], key=len)) - len(name)\n",
    "            output_string += \"\".ljust(column_length, \" \")\n",
    "        output_string += border\n",
    "        output_string += \"\\n\"\n",
    "        output_string += (u'\\u2500'*(len(output_string))) + \"\\n\"\n",
    "        for row_idx in range(top_n):\n",
    "            if row_idx < len(input_text_list):\n",
    "                output_string += input_text_list[row_idx]\n",
    "                row_length = first_column_length - len(input_text_list[row_idx])\n",
    "                output_string += \"\".ljust(row_length, \" \")\n",
    "            else:\n",
    "                output_string += \"\".ljust(first_column_length, \" \")\n",
    "            output_string += border\n",
    "            for model_idx, model_output in enumerate(model_labels):\n",
    "                max_length_column = len(max(model_output + [model_names[model_idx]], key=len))\n",
    "                whitespace_length = max_length_column - len(model_output[row_idx])\n",
    "                output_string += model_output[row_idx]\n",
    "                output_string += \"\".ljust(whitespace_length, \" \")\n",
    "                output_string += border\n",
    "            output_string += \"\\n\"\n",
    "        output_string += \"######\\n\"\n",
    "    return output_string\n",
    "\n",
    "def pretty_inference(model_list, model_names, input_list, tokenizer_list, top_n):\n",
    "    for input_text in input_list:\n",
    "        model_labels = [[] for _ in range(len(model_list))]\n",
    "        for idx, model in enumerate(model_list):\n",
    "            tokenizer = tokenizer_list[idx]\n",
    "            if \"prompting\" in model_names[idx]:\n",
    "                predictions = predict(model, input_text, tokenizer, top_n)\n",
    "            else:\n",
    "                encoding = tokenizer(input_text, return_tensors=\"pt\", truncation=True, padding=True)\n",
    "                predictions = forward(model, encoding, top_n)\n",
    "            for prediction in predictions:\n",
    "                pk_name = mappings.loc[mappings[\"index\"]==prediction[0]][\"name\"].values[0]\n",
    "                model_labels[idx].append(f\"{pk_name}:{prediction[1]:.2f}%\")\n",
    "        create_pretty_string(model_names, input_list, model_labels, top_n)"
   ]
  },
  {
   "cell_type": "code",
   "execution_count": 105,
   "metadata": {},
   "outputs": [
    {
     "name": "stderr",
     "output_type": "stream",
     "text": [
      "Using pad_token, but it is not set yet.\n",
      "Using custom data configuration dataset-294e9b13f49dafc6\n",
      "Found cached dataset csv (C:/Users/fst/.cache/huggingface/datasets/csv/dataset-294e9b13f49dafc6/0.0.0/6b34fb8fcf56f7c8ba51dc895bfa2bfbe43546f190a60fcf74bb5e8afdcc2317)\n"
     ]
    },
    {
     "data": {
      "application/vnd.jupyter.widget-view+json": {
       "model_id": "d504d06935bf4532b348ea61d0f6e392",
       "version_major": 2,
       "version_minor": 0
      },
      "text/plain": [
       "  0%|          | 0/1 [00:00<?, ?it/s]"
      ]
     },
     "metadata": {},
     "output_type": "display_data"
    }
   ],
   "source": [
    "# Dependencies\n",
    "plm, prompt_tokenizer, model_config, WrapperClass = load_plm(\"gpt2\",\"gpt2\")\n",
    "mappings = pd.read_csv('data/pokemon_mapping.csv')\n",
    "name_to_label_dict = mappings[[\"name\",\"index\"]].set_index('index').to_dict()[\"name\"]\n",
    "pokemon_descriptions = load_dataset('data/dataset/', delimiter=';')\n",
    "NUM_CLASSES = np.unique(pokemon_descriptions['train']['labels'])"
   ]
  },
  {
   "cell_type": "code",
   "execution_count": 106,
   "metadata": {},
   "outputs": [
    {
     "data": {
      "text/plain": [
       "<All keys matched successfully>"
      ]
     },
     "execution_count": 106,
     "metadata": {},
     "output_type": "execute_result"
    }
   ],
   "source": [
    "promptTemplate = ManualTemplate(\n",
    "    text = '{\"placeholder\":\"text_a\"} the pokemon is {\"mask\"}',\n",
    "    tokenizer = prompt_tokenizer,\n",
    ")\n",
    "\n",
    "promptVerbalizer = ManualVerbalizer(\n",
    "    classes = NUM_CLASSES,\n",
    "    label_words = name_to_label_dict,\n",
    "    tokenizer = prompt_tokenizer,\n",
    ")\n",
    "\n",
    "promptLoadedModel = PromptForClassification(\n",
    "    template = promptTemplate,\n",
    "    plm = plm,\n",
    "    verbalizer = promptVerbalizer,\n",
    "    freeze_plm= True\n",
    ")\n",
    "\n",
    "promptLoadedModel.load_state_dict(state_dict=torch.load(\"prompting/checkp_copy/gpt2_trained_model.cp\"))"
   ]
  },
  {
   "cell_type": "code",
   "execution_count": 107,
   "metadata": {},
   "outputs": [
    {
     "name": "stderr",
     "output_type": "stream",
     "text": [
      "tokenizing: 1it [00:00, 499.74it/s]\n"
     ]
    },
    {
     "name": "stdout",
     "output_type": "stream",
     "text": [
      "######\n",
      "                                         |  bert-base        |  bert-large         |  gpt2-prompting     |  \n",
      "────────────────────────────────────────────────────────────────────────────────────────────────────────────────────\n",
      "                                         |  Exeggutor:4.62%  |  Dragonite:26.77%   |  Wartortle:48.29%   |  \n",
      "                                         |  Mr. Mime:2.59%   |  Aerodactyl:21.14%  |  Wigglytuff:48.29%  |  \n",
      "Walking stone monster with a huge body.  |  Golem:2.42%      |  Haunter:4.37%      |  Grimer:1.51%       |  \n",
      "                                         |  Marowak:2.27%    |  Arcanine:4.06%     |  Golem:0.70%        |  \n",
      "                                         |  Machop:2.22%     |  Gyarados:3.11%     |  Graveler:0.24%     |  \n",
      "\n",
      "######\n",
      "\n"
     ]
    },
    {
     "name": "stderr",
     "output_type": "stream",
     "text": [
      "tokenizing: 1it [00:00, 499.62it/s]\n"
     ]
    },
    {
     "name": "stdout",
     "output_type": "stream",
     "text": [
      "######\n",
      "                                                         |  bert-base        |  bert-large      |  gpt2-prompting     |  \n",
      "─────────────────────────────────────────────────────────────────────────────────────────────────────────────────────────────────\n",
      "                                                         |  Exeggutor:2.73%  |  Onix:18.61%     |  Wartortle:47.80%   |  \n",
      "                                                         |  Haunter:2.25%    |  Geodude:18.31%  |  Wigglytuff:47.80%  |  \n",
      "Walking stone monster with a huge body. It hates water.  |  Golem:2.12%      |  Golem:15.95%    |  Metapod:0.96%      |  \n",
      "                                                         |  Dugtrio:1.86%    |  Rhyhorn:8.45%   |  Grimer:0.93%       |  \n",
      "                                                         |  Meowth:1.76%     |  Rhydon:4.69%    |  Onix:0.92%         |  \n",
      "\n",
      "######\n",
      "\n"
     ]
    },
    {
     "name": "stderr",
     "output_type": "stream",
     "text": [
      "tokenizing: 1it [00:00, 499.74it/s]\n"
     ]
    },
    {
     "name": "stdout",
     "output_type": "stream",
     "text": [
      "######\n",
      "                                                                                      |  bert-base         |  bert-large        |  gpt2-prompting    |  \n",
      "────────────────────────────────────────────────────────────────────────────────────────────────────────────────────────────────────────────────────────────────\n",
      "                                                                                      |  Poliwrath:3.15%   |  Exeggutor:44.72%  |  Onix:73.81%       |  \n",
      "                                                                                      |  Scyther:2.83%     |  Nidoqueen:26.21%  |  Golem:5.13%       |  \n",
      "Walking stone monster with a huge body. It hates water. Favorit attack is earthshake  |  Vulpix:2.21%      |  Pinsir:6.37%      |  Horsea:4.84%      |  \n",
      "                                                                                      |  Hitmonchan:2.13%  |  Ekans:3.98%       |  Wartortle:4.09%   |  \n",
      "                                                                                      |  Mewtwo:2.09%      |  Cubone:3.10%      |  Wigglytuff:4.09%  |  \n",
      "\n",
      "######\n",
      "\n"
     ]
    },
    {
     "name": "stderr",
     "output_type": "stream",
     "text": [
      "tokenizing: 1it [00:00, 1005.35it/s]\n"
     ]
    },
    {
     "name": "stdout",
     "output_type": "stream",
     "text": [
      "######\n",
      "                                                       |  bert-base         |  bert-large         |  gpt2-prompting    |  \n",
      "──────────────────────────────────────────────────────────────────────────────────────────────────────────────────────────────────\n",
      "                                                       |  Pidgey:3.15%      |  Butterfree:28.46%  |  Sandslash:12.84%  |  \n",
      "                                                       |  Pinsir:2.79%      |  Caterpie:24.06%    |  Rattata:10.19%    |  \n",
      "Insect with sharp claws only found in the safari zone  |  Spearow:2.47%     |  Beedrill:22.04%    |  Spearow:8.57%     |  \n",
      "                                                       |  Aerodactyl:2.38%  |  Venomoth:7.47%     |  Sandshrew:7.74%   |  \n",
      "                                                       |  Pidgeotto:2.31%   |  Weedle:5.30%       |  Bulbasaur:7.42%   |  \n",
      "\n",
      "######\n",
      "\n"
     ]
    },
    {
     "name": "stderr",
     "output_type": "stream",
     "text": [
      "tokenizing: 1it [00:00, 1832.37it/s]\n"
     ]
    },
    {
     "name": "stdout",
     "output_type": "stream",
     "text": [
      "######\n",
      "                      |  bert-base        |  bert-large      |  gpt2-prompting  |  \n",
      "───────────────────────────────────────────────────────────────────────────────────────────\n",
      "                      |  Abra:8.88%       |  Snorlax:98.87%  |  Oddish:46.59%   |  \n",
      "                      |  Snorlax:7.38%    |  Drowzee:0.14%   |  Onix:12.87%     |  \n",
      "only wakes up to eat  |  Lickitung:4.65%  |  Psyduck:0.08%   |  Drowzee:9.05%   |  \n",
      "                      |  Clefairy:3.52%   |  Weezing:0.07%   |  Ditto:9.05%     |  \n",
      "                      |  Eevee:3.29%      |  Slowpoke:0.05%  |  Abra:6.45%      |  \n",
      "\n",
      "######\n",
      "\n"
     ]
    },
    {
     "name": "stderr",
     "output_type": "stream",
     "text": [
      "tokenizing: 1it [00:00, 1002.46it/s]\n"
     ]
    },
    {
     "name": "stdout",
     "output_type": "stream",
     "text": [
      "######\n",
      "                                               |  bert-base        |  bert-large       |  gpt2-prompting   |  \n",
      "──────────────────────────────────────────────────────────────────────────────────────────────────────────────────────\n",
      "                                               |  Jynx:3.29%       |  Onix:97.44%      |  Geodude:32.81%   |  \n",
      "                                               |  Graveler:2.76%   |  Graveler:0.26%   |  Onix:28.03%      |  \n",
      "A rock pokemon which looks like a stone snake  |  Golem:2.59%      |  Sandslash:0.20%  |  Articuno:12.55%  |  \n",
      "                                               |  Geodude:2.51%    |  Geodude:0.18%    |  Rhyhorn:5.44%    |  \n",
      "                                               |  Sandslash:2.29%  |  Golem:0.10%      |  Rhydon:5.44%     |  \n",
      "\n",
      "######\n",
      "\n"
     ]
    },
    {
     "name": "stderr",
     "output_type": "stream",
     "text": [
      "tokenizing: 1it [00:00, 1001.27it/s]\n"
     ]
    },
    {
     "name": "stdout",
     "output_type": "stream",
     "text": [
      "######\n",
      "                    |  bert-base        |  bert-large       |  gpt2-prompting   |  \n",
      "───────────────────────────────────────────────────────────────────────────────────────────\n",
      "                    |  Golem:3.52%      |  Onix:62.83%      |  Onix:38.99%      |  \n",
      "                    |  Jynx:2.97%       |  Pinsir:5.77%     |  Articuno:18.32%  |  \n",
      "A stone like snake  |  Marowak:2.80%    |  Dugtrio:5.42%    |  Moltres:9.35%    |  \n",
      "                    |  Gengar:2.67%     |  Ekans:4.38%      |  Gengar:3.91%     |  \n",
      "                    |  Sandslash:2.53%  |  Exeggutor:2.81%  |  Haunter:3.01%    |  \n",
      "\n",
      "######\n",
      "\n"
     ]
    },
    {
     "name": "stderr",
     "output_type": "stream",
     "text": [
      "tokenizing: 1it [00:00, 499.86it/s]\n"
     ]
    },
    {
     "name": "stdout",
     "output_type": "stream",
     "text": [
      "######\n",
      "                                                                                                |  bert-base         |  bert-large         |  gpt2-prompting     |  \n",
      "────────────────────────────────────────────────────────────────────────────────────────────────────────────────────────────────────────────────────────────────────────────\n",
      "                                                                                                |  Venusaur:5.31%    |  Oddish:28.47%      |  Jigglypuff:27.01%  |  \n",
      "                                                                                                |  Jigglypuff:4.49%  |  Jigglypuff:15.30%  |  Jynx:27.01%        |  \n",
      "The pokemon has a small Flower on the head and likes to sing. During the night it is sleeping.  |  Tangela:4.34%     |  Vileplume:10.03%   |  Mewtwo:7.08%       |  \n",
      "                                                                                                |  Vileplume:2.93%   |  Venonat:4.61%      |  Mew:7.08%          |  \n",
      "                                                                                                |  Jynx:2.02%        |  Venusaur:3.22%     |  Marowak:4.49%      |  \n",
      "\n",
      "######\n",
      "\n"
     ]
    },
    {
     "name": "stderr",
     "output_type": "stream",
     "text": [
      "tokenizing: 1it [00:00, 499.50it/s]\n"
     ]
    },
    {
     "name": "stdout",
     "output_type": "stream",
     "text": [
      "######\n",
      "                                                                 |  bert-base        |  bert-large     |  gpt2-prompting  |  \n",
      "─────────────────────────────────────────────────────────────────────────────────────────────────────────────────────────────────────\n",
      "                                                                 |  Ninetales:6.86%  |  Mew:98.76%     |  Mewtwo:49.53%   |  \n",
      "                                                                 |  Raichu:3.39%     |  Golbat:0.14%   |  Mew:49.53%      |  \n",
      "Many believe that all other Pokémon are descendants of this one  |  Eevee:2.69%      |  Mewtwo:0.10%   |  Chansey:0.58%   |  \n",
      "                                                                 |  Cubone:2.63%     |  Lapras:0.09%   |  Lapras:0.13%    |  \n",
      "                                                                 |  Pikachu:2.24%    |  Weezing:0.07%  |  Dratini:0.09%   |  \n",
      "\n",
      "######\n",
      "\n"
     ]
    },
    {
     "name": "stderr",
     "output_type": "stream",
     "text": [
      "tokenizing: 1it [00:00, 499.68it/s]\n"
     ]
    },
    {
     "name": "stdout",
     "output_type": "stream",
     "text": [
      "######\n",
      "                                                         |  bert-base        |  bert-large        |  gpt2-prompting  |  \n",
      "────────────────────────────────────────────────────────────────────────────────────────────────────────────────────────────────\n",
      "                                                         |  Magnemite:4.74%  |  Blastoise:29.68%  |  Mewtwo:49.90%   |  \n",
      "                                                         |  Geodude:3.50%    |  Mewtwo:14.84%     |  Mew:49.90%      |  \n",
      "It was the result of various experiments of team rocket  |  Magmar:3.34%     |  Charizard:13.18%  |  Alakazam:0.06%  |  \n",
      "                                                         |  Magneton:3.08%   |  Machamp:5.65%     |  Abra:0.03%      |  \n",
      "                                                         |  Porygon:2.75%    |  Kingler:4.95%     |  Paras:0.02%     |  \n",
      "\n",
      "######\n",
      "\n"
     ]
    },
    {
     "name": "stderr",
     "output_type": "stream",
     "text": [
      "tokenizing: 1it [00:00, 499.14it/s]\n"
     ]
    },
    {
     "name": "stdout",
     "output_type": "stream",
     "text": [
      "######\n",
      "                                                                                                                                         |  bert-base        |  bert-large        |  gpt2-prompting   |  \n",
      "─────────────────────────────────────────────────────────────────────────────────────────────────────────────────────────────────────────────────────────────────────────────────────────────────────────────────\n",
      "                                                                                                                                         |  Tauros:4.05%     |  Dragonite:81.83%  |  Gyarados:96.35%  |  \n",
      "                                                                                                                                         |  Gyarados:3.76%   |  Electabuzz:2.15%  |  Magmar:0.74%     |  \n",
      "A snake dragon like pokemon with a long tail. It is an higher evolution and is really strong. One of the top five is using this pokemon  |  Marowak:3.56%    |  Mewtwo:2.09%      |  Magikarp:0.74%   |  \n",
      "                                                                                                                                         |  Machoke:3.01%    |  Gyarados:1.40%    |  Ponyta:0.33%     |  \n",
      "                                                                                                                                         |  Ninetales:2.20%  |  Aerodactyl:1.28%  |  Lapras:0.28%     |  \n",
      "\n",
      "######\n",
      "\n"
     ]
    },
    {
     "name": "stderr",
     "output_type": "stream",
     "text": [
      "tokenizing: 1it [00:00, 333.33it/s]\n"
     ]
    },
    {
     "name": "stdout",
     "output_type": "stream",
     "text": [
      "######\n",
      "                                                                                                           |  bert-base        |  bert-large        |  gpt2-prompting   |  \n",
      "───────────────────────────────────────────────────────────────────────────────────────────────────────────────────────────────────────────────────────────────────────────────────\n",
      "                                                                                                           |  Pikachu:3.56%    |  Zapdos:96.98%     |  Pikachu:95.66%   |  \n",
      "                                                                                                           |  Growlithe:3.52%  |  Moltres:0.57%     |  Bulbasaur:1.12%  |  \n",
      "It is yellow and it's cheeks have red circles. It has long ears and likes thunder. Ash is his best friend  |  Marowak:3.21%    |  Tauros:0.23%      |  Raichu:0.30%     |  \n",
      "                                                                                                           |  Tauros:3.06%     |  Electrode:0.23%   |  Magmar:0.28%     |  \n",
      "                                                                                                           |  Machoke:2.07%    |  Charmander:0.15%  |  Magikarp:0.28%   |  \n",
      "\n",
      "######\n",
      "\n"
     ]
    },
    {
     "name": "stderr",
     "output_type": "stream",
     "text": [
      "tokenizing: 1it [00:00, 500.75it/s]\n"
     ]
    },
    {
     "name": "stdout",
     "output_type": "stream",
     "text": [
      "######\n",
      "                               |  bert-base        |  bert-large       |  gpt2-prompting  |  \n",
      "─────────────────────────────────────────────────────────────────────────────────────────────────────\n",
      "                               |  Alakazam:15.91%  |  Alakazam:98.03%  |  Kadabra:99.60%  |  \n",
      "                               |  Mr. Mime:4.04%   |  Kadabra:0.98%    |  Alakazam:0.30%  |  \n",
      "A psychic pokemon with spoons  |  Kadabra:4.00%    |  Gengar:0.14%     |  Gengar:0.06%    |  \n",
      "                               |  Gengar:2.26%     |  Mewtwo:0.13%     |  Drowzee:0.01%   |  \n",
      "                               |  Hypno:1.68%      |  Rattata:0.08%    |  Ditto:0.01%     |  \n",
      "\n",
      "######\n",
      "\n"
     ]
    },
    {
     "name": "stderr",
     "output_type": "stream",
     "text": [
      "tokenizing: 1it [00:00, 1001.74it/s]\n"
     ]
    },
    {
     "name": "stdout",
     "output_type": "stream",
     "text": [
      "######\n",
      "                                |  bert-base         |  bert-large       |  gpt2-prompting   |  \n",
      "────────────────────────────────────────────────────────────────────────────────────────────────────────\n",
      "                                |  Charizard:10.81%  |  Moltres:87.28%   |  Moltres:65.48%   |  \n",
      "                                |  Moltres:8.26%     |  Arcanine:1.68%   |  Articuno:12.77%  |  \n",
      "Red legendary dragon with fire  |  Zapdos:4.05%      |  Magmar:1.38%     |  Marowak:11.35%   |  \n",
      "                                |  Dragonair:2.67%   |  Articuno:1.36%   |  Magmar:2.87%     |  \n",
      "                                |  Articuno:2.33%    |  Dragonair:0.88%  |  Magikarp:2.87%   |  \n",
      "\n",
      "######\n",
      "\n"
     ]
    }
   ],
   "source": [
    "mappings = pd.read_csv('data/pokemon_mapping.csv')\n",
    "\n",
    "model = [BertForSequenceClassification.from_pretrained(\"saved-model-base/\"),BertForSequenceClassification.from_pretrained(\"saved-model/\"),promptLoadedModel]\n",
    "tokenizer = [BertTokenizer.from_pretrained(\"saved-model-base/\"),BertTokenizer.from_pretrained(\"saved-model/\"),prompt_tokenizer]\n",
    "\n",
    "input_text = [\n",
    "    \"Walking stone monster with a huge body.\",\n",
    "    \"Walking stone monster with a huge body. It hates water.\",\n",
    "    \"Walking stone monster with a huge body. It hates water. Favorit attack is earthshake\",\n",
    "    \"Insect with sharp claws only found in the safari zone\",\n",
    "    \"only wakes up to eat\",\n",
    "    \"A rock pokemon which looks like a stone snake\",\n",
    "    \"A stone like snake\",\n",
    "    \"The pokemon has a small Flower on the head and likes to sing. During the night it is sleeping.\",\n",
    "    \"Many believe that all other Pokémon are descendants of this one\",\n",
    "    \"It was the result of various experiments of team rocket\",\n",
    "    \"A snake dragon like pokemon with a long tail. It is an higher evolution and is really strong. One of the top five is using this pokemon\",\n",
    "    \"It is yellow and it's cheeks have red circles. It has long ears and likes thunder. Ash is his best friend\",\n",
    "    \"A psychic pokemon with spoons\",\n",
    "    \"Red legendary dragon with fire\",\n",
    "]\n",
    "\n",
    "pretty_inference(model_list=model, tokenizer_list=tokenizer,model_names=[\"bert-base\",\"bert-large\", \"gpt2-prompting\"],\n",
    "input_list=input_text, top_n=5)"
   ]
  }
 ],
 "metadata": {
  "kernelspec": {
   "display_name": "Python 3.9.12 ('base')",
   "language": "python",
   "name": "python3"
  },
  "language_info": {
   "codemirror_mode": {
    "name": "ipython",
    "version": 3
   },
   "file_extension": ".py",
   "mimetype": "text/x-python",
   "name": "python",
   "nbconvert_exporter": "python",
   "pygments_lexer": "ipython3",
   "version": "3.9.12"
  },
  "orig_nbformat": 4,
  "vscode": {
   "interpreter": {
    "hash": "487b39d4bc77932302fbf00c8aa33c8cae154b5482e37c69cf95409c8a1ceaae"
   }
  }
 },
 "nbformat": 4,
 "nbformat_minor": 2
}
