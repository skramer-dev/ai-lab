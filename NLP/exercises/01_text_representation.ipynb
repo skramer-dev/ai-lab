{
  "cells": [
    {
      "cell_type": "markdown",
      "metadata": {
        "id": "Tin_rAmAzJvv"
      },
      "source": [
        "# Text Repräsentationen\n",
        "In diesem Teil des Labors wird es um eine Einfürung in Text Repräsentationen gehen. \n",
        "\n",
        "Wie Ihr vermutlich schon wisst, repräsentieren Computer Daten in Binärcode. Um Euch das Problem, das Computer mit Texten haben aufzuzeigen, hat euch der Computer eine Nachricht hinterlassen, die ihr Entschlüsseln müsst... "
      ]
    },
    {
      "cell_type": "code",
      "execution_count": 1,
      "metadata": {
        "id": "Na68UqOJx8Jx"
      },
      "outputs": [],
      "source": [
        "binary_message = \"01001001 00100000 01110011 01110000 01100101 01100001 01101011 00100000 01100010 01101001 01101110 01100001 01110010 01111001 00100000 01101111 01101110 01101100 01111001 00100001 00001010 01001001 00100000 01101100 01101001 01101011 01100101 00100000 01101110 01110101 01101101 01100010 01100101 01110010 01110011 00101100 00100000 01101110 01101111 01110100 00100000 01110100 01100101 01111000 01110100 00101110\""
      ]
    },
    {
      "cell_type": "code",
      "execution_count": 2,
      "metadata": {
        "id": "I_qao4JA1D0F"
      },
      "outputs": [
        {
          "name": "stdout",
          "output_type": "stream",
          "text": [
            "I speak binary only!\n",
            "I like numbers, not text.\n"
          ]
        }
      ],
      "source": [
        "binary_chars = binary_message.split()\n",
        "message = \"\"\n",
        "for binary_char in binary_chars:\n",
        "    binary_char_integer = int(binary_char, 2)\n",
        "    character = chr(binary_char_integer)\n",
        "    message += character\n",
        "print(message)"
      ]
    },
    {
      "cell_type": "markdown",
      "metadata": {
        "id": "nMwRdW3J1WQv"
      },
      "source": [
        "Um Maschinen Text verständlich zu machen, müssen wir die Texte in eine andere Repräsentation bringen. Eine Kurze Einführung bieten die beiden folgenden Warm Up Aufgaben."
      ]
    },
    {
      "cell_type": "markdown",
      "metadata": {
        "id": "ioeYUuprcJOs"
      },
      "source": [
        "## Tokenization\n",
        "Eine der ersten elementaren Schritte, um eine natürliche Sprache mit einem Computer zu verarbeiten ist das Aufteilen eines Fließtextes in kleinere Teile. Meist werden Texte direkt in sogenannte Tokens geteilt (Tokenization). Ein Token ist oftmals ein einzelnes Wort, es kann aber auch aus mehreren Wörtern bestehen, wenn diese zusammen für eine Entität stehen, z.B. die Stadt „New York“. Neben der Aufteilung in Tokens ist es auch möglich, einen Text zuerst in Sätze zu splitten (Sentence Tokenization). Welche Kombination der Methoden angewendet wird, hängt von der Aufgabe ab. "
      ]
    },
    {
      "cell_type": "markdown",
      "metadata": {
        "id": "6HFy1A2zjkqL"
      },
      "source": [
        "### Warm Up 1: Tokenizer mit Regulären Ausdrücken\n",
        "\n",
        "Die erste kleine Aufgabe besteht darin mit einem regulären Ausdruck ein Wort-Tokenizer zu bauen. (Diese Aufgabe sollte nicht mehr als 5 min. dauern) Der Tokenizer muss auch nicht perfekt sein. \n",
        "\n",
        "> Eine kurze Auffrischung über Reguläre Ausdrücke findet sich in https://regexr.com/"
      ]
    },
    {
      "cell_type": "code",
      "execution_count": 3,
      "metadata": {
        "id": "vsACjYAEcHJc"
      },
      "outputs": [
        {
          "data": {
            "text/plain": [
              "['Die', 'Ente', 'lacht', 'und', 'quakt.']"
            ]
          },
          "execution_count": 3,
          "metadata": {},
          "output_type": "execute_result"
        }
      ],
      "source": [
        "import re\n",
        "text=\"Die Ente lacht und quakt.\"\n",
        "\n",
        "tokenizer_regex=re.compile(r'\\s')\n",
        "tokenizer_regex.split(text)"
      ]
    },
    {
      "cell_type": "markdown",
      "metadata": {
        "id": "mzaasIkDmK_r"
      },
      "source": [
        "Das Grundprinzip eines Tokenizers sollte euch nun klar sein. In der Praxis empfiehlt es sich allerdings, auf bestehende Tokenizer-Implementierungen zurückzugreifen.\n",
        "Im Python-Umfeld ist https://spacy.io/api/tokenizer oder https://www.nltk.org/api/nltk.tokenize.html sehr empfehlenswert."
      ]
    },
    {
      "cell_type": "markdown",
      "metadata": {
        "id": "hcOzQFueH9mC"
      },
      "source": [
        "# Encoding"
      ]
    },
    {
      "cell_type": "markdown",
      "metadata": {
        "id": "VqqIUO30B46n"
      },
      "source": [
        "Der nächste Schritt, um mit Texten Maschinelles Lernen zu betreiben, ist das Umwandeln der Wörter in eine numerissche Repräsentation. In der nächsten Warm-Up Aufgabe wird es darum um Bag of Words gehen."
      ]
    },
    {
      "cell_type": "markdown",
      "metadata": {
        "id": "4-4dQzbG921p"
      },
      "source": [
        "## Warm Up 2: Bag of Words mit scikit-learn\n",
        "Ein Ansatz um Texte bzw. Tokens als Zahlen zu represäntieren ist ein Bag of Words. Hier wird jeder Text als Vektor dargestellt (Länge: Länge des Vokabulars). Jeder Eintrag im Vektor steht für ein Wort im Vokabular.\n",
        "\n",
        "In der nächsten Aufgabe wollen wir mit dem vorgegebenen Textkorpus, den Satz **\"Die Ente singt und quakt.\"** in einen bag-of-words-encoded Vector umwandeln.\n",
        "Dazu bietet sich der `CountVectorizer` an (siehe [Dokumentation](https://scikit-learn.org/stable/modules/generated/sklearn.feature_extraction.text.CountVectorizer.html)).\n",
        "\n",
        "> Kleiner Tipp: Der `CountVectorizer` übernimmt diesmal die Tokenisierung."
      ]
    },
    {
      "cell_type": "code",
      "execution_count": 4,
      "metadata": {
        "id": "ptA3RLihCfTj"
      },
      "outputs": [
        {
          "name": "stdout",
          "output_type": "stream",
          "text": [
            "[[1 1 1 1 0 0 1]\n",
            " [1 1 0 0 1 1 1]]\n"
          ]
        }
      ],
      "source": [
        "from sklearn.feature_extraction.text import CountVectorizer\n",
        "\n",
        "corpus = [\"Die Ente lacht und quakt.\",\n",
        "          \"Die Ente singt und tanzt.\"]\n",
        "vectorizer = CountVectorizer()\n",
        "\n",
        "bag_of_words_encoded_sentence = vectorizer.fit_transform(corpus).toarray()\n",
        "print(bag_of_words_encoded_sentence)"
      ]
    },
    {
      "cell_type": "markdown",
      "metadata": {
        "id": "T_WWHn0N_4CT"
      },
      "source": [
        "Im  nächsten Schritt gebt die Länge der Satzrepräsentation aus. \n",
        "\n",
        "Wie verändert sich die Länge, wenn sich der Textkorpus vergrößert. Was sind die Vorteile und Nachteile von Bag of Words?"
      ]
    },
    {
      "cell_type": "code",
      "execution_count": 5,
      "metadata": {
        "id": "44zUnF0P_zDZ"
      },
      "outputs": [
        {
          "data": {
            "text/plain": [
              "7"
            ]
          },
          "execution_count": 5,
          "metadata": {},
          "output_type": "execute_result"
        }
      ],
      "source": [
        "len(bag_of_words_encoded_sentence[0])"
      ]
    },
    {
      "cell_type": "markdown",
      "metadata": {
        "id": "dbCGNsjiYuAT"
      },
      "source": [
        "## Word Embeddings\n",
        "\n",
        "Natürliche Sprachen bieten uns mannigfaltige Möglichkeiten, dieselben Inhalte auf unterschiedliche Art und Weise auszudrücken. Wenn wir mit Texten arbeiten, reicht es daher in der Regel nicht aus, nur die Anzahl und das Vorkommen von bestimmten Wörtern in Texten zu betrachten, weil neben des bloßen Vorkommen eines Wortes auch dessen Anordnung und dessen Bedeutung eine Rolle spielt. Als zusätzliche und wichtige Ebene kommt hier also die Semantik ins Spiel.\n",
        "\n",
        "Die Abbildung von Wörtern auf Vektoren erlaubt es uns, mit diesen zu rechnen und zum Beispiel Distanzen oder Ähnlichkeiten zu bestimmen. Embeddings haben den Vorteil, dass sie eine Dimensionsreduktion mit sich bringen und semantische Embeddings sorgen darüber hinaus dafür, dass \"verwandte\" Wörter einen geringen Abstand voneinander haben.\n",
        "\n",
        "Wir wollen uns im Folgenden zunächst mit Word2Vec beschäftigen und eine einfache Version des CBOW-Ansatzes selbst implementieren.\n",
        "\n",
        "Danach schauen wir uns Gensim als Bibliothek für Word-Embedding-Modelle an und werfen einen Blick auf Evaluationsmethoden für Embeddings sowie die ihnen inhärenten Biase."
      ]
    },
    {
      "cell_type": "markdown",
      "metadata": {
        "id": "AMup_-zoYuAY"
      },
      "source": [
        "## Aufgabe 1: Word2Vec CBOW\n",
        "> You shall know a word by the company it keeps.\n",
        ">\n",
        "> -- <cite>J. R. Firth</cite>\n",
        "\n",
        "Auf dem oben zitierten Prinzip beruhen die beiden als Word2Vec bekannt gewordenen Modelle CBOW und Skip Gram, die 2013 von [Tomas Mikolov et al.](https://arxiv.org/abs/1301.3781) bei Google entwickelt wurden.\n",
        "Erstgenanntes Modell werden wir im Folgenden in einer einfachen Form selbst implementieren."
      ]
    },
    {
      "cell_type": "markdown",
      "metadata": {
        "id": "3xVNJ7AqYuAb"
      },
      "source": [
        "#### 1.1 Trainingsdaten\n",
        "Die Beschaffung und Aufbereitung von Trainingsdaten ist ein wichtiger Schritt in jeder NLP-Pipeline. Jetzt drücken wir uns mal davor und greifen auf einen Datensatz zu, den wir schonmal vorarb für Euch vorbereitet haben. Wir haben uns entschieden Alice im Wunderland [Gutenberg Project Alice im Wunderland](https://www.gutenberg.org/cache/epub/19778/pg19778.txt) zu nutzen um Word Embeddings zu trainieren. Der Datensatz beinhaltet die Sätze aus aus der Geschichte. \n",
        "\n",
        "Der vorverarbeitete Datensatz ist als pickle abgespeichert und findet sich in [hier](https://drive.google.com/file/d/1RfCivF-wHf33S7TMxjpT78923ADXreMi/view). Wir werden den googledrivedownloader nutzen, um die Datei zu laden. Ladet den Datensatz mit Pickle als Testdatensatz aus."
      ]
    },
    {
      "cell_type": "code",
      "execution_count": 6,
      "metadata": {
        "id": "_fgETXxtJ-p8"
      },
      "outputs": [
        {
          "name": "stdout",
          "output_type": "stream",
          "text": [
            "Downloading 1RfCivF-wHf33S7TMxjpT78923ADXreMi into ./download/alice_sentences.pkl... Done.\n"
          ]
        }
      ],
      "source": [
        "from google_drive_downloader import GoogleDriveDownloader as gdd\n",
        "\n",
        "gdd.download_file_from_google_drive(file_id='1RfCivF-wHf33S7TMxjpT78923ADXreMi',\n",
        "                                    dest_path='./download/alice_sentences.pkl',\n",
        "                                    unzip=False,\n",
        "                                    overwrite=True)"
      ]
    },
    {
      "cell_type": "code",
      "execution_count": 7,
      "metadata": {
        "id": "Bmu1bOjcYuAf"
      },
      "outputs": [],
      "source": [
        "import pickle\n",
        "\n",
        "file = open('./download/alice_sentences.pkl', 'rb')\n",
        "data_sample = pickle.load(file)"
      ]
    },
    {
      "cell_type": "markdown",
      "metadata": {
        "id": "eAjugIzMYuAq"
      },
      "source": [
        "### 1.2 Datenvorbereitung\n",
        "Wir haben einen tokenisierten Datensatz, der aus Listen von Wörtern besteht. Jede Liste repräsentiert einen Satz. Unser Modell soll aber hinterher mit Zahlen hantieren und zwar entweder mit Wortindizes, die jedes Wort im Vokabular über einen eindeutige Nummer referenzierbar machen, oder mit One-hot-Vektoren, die als Labels dienen, mit denen der tatsächliche Output des Modells verglichen werden kann."
      ]
    },
    {
      "cell_type": "code",
      "execution_count": 8,
      "metadata": {},
      "outputs": [
        {
          "name": "stdout",
          "output_type": "stream",
          "text": [
            "[['Erstes', 'Kapitel', 'Hinunter', 'in', 'den', 'Kaninchenbau', '.'], ['Alice', 'fing', 'an', 'sich', 'zu', 'langweilen', ';', 'sie', 'saß', 'schon', 'lange', 'bei', 'ihrer', 'Schwester', 'am', 'Ufer', 'und', 'hatte', 'nichts', 'zu', 'thun', '.'], ['Das', 'Buch', ',', 'das', 'ihre', 'Schwester', 'las', ',', 'gefiel', 'ihr', 'nicht', ';', 'denn', 'es', 'waren', 'weder', 'Bilder', 'noch', 'Gespräche', 'darin', '.'], ['»', 'Und', 'was', 'nützen', 'Bücher', ',', '«', 'dachte', 'Alice', ',', '»', 'ohne', 'Bilder', 'und', 'Gespräche?«', 'Sie', 'überlegte', 'sich', 'eben', ',', '(', 'so', 'gut', 'es', 'ging', ',', 'denn', 'sie', 'war', 'schläfrig', 'und', 'dumm', 'von', 'der', 'Hitze', ',', ')', 'ob', 'es', 'der', 'Mühe', 'werth', 'sei', 'aufzustehen', 'und', 'Gänseblümchen', 'zu', 'pflücken', ',', 'um', 'eine', 'Kette', 'damit', 'zu', 'machen', ',', 'als', 'plötzlich', 'ein', 'weißes', 'Kaninchen', 'mit', 'rothen', 'Augen', 'dicht', 'an', 'ihr', 'vorbeirannte', '.'], ['Dies', 'war', 'grade', 'nicht', '_sehr_', 'merkwürdig', ';', 'Alice', 'fand', 'es', 'auch', 'nicht', '_sehr_', 'außerordentlich', ',', 'daß', 'sie', 'das', 'Kaninchen', 'sagen', 'hörte', ':', '»', 'O', 'weh', ',', 'o', 'weh', '!'], ['Ich', 'werde', 'zu', 'spät', 'kommen', '!', '«', '(', 'Als', 'sie', 'es', 'später', 'wieder', 'überlegte', ',', 'fiel', 'ihr', 'ein', ',', 'daß', 'sie', 'sich', 'darüber', 'hätte', 'wundern', 'sollen', ',', 'doch', 'zur', 'Zeit', 'kam', 'es', 'ihr', 'Alles', 'ganz', 'natürlich', 'vor.', ')'], ['Aber', 'als', 'das', 'Kaninchen', '_seine', 'Uhr', 'aus', 'der', 'Westentasche', 'zog_', ',', 'nach', 'der', 'Zeit', 'sah', 'und', 'eilig', 'fortlief', ',', 'sprang', 'Alice', 'auf', ';', 'denn', 'es', 'war', 'ihr', 'doch', 'noch', 'nie', 'vorgekommen', ',', 'ein', 'Kaninchen', 'mit', 'einer', 'Westentasche', 'und', 'eine', 'Uhr', 'darin', 'zu', 'sehen', '.'], ['Vor', 'Neugierde', 'brennend', ',', 'rannte', 'sie', 'ihm', 'nach', ',', 'über', 'den', 'Grasplatz', ',', 'und', 'kam', 'noch', 'zur', 'rechten', 'Zeit', ',', 'um', 'es', 'in', 'ein', 'großes', 'Loch', 'unter', 'der', 'Hecke', 'schlüpfen', 'zu', 'sehen', '.'], ['Den', 'nächsten', 'Augenblick', 'war', 'sie', 'ihm', 'nach', 'in', 'das', 'Loch', 'hineingesprungen', ',', 'ohne', 'zu', 'bedenken', ',', 'wie', 'in', 'aller', 'Welt', 'sie', 'wieder', 'herauskommen', 'könnte', '.'], ['Der', 'Eingang', 'zum', 'Kaninchenbau', 'lief', 'erst', 'geradeaus', ',', 'wie', 'ein', 'Tunnel', 'und', 'ging', 'dann', 'plötzlich', 'abwärts', ';', 'ehe', 'Alice', 'noch', 'den', 'Gedanken', 'fassen', 'konnte', 'sich', 'schnell', 'festzuhalten', ',', 'fühlte', 'sie', 'schon', ',', 'daß', 'sie', 'fiel', ',', 'wie', 'es', 'schien', ',', 'in', 'einen', 'tiefen', ',', 'tiefen', 'Brunnen', '.']]\n"
          ]
        }
      ],
      "source": [
        "print(data_sample[:10])"
      ]
    },
    {
      "cell_type": "code",
      "execution_count": 9,
      "metadata": {
        "id": "C3AIS0QfYuAt"
      },
      "outputs": [
        {
          "name": "stdout",
          "output_type": "stream",
          "text": [
            "Word to id sample: [('hier?«', 0), ('förmlich', 1), ('hervorrief', 2), ('gemüthlich', 3), ('Versprechen', 4), ('Usurpation', 5), ('Pfeffer', 6), ('hineinkommen?«', 7), ('Rauschen', 8), (',', 9)] \n",
            "\n",
            "Id to word sample: [(0, 'hier?«'), (1, 'förmlich'), (2, 'hervorrief'), (3, 'gemüthlich'), (4, 'Versprechen'), (5, 'Usurpation'), (6, 'Pfeffer'), (7, 'hineinkommen?«'), (8, 'Rauschen'), (9, ',')] \n",
            "\n",
            "Documents as lists of integers: [4295, 1098, 3293, 1607, 1694, 2677, 880]\n"
          ]
        }
      ],
      "source": [
        "from collections import OrderedDict\n",
        "\n",
        "# Beim Mapping von Wörtern zu IDs und umgekehrt sollte eine reproduzierbare Reihenfolge sichergestellt werden,\n",
        "# um das Modell später weitertrainieren und die Embedding-Matrix interpretieren zu können.\n",
        "# Diese Datenstruktur kann, aber muss nicht, als Basis dienen.\n",
        "unique_words = OrderedDict.fromkeys(list(set().union(*[set(sub_list) for sub_list in data_sample])))\n",
        "\n",
        "# Mapping von Wort zu ID\n",
        "word2id = {}\n",
        "for idx, key in enumerate(unique_words):\n",
        "    word2id[key] = idx\n",
        "word2id['eos'] = len(unique_words)\n",
        "\n",
        "# Mapping von ID zu Wort\n",
        "id2word = dict((v,k) for k,v in word2id.items())\n",
        "\n",
        "# Unser Data Sample, aber mit IDs statt Wörtern \n",
        "# [['der', 'hund', 'der', 'bellt'], ['die', 'katz', 'miaut']] => [[0, 1, 0, 2], [3, 4, 5]]\n",
        "numeric_docs = [[word2id[w] for w in doc] for doc in data_sample]\n",
        "\n",
        "print('Word to id sample:', list(word2id.items())[:10], '\\n')\n",
        "print('Id to word sample:', list(id2word.items())[:10], '\\n')\n",
        "print('Documents as lists of integers:', numeric_docs[0][:10])\n"
      ]
    },
    {
      "cell_type": "markdown",
      "metadata": {
        "id": "UKXEBPLqYuA1"
      },
      "source": [
        "Wir halten einige wichtige Parameter für unser Modell fest. Die Größe des Kontextfensters sowie die Länge der Embeddingvektoren können nach Bedarf angepasst werden. Für unsere Demo wählen wir kleine Werte."
      ]
    },
    {
      "cell_type": "code",
      "execution_count": 10,
      "metadata": {
        "id": "ga_N0q-zYuA3"
      },
      "outputs": [
        {
          "name": "stdout",
          "output_type": "stream",
          "text": [
            "Vocabulary Size: 4400\n"
          ]
        }
      ],
      "source": [
        "vocabulary_size = len(unique_words) + 1\n",
        "embedding_size = 50 # Länge der Embeddingvektoren\n",
        "window_size = 2 # Größe des Kontextfensters. Wird nach rechts und links angewandt. Gesamter Kontext hier also 4 Wörter.\n",
        "\n",
        "print('Vocabulary Size:', vocabulary_size)"
      ]
    },
    {
      "cell_type": "markdown",
      "metadata": {
        "id": "Uunq8JvnYuA-"
      },
      "source": [
        "### 1.3 Generator\n",
        "Um nicht alle Trainingsdaten auf einmal im Speicher halten zu müssen, schreiben wir uns eine Generatorfunktion, die Batches einer frei wählbaren Größe zurückgibt. Unser Ansatz ist dennoch nicht völlig speicherschonend, weil wir uns die Datengrundlage für die Generierung dieser Batches, nämlich die Integerlisten in `numeric_docs` sehr wohl im Speicher vorhalten. Darüber sehen wir aber großzügig hinweg.\n",
        "\n",
        "Die Generatorfunktion erzeugt zwei numpy-Arrays der Länge `batch_size`, von denen das eine Listen mit Indizes der Kontexwörter enthält, die der Embedding-Layer als Eingabe erwartet, und das andere die zugehörigen One-Hot-Encodings der Mittelwörter.\n",
        "\n",
        "Fiktives und vereinfachtes Beispiel:\n",
        "<pre><code>* Fenstergröße: 1\n",
        "* Batch-Size: 2\n",
        "* Wortindizes: 'die': 0, 'ente': 1, 'lacht': 2, 'und': '3, 'quakt': 4 (und damit Vokabulargröße 5)\n",
        "* Korpus (Auszug): [['die', 'ente', 'lacht', 'und', 'quakt'], ...]\n",
        "\n",
        "\n",
        "=> Rückgabe: [[0, 2], [1, 3]], [[0, 1, 0, 0, 0], [0, 0, 1, 0, 0]]\n",
        "</code></pre>"
      ]
    },
    {
      "cell_type": "code",
      "execution_count": 11,
      "metadata": {},
      "outputs": [
        {
          "name": "stdout",
          "output_type": "stream",
          "text": [
            "[[4295, 1098, 3293, 1607, 1694, 2677, 880], [878, 482, 3633, 226, 1908, 2100, 1129, 2643, 4379, 4318, 2577, 239, 3497, 2081, 4381, 1724, 2613, 2572, 3700, 1908, 1881, 880], [1713, 1307, 9, 238, 3564, 2081, 767, 9, 3743, 3456, 4109, 1129, 337, 665, 1709, 1461, 2350, 656, 4398, 4322, 880]]\n"
          ]
        }
      ],
      "source": [
        "print(numeric_docs[:3])"
      ]
    },
    {
      "cell_type": "code",
      "execution_count": 16,
      "metadata": {
        "id": "rItJIFM8YuBB"
      },
      "outputs": [],
      "source": [
        "from keras.preprocessing import sequence\n",
        "from keras.utils import np_utils\n",
        "import numpy as np\n",
        "import tensorflow as tf\n",
        "\n",
        "def generate_context_word_batches(corpus, window_size, vocab_size, batch_size):\n",
        "    X = []\n",
        "    Y = []\n",
        "    corpus = [item for sublist in corpus for item in sublist]\n",
        "    print(f\"vocab size: {vocab_size}\")\n",
        "    print(f\"length of corpus after flatten: {len(corpus)}\")\n",
        "    current_size = 0\n",
        "    while True:\n",
        "        for idx, word in enumerate(corpus):\n",
        "            if current_size != batch_size:\n",
        "                context = []\n",
        "                target_word = idx\n",
        "                for i in range(target_word - window_size, target_word + window_size + 1):\n",
        "                    if 0 <= i < len(corpus) and i != target_word:\n",
        "                        context.append(corpus[i])\n",
        "                X.append(np.array(context))\n",
        "\n",
        "                oh_words = np.zeros(vocab_size)\n",
        "                oh_words[corpus[target_word]] = 1\n",
        "                Y.append(np.array(oh_words))\n",
        "                \n",
        "                current_size += 1\n",
        "            else:\n",
        "                # zwei numpy arrays\n",
        "                current_size = 0\n",
        "                X = tf.keras.utils.pad_sequences(X, window_size*2, value=vocabulary_size-1)\n",
        "                yield (np.array(X), np.array(Y))\n",
        "                X = []\n",
        "                Y = []\n"
      ]
    },
    {
      "cell_type": "code",
      "execution_count": 17,
      "metadata": {
        "id": "zQU_48R7YuBG"
      },
      "outputs": [
        {
          "name": "stdout",
          "output_type": "stream",
          "text": [
            "vocab size: 4400\n",
            "length of corpus after flatten: 31916\n",
            "x: [[4399 4399 4399 4399 1098 3293 1607 1694]\n",
            " [4399 4399 4399 4295 3293 1607 1694 2677]\n",
            " [4399 4399 4295 1098 1607 1694 2677  880]]\n",
            "y: [[0. 0. 0. ... 0. 0. 0.]\n",
            " [0. 0. 0. ... 0. 0. 0.]\n",
            " [0. 0. 0. ... 0. 0. 0.]]\n",
            "Context (X): ['eos', 'eos', 'eos', 'eos', 'Kapitel', 'Hinunter', 'in', 'den'] -> Target (Y): Erstes\n",
            "Context (X): ['eos', 'eos', 'eos', 'Erstes', 'Hinunter', 'in', 'den', 'Kaninchenbau'] -> Target (Y): Kapitel\n",
            "Context (X): ['eos', 'eos', 'Erstes', 'Kapitel', 'in', 'den', 'Kaninchenbau', '.'] -> Target (Y): Hinunter\n",
            "x: [[4295 1098 3293 1607 2677  880  878  482]\n",
            " [1098 3293 1607 1694  880  878  482 3633]\n",
            " [3293 1607 1694 2677  878  482 3633  226]]\n",
            "y: [[0. 0. 0. ... 0. 0. 0.]\n",
            " [0. 0. 0. ... 0. 0. 0.]\n",
            " [0. 0. 0. ... 0. 0. 0.]]\n",
            "Context (X): ['Erstes', 'Kapitel', 'Hinunter', 'in', 'Kaninchenbau', '.', 'Alice', 'fing'] -> Target (Y): den\n",
            "Context (X): ['Kapitel', 'Hinunter', 'in', 'den', '.', 'Alice', 'fing', 'an'] -> Target (Y): Kaninchenbau\n",
            "Context (X): ['Hinunter', 'in', 'den', 'Kaninchenbau', 'Alice', 'fing', 'an', 'sich'] -> Target (Y): .\n",
            "x: [[1694 2677  880  878 3633  226 1908 2100]\n",
            " [2677  880  878  482  226 1908 2100 1129]\n",
            " [ 880  878  482 3633 1908 2100 1129 2643]]\n",
            "y: [[0. 0. 0. ... 0. 0. 0.]\n",
            " [0. 0. 0. ... 0. 0. 0.]\n",
            " [0. 0. 0. ... 0. 0. 0.]]\n",
            "Context (X): ['den', 'Kaninchenbau', '.', 'Alice', 'an', 'sich', 'zu', 'langweilen'] -> Target (Y): fing\n",
            "Context (X): ['Kaninchenbau', '.', 'Alice', 'fing', 'sich', 'zu', 'langweilen', ';'] -> Target (Y): an\n",
            "Context (X): ['.', 'Alice', 'fing', 'an', 'zu', 'langweilen', ';', 'sie'] -> Target (Y): sich\n"
          ]
        }
      ],
      "source": [
        "# Schneller Test\n",
        "test_batch_size = 3\n",
        "test_window_size = 4\n",
        "\n",
        "batch_gen = generate_context_word_batches(corpus=numeric_docs, window_size=test_window_size, vocab_size=vocabulary_size, batch_size=test_batch_size)\n",
        "for i in range(0, 3): \n",
        "    x, y = next(batch_gen)\n",
        "    print(f\"x: {x}\")\n",
        "    print(f\"y: {y}\")\n",
        "    for j in range(0, test_batch_size):\n",
        "        print('Context (X):', [id2word[w] for w in x[j]], '-> Target (Y):', id2word[np.argwhere(y[j])[0][0]])  "
      ]
    },
    {
      "cell_type": "markdown",
      "metadata": {
        "id": "jhy4rehNYuBM"
      },
      "source": [
        "### 1.4 Definition des Models\n",
        "Als nächstes definieren wir unser Model. Dazu verwenden wir die Sequential API von Keras. Dieser [Blogpost](https://lilianweng.github.io/lil-log/2017/10/15/learning-word-embedding.html) bietet nochmal eine anschauliche Erklärung, wie word2vec CBOW funktioniert.\n",
        "Das folgende Bild ist daraus und stellt die Architektur des Neuronalen Netzes dar:\n",
        "<img src=\"https://lilianweng.github.io/lil-log/assets/images/word2vec-cbow.png\" width=500 />\n",
        "\n",
        "Weitere Informationen über den Embedding Layer finden sich [hier](https://keras.io/layers/embeddings/).\n",
        "\n",
        "> **Tipp:** Nehmt euch wirklich Zeit Embeddings zu verstehen."
      ]
    },
    {
      "cell_type": "code",
      "execution_count": 18,
      "metadata": {},
      "outputs": [
        {
          "data": {
            "text/plain": [
              "<keras.losses.CategoricalCrossentropy at 0x1627f5a5ba0>"
            ]
          },
          "execution_count": 18,
          "metadata": {},
          "output_type": "execute_result"
        }
      ],
      "source": [
        "import tensorflow as tf\n",
        "tf.keras.losses.CategoricalCrossentropy()"
      ]
    },
    {
      "cell_type": "code",
      "execution_count": 22,
      "metadata": {
        "id": "wdsQV9RDYuBO"
      },
      "outputs": [
        {
          "name": "stdout",
          "output_type": "stream",
          "text": [
            "Model: \"sequential_1\"\n",
            "_________________________________________________________________\n",
            " Layer (type)                Output Shape              Param #   \n",
            "=================================================================\n",
            " embedding_1 (Embedding)     (None, 4, 100)            440000    \n",
            "                                                                 \n",
            " lambda_1 (Lambda)           (None, 100)               0         \n",
            "                                                                 \n",
            " dense_1 (Dense)             (None, 4400)              444400    \n",
            "                                                                 \n",
            "=================================================================\n",
            "Total params: 884,400\n",
            "Trainable params: 884,400\n",
            "Non-trainable params: 0\n",
            "_________________________________________________________________\n",
            "None\n"
          ]
        }
      ],
      "source": [
        "import keras.backend as K\n",
        "from keras.models import Sequential\n",
        "from keras.layers import Dense, Embedding, Lambda\n",
        "\n",
        "#Modelldefinition\n",
        "cbow = Sequential()\n",
        "cbow.add(Embedding(input_dim=vocabulary_size, output_dim=100, input_length=window_size*2))\n",
        "cbow.add(Lambda(lambda x: K.mean(x, axis=1), output_shape=(100,)))\n",
        "cbow.add(Dense(4400, activation='softmax'))\n",
        "cbow.compile(loss='categorical_crossentropy', optimizer='rmsprop')\n",
        "\n",
        "\n",
        "# Zusammenfassung\n",
        "print(cbow.summary())"
      ]
    },
    {
      "cell_type": "markdown",
      "metadata": {
        "id": "KBoEx-w2YuBU"
      },
      "source": [
        "### 1.5 Training\n",
        "Jetzt wird es ernst: Wir trainieren unser Modell.\n",
        "Da wir eine eigene Generatorfunktion verwenden, müssen wir `steps_per_epoch` angeben. Überlegt euch was damit genau gemeint ist, wofür uns das nützt und was wir bei der Berechnung beachten müssen. Tipp: das Modell sollte pro Epoche alle Trainingsdaten sehen. Überlegt auch ob die Cbow-Fenstergröße einen einfluss auf diese Anzahl hat.\n",
        "\n",
        "Weil wir unser Modell gerne abspeichern möchten, zum Beispiel, um es später weiter zu trainieren, definieren wir eine Callback-Funktion, die das für uns übernimmt."
      ]
    },
    {
      "cell_type": "code",
      "execution_count": 23,
      "metadata": {
        "id": "-Ui-skXyYuBV"
      },
      "outputs": [],
      "source": [
        "from keras.callbacks import ModelCheckpoint\n",
        "\n",
        "model_checkpoint = ModelCheckpoint('embeddings.hd5', monitor='loss', verbose=1, save_best_only=True, save_weights_only=False)"
      ]
    },
    {
      "cell_type": "code",
      "execution_count": 24,
      "metadata": {
        "id": "lRuQzCB2YuBa"
      },
      "outputs": [
        {
          "name": "stdout",
          "output_type": "stream",
          "text": [
            "vocab size: 4400\n",
            "length of corpus after flatten: 31916\n",
            "Epoch 1/5\n",
            "315/320 [============================>.] - ETA: 0s - loss: 7.3386\n",
            "Epoch 1: loss improved from inf to 7.32760, saving model to embeddings.hd5\n",
            "INFO:tensorflow:Assets written to: embeddings.hd5\\assets\n",
            "320/320 [==============================] - 4s 9ms/step - loss: 7.3276\n",
            "Epoch 2/5\n",
            "312/320 [============================>.] - ETA: 0s - loss: 6.3816\n",
            "Epoch 2: loss improved from 7.32760 to 6.38284, saving model to embeddings.hd5\n",
            "INFO:tensorflow:Assets written to: embeddings.hd5\\assets\n",
            "320/320 [==============================] - 3s 9ms/step - loss: 6.3828\n",
            "Epoch 3/5\n",
            "320/320 [==============================] - ETA: 0s - loss: 6.2903\n",
            "Epoch 3: loss improved from 6.38284 to 6.29030, saving model to embeddings.hd5\n",
            "INFO:tensorflow:Assets written to: embeddings.hd5\\assets\n",
            "320/320 [==============================] - 3s 8ms/step - loss: 6.2903\n",
            "Epoch 4/5\n",
            "319/320 [============================>.] - ETA: 0s - loss: 6.2222\n",
            "Epoch 4: loss improved from 6.29030 to 6.22278, saving model to embeddings.hd5\n",
            "INFO:tensorflow:Assets written to: embeddings.hd5\\assets\n",
            "320/320 [==============================] - 3s 9ms/step - loss: 6.2228\n",
            "Epoch 5/5\n",
            "318/320 [============================>.] - ETA: 0s - loss: 6.1477\n",
            "Epoch 5: loss improved from 6.22278 to 6.14587, saving model to embeddings.hd5\n",
            "INFO:tensorflow:Assets written to: embeddings.hd5\\assets\n",
            "320/320 [==============================] - 3s 8ms/step - loss: 6.1459\n"
          ]
        },
        {
          "data": {
            "text/plain": [
              "<keras.callbacks.History at 0x1640c9b8070>"
            ]
          },
          "execution_count": 24,
          "metadata": {},
          "output_type": "execute_result"
        }
      ],
      "source": [
        "epochs = 5 #(kann gerne erhöht werden)\n",
        "batch_size = 100\n",
        "# das Modell sollte pro Epoche alle Trainingsdaten sehen. Überlegt auch ob die Cbow-Fenstergröße einen einfluss auf diese Anzahl hat.\n",
        "total_len = len([item for sublist in numeric_docs for item in sublist])\n",
        "steps_per_epoch = np.ceil(total_len / batch_size)\n",
        "\n",
        "cbow.fit(generate_context_word_batches(numeric_docs, 4, vocabulary_size, batch_size), callbacks=[model_checkpoint], epochs=epochs, steps_per_epoch=steps_per_epoch)    "
      ]
    },
    {
      "cell_type": "markdown",
      "metadata": {
        "id": "SMIqy_-fYuBf"
      },
      "source": [
        "### 1.6 Test\n",
        "Nachdem wir unser Modell nur sehr kurz und nur auf wenigen Daten trainiert haben, ist davon auszugehen, dass die Ergebnisse nicht optimal sind. Einen kurzen Blick wollen wir dennoch riskieren.\n",
        "\n",
        "Dazu extrahieren wir zunächst die Gewichte aus dem Embedding-Layer und schauen sie uns auszugsweise an."
      ]
    },
    {
      "cell_type": "code",
      "execution_count": 32,
      "metadata": {
        "id": "m7x0IPFqYuBh"
      },
      "outputs": [],
      "source": [
        "import pandas as pd\n",
        "from keras.models import load_model\n",
        "\n",
        "cbow = load_model('.\\embeddings.hd5')\n",
        "embedding_weights = cbow.layers[0].get_weights()[0]\n",
        "\n",
        "embeddings = pd.DataFrame(embedding_weights, index=list(id2word.values()))\n",
        "print(embeddings.head())"
      ]
    },
    {
      "cell_type": "markdown",
      "metadata": {
        "id": "5BnUH3l6YuBm"
      },
      "source": [
        "Da durch scharfes Hinsehen nicht unmittelbar zu erkennen ist, wie gut unsere Embeddings schon sind, machen wir stichprobenartige Tests. Dazu wählen wir einige Wörter und berechnen für deren Embeddings die Ähnlichkeit mit allen anderen Embedding-Vektoren in unserer Gewichtsmatrix. Anschließend lassen wir uns die fünf ähnlichsten Wörter ausgeben.\n",
        "Überlegt euch welches Distantzmaß für den Vergleich von Vektoren genutzt werden kann. Tipp: Die Cosinusähnlichkeit könnte damit was zu tun haben. "
      ]
    },
    {
      "cell_type": "code",
      "execution_count": 46,
      "metadata": {
        "id": "lwHpAG9lYuBo"
      },
      "outputs": [
        {
          "data": {
            "text/html": [
              "<div>\n",
              "<style scoped>\n",
              "    .dataframe tbody tr th:only-of-type {\n",
              "        vertical-align: middle;\n",
              "    }\n",
              "\n",
              "    .dataframe tbody tr th {\n",
              "        vertical-align: top;\n",
              "    }\n",
              "\n",
              "    .dataframe thead th {\n",
              "        text-align: right;\n",
              "    }\n",
              "</style>\n",
              "<table border=\"1\" class=\"dataframe\">\n",
              "  <thead>\n",
              "    <tr style=\"text-align: right;\">\n",
              "      <th></th>\n",
              "      <th>0</th>\n",
              "      <th>1</th>\n",
              "      <th>2</th>\n",
              "      <th>3</th>\n",
              "      <th>4</th>\n",
              "      <th>5</th>\n",
              "      <th>6</th>\n",
              "      <th>7</th>\n",
              "      <th>8</th>\n",
              "      <th>9</th>\n",
              "      <th>...</th>\n",
              "      <th>90</th>\n",
              "      <th>91</th>\n",
              "      <th>92</th>\n",
              "      <th>93</th>\n",
              "      <th>94</th>\n",
              "      <th>95</th>\n",
              "      <th>96</th>\n",
              "      <th>97</th>\n",
              "      <th>98</th>\n",
              "      <th>99</th>\n",
              "    </tr>\n",
              "  </thead>\n",
              "  <tbody>\n",
              "    <tr>\n",
              "      <th>Alice</th>\n",
              "      <td>-0.020176</td>\n",
              "      <td>0.068234</td>\n",
              "      <td>-0.022981</td>\n",
              "      <td>-0.113925</td>\n",
              "      <td>0.000010</td>\n",
              "      <td>-0.060666</td>\n",
              "      <td>0.033836</td>\n",
              "      <td>0.073994</td>\n",
              "      <td>-0.082541</td>\n",
              "      <td>0.167067</td>\n",
              "      <td>...</td>\n",
              "      <td>0.039249</td>\n",
              "      <td>0.087949</td>\n",
              "      <td>0.014285</td>\n",
              "      <td>0.143929</td>\n",
              "      <td>-0.028709</td>\n",
              "      <td>0.021554</td>\n",
              "      <td>0.042838</td>\n",
              "      <td>0.100621</td>\n",
              "      <td>-0.031212</td>\n",
              "      <td>-0.117024</td>\n",
              "    </tr>\n",
              "    <tr>\n",
              "      <th>Hut</th>\n",
              "      <td>0.005871</td>\n",
              "      <td>-0.014835</td>\n",
              "      <td>-0.005536</td>\n",
              "      <td>0.019242</td>\n",
              "      <td>-0.005796</td>\n",
              "      <td>0.010178</td>\n",
              "      <td>-0.003519</td>\n",
              "      <td>0.063346</td>\n",
              "      <td>-0.022088</td>\n",
              "      <td>0.009534</td>\n",
              "      <td>...</td>\n",
              "      <td>0.040193</td>\n",
              "      <td>-0.031693</td>\n",
              "      <td>-0.056136</td>\n",
              "      <td>-0.025825</td>\n",
              "      <td>-0.042177</td>\n",
              "      <td>0.048348</td>\n",
              "      <td>0.048588</td>\n",
              "      <td>0.000376</td>\n",
              "      <td>-0.054195</td>\n",
              "      <td>-0.034273</td>\n",
              "    </tr>\n",
              "    <tr>\n",
              "      <th>Kaninchen</th>\n",
              "      <td>-0.016645</td>\n",
              "      <td>-0.130349</td>\n",
              "      <td>-0.090484</td>\n",
              "      <td>-0.077052</td>\n",
              "      <td>-0.095148</td>\n",
              "      <td>-0.097698</td>\n",
              "      <td>0.061839</td>\n",
              "      <td>0.025079</td>\n",
              "      <td>-0.147395</td>\n",
              "      <td>0.059099</td>\n",
              "      <td>...</td>\n",
              "      <td>0.075458</td>\n",
              "      <td>0.120343</td>\n",
              "      <td>-0.129861</td>\n",
              "      <td>0.117600</td>\n",
              "      <td>-0.085283</td>\n",
              "      <td>0.018889</td>\n",
              "      <td>0.030357</td>\n",
              "      <td>0.084628</td>\n",
              "      <td>-0.108566</td>\n",
              "      <td>-0.089102</td>\n",
              "    </tr>\n",
              "    <tr>\n",
              "      <th>Kaninchenbau</th>\n",
              "      <td>-0.070573</td>\n",
              "      <td>-0.015516</td>\n",
              "      <td>-0.030562</td>\n",
              "      <td>0.004629</td>\n",
              "      <td>-0.036621</td>\n",
              "      <td>-0.075569</td>\n",
              "      <td>0.053498</td>\n",
              "      <td>0.035982</td>\n",
              "      <td>-0.024312</td>\n",
              "      <td>0.084775</td>\n",
              "      <td>...</td>\n",
              "      <td>0.051467</td>\n",
              "      <td>0.088120</td>\n",
              "      <td>0.006619</td>\n",
              "      <td>0.086973</td>\n",
              "      <td>0.022594</td>\n",
              "      <td>0.080801</td>\n",
              "      <td>0.064742</td>\n",
              "      <td>0.055466</td>\n",
              "      <td>-0.054508</td>\n",
              "      <td>-0.045317</td>\n",
              "    </tr>\n",
              "  </tbody>\n",
              "</table>\n",
              "<p>4 rows × 100 columns</p>\n",
              "</div>"
            ],
            "text/plain": [
              "                    0         1         2         3         4         5   \\\n",
              "Alice        -0.020176  0.068234 -0.022981 -0.113925  0.000010 -0.060666   \n",
              "Hut           0.005871 -0.014835 -0.005536  0.019242 -0.005796  0.010178   \n",
              "Kaninchen    -0.016645 -0.130349 -0.090484 -0.077052 -0.095148 -0.097698   \n",
              "Kaninchenbau -0.070573 -0.015516 -0.030562  0.004629 -0.036621 -0.075569   \n",
              "\n",
              "                    6         7         8         9   ...        90        91  \\\n",
              "Alice         0.033836  0.073994 -0.082541  0.167067  ...  0.039249  0.087949   \n",
              "Hut          -0.003519  0.063346 -0.022088  0.009534  ...  0.040193 -0.031693   \n",
              "Kaninchen     0.061839  0.025079 -0.147395  0.059099  ...  0.075458  0.120343   \n",
              "Kaninchenbau  0.053498  0.035982 -0.024312  0.084775  ...  0.051467  0.088120   \n",
              "\n",
              "                    92        93        94        95        96        97  \\\n",
              "Alice         0.014285  0.143929 -0.028709  0.021554  0.042838  0.100621   \n",
              "Hut          -0.056136 -0.025825 -0.042177  0.048348  0.048588  0.000376   \n",
              "Kaninchen    -0.129861  0.117600 -0.085283  0.018889  0.030357  0.084628   \n",
              "Kaninchenbau  0.006619  0.086973  0.022594  0.080801  0.064742  0.055466   \n",
              "\n",
              "                    98        99  \n",
              "Alice        -0.031212 -0.117024  \n",
              "Hut          -0.054195 -0.034273  \n",
              "Kaninchen    -0.108566 -0.089102  \n",
              "Kaninchenbau -0.054508 -0.045317  \n",
              "\n",
              "[4 rows x 100 columns]"
            ]
          },
          "execution_count": 46,
          "metadata": {},
          "output_type": "execute_result"
        }
      ],
      "source": [
        "#Tipp: from sklearn.metrics.pairwise import ?\n",
        "from numpy.linalg import norm\n",
        "\n",
        "sample_terms = ['Alice', 'Hut', 'Kaninchen','Kaninchenbau']\n",
        "sample_embeddings = embeddings.loc[sample_terms]\n",
        "\n",
        "\n",
        "A = embeddings.to_numpy()\n",
        "\n",
        "# Berechne die paarweisen Distanzen zwischen Beispielwörtern und Gesamtvokabular\n",
        "distance_matrix = [ (np.dot(A, embeddings.loc[term].to_numpy())/(norm(A, axis=1)*norm(embeddings.loc[term].to_numpy()))) for term in sample_terms]\n",
        "sample_embeddings.head()"
      ]
    },
    {
      "cell_type": "code",
      "execution_count": 47,
      "metadata": {
        "id": "E1HEcW_bYuBt"
      },
      "outputs": [
        {
          "data": {
            "text/plain": [
              "{'Alice': ['Geschöpfen', 'persönliche', 'unwissendes', 'eos', 'Stunde'],\n",
              " 'Hut': ['unwissendes', 'Bekanntschaft', 'Fläschchens', 'Stunde', 'dessen'],\n",
              " 'Kaninchen': ['euch?«', 'eos', 'liebevolle', 'unwissendes', 'Der'],\n",
              " 'Kaninchenbau': ['euch?«', 'unwissendes', 'Stunde', 'spürte', 'all']}"
            ]
          },
          "execution_count": 47,
          "metadata": {},
          "output_type": "execute_result"
        }
      ],
      "source": [
        "# Zeige die top fünf ähnlichsten Wörter zu unseren Beispielwörtern \n",
        "similar_words = {sample_term: [id2word[idx] for idx in distance_matrix[index].argsort()[1:6]] \n",
        "                   for index, sample_term in enumerate(sample_terms)}\n",
        "\n",
        "similar_words"
      ]
    },
    {
      "cell_type": "markdown",
      "metadata": {
        "id": "LM3qNiNwHyFl"
      },
      "source": [
        "Seid ihr zufrieden mit den ähnlichen Wörtern? Woran kann es liegen, dass die Wörter nicht immer unbedingt Sinn ergeben?"
      ]
    },
    {
      "cell_type": "markdown",
      "metadata": {
        "id": "zt-nOPurYuBz"
      },
      "source": [
        "## Aufgabe 2: Gensim als Wrapper für Word2Vec-Modelle\n",
        "Embedding-Layer begegnen einem in der Praxis in der Tat häufig. In der Regel aber nicht als Bestandteile von reinen Word Embedding-Trainingsmodellen, sondern als erster Layer für Modelle mit anderen Aufgaben. Die Embeddings werden dann entweder mit vorberechneten Werten initalisiert und/oder werden im Training des Modells für die Downstream-Aufgabe (Textklassifikation, Übersetzung, ...) mittrainiert.\n",
        "\n",
        "Eine komfortable Möglichkeit, eigene Word2Vec-Modelle zu trainieren, bietet [Gensim](https://radimrehurek.com/gensim/models/word2vec.html), eine Bibliothek, die für diese Modelle auch Wrapper bereitstellt, um komfortabler an die Embeddings zu kommen und mit diesen zu arbeiten.\n",
        "\n",
        "Wir wollen uns im Folgenden einen kleinen Ausschnitt der Möglichkeiten, die Gensim bietet, anschauen."
      ]
    },
    {
      "cell_type": "markdown",
      "metadata": {
        "id": "Q86D9vsXFN2e"
      },
      "source": [
        "### 2.0 Vorbereitung\n",
        "Wir werden mit vortrainierten Google-News-Embeddings arbeiten, die ihr mit dem Code in den nächsten beiden Zellen herunterladen könnt. Falls das nicht funktionieren sollte, findet ihr die vortrainierten Embeddings [hier](https://drive.google.com/file/d/0B7XkCwpI5KDYNlNUTTlSS21pQmM/edit?usp=sharing). "
      ]
    },
    {
      "cell_type": "markdown",
      "metadata": {
        "id": "RTpLcc8yYuB0"
      },
      "source": [
        "### 2.1 Word2Vec-Model laden\n",
        "Die Vektoren haben eine Länge vin 300.\n",
        "Zieht euch die Embeddings über den oben angegebenen Link und verwendet gensim, um sie anschließend zu laden.\n",
        "\n",
        "**Hinweis**: Es kann einen Moment dauern, bis das Dictionary, das von Wort auf Embedding abbildet, erzeugt ist. Im Zweifel ein ```limit``` angeben und nur die ersten 1,5 Mio. Embeddings laden."
      ]
    },
    {
      "cell_type": "code",
      "execution_count": 1,
      "metadata": {
        "id": "Em5AdDKlYuB2"
      },
      "outputs": [],
      "source": [
        "import gensim\n",
        "\n",
        "embeddings = gensim.models.KeyedVectors.load_word2vec_format(\"./download/GoogleNews-vectors-negative300.bin\", binary=True)"
      ]
    },
    {
      "cell_type": "markdown",
      "metadata": {
        "id": "wk7S_3n4YuB6"
      },
      "source": [
        "Aus Spaß an der Freude können wir nun schauen, wie gut unser trainiertes Modell ist bzw. ob es bestimmte von Menschen wahrgenommene Analogien bestätigt. \n",
        "\n",
        "Die Analogien sind [hier](https://github.com/nicholas-leonard/word2vec/blob/master/questions-words.txt) zu finden."
      ]
    },
    {
      "cell_type": "code",
      "execution_count": null,
      "metadata": {
        "id": "r89GRNDrYuB6"
      },
      "outputs": [],
      "source": [
        "from gensim.test.utils import datapath\n",
        "\n",
        "embeddings.evaluate_word_analogies(datapath(\"questions-words.txt\"), restrict_vocab=30000)"
      ]
    },
    {
      "cell_type": "markdown",
      "metadata": {
        "id": "HCI5ETPYYuB_"
      },
      "source": [
        "### 2.2 Spaß mit Semantik\n",
        "Im Folgenden wollen wir uns mit dem Mehrwert beschäftigen, den semantische Embeddings bieten. Für weitere Inspiration siehe zum Beispiel [hier](https://www.machinelearningplus.com/nlp/gensim-tutorial/) und die [Doku](https://radimrehurek.com/gensim/models/keyedvectors.html).\n",
        "\n",
        "Mit semantischen Vektoren lassen sich zum Beispiel folgende Fragen beantworten:\n"
      ]
    },
    {
      "cell_type": "code",
      "execution_count": 13,
      "metadata": {
        "id": "1mgxhguPYuCA"
      },
      "outputs": [
        {
          "name": "stdout",
          "output_type": "stream",
          "text": [
            "Das deutsche New York ist: [('Berlin', 0.6261184215545654), ('Austrian', 0.6248041391372681), ('Germany', 0.5939319133758545), ('Hamburg', 0.5871230363845825), ('Cologne', 0.580512285232544), ('Munich', 0.5640348196029663), ('Frankfurt', 0.5576122403144836), ('Hungarian', 0.5553871989250183), ('Manhattan', 0.5439103245735168), ('Budapest', 0.5419133901596069)]\n",
            "\n",
            "Ähnlichste Begriffe zu 'Emacs': [('emacs', 0.7516424059867859), ('GNU_Emacs', 0.6907742023468018), ('wget', 0.6600909233093262), ('TextMate', 0.6504663825035095), ('Gnumeric', 0.6487864851951599), ('Notepad_+', 0.646020770072937), ('Win##', 0.6429656744003296), ('debian', 0.6395151615142822), ('libc', 0.6370412707328796), ('osx', 0.6365400552749634)]\n",
            "\n",
            "Ähnlichste Begriffe zu 'Vim': [('Emacs', 0.4973173439502716), ('Menthe', 0.47791504859924316), ('deo', 0.47666671872138977), ('emacs', 0.46879321336746216), ('TextWrangler', 0.46436330676078796), ('Fantastik', 0.4486047923564911), ('TextMate', 0.44810065627098083), ('Chill_Pill', 0.4391757547855377), ('CSSEdit', 0.43912577629089355), ('wget', 0.4389176368713379)]\n",
            "\n",
            "Der Mozart der Naturwissenschaft ist: [('Einstein', 0.4813710153102875), ('Poincaré', 0.45218780636787415), ('science', 0.44701236486434937), ('Minister_Xu_Guanhua', 0.442272424697876), ('scientists', 0.43797606229782104), ('scientific', 0.4362744688987732), ('Albert_Einstein', 0.434390664100647), ('Nobel_laureate_physicist', 0.4337255358695984), ('Francis_Galton', 0.433538019657135), ('Sciences', 0.4334002137184143)]\n",
            "\n",
            "burning:burnt wie singing:[('sing', 0.8258258104324341), ('sang', 0.7832009196281433), ('sung', 0.7069430351257324), ('crooning', 0.7055484652519226), ('sings', 0.6958502531051636), ('singing_Silent_Night', 0.6585049629211426), ('divas_duet', 0.6502494215965271), ('song', 0.6445949673652649), ('often_frees_stutterers', 0.6318124532699585), ('singers', 0.6296789646148682)]\n",
            "\n",
            "Ähnlichkeit DE, FR: 0.6270756125450134\n",
            "Ähnlichkeit DE, CAN: 0.38078492879867554\n"
          ]
        }
      ],
      "source": [
        "# Welche Stadt ist das New York Deutschlands? (Hinweis: 'New_York' ist als Token in den Embeddings enthalten)\n",
        "print(f\"Das deutsche New York ist: {embeddings.most_similar(positive=['New_York', 'German'])}\\n\")\n",
        "\n",
        "# Was ist Emacs besonders ähnlich?\n",
        "print(f\"Ähnlichste Begriffe zu 'Emacs': {embeddings.most_similar(positive=['Emacs'])}\\n\")\n",
        "\n",
        "# Und wie sieht es mit Vim aus?\n",
        "print(f\"Ähnlichste Begriffe zu 'Vim': {embeddings.most_similar(positive=['Vim'])}\\n\")\n",
        "\n",
        "# Wer ist eigentlich der Mozart der Naturwissenschaft?\n",
        "print(f\"Der Mozart der Naturwissenschaft ist: {embeddings.most_similar(positive=['Science', 'Mozart'], negative=['Music'])}\\n\")\n",
        "\n",
        "# Welches Wort verhält sich zu 'singing' wie 'burnt' zu 'burning'?\n",
        "print(f\"burning:burnt wie singing:{embeddings.similar_by_word('singing')}\\n\")\n",
        "\n",
        "# Sind sich Deutschland und Frankreich ähnlicher oder Deutschland und Kanada?\n",
        "print(f\"Ähnlichkeit DE, FR: {embeddings.similarity('Germany', 'France')}\")\n",
        "print(f\"Ähnlichkeit DE, CAN: {embeddings.similarity('Germany', 'Canada')}\")"
      ]
    },
    {
      "cell_type": "markdown",
      "metadata": {
        "id": "l3g5ivIxYuCE"
      },
      "source": [
        "Bei der Interpretation der Ergebnisse ist jedoch Vorsicht geboten: Es werden zwar semantische Beziehungen abgebildet, aber die entsprechen möglicherweise nicht immer den Erwartungen.\n",
        "\n",
        "Wie ähnlich sind sich zum Beispiel \"Leben\" und \"Tod\", \"kalt\" und \"warm\", \"Norden\" und \"Süden\"?\n",
        "\n",
        "Sind die Ergebnisse wie erwartet? Warum (nicht)?"
      ]
    },
    {
      "cell_type": "code",
      "execution_count": 16,
      "metadata": {
        "id": "DXgw0wIMYuCF"
      },
      "outputs": [
        {
          "name": "stdout",
          "output_type": "stream",
          "text": [
            "Ähnlichkeit Leben, Tod: 0.3389456570148468\n",
            "Ähnlichkeit kalt, warm: 0.49793362617492676\n",
            "Ähnlichkeit Norden, Süden: 0.9674535989761353\n"
          ]
        }
      ],
      "source": [
        "print(f\"Ähnlichkeit Leben, Tod: {embeddings.similarity('Life', 'Death')}\")\n",
        "print(f\"Ähnlichkeit kalt, warm: {embeddings.similarity('Cold', 'Warm')}\")\n",
        "print(f\"Ähnlichkeit Norden, Süden: {embeddings.similarity('north', 'south')}\")\n"
      ]
    },
    {
      "cell_type": "markdown",
      "metadata": {
        "id": "DPjd7_zJYuCJ"
      },
      "source": [
        "Die Embeddings sind nicht neutral, sondern spiegeln die Beziehungen wieder, die sich in den Trainingsdaten finden lassen."
      ]
    },
    {
      "cell_type": "code",
      "execution_count": 26,
      "metadata": {
        "id": "LLI9StHLYuCK"
      },
      "outputs": [
        {
          "name": "stdout",
          "output_type": "stream",
          "text": [
            "Wissenschaft wird gemacht von Männern: 0.07765393704175949\n",
            "Wissenschaft wird gemacht von Frauen: 0.15121036767959595\n",
            "Mörder sind Black: 0.10026663541793823\n",
            "Mörder sind White: 0.044914063066244125\n",
            "Mörder sind Asian: -0.026033801957964897\n",
            "Mann ohne Intelligenz: ('women', 0.5342543125152588)\n"
          ]
        }
      ],
      "source": [
        "# Wird Wissenschaft von Frauen oder Männern gemacht?\n",
        "print(f\"Wissenschaft wird gemacht von Männern: {embeddings.similarity('Science', 'Man')}\")\n",
        "print(f\"Wissenschaft wird gemacht von Frauen: {embeddings.similarity('Science', 'Woman')}\")\n",
        "# Sind Mörder eher Schwarze, Weiße oder Asiaten?\n",
        "print(f\"Mörder sind Black: {embeddings.similarity('murderer', 'Black')}\")\n",
        "print(f\"Mörder sind White: {embeddings.similarity('murderer', 'White')}\")\n",
        "print(f\"Mörder sind Asian: {embeddings.similarity('murderer', 'Asian')}\")\n",
        "# Was bleibt vom Mann, wenn die Intelligenz abgezogen wird?\n",
        "print(f\"Mann ohne Intelligenz: {embeddings.most_similar(positive=['men'], negative=['intelligence'])[0]}\")"
      ]
    }
  ],
  "metadata": {
    "colab": {
      "collapsed_sections": [],
      "name": "05_1_text_representation.ipynb",
      "provenance": []
    },
    "kernelspec": {
      "display_name": "Python 3.10.6 ('ki-lab')",
      "language": "python",
      "name": "python3"
    },
    "language_info": {
      "codemirror_mode": {
        "name": "ipython",
        "version": 3
      },
      "file_extension": ".py",
      "mimetype": "text/x-python",
      "name": "python",
      "nbconvert_exporter": "python",
      "pygments_lexer": "ipython3",
      "version": "3.10.6"
    },
    "vscode": {
      "interpreter": {
        "hash": "fe07b17b66b7e7104db5e455d748a52cff19ea452fb3178f01fb8681524c06c0"
      }
    }
  },
  "nbformat": 4,
  "nbformat_minor": 0
}
