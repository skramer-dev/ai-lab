{
 "cells": [
  {
   "attachments": {},
   "cell_type": "markdown",
   "metadata": {
    "collapsed": true
   },
   "source": [
    "# HSKA AI-Lab: Reinforcement Learning - Übung 01"
   ]
  },
  {
   "cell_type": "markdown",
   "metadata": {
    "collapsed": false
   },
   "source": [
    "<br>\n",
    "\n",
    "## MENACE\n",
    "\n",
    "In diesem Notebook geht es darum einen ersten praktischen Einblick in die Implemtentierung eines simplen RL-Agenten zu erhalten.\n",
    "Daher soll im folgenden eine einfache Implementierung des bereits in den Folien vorgestellten [MENACE](https://en.wikipedia.org/wiki/Matchbox_Educable_Noughts_and_Crosses_Engine), ein RL Agent zur Lösung von Tic-Tac-Toe, umgesetzt werden. Dies erfolgt mit Hilfe des RL Frameworks [OpenAI Gym](https://gym.openai.com/)."
   ]
  },
  {
   "cell_type": "code",
   "execution_count": 38,
   "metadata": {
    "collapsed": false
   },
   "outputs": [],
   "source": [
    "# %pip install --upgrade pip\n",
    "# %pip install gym[atari]==0.21.0"
   ]
  },
  {
   "cell_type": "markdown",
   "metadata": {
    "collapsed": false
   },
   "source": [
    "### Tic-Tac-Toe Umgebung\n",
    "\n",
    "Als ersten Schritt wollen wir die Umgebung (Environment) für MENACE modellieren, sprich das Tic-Tac-Toe Spielfeld.\n",
    "Dies besteht bekanntermaßen aus einer $3 x 3$ Matrix, welche wie folgt durchnummeriert wird:\n",
    "<br>\n",
    "\n",
    "```\n",
    "| 0 | 1 | 2 |\n",
    "-------------\n",
    "| 3 | 4 | 5 |\n",
    "-------------\n",
    "| 6 | 7 | 8 |\n",
    "-------------\n",
    "```\n",
    "Der Zustand des Spiels kann also jederzeit durch ein neun-elementiges Feld mit String-Werten beschrieben werden, wobei jedes Element entweder mit `' '` für ein leeres Feld oder mit `'X'` bzw. `'O'` für gespielte Felder des jeweiligen Spielers belegt ist. Beipielsweise repräsentiert `[' ', 'X', 'O', ' ', 'X', ' ', ' ', ' ' , ' ']` die folgende Spielsituation:\n",
    "\n",
    "```\n",
    "|   | X | O |\n",
    "-------------\n",
    "|   | X |   |\n",
    "-------------\n",
    "|   |   |   |\n",
    "-------------\n",
    "```\n",
    "\n",
    "Ein Agent bestimmt in seinem Zug immer das Feld, auf das seine Markierung als nächstes gesetzt wird, indem er den Index des entsprechenden Felds als Aktion wählt.\n",
    "Dementsprechen ergibt sich folgender Zustands- und Aktionsraum (`action_space` und `observation_space`, s.u.):\n",
    "<br>\n",
    "$A = \\{1,...,9\\} $ <br>\n",
    "$S = \\{1,...,9\\} $\n",
    "\n",
    "Diese Umgebung wollen wir nun im ersten Schritt als OpenAI Gym Environment implementieren."
   ]
  },
  {
   "cell_type": "markdown",
   "metadata": {
    "collapsed": false
   },
   "source": [
    "### Aufgabe 1: Modellierung von Tic-Tac-Toe als Environment\n",
    "\n",
    "Dazu soll die Umgebung als eigene Klasse implementiert werden, die von `gym.Env` erbt.\n",
    "Die abstrakte Klasse `Env` erfordert die Implementierung der Methoden `step`, `reset` und `render`. Hierbei beinhaltet `step` die Logik eines Spielzugs, mittels `reset` kann die Umgebung nach einem Spiel wieder zurückgesetzt werden und `render` erzeugt eine menschenlesbare Repräsentation der Umgebung."
   ]
  },
  {
   "cell_type": "code",
   "execution_count": 1,
   "metadata": {
    "collapsed": false
   },
   "outputs": [],
   "source": [
    "from enum import Enum\n",
    "from typing import List, Tuple\n",
    "\n",
    "import gym\n",
    "from gym import spaces\n",
    "\n",
    "class Rewards(Enum):\n",
    "    \"\"\"Models the rewards of Tic-Tac-Toe\"\"\"\n",
    "    WINNER = 3\n",
    "    DRAW = 1\n",
    "    NO_REWARD = 0\n",
    "\n",
    "# size of the noughts-and-crosses board\n",
    "BOARD_SIZE = 9\n",
    "\n",
    "\n",
    "class NoughtsAndCrossesEnvironment(gym.Env):\n",
    "    \"\"\"\n",
    "    Models the environment of noughts-and-crosses\n",
    "    \"\"\"\n",
    "\n",
    "    def __init__(self):\n",
    "        self.action_space = spaces.Discrete(BOARD_SIZE)\n",
    "        self.observation_space = spaces.Discrete(BOARD_SIZE)\n",
    "        self.seed(seed=42)\n",
    "        self.board = None  # representation of the board (see above)\n",
    "        self.done = False\n",
    "        self.current_actor_symbol = \"-\" # the symbol of the currently active actor\n",
    "        self.reset()\n",
    "\n",
    "    def __str__(self):\n",
    "        return f\"| 0 | 1 | 2 |  *  | {self.board[0]} | {self.board[1]} | {self.board[2]} | \\n\" \\\n",
    "               f\"------------   *  ------------| \\n\" \\\n",
    "               f\"| 3 | 4 | 5 |  *  | {self.board[3]} | {self.board[4]} | {self.board[5]} | \\n\" \\\n",
    "               f\"------------   *  ------------| \\n\" \\\n",
    "               f\"| 6 | 7 | 8 |  *  | {self.board[6]} | {self.board[7]} | {self.board[8]} | \\n\" \\\n",
    "               f\"------------   *  ------------| \\n\"\n",
    "\n",
    "    def _get_obs(self) -> List[str]:\n",
    "        \"\"\"\n",
    "        Get the current observation\n",
    "\n",
    "        Returns:\n",
    "             The current board situation\n",
    "        \"\"\"\n",
    "        return self.board\n",
    "\n",
    "    def _add_action(self, action: int, actor_symbol: str) -> None:\n",
    "        \"\"\"\n",
    "        Adds the given action to the bord, i.e., places the symbol of the actor at the index given as action.\n",
    "\n",
    "        Args:\n",
    "            action: action of the player (index where to put the corresponding symbol)\n",
    "            actor_symbol: symbol of the actor which is added at the given board position (action)\n",
    "\n",
    "        \"\"\"\n",
    "        self.board[action] = actor_symbol\n",
    "\n",
    "    def _has_winner(self) -> bool:\n",
    "        \"\"\"\n",
    "        Checks whether the current board situation is a win.\n",
    "\n",
    "        Returns:\n",
    "            True, if player with last move has won\n",
    "        \"\"\"\n",
    "        rules = [(self.board[0],self.board[1],self.board[2]),\n",
    "                 (self.board[3],self.board[4],self.board[5]),\n",
    "                 (self.board[6],self.board[7],self.board[8]),\n",
    "                 (self.board[2],self.board[5],self.board[8]),\n",
    "                 (self.board[1],self.board[4],self.board[7]),\n",
    "                 (self.board[0],self.board[3],self.board[6]),\n",
    "                 (self.board[0],self.board[4],self.board[8]),\n",
    "                 (self.board[2],self.board[4],self.board[6])]\n",
    "        for rule in rules:\n",
    "            if (rule[0] == rule[1] and rule[1] == rule[2]):\n",
    "                if rule[0] != ' ':\n",
    "                    return True\n",
    "\n",
    "    def _is_draw(self) -> bool:\n",
    "        \"\"\"\n",
    "        Check whether the current board situation corresponds to a draw.\n",
    "\n",
    "        Returns:\n",
    "            True, if the board signals a draw\n",
    "        \"\"\"\n",
    "        return all(field != ' ' for field in self.board)\n",
    "\n",
    "    def _available_fields(self) -> List[int]:\n",
    "        \"\"\"\n",
    "        Get the indexes of the available fields\n",
    "\n",
    "        Returns:\n",
    "            List of indexes of available fields\n",
    "        \"\"\"\n",
    "\n",
    "        return [pos for pos, val in enumerate(self.board) if val == ' ']\n",
    "\n",
    "    def reset(self) -> List[str]:\n",
    "        \"\"\"\n",
    "        Resets the Environment to be ready for a new game\n",
    "\n",
    "        Returns:\n",
    "            the current observation (state of the board)\n",
    "        \"\"\"\n",
    "        self.board = [' ' for _ in range(BOARD_SIZE)]\n",
    "        self.done = False\n",
    "\n",
    "        return self._get_obs()\n",
    "\n",
    "    def step(self, action: int) -> Tuple[List[str], Rewards, bool]:\n",
    "        \"\"\"\n",
    "        Do one step within the environment by applying the action.\n",
    "        To do so, the following steps are required:\n",
    "            1) Check the validity of the given action\n",
    "            2) Add the given action to the board using the current actor symbol\n",
    "            3) Check whether the last action produces a win or a draw and return observation, reward and done accordingly\n",
    "\n",
    "        Args:\n",
    "            action: Location on the board where the current player places his mark\n",
    "\n",
    "        Returns:\n",
    "            Observation - current board representation\n",
    "            Reward - reward assigned to this step\n",
    "            Done - boolean information whether the game is finished\n",
    "        \"\"\"\n",
    "        #print(f\"Received action: {action}, Action -1 = {action-1}\")\n",
    "        #print(f\"Available fields: {self._available_fields()}\")\n",
    "        if action in self.action_space:\n",
    "            if (action) in self._available_fields():\n",
    "                self._add_action(action,self.current_actor_symbol)\n",
    "                if self._is_draw():\n",
    "                    return self._get_obs(),Rewards.DRAW,True\n",
    "                elif self._has_winner():\n",
    "                    return self._get_obs(),Rewards.WINNER,True\n",
    "                else:\n",
    "                    return self._get_obs(),Rewards.NO_REWARD,False\n",
    "            else:\n",
    "                print(\"Field is already assigned\")\n",
    "        else:\n",
    "            print(\"Invalid action\")\n",
    "\n",
    "    def render(self, mode=\"human\"):\n",
    "        if mode == \"human\":\n",
    "            return str(self)\n",
    "\n",
    "    def set_current_actor_symbol(self, actor_symbol: str) -> None:\n",
    "        \"\"\"\n",
    "        Set the given symbol as current actor symbol\n",
    "        Args:\n",
    "            actor_symbol: symbol of the current actor\n",
    "        \"\"\"\n",
    "        assert actor_symbol in ['O', 'X']\n",
    "\n",
    "        self.current_actor_symbol = actor_symbol\n"
   ]
  },
  {
   "cell_type": "markdown",
   "metadata": {
    "collapsed": false
   },
   "source": [
    "Des weiteren schreiben wir uns eine kleine Hilfsfunktion, die basierend auf einem beobachteten Spielzustand die noch verfügbaren Felder zurück gibt:"
   ]
  },
  {
   "cell_type": "code",
   "execution_count": 2,
   "metadata": {
    "collapsed": false
   },
   "outputs": [],
   "source": [
    "def available_fields_in_state(state: List[str]) -> List[int]:\n",
    "    \"\"\"\n",
    "    Get the indexes of the available fields for the given state\n",
    "    Returns:\n",
    "         List of indexes of available fields\n",
    "    \"\"\"\n",
    "    return [pos for pos, val in enumerate(state) if val == ' ']"
   ]
  },
  {
   "cell_type": "markdown",
   "metadata": {
    "collapsed": false
   },
   "source": [
    "<br>\n",
    "\n",
    "Nachdem wir nun die Umgebung implementier haben, sollen als nächstes verschiedene Formen eines Spielers implementiert werden, u.a. MENACE.\n",
    "Zunächst definieren wir die allgemeine Struktur eines Spielers:"
   ]
  },
  {
   "cell_type": "code",
   "execution_count": 3,
   "metadata": {
    "collapsed": false
   },
   "outputs": [],
   "source": [
    "from abc import ABC, abstractmethod\n",
    "from typing import List\n",
    "\n",
    "class NoughtsAndCrossesActor(ABC):\n",
    "    \"\"\"\n",
    "    Abstract class of an actor for noughts-and-crosses\n",
    "    \"\"\"\n",
    "\n",
    "    def __init__(self, actor_symbol: str = '-'):\n",
    "        self.actor_symbol = actor_symbol\n",
    "\n",
    "    @abstractmethod\n",
    "    def start_game(self) -> None:\n",
    "        \"\"\"\n",
    "        Preparation of the actor before the game starts.\n",
    "        \"\"\"\n",
    "\n",
    "        raise NotImplementedError\n",
    "\n",
    "    def get_action(self, state: List[str]) -> int:\n",
    "        \"\"\"\n",
    "        Returns the action of the actor for the given board constellation.\n",
    "\n",
    "        Args:\n",
    "            state: current, observed state of the game board\n",
    "\n",
    "        Returns:\n",
    "            [int] index of the board field where the actor wants to place his mark\n",
    "        \"\"\"\n",
    "\n",
    "        raise NotImplementedError\n",
    "\n",
    "    @abstractmethod\n",
    "    def win(self) -> None:\n",
    "        \"\"\"\n",
    "        Is called when the actor has won and rewards the actor accordingly.\n",
    "        \"\"\"\n",
    "\n",
    "        raise NotImplementedError\n",
    "\n",
    "    @abstractmethod\n",
    "    def draw(self) -> None:\n",
    "        \"\"\"\n",
    "        Is called when the actor has played draw and rewards the actor accordingly.\n",
    "        \"\"\"\n",
    "\n",
    "        raise NotImplementedError\n",
    "\n",
    "    @abstractmethod\n",
    "    def lose(self) -> None:\n",
    "        \"\"\"\n",
    "        Is called when the actor has lost the game and punishes the actor accordingly.\n",
    "        \"\"\"\n",
    "\n",
    "        raise NotImplementedError\n",
    "\n",
    "    def print_stats(self):\n",
    "        print(f\"No stats available\")"
   ]
  },
  {
   "cell_type": "markdown",
   "metadata": {
    "collapsed": false
   },
   "source": [
    "Damit später auch der trainierte MENACE-Agent zu einem Duell herausgefordert werden kann, implementieren wir einen menschlichen Spieler wie folgt:"
   ]
  },
  {
   "cell_type": "code",
   "execution_count": 4,
   "metadata": {
    "collapsed": false
   },
   "outputs": [],
   "source": [
    "class HumanPlayer(NoughtsAndCrossesActor):\n",
    "    \"\"\"\n",
    "    Player that allows for human interactions.\n",
    "    \"\"\"\n",
    "\n",
    "    def start_game(self):\n",
    "        \"\"\"\n",
    "        Informs the player about starting match.\n",
    "        \"\"\"\n",
    "        print(\"Get ready!\")\n",
    "\n",
    "    def get_action(self, state: List[str]) -> int:\n",
    "        \"\"\"\n",
    "        Collects the player's action as console input.\n",
    "        Player needs to input the position of the field where she/he wants to place his symbol.\n",
    "        \n",
    "        Args:\n",
    "             state: the current, observed state of the board\n",
    "\n",
    "        Returns:\n",
    "            action of the human player\n",
    "        \"\"\"\n",
    "        while True:\n",
    "            move = input('Make a move: ')\n",
    "            if int(move) in available_fields_in_state(state=state):\n",
    "                return int(move)\n",
    "            print(\"Not a valid move\")\n",
    "\n",
    "    def win(self):\n",
    "        \"\"\"\n",
    "        Informs the human player about his win.\n",
    "        \"\"\"\n",
    "        print(\"You won!\")\n",
    "\n",
    "    def draw(self):\n",
    "        \"\"\"\n",
    "        Informs the human player about the draw.\n",
    "        \"\"\"\n",
    "        print(\"It's a draw.\")\n",
    "\n",
    "    def lose(self):\n",
    "        \"\"\"\n",
    "        Informs the human player about his defeat.\n",
    "        \"\"\"\n",
    "        print(\"You lose.\")"
   ]
  },
  {
   "cell_type": "markdown",
   "metadata": {
    "collapsed": false
   },
   "source": [
    "Da wir MENACE aber nicht per Hand trainieren möchten, erstellen wir uns auch einen Agenten, der den nächsten Zug schlicht zufällig aus den noch verfügbaren Feldern wählt:"
   ]
  },
  {
   "cell_type": "code",
   "execution_count": 5,
   "metadata": {
    "collapsed": false
   },
   "outputs": [],
   "source": [
    "import random\n",
    "\n",
    "class RandomPlayer(NoughtsAndCrossesActor):\n",
    "    \"\"\"\n",
    "    A counterpart that simply draws a random action from the available fields\n",
    "    of the present board constellation.\n",
    "    \"\"\"\n",
    "\n",
    "    def start_game(self):\n",
    "        pass\n",
    "\n",
    "    def win(self):\n",
    "        pass\n",
    "\n",
    "    def draw(self):\n",
    "        pass\n",
    "\n",
    "    def lose(self):\n",
    "        pass\n",
    "\n",
    "    def get_action(self, state: List[str]) -> int:\n",
    "        return random.choice(available_fields_in_state(state=state))"
   ]
  },
  {
   "cell_type": "markdown",
   "metadata": {
    "collapsed": false
   },
   "source": [
    "Zu guter Letzt fehlt uns nun nur noch die Implementierung eines `BasicMENACE`-Agenten basierend auf `NoughtsAndCrossesActor`."
   ]
  },
  {
   "cell_type": "markdown",
   "metadata": {
    "collapsed": false
   },
   "source": [
    "### Aufgabe 2: Implementierung eines MENACE-Agenten"
   ]
  },
  {
   "cell_type": "code",
   "execution_count": 6,
   "metadata": {
    "collapsed": false
   },
   "outputs": [],
   "source": [
    "import math\n",
    "\n",
    "class BasicMENACE(NoughtsAndCrossesActor):\n",
    "    \"\"\"\n",
    "    Implementation of a basic MENACE actor that learns from his previous actions.\n",
    "    \"\"\"\n",
    "\n",
    "    def __init__(self):\n",
    "        super().__init__()\n",
    "        self.matchboxes = dict()  # dictionary states: actions -> policies\n",
    "        self.wins = 0\n",
    "        self.draws = 0\n",
    "        self.defeats = 0\n",
    "        self.winning_shares = []\n",
    "        self.actions_taken: List[Tuple[str, int]] = []\n",
    "\n",
    "    def update_winning_shares(self) -> None:\n",
    "        \"\"\"\n",
    "        Calculate the winning share after each 500 games.\n",
    "        \"\"\"\n",
    "        num_matches = sum([self.wins, self.draws, self.defeats])\n",
    "        if num_matches % 500 == 0:\n",
    "            self.winning_shares.append(self.wins / num_matches)\n",
    "\n",
    "    def start_game(self) -> None:\n",
    "        \"\"\"\n",
    "        Prepare MENACE for a new match and reset his taken actions.\n",
    "        They are gathered to update the mumbles in accordance to the result of the game.\n",
    "        \"\"\"\n",
    "        self.actions_taken = []\n",
    "\n",
    "    @staticmethod\n",
    "    def _initialize_matchbox(state: List[str]) -> List[int]:\n",
    "        \"\"\"\n",
    "        --Initialize a new matchbox.\n",
    "        --On creation, a matchbox contains one mumble for each available field of the current board constellation.\n",
    "        --There as many types of mumbles as noughts-and-cross has fields.\n",
    "        In dependence of the game progress, the amount of mumbles is multiplied to account\n",
    "        for the number of outstanding actions.  The earlier the board state the more action options are required\n",
    "        first round: 4 mumbles per available field , second round 3 mumbles...\n",
    "        --The input of the method is the representation of the current board.\n",
    "        --With the help of the function `available_fields_in_state`, the method should return a list of integers\n",
    "        --where each integer refers to the type of one mumble.\n",
    "\n",
    "        Example:\n",
    "\n",
    "            input:\n",
    "                state = [\"-\", \"X\", \"O\", \"-\", \"-\", \"-\", \"O\", \"X\", \"X\"]\n",
    "\n",
    "            output:\n",
    "                [0, 3, 4, 5, 0, 3, 4,5 ]\n",
    "        \"\"\"\n",
    "\n",
    "        # TODO\n",
    "        current_round = max(state.count(\"X\"), state.count(\"O\"))\n",
    "        append_list = []\n",
    "        for field in available_fields_in_state(state):\n",
    "            append_list.append(field)\n",
    "\n",
    "        output = []\n",
    "        for i in range(5-current_round):\n",
    "            for element in append_list:\n",
    "                output.append(element)\n",
    "        \n",
    "        return output\n",
    "\n",
    "\n",
    "\n",
    "    def get_action(self, state: List[str]) -> int:\n",
    "        \"\"\"\n",
    "        Returns the action MENACE decides to take given the current board constellation.\n",
    "        If MENACE is not able to take an action, it returns -1.\n",
    "        Therefore, two actions are required:\n",
    "            1) check whether the given state is already known by MENACE, if not initialize a matchbox for it\n",
    "            2) Get a random mumble of the corresponding checkbox for the given state => CHECKBOX??????\n",
    "\n",
    "        Returns:\n",
    "            [int] action chosen from MENACE\n",
    "        \"\"\"\n",
    " \n",
    "        # TODO\n",
    "        state_to_key = str(state)\n",
    "        if state_to_key not in self.matchboxes:\n",
    "            self.matchboxes[state_to_key] = BasicMENACE._initialize_matchbox(state)\n",
    "            #print(f\"Init Matchbox result: {self.matchboxes[state_to_key]}\")\n",
    "        if len(self.matchboxes[state_to_key]) == 0:\n",
    "            #print(f\"No action can be taken\")\n",
    "            return -1\n",
    " \n",
    "        action = random.sample(self.matchboxes[state_to_key], 1)[0]\n",
    "        return action\n",
    "\n",
    "\n",
    "    def win(self) -> None:\n",
    "        \"\"\"\n",
    "        Propagates the reward of winning the game to MENACE.\n",
    "        Go through all actions taken for observed state within the current game\n",
    "        Add the corresponding mumble (amount determined by Rewards.WINNER) for the taken action to the matchbox belonging to the observed state\n",
    "        Increase winning counter and update winning shares\n",
    "        \"\"\"\n",
    "\n",
    "        # TODO\n",
    "        for state, marble in self.actions_taken:\n",
    "            matchbox = self.matchboxes[state]\n",
    "            for i in range(Rewards.WINNER):\n",
    "                matchbox.append[marble]\n",
    "\n",
    "        # update stats\n",
    "        self.wins += 1\n",
    "        self.update_winning_shares()\n",
    "\n",
    "\n",
    "    def draw(self) -> None:\n",
    "        \"\"\"\n",
    "        Propagates the reward of a draw game to MENACE.\n",
    "        Go through all actions taken for observed state within the current game\n",
    "        Add the corresponding mumble (amount determined by Rewards.DRAW) for the taken action to the matchbox belonging to the observed state\n",
    "        Increase draw counter and update winning shares\n",
    "        \"\"\"\n",
    "\n",
    "        # TODO\n",
    "        for state, marble in self.actions_taken:\n",
    "            matchbox = self.matchboxes[state]\n",
    "            matchbox.append[marble]\n",
    "            \n",
    "\n",
    "        # update stats\n",
    "        self.draws += 1\n",
    "        self.update_winning_shares()\n",
    "\n",
    "    def lose(self) -> None:\n",
    "        \"\"\"\n",
    "        Propagates the reward of losing the game to MENACE.\n",
    "        \"\"\"\n",
    "        # go through all actions taken for an observed state within the current game\n",
    "        for state, marble in self.actions_taken:\n",
    "            # delete one of the corresponding marbles for the taken action\n",
    "            # from the matchbox belonging to the observed state\n",
    "            matchbox = self.matchboxes[state]\n",
    "            del matchbox[matchbox.index(marble)]\n",
    "\n",
    "        # update stats\n",
    "        self.defeats += 1\n",
    "        self.update_winning_shares()\n",
    "\n",
    "    def print_stats(self) -> None:\n",
    "        \"\"\"\n",
    "        Inform about how many board constellations MENACE knows and about the match results.\n",
    "        :return:\n",
    "        \"\"\"\n",
    "\n",
    "        print(f\"Has seen {len(self.matchboxes.keys())} board constellations\")\n",
    "        print(f\"Win/Draw/Defeat: {self.wins}/{self.draws}/{self.defeats}\")"
   ]
  },
  {
   "cell_type": "markdown",
   "metadata": {
    "collapsed": false
   },
   "source": [
    "Nachdem wir nun bereits alle erforderlichen Komponenten implementiert haben, können wir uns nun um das Training von MENACE kümmern und uns danach einige Runden gegen ihn spielen.\n",
    "Dafür verwenden wir die folgende Implementierung eines Tic-Tac-Toe Spiels:"
   ]
  },
  {
   "cell_type": "code",
   "execution_count": 8,
   "metadata": {
    "collapsed": false
   },
   "outputs": [],
   "source": [
    "class NoughtsAndCrosses:\n",
    "    \"\"\"\n",
    "    Game of noughts and crosses.\n",
    "    Player one always uses 'X' as symbol and player two always 'O'.\n",
    "    \"\"\"\n",
    "\n",
    "    def __init__(self, player_one: NoughtsAndCrossesActor, player_two: NoughtsAndCrossesActor):\n",
    "        self.player_one = player_one\n",
    "        player_one.actor_symbol = 'X'\n",
    "        self.player_two = player_two\n",
    "        player_two.actor_symbol = 'O'\n",
    "        self.env = NoughtsAndCrossesEnvironment()\n",
    "\n",
    "    def play(self, silent: bool) -> None:\n",
    "        \"\"\"\n",
    "        Play one match of noughts and crosses.\n",
    "\n",
    "        :param silent: allows to deactivate the console output during the match (better for training)\n",
    "        \"\"\"\n",
    "\n",
    "        # inform both players about the starting game\n",
    "        self.player_one.start_game()\n",
    "        self.player_two.start_game()\n",
    "\n",
    "        state = self.env.reset()\n",
    "\n",
    "        # repeat until no further action is possible\n",
    "        while not self.env.done:\n",
    "\n",
    "            # print current board constellation\n",
    "            if not silent:\n",
    "                print(self.env.render())\n",
    "\n",
    "            # get action to take from player one\n",
    "            action = self.player_one.get_action(state)\n",
    "\n",
    "            # check whether the action is invalid\n",
    "            if action == -1:\n",
    "                self.player_one.lose()\n",
    "                self.player_two.win()\n",
    "                break\n",
    "\n",
    "            self.env.set_current_actor_symbol(actor_symbol=self.player_one.actor_symbol)\n",
    "\n",
    "            state, reward, done = self.env.step(action)\n",
    "\n",
    "            # check whether the game is finished\n",
    "            if reward == Rewards.WINNER:\n",
    "                if not silent:\n",
    "                    print(self.env.render())\n",
    "                self.player_two.lose()\n",
    "                self.player_one.win()\n",
    "                break\n",
    "            if reward == Rewards.DRAW:\n",
    "                if not silent:\n",
    "                    print(self.env.render())\n",
    "                self.player_one.draw()\n",
    "                self.player_two.draw()\n",
    "                break\n",
    "\n",
    "            # print current board constellation\n",
    "            if not silent:\n",
    "                print(self.env)\n",
    "\n",
    "            # get action to take from player two\n",
    "            action = self.player_two.get_action(state)\n",
    "\n",
    "            # check whether the action is invalid\n",
    "            if action == -1:\n",
    "                self.player_two.win()\n",
    "                self.player_two.lose()\n",
    "                break\n",
    "\n",
    "            self.env.set_current_actor_symbol(actor_symbol=self.player_two.actor_symbol)\n",
    "\n",
    "            state, reward, done = self.env.step(action)\n",
    "\n",
    "            # check whether the game is finished\n",
    "            if reward == Rewards.WINNER:\n",
    "                self.player_one.lose()\n",
    "                self.player_two.win()\n",
    "                if not silent:\n",
    "                    print(self.env)\n",
    "                break\n",
    "            if reward == Rewards.DRAW:\n",
    "                self.player_one.draw()\n",
    "                self.player_two.draw()\n",
    "                if not silent:\n",
    "                    print(self.env)\n",
    "                break\n",
    "\n",
    "    def get_players(self) -> Tuple[NoughtsAndCrossesActor, NoughtsAndCrossesActor]:\n",
    "        \"\"\"\n",
    "        Get the player instances of the game\n",
    "        \"\"\"\n",
    "        return self.player_one, self.player_two\n",
    "\n",
    "    def reset(self) -> None:\n",
    "        \"\"\"\n",
    "        Refreshes the environment for a new game\n",
    "        \"\"\"\n",
    "        self.env.reset()"
   ]
  },
  {
   "cell_type": "markdown",
   "metadata": {
    "collapsed": false
   },
   "source": [
    "Nun wollen wir damit MENACE einige Runden mittels des Zufallsspielers trainieren (spielt gerne etwas mit der Anzahl der Trainingsläufe herum)."
   ]
  },
  {
   "cell_type": "code",
   "execution_count": 9,
   "metadata": {
    "collapsed": false
   },
   "outputs": [],
   "source": [
    "# train MENACE with a randomly playing opponent\n",
    "training_game = NoughtsAndCrosses(player_one=BasicMENACE(), player_two=RandomPlayer())\n",
    "rounds = 75000\n",
    "for i in range(rounds):\n",
    "    training_game.play(silent=True)\n",
    "    training_game.reset()"
   ]
  },
  {
   "cell_type": "code",
   "execution_count": 10,
   "metadata": {
    "collapsed": false
   },
   "outputs": [],
   "source": [
    "# get the trained MENACE agent\n",
    "menace, _ = training_game.get_players()"
   ]
  },
  {
   "cell_type": "code",
   "execution_count": 11,
   "metadata": {
    "collapsed": false
   },
   "outputs": [
    {
     "name": "stdout",
     "output_type": "stream",
     "text": [
      "Has seen 2423 board constellations\n",
      "Win/Draw/Defeat: 27168/26228/21604\n"
     ]
    }
   ],
   "source": [
    "# print information about how MENACE has performed\n",
    "menace.print_stats()"
   ]
  },
  {
   "cell_type": "code",
   "execution_count": 12,
   "metadata": {
    "collapsed": false
   },
   "outputs": [
    {
     "name": "stdout",
     "output_type": "stream",
     "text": [
      "Get ready!\n",
      "| 0 | 1 | 2 |  *  |   |   |   | \n",
      "------------   *  ------------| \n",
      "| 3 | 4 | 5 |  *  |   |   |   | \n",
      "------------   *  ------------| \n",
      "| 6 | 7 | 8 |  *  |   |   |   | \n",
      "------------   *  ------------| \n",
      "\n",
      "| 0 | 1 | 2 |  *  |   |   |   | \n",
      "------------   *  ------------| \n",
      "| 3 | 4 | 5 |  *  |   |   |   | \n",
      "------------   *  ------------| \n",
      "| 6 | 7 | 8 |  *  |   |   | X | \n",
      "------------   *  ------------| \n",
      "\n",
      "| 0 | 1 | 2 |  *  |   | O |   | \n",
      "------------   *  ------------| \n",
      "| 3 | 4 | 5 |  *  |   |   |   | \n",
      "------------   *  ------------| \n",
      "| 6 | 7 | 8 |  *  |   |   | X | \n",
      "------------   *  ------------| \n",
      "\n",
      "| 0 | 1 | 2 |  *  | X | O |   | \n",
      "------------   *  ------------| \n",
      "| 3 | 4 | 5 |  *  |   |   |   | \n",
      "------------   *  ------------| \n",
      "| 6 | 7 | 8 |  *  |   |   | X | \n",
      "------------   *  ------------| \n",
      "\n",
      "| 0 | 1 | 2 |  *  | X | O | O | \n",
      "------------   *  ------------| \n",
      "| 3 | 4 | 5 |  *  |   |   |   | \n",
      "------------   *  ------------| \n",
      "| 6 | 7 | 8 |  *  |   |   | X | \n",
      "------------   *  ------------| \n",
      "\n",
      "| 0 | 1 | 2 |  *  | X | O | O | \n",
      "------------   *  ------------| \n",
      "| 3 | 4 | 5 |  *  |   | X |   | \n",
      "------------   *  ------------| \n",
      "| 6 | 7 | 8 |  *  |   |   | X | \n",
      "------------   *  ------------| \n",
      "\n",
      "You lose.\n",
      "Get ready!\n",
      "| 0 | 1 | 2 |  *  |   |   |   | \n",
      "------------   *  ------------| \n",
      "| 3 | 4 | 5 |  *  |   |   |   | \n",
      "------------   *  ------------| \n",
      "| 6 | 7 | 8 |  *  |   |   |   | \n",
      "------------   *  ------------| \n",
      "\n",
      "| 0 | 1 | 2 |  *  |   |   |   | \n",
      "------------   *  ------------| \n",
      "| 3 | 4 | 5 |  *  |   |   |   | \n",
      "------------   *  ------------| \n",
      "| 6 | 7 | 8 |  *  |   |   | X | \n",
      "------------   *  ------------| \n",
      "\n"
     ]
    },
    {
     "ename": "KeyboardInterrupt",
     "evalue": "Interrupted by user",
     "output_type": "error",
     "traceback": [
      "\u001b[1;31m---------------------------------------------------------------------------\u001b[0m",
      "\u001b[1;31mKeyboardInterrupt\u001b[0m                         Traceback (most recent call last)",
      "\u001b[1;32md:\\Users\\Sebastian\\Desktop\\HsKa\\Master\\2. Semester\\KI-Exercise\\rl\\1_MENACE.ipynb Zelle 24\u001b[0m in \u001b[0;36m<cell line: 3>\u001b[1;34m()\u001b[0m\n\u001b[0;32m      <a href='vscode-notebook-cell:/d%3A/Users/Sebastian/Desktop/HsKa/Master/2.%20Semester/KI-Exercise/rl/1_MENACE.ipynb#X32sZmlsZQ%3D%3D?line=2'>3</a>\u001b[0m \u001b[39mfor\u001b[39;00m _ \u001b[39min\u001b[39;00m \u001b[39mrange\u001b[39m(manual_games):\n\u001b[0;32m      <a href='vscode-notebook-cell:/d%3A/Users/Sebastian/Desktop/HsKa/Master/2.%20Semester/KI-Exercise/rl/1_MENACE.ipynb#X32sZmlsZQ%3D%3D?line=3'>4</a>\u001b[0m     game \u001b[39m=\u001b[39m NoughtsAndCrosses(player_one\u001b[39m=\u001b[39mmenace, player_two\u001b[39m=\u001b[39mHumanPlayer())\n\u001b[1;32m----> <a href='vscode-notebook-cell:/d%3A/Users/Sebastian/Desktop/HsKa/Master/2.%20Semester/KI-Exercise/rl/1_MENACE.ipynb#X32sZmlsZQ%3D%3D?line=4'>5</a>\u001b[0m     game\u001b[39m.\u001b[39;49mplay(silent\u001b[39m=\u001b[39;49m\u001b[39mFalse\u001b[39;49;00m)\n",
      "\u001b[1;32md:\\Users\\Sebastian\\Desktop\\HsKa\\Master\\2. Semester\\KI-Exercise\\rl\\1_MENACE.ipynb Zelle 24\u001b[0m in \u001b[0;36mNoughtsAndCrosses.play\u001b[1;34m(self, silent)\u001b[0m\n\u001b[0;32m     <a href='vscode-notebook-cell:/d%3A/Users/Sebastian/Desktop/HsKa/Master/2.%20Semester/KI-Exercise/rl/1_MENACE.ipynb#X32sZmlsZQ%3D%3D?line=62'>63</a>\u001b[0m     \u001b[39mprint\u001b[39m(\u001b[39mself\u001b[39m\u001b[39m.\u001b[39menv)\n\u001b[0;32m     <a href='vscode-notebook-cell:/d%3A/Users/Sebastian/Desktop/HsKa/Master/2.%20Semester/KI-Exercise/rl/1_MENACE.ipynb#X32sZmlsZQ%3D%3D?line=64'>65</a>\u001b[0m \u001b[39m# get action to take from player two\u001b[39;00m\n\u001b[1;32m---> <a href='vscode-notebook-cell:/d%3A/Users/Sebastian/Desktop/HsKa/Master/2.%20Semester/KI-Exercise/rl/1_MENACE.ipynb#X32sZmlsZQ%3D%3D?line=65'>66</a>\u001b[0m action \u001b[39m=\u001b[39m \u001b[39mself\u001b[39;49m\u001b[39m.\u001b[39;49mplayer_two\u001b[39m.\u001b[39;49mget_action(state)\n\u001b[0;32m     <a href='vscode-notebook-cell:/d%3A/Users/Sebastian/Desktop/HsKa/Master/2.%20Semester/KI-Exercise/rl/1_MENACE.ipynb#X32sZmlsZQ%3D%3D?line=67'>68</a>\u001b[0m \u001b[39m# check whether the action is invalid\u001b[39;00m\n\u001b[0;32m     <a href='vscode-notebook-cell:/d%3A/Users/Sebastian/Desktop/HsKa/Master/2.%20Semester/KI-Exercise/rl/1_MENACE.ipynb#X32sZmlsZQ%3D%3D?line=68'>69</a>\u001b[0m \u001b[39mif\u001b[39;00m action \u001b[39m==\u001b[39m \u001b[39m-\u001b[39m\u001b[39m1\u001b[39m:\n",
      "\u001b[1;32md:\\Users\\Sebastian\\Desktop\\HsKa\\Master\\2. Semester\\KI-Exercise\\rl\\1_MENACE.ipynb Zelle 24\u001b[0m in \u001b[0;36mHumanPlayer.get_action\u001b[1;34m(self, state)\u001b[0m\n\u001b[0;32m     <a href='vscode-notebook-cell:/d%3A/Users/Sebastian/Desktop/HsKa/Master/2.%20Semester/KI-Exercise/rl/1_MENACE.ipynb#X32sZmlsZQ%3D%3D?line=12'>13</a>\u001b[0m \u001b[39m\"\"\"\u001b[39;00m\n\u001b[0;32m     <a href='vscode-notebook-cell:/d%3A/Users/Sebastian/Desktop/HsKa/Master/2.%20Semester/KI-Exercise/rl/1_MENACE.ipynb#X32sZmlsZQ%3D%3D?line=13'>14</a>\u001b[0m \u001b[39mCollects the player's action as console input.\u001b[39;00m\n\u001b[0;32m     <a href='vscode-notebook-cell:/d%3A/Users/Sebastian/Desktop/HsKa/Master/2.%20Semester/KI-Exercise/rl/1_MENACE.ipynb#X32sZmlsZQ%3D%3D?line=14'>15</a>\u001b[0m \u001b[39mPlayer needs to input the position of the field where she/he wants to place his symbol.\u001b[39;00m\n\u001b[1;32m   (...)\u001b[0m\n\u001b[0;32m     <a href='vscode-notebook-cell:/d%3A/Users/Sebastian/Desktop/HsKa/Master/2.%20Semester/KI-Exercise/rl/1_MENACE.ipynb#X32sZmlsZQ%3D%3D?line=20'>21</a>\u001b[0m \u001b[39m    action of the human player\u001b[39;00m\n\u001b[0;32m     <a href='vscode-notebook-cell:/d%3A/Users/Sebastian/Desktop/HsKa/Master/2.%20Semester/KI-Exercise/rl/1_MENACE.ipynb#X32sZmlsZQ%3D%3D?line=21'>22</a>\u001b[0m \u001b[39m\"\"\"\u001b[39;00m\n\u001b[0;32m     <a href='vscode-notebook-cell:/d%3A/Users/Sebastian/Desktop/HsKa/Master/2.%20Semester/KI-Exercise/rl/1_MENACE.ipynb#X32sZmlsZQ%3D%3D?line=22'>23</a>\u001b[0m \u001b[39mwhile\u001b[39;00m \u001b[39mTrue\u001b[39;00m:\n\u001b[1;32m---> <a href='vscode-notebook-cell:/d%3A/Users/Sebastian/Desktop/HsKa/Master/2.%20Semester/KI-Exercise/rl/1_MENACE.ipynb#X32sZmlsZQ%3D%3D?line=23'>24</a>\u001b[0m     move \u001b[39m=\u001b[39m \u001b[39minput\u001b[39;49m(\u001b[39m'\u001b[39;49m\u001b[39mMake a move: \u001b[39;49m\u001b[39m'\u001b[39;49m)\n\u001b[0;32m     <a href='vscode-notebook-cell:/d%3A/Users/Sebastian/Desktop/HsKa/Master/2.%20Semester/KI-Exercise/rl/1_MENACE.ipynb#X32sZmlsZQ%3D%3D?line=24'>25</a>\u001b[0m     \u001b[39mif\u001b[39;00m \u001b[39mint\u001b[39m(move) \u001b[39min\u001b[39;00m available_fields_in_state(state\u001b[39m=\u001b[39mstate):\n\u001b[0;32m     <a href='vscode-notebook-cell:/d%3A/Users/Sebastian/Desktop/HsKa/Master/2.%20Semester/KI-Exercise/rl/1_MENACE.ipynb#X32sZmlsZQ%3D%3D?line=25'>26</a>\u001b[0m         \u001b[39mreturn\u001b[39;00m \u001b[39mint\u001b[39m(move)\n",
      "File \u001b[1;32mc:\\Users\\Sebastian\\anaconda3\\envs\\ki-lab\\lib\\site-packages\\ipykernel\\kernelbase.py:1177\u001b[0m, in \u001b[0;36mKernel.raw_input\u001b[1;34m(self, prompt)\u001b[0m\n\u001b[0;32m   1173\u001b[0m \u001b[39mif\u001b[39;00m \u001b[39mnot\u001b[39;00m \u001b[39mself\u001b[39m\u001b[39m.\u001b[39m_allow_stdin:\n\u001b[0;32m   1174\u001b[0m     \u001b[39mraise\u001b[39;00m StdinNotImplementedError(\n\u001b[0;32m   1175\u001b[0m         \u001b[39m\"\u001b[39m\u001b[39mraw_input was called, but this frontend does not support input requests.\u001b[39m\u001b[39m\"\u001b[39m\n\u001b[0;32m   1176\u001b[0m     )\n\u001b[1;32m-> 1177\u001b[0m \u001b[39mreturn\u001b[39;00m \u001b[39mself\u001b[39;49m\u001b[39m.\u001b[39;49m_input_request(\n\u001b[0;32m   1178\u001b[0m     \u001b[39mstr\u001b[39;49m(prompt),\n\u001b[0;32m   1179\u001b[0m     \u001b[39mself\u001b[39;49m\u001b[39m.\u001b[39;49m_parent_ident[\u001b[39m\"\u001b[39;49m\u001b[39mshell\u001b[39;49m\u001b[39m\"\u001b[39;49m],\n\u001b[0;32m   1180\u001b[0m     \u001b[39mself\u001b[39;49m\u001b[39m.\u001b[39;49mget_parent(\u001b[39m\"\u001b[39;49m\u001b[39mshell\u001b[39;49m\u001b[39m\"\u001b[39;49m),\n\u001b[0;32m   1181\u001b[0m     password\u001b[39m=\u001b[39;49m\u001b[39mFalse\u001b[39;49;00m,\n\u001b[0;32m   1182\u001b[0m )\n",
      "File \u001b[1;32mc:\\Users\\Sebastian\\anaconda3\\envs\\ki-lab\\lib\\site-packages\\ipykernel\\kernelbase.py:1219\u001b[0m, in \u001b[0;36mKernel._input_request\u001b[1;34m(self, prompt, ident, parent, password)\u001b[0m\n\u001b[0;32m   1216\u001b[0m             \u001b[39mbreak\u001b[39;00m\n\u001b[0;32m   1217\u001b[0m \u001b[39mexcept\u001b[39;00m \u001b[39mKeyboardInterrupt\u001b[39;00m:\n\u001b[0;32m   1218\u001b[0m     \u001b[39m# re-raise KeyboardInterrupt, to truncate traceback\u001b[39;00m\n\u001b[1;32m-> 1219\u001b[0m     \u001b[39mraise\u001b[39;00m \u001b[39mKeyboardInterrupt\u001b[39;00m(\u001b[39m\"\u001b[39m\u001b[39mInterrupted by user\u001b[39m\u001b[39m\"\u001b[39m) \u001b[39mfrom\u001b[39;00m \u001b[39mNone\u001b[39m\n\u001b[0;32m   1220\u001b[0m \u001b[39mexcept\u001b[39;00m \u001b[39mException\u001b[39;00m:\n\u001b[0;32m   1221\u001b[0m     \u001b[39mself\u001b[39m\u001b[39m.\u001b[39mlog\u001b[39m.\u001b[39mwarning(\u001b[39m\"\u001b[39m\u001b[39mInvalid Message:\u001b[39m\u001b[39m\"\u001b[39m, exc_info\u001b[39m=\u001b[39m\u001b[39mTrue\u001b[39;00m)\n",
      "\u001b[1;31mKeyboardInterrupt\u001b[0m: Interrupted by user"
     ]
    }
   ],
   "source": [
    "# play some games against MENACE and see how well he behaves\n",
    "manual_games = 5\n",
    "for _ in range(manual_games):\n",
    "    game = NoughtsAndCrosses(player_one=menace, player_two=HumanPlayer())\n",
    "    game.play(silent=False)"
   ]
  },
  {
   "cell_type": "markdown",
   "metadata": {
    "collapsed": false
   },
   "source": [
    "<br>\n",
    "\n",
    "### Frage 1: Lass MENACE nun ein einige Male als zweiten Spieler antreten. Was fällt dir auf? Wie lässt sich das erklären?"
   ]
  },
  {
   "cell_type": "markdown",
   "metadata": {
    "collapsed": false
   },
   "source": [
    "### Frage 2: MENACE wurde bisher nur mittels eines zufällig agierenden Spielers trainiert, sicher gibt es hier noch bessere Möglichkeiten. Was fällt dir hierzu ein? Setze eine Möglichkeit um."
   ]
  },
  {
   "cell_type": "markdown",
   "metadata": {
    "collapsed": false
   },
   "source": [
    "### Frage 3: Welche Möglichkeiten fallen dir zur Verbesserung von MENACE ein? Was können wir anders/besser modellieren, damit das Lernen schneller bzw. besser klappt?"
   ]
  }
 ],
 "metadata": {
  "kernelspec": {
   "display_name": "ki-lab",
   "language": "python",
   "name": "python3"
  },
  "language_info": {
   "codemirror_mode": {
    "name": "ipython",
    "version": 3
   },
   "file_extension": ".py",
   "mimetype": "text/x-python",
   "name": "python",
   "nbconvert_exporter": "python",
   "pygments_lexer": "ipython3",
   "version": "3.9.13"
  },
  "vscode": {
   "interpreter": {
    "hash": "a8264f563574424d24d12a45a7d14379defa3be27ef947163ce9eeda193eace4"
   }
  }
 },
 "nbformat": 4,
 "nbformat_minor": 0
}
